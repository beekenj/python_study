{
 "cells": [
  {
   "cell_type": "code",
   "execution_count": 1,
   "metadata": {},
   "outputs": [],
   "source": [
    "class ListNode:\n",
    "    def __init__(self, x):\n",
    "        self.val = x\n",
    "        self.next = None"
   ]
  },
  {
   "cell_type": "code",
   "execution_count": 9,
   "metadata": {},
   "outputs": [],
   "source": [
    "head1 = ListNode(1)\n",
    "head2 = ListNode(2)\n",
    "head1.next = head2"
   ]
  },
  {
   "cell_type": "code",
   "execution_count": 10,
   "metadata": {},
   "outputs": [
    {
     "data": {
      "text/plain": [
       "True"
      ]
     },
     "execution_count": 10,
     "metadata": {},
     "output_type": "execute_result"
    }
   ],
   "source": [
    "root2 == root1.next"
   ]
  },
  {
   "cell_type": "code",
   "execution_count": 11,
   "metadata": {},
   "outputs": [
    {
     "name": "stdout",
     "output_type": "stream",
     "text": [
      "1 2 "
     ]
    }
   ],
   "source": [
    "head = head1\n",
    "while head:\n",
    "    print(head.val, end = \" \")\n",
    "    head = head.next"
   ]
  },
  {
   "cell_type": "code",
   "execution_count": 19,
   "metadata": {},
   "outputs": [
    {
     "data": {
      "text/plain": [
       "3"
      ]
     },
     "execution_count": 19,
     "metadata": {},
     "output_type": "execute_result"
    }
   ],
   "source": [
    "stack = []\n",
    "stack.append(1)\n",
    "stack.append(2)\n",
    "stack.append(3)\n",
    "stack[-1]"
   ]
  },
  {
   "cell_type": "code",
   "execution_count": 14,
   "metadata": {},
   "outputs": [
    {
     "data": {
      "text/plain": [
       "3"
      ]
     },
     "execution_count": 14,
     "metadata": {},
     "output_type": "execute_result"
    }
   ],
   "source": [
    "stack.pop()"
   ]
  },
  {
   "cell_type": "code",
   "execution_count": 15,
   "metadata": {},
   "outputs": [
    {
     "data": {
      "text/plain": [
       "2"
      ]
     },
     "execution_count": 15,
     "metadata": {},
     "output_type": "execute_result"
    }
   ],
   "source": [
    "stack.pop()"
   ]
  },
  {
   "cell_type": "code",
   "execution_count": 16,
   "metadata": {},
   "outputs": [
    {
     "data": {
      "text/plain": [
       "1"
      ]
     },
     "execution_count": 16,
     "metadata": {},
     "output_type": "execute_result"
    }
   ],
   "source": [
    "stack.pop()"
   ]
  },
  {
   "cell_type": "code",
   "execution_count": 17,
   "metadata": {},
   "outputs": [
    {
     "ename": "IndexError",
     "evalue": "pop from empty list",
     "output_type": "error",
     "traceback": [
      "\u001b[1;31m---------------------------------------------------------------------------\u001b[0m",
      "\u001b[1;31mIndexError\u001b[0m                                Traceback (most recent call last)",
      "\u001b[1;32m<ipython-input-17-415460d3b717>\u001b[0m in \u001b[0;36m<module>\u001b[1;34m\u001b[0m\n\u001b[1;32m----> 1\u001b[1;33m \u001b[0mstack\u001b[0m\u001b[1;33m.\u001b[0m\u001b[0mpop\u001b[0m\u001b[1;33m(\u001b[0m\u001b[1;33m)\u001b[0m\u001b[1;33m\u001b[0m\u001b[1;33m\u001b[0m\u001b[0m\n\u001b[0m",
      "\u001b[1;31mIndexError\u001b[0m: pop from empty list"
     ]
    }
   ],
   "source": [
    "stack.pop()"
   ]
  },
  {
   "cell_type": "code",
   "execution_count": 29,
   "metadata": {},
   "outputs": [
    {
     "name": "stdout",
     "output_type": "stream",
     "text": [
      "1\n"
     ]
    }
   ],
   "source": [
    "print([1][-1])"
   ]
  },
  {
   "cell_type": "code",
   "execution_count": 51,
   "metadata": {},
   "outputs": [],
   "source": [
    "class Solution:\n",
    "    def getIntersectionNode(self, headA: ListNode, headB: ListNode) -> ListNode:\n",
    "        stackA = []\n",
    "        stackB = []\n",
    "        while headA:\n",
    "            stackA.append(headA)\n",
    "#             print(stackA[-1])\n",
    "            headA = headA.next\n",
    "        while headB:\n",
    "            stackB.append(headB)\n",
    "#             print(stackB[-1])\n",
    "            headB = headB.next\n",
    "        if stackA[-1] != stackB[-1]:\n",
    "            print(stackB[-1])\n",
    "            return None\n",
    "        else:\n",
    "            intersection = stackA[-1]\n",
    "        while len(stackA) > 0 and len(stackB) > 0:\n",
    "            itemA = stackA.pop()\n",
    "            itemB = stackB.pop()\n",
    "            if itemA != itemB:\n",
    "                return intersection\n",
    "            else:\n",
    "                intersection = itemA\n",
    "        if itemA == itemB:\n",
    "            return itemA\n",
    "                \n",
    "                "
   ]
  },
  {
   "cell_type": "code",
   "execution_count": 52,
   "metadata": {},
   "outputs": [
    {
     "name": "stdout",
     "output_type": "stream",
     "text": [
      "<__main__.ListNode object at 0x0000026213B8A850>\n"
     ]
    }
   ],
   "source": [
    "headA = ListNode(1)\n",
    "sol = Solution()\n",
    "print(sol.getIntersectionNode(headA, headA))"
   ]
  },
  {
   "cell_type": "code",
   "execution_count": 1,
   "metadata": {},
   "outputs": [],
   "source": [
    "class Solution:\n",
    "    def convert(self, s: str, numRows: int) -> str:\n",
    "        pass"
   ]
  },
  {
   "cell_type": "code",
   "execution_count": 12,
   "metadata": {},
   "outputs": [
    {
     "name": "stdout",
     "output_type": "stream",
     "text": [
      "PAY\n",
      "P\n",
      "ALI\n",
      "S\n",
      "HIR\n",
      "I\n",
      "NG\n"
     ]
    }
   ],
   "source": [
    "s = \"PAYPALISHIRING\"\n",
    "print(s[0:3])\n",
    "print(s[3])\n",
    "print(s[4:7])\n",
    "print(s[7])\n",
    "print(s[8:11])\n",
    "print(s[11])\n",
    "print(s[12:])"
   ]
  },
  {
   "cell_type": "code",
   "execution_count": null,
   "metadata": {},
   "outputs": [],
   "source": [
    "s = \"PAYPALISHIRING\"\n",
    "numRows = 3\n",
    "lst = ['' for _ in range(numRows)]\n",
    "i = 0\n",
    "# while True:\n",
    "#     for j in range(numRows):\n",
    "#         lst[j] += s[0]\n",
    "#         i+=1\n",
    "#         print(i)\n",
    "#         if i >= len(s): break\n",
    "        \n",
    "#     for j in range(numRows-2, 1, -1):\n",
    "#         lst[j] += s[i]\n",
    "#         i+=1\n",
    "# lst[0] += s[0]\n",
    "# lst[1] += s[1]\n",
    "# lst[2] += s[2]\n",
    "# lst[1] += s[3]\n",
    "lst"
   ]
  },
  {
   "cell_type": "code",
   "execution_count": 23,
   "metadata": {},
   "outputs": [
    {
     "data": {
      "text/plain": [
       "14"
      ]
     },
     "execution_count": 23,
     "metadata": {},
     "output_type": "execute_result"
    }
   ],
   "source": [
    "len(s)"
   ]
  },
  {
   "cell_type": "code",
   "execution_count": 12,
   "metadata": {},
   "outputs": [
    {
     "name": "stdout",
     "output_type": "stream",
     "text": [
      "1\n",
      "0\n"
     ]
    }
   ],
   "source": [
    "for i in range(1, -1,  -1):\n",
    "    print(i)"
   ]
  },
  {
   "cell_type": "code",
   "execution_count": 37,
   "metadata": {},
   "outputs": [
    {
     "data": {
      "text/plain": [
       "'ABC'"
      ]
     },
     "execution_count": 37,
     "metadata": {},
     "output_type": "execute_result"
    }
   ],
   "source": [
    "s = \"ABC\"\n",
    "numRows = 2\n",
    "lst = ['' for _ in range(numRows)]\n",
    "delta = -1\n",
    "j = 0\n",
    "for i in range(len(s)):\n",
    "    if j == 0 or j == numRows-1:\n",
    "        delta *= -1\n",
    "    lst[j] += s[i]\n",
    "    \n",
    "    if j+1 < len(s)-1:\n",
    "        j += delta\n",
    "''.join(lst)"
   ]
  },
  {
   "cell_type": "code",
   "execution_count": 5,
   "metadata": {},
   "outputs": [
    {
     "data": {
      "text/plain": [
       "4"
      ]
     },
     "execution_count": 5,
     "metadata": {},
     "output_type": "execute_result"
    }
   ],
   "source": [
    "len(s)//3"
   ]
  },
  {
   "cell_type": "code",
   "execution_count": 15,
   "metadata": {},
   "outputs": [],
   "source": [
    "class ListNode(object):\n",
    "    def __init__(self, val=0, next=None):\n",
    "        self.val = val\n",
    "        self.next = next\n",
    "\n",
    "def arrayToList(arr):\n",
    "    head = node = ListNode()\n",
    "    \n",
    "    for i in range(len(arr)):\n",
    "        node.val = arr[i]\n",
    "        if i < len(arr)-1:\n",
    "            node.next = ListNode()\n",
    "            node = node.next\n",
    "    return head\n",
    "\n",
    "def display(root):\n",
    "    while (root != None) :\n",
    "        print(root.val, end = \" \")\n",
    "        root = root.next"
   ]
  },
  {
   "cell_type": "code",
   "execution_count": 129,
   "metadata": {},
   "outputs": [],
   "source": [
    "class Solution:\n",
    "    def removeElements(self, head: ListNode, val: int) -> ListNode:\n",
    "        prev = None\n",
    "        node = head\n",
    "        \n",
    "        while node:\n",
    "            if node.val == val and prev:\n",
    "                prev.next = node.next\n",
    "                node = node.next\n",
    "            elif node.val == val and not prev:\n",
    "                head = head.next\n",
    "                node = node.next\n",
    "            else:\n",
    "                prev = node\n",
    "                node = node.next\n",
    "        return head"
   ]
  },
  {
   "cell_type": "code",
   "execution_count": 130,
   "metadata": {},
   "outputs": [
    {
     "name": "stdout",
     "output_type": "stream",
     "text": [
      "1\n",
      "2\n",
      "3\n",
      "4\n",
      "5\n",
      "1 2 3 4 5 "
     ]
    }
   ],
   "source": [
    "head = arrayToList([1,2,6,3,4,5,6])\n",
    "# display(head)\n",
    "sol = Solution()\n",
    "display(sol.removeElements(head, 6))"
   ]
  },
  {
   "cell_type": "code",
   "execution_count": 112,
   "metadata": {},
   "outputs": [],
   "source": [
    "class Solution:\n",
    "    def removeElements(self, head: ListNode, val: int) -> ListNode:\n",
    "        new_head = node = ListNode()\n",
    "        \n",
    "        while head.next:\n",
    "            print(head.val)\n",
    "            if head.val != val:\n",
    "                node.val = head.val\n",
    "                node = node.next\n",
    "            head = head.next\n",
    "        return new_head"
   ]
  }
 ],
 "metadata": {
  "kernelspec": {
   "display_name": "Python 3",
   "language": "python",
   "name": "python3"
  },
  "language_info": {
   "codemirror_mode": {
    "name": "ipython",
    "version": 3
   },
   "file_extension": ".py",
   "mimetype": "text/x-python",
   "name": "python",
   "nbconvert_exporter": "python",
   "pygments_lexer": "ipython3",
   "version": "3.8.3"
  }
 },
 "nbformat": 4,
 "nbformat_minor": 4
}

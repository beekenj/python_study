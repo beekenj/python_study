{
 "cells": [
  {
   "cell_type": "code",
   "execution_count": 1,
   "metadata": {},
   "outputs": [],
   "source": [
    "class ListNode(object):\n",
    "    def __init__(self, val=0, next=None):\n",
    "        self.val = val\n",
    "        self.next = next"
   ]
  },
  {
   "cell_type": "code",
   "execution_count": 4,
   "metadata": {},
   "outputs": [],
   "source": [
    "def arrayToList(arr):\n",
    "    head = node = ListNode()\n",
    "    \n",
    "    for i in range(len(arr)):\n",
    "        node.val = arr[i]\n",
    "        if i < len(arr)-1:\n",
    "            node.next = ListNode()\n",
    "            node = node.next\n",
    "    return head\n",
    "\n",
    "def display(root):\n",
    "    while (root != None) :\n",
    "        print(root.val, end = \" \")\n",
    "        root = root.next"
   ]
  },
  {
   "cell_type": "code",
   "execution_count": 25,
   "metadata": {},
   "outputs": [],
   "source": [
    "def reverseList(head):\n",
    "    \"\"\"\n",
    "    :type head: ListNode\n",
    "    :rtype: ListNode\n",
    "    \"\"\"\n",
    "    if head == None:\n",
    "        return head\n",
    "    cur = head.next\n",
    "    if cur == None:\n",
    "        return head\n",
    "    else:\n",
    "        nxt = cur.next\n",
    "        cur.next = head\n",
    "        head.next = None\n",
    "        prev = cur\n",
    "        while nxt:\n",
    "            cur = nxt\n",
    "            nxt = nxt.next\n",
    "            cur.next = prev\n",
    "            prev = cur\n",
    "    return cur"
   ]
  },
  {
   "cell_type": "code",
   "execution_count": 26,
   "metadata": {},
   "outputs": [
    {
     "name": "stdout",
     "output_type": "stream",
     "text": [
      "0 "
     ]
    }
   ],
   "source": [
    "head = arrayToList([])\n",
    "rev = reverseList(head)\n",
    "display(rev)"
   ]
  }
 ],
 "metadata": {
  "kernelspec": {
   "display_name": "Python 3",
   "language": "python",
   "name": "python3"
  },
  "language_info": {
   "codemirror_mode": {
    "name": "ipython",
    "version": 3
   },
   "file_extension": ".py",
   "mimetype": "text/x-python",
   "name": "python",
   "nbconvert_exporter": "python",
   "pygments_lexer": "ipython3",
   "version": "3.8.3"
  }
 },
 "nbformat": 4,
 "nbformat_minor": 4
}

{
 "cells": [
  {
   "cell_type": "code",
   "execution_count": 1,
   "metadata": {},
   "outputs": [],
   "source": [
    "class ListNode(object):\n",
    "    def __init__(self, val=0, next=None):\n",
    "        self.val = val\n",
    "        self.next = next\n",
    "        \n",
    "def arrayToList(arr):\n",
    "    head = node = ListNode()\n",
    "    \n",
    "    for i in range(len(arr)):\n",
    "        node.val = arr[i]\n",
    "        if i < len(arr)-1:\n",
    "            node.next = ListNode()\n",
    "            node = node.next\n",
    "    return head\n",
    "\n",
    "def display(root):\n",
    "    while (root != None) :\n",
    "        print(root.val, end = \" \")\n",
    "        root = root.next"
   ]
  },
  {
   "cell_type": "code",
   "execution_count": 49,
   "metadata": {},
   "outputs": [],
   "source": [
    "def deleteDuplicates(head):\n",
    "    \"\"\"\n",
    "    :type head: ListNode\n",
    "    :rtype: ListNode\n",
    "    \"\"\"\n",
    "    cur = head\n",
    "    if not cur:\n",
    "        return head\n",
    "    while cur.next:\n",
    "        print(cur.val)\n",
    "        if cur.next.val == cur.val:\n",
    "            if cur.next.next:\n",
    "                cur.next = cur.next.next\n",
    "            else:\n",
    "                cur.next = None\n",
    "        elif cur.next:\n",
    "            cur = cur.next\n",
    "    return head"
   ]
  },
  {
   "cell_type": "code",
   "execution_count": 50,
   "metadata": {},
   "outputs": [
    {
     "name": "stdout",
     "output_type": "stream",
     "text": [
      "1\n",
      "1\n",
      "1 "
     ]
    }
   ],
   "source": [
    "lst = arrayToList([1,1,1])\n",
    "lst1 = deleteDuplicates(lst)\n",
    "display(lst1)"
   ]
  }
 ],
 "metadata": {
  "kernelspec": {
   "display_name": "Python 3",
   "language": "python",
   "name": "python3"
  },
  "language_info": {
   "codemirror_mode": {
    "name": "ipython",
    "version": 3
   },
   "file_extension": ".py",
   "mimetype": "text/x-python",
   "name": "python",
   "nbconvert_exporter": "python",
   "pygments_lexer": "ipython3",
   "version": "3.8.3"
  }
 },
 "nbformat": 4,
 "nbformat_minor": 4
}

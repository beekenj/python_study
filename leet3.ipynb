{
 "cells": [
  {
   "cell_type": "code",
   "execution_count": 79,
   "metadata": {},
   "outputs": [],
   "source": [
    "class Solution(object):\n",
    "    def removeElement(self, nums, val):\n",
    "        \"\"\"\n",
    "        :type nums: List[int]\n",
    "        :type val: int\n",
    "        :rtype: int\n",
    "        \"\"\"\n",
    "        nxt = len(nums)-1\n",
    "        if nxt == 0 and nums[nxt] == val:\n",
    "            return 0\n",
    "        for i in range(len(nums)):\n",
    "        #     print(nums[i])\n",
    "\n",
    "            while nums[i] == val:        \n",
    "                if nxt == i:\n",
    "                    if nums[i] == nums[nxt]:\n",
    "                        return 0\n",
    "                    break\n",
    "                else:\n",
    "                    nums[i] = nums[nxt]\n",
    "                    nxt -= 1\n",
    "        return(i)"
   ]
  },
  {
   "cell_type": "code",
   "execution_count": 76,
   "metadata": {},
   "outputs": [
    {
     "name": "stdout",
     "output_type": "stream",
     "text": [
      "5\n"
     ]
    },
    {
     "data": {
      "text/plain": [
       "[0, 1, 4, 0, 3, 0, 4, 2]"
      ]
     },
     "execution_count": 76,
     "metadata": {},
     "output_type": "execute_result"
    }
   ],
   "source": [
    "nums = [0,1,2,2,3,0,4,2]\n",
    "val = 2\n",
    "nxt = len(nums)-1\n",
    "for i in range(len(nums)-1):\n",
    "#     print(nums[i])\n",
    "    \n",
    "    while nums[i] == val:        \n",
    "        if nxt == i:\n",
    "            break\n",
    "        else:\n",
    "            nums[i] = nums[nxt]\n",
    "            nxt -= 1\n",
    "#             print(nums[i])\n",
    "print(i-1)\n",
    "nums"
   ]
  },
  {
   "cell_type": "code",
   "execution_count": 80,
   "metadata": {},
   "outputs": [
    {
     "name": "stdout",
     "output_type": "stream",
     "text": [
      "7\n",
      "[0, 1, 4, 0, 3, 0, 4, 3]\n"
     ]
    }
   ],
   "source": [
    "prob1 = Solution()\n",
    "nums = [0,1,2,2,3,0,4,2]\n",
    "val = 2\n",
    "print(prob1.removeElement(nums,val))\n",
    "print(nums)"
   ]
  },
  {
   "cell_type": "code",
   "execution_count": 81,
   "metadata": {},
   "outputs": [
    {
     "name": "stdout",
     "output_type": "stream",
     "text": [
      "1\n",
      "[5, 5]\n"
     ]
    }
   ],
   "source": [
    "nums = [4,5]\n",
    "val = 4\n",
    "print(prob1.removeElement(nums,val))\n",
    "print(nums)"
   ]
  },
  {
   "cell_type": "code",
   "execution_count": 96,
   "metadata": {},
   "outputs": [
    {
     "name": "stdout",
     "output_type": "stream",
     "text": [
      "1\n"
     ]
    },
    {
     "data": {
      "text/plain": [
       "[3, 3]"
      ]
     },
     "execution_count": 96,
     "metadata": {},
     "output_type": "execute_result"
    }
   ],
   "source": [
    "nums = [2,3]\n",
    "val = 2\n",
    "j = len(nums)-1\n",
    "i = 0\n",
    "while i <= j:\n",
    "    while (nums[i] == val) and (i <= j):\n",
    "        if nums[j] != val:\n",
    "            nums[i] = nums[j]\n",
    "        j -= 1\n",
    "    if nums[i] != val:\n",
    "        i += 1\n",
    "print(i)\n",
    "nums"
   ]
  },
  {
   "cell_type": "code",
   "execution_count": 107,
   "metadata": {},
   "outputs": [
    {
     "name": "stdout",
     "output_type": "stream",
     "text": [
      "2\n",
      "-1\n"
     ]
    }
   ],
   "source": [
    "haystack = \"hello\"\n",
    "needle = \"ll\"\n",
    "\n",
    "for i in range(len(haystack)-len(needle)+1):\n",
    "    if haystack[i:i+len(needle)] == needle:\n",
    "        print(i)"
   ]
  },
  {
   "cell_type": "code",
   "execution_count": 108,
   "metadata": {},
   "outputs": [],
   "source": [
    "class Solution(object):\n",
    "    def strStr(self, haystack, needle):\n",
    "        \"\"\"\n",
    "        :type haystack: str\n",
    "        :type needle: str\n",
    "        :rtype: int\n",
    "        \"\"\"\n",
    "        if len(haystack) == 0:\n",
    "            return 0\n",
    "        for i in range(len(haystack)-len(needle)+1):\n",
    "            if haystack[i:i+len(needle)] == needle:\n",
    "                return i\n",
    "        return -1"
   ]
  },
  {
   "cell_type": "code",
   "execution_count": 115,
   "metadata": {},
   "outputs": [
    {
     "data": {
      "text/plain": [
       "-1"
      ]
     },
     "execution_count": 115,
     "metadata": {},
     "output_type": "execute_result"
    }
   ],
   "source": [
    "prob2 = Solution()\n",
    "haystack = \"hello\"\n",
    "needle = \"elo\"\n",
    "prob2.strStr(haystack, needle)"
   ]
  },
  {
   "cell_type": "code",
   "execution_count": 165,
   "metadata": {},
   "outputs": [],
   "source": [
    "nums = [5,6,7,8]\n",
    "target = 5"
   ]
  },
  {
   "cell_type": "code",
   "execution_count": 166,
   "metadata": {},
   "outputs": [
    {
     "name": "stdout",
     "output_type": "stream",
     "text": [
      "[5, 6]\n",
      "[7, 8]\n"
     ]
    }
   ],
   "source": [
    "pivot = len(nums)//2\n",
    "print(nums[0:pivot])\n",
    "print(nums[pivot:])"
   ]
  },
  {
   "cell_type": "code",
   "execution_count": 167,
   "metadata": {},
   "outputs": [
    {
     "name": "stdout",
     "output_type": "stream",
     "text": [
      "[5]\n",
      "[6, 7, 8]\n"
     ]
    }
   ],
   "source": [
    "p2 = len(nums[0:pivot])//2\n",
    "print(nums[0:p2])\n",
    "print(nums[p2:])"
   ]
  },
  {
   "cell_type": "code",
   "execution_count": 197,
   "metadata": {},
   "outputs": [],
   "source": [
    "def searchInsert(nums, target):\n",
    "    pivot = len(nums)//2\n",
    "    #base\n",
    "    if pivot == 0:\n",
    "        return 1\n",
    "    elif target == nums[pivot]:\n",
    "        return pivot\n",
    "    #lower branch\n",
    "    elif target < nums[pivot]:\n",
    "        return searchInsert(nums[0:pivot],target)\n",
    "    #upper branch\n",
    "    else:\n",
    "        return pivot + searchInsert(nums[pivot:],target)"
   ]
  },
  {
   "cell_type": "code",
   "execution_count": 202,
   "metadata": {},
   "outputs": [
    {
     "data": {
      "text/plain": [
       "4"
      ]
     },
     "execution_count": 202,
     "metadata": {},
     "output_type": "execute_result"
    }
   ],
   "source": [
    "nums = [1,2,3,6,8]\n",
    "target = 7\n",
    "searchInsert(nums, target)"
   ]
  },
  {
   "cell_type": "code",
   "execution_count": 223,
   "metadata": {},
   "outputs": [],
   "source": [
    "class Solution(object):\n",
    "    def searchInsert(self, nums, target):\n",
    "        \"\"\"\n",
    "        :type nums: List[int]\n",
    "        :type target: int\n",
    "        :rtype: int\n",
    "        \"\"\"\n",
    "        pivot = len(nums)//2\n",
    "        #base\n",
    "        if pivot == 0:\n",
    "            if target <= nums[pivot]:\n",
    "                return 0\n",
    "            else:\n",
    "                return 1\n",
    "        #target found\n",
    "#         elif target == nums[pivot]:\n",
    "#             return pivot\n",
    "        #lower branch\n",
    "        elif target < nums[pivot]:\n",
    "            return self.searchInsert(nums[0:pivot],target)\n",
    "        #upper branch\n",
    "        else:\n",
    "            return pivot + self.searchInsert(nums[pivot:],target)"
   ]
  },
  {
   "cell_type": "code",
   "execution_count": 226,
   "metadata": {},
   "outputs": [
    {
     "data": {
      "text/plain": [
       "3"
      ]
     },
     "execution_count": 226,
     "metadata": {},
     "output_type": "execute_result"
    }
   ],
   "source": [
    "nums = [1,2,3,7,8]\n",
    "target = 7\n",
    "prob3 = Solution()\n",
    "prob3.searchInsert(nums, target)"
   ]
  },
  {
   "cell_type": "code",
   "execution_count": 233,
   "metadata": {},
   "outputs": [],
   "source": [
    "s = \"   fly me   to   the moon  \"\n",
    "count = 0\n",
    "# for i in range(len(s)-1, 0, -1):\n",
    "# #     print(s[i])\n",
    "#     if s[i] != ' ':\n",
    "#         print(s[i])"
   ]
  },
  {
   "cell_type": "code",
   "execution_count": 241,
   "metadata": {},
   "outputs": [
    {
     "data": {
      "text/plain": [
       "5"
      ]
     },
     "execution_count": 241,
     "metadata": {},
     "output_type": "execute_result"
    }
   ],
   "source": [
    "s = \"Hello World\"\n",
    "i = len(s)-1\n",
    "count = 0\n",
    "while s[i] == ' ':\n",
    "#     print(i)\n",
    "    i -= 1\n",
    "while s[i] != ' ':\n",
    "    count += 1\n",
    "    i -= 1\n",
    "count"
   ]
  },
  {
   "cell_type": "code",
   "execution_count": 249,
   "metadata": {},
   "outputs": [],
   "source": [
    "class Solution(object):\n",
    "    def lengthOfLastWord(self, s):\n",
    "        \"\"\"\n",
    "        :type s: str\n",
    "        :rtype: int\n",
    "        \"\"\"\n",
    "        i = len(s)-1\n",
    "        count = 0\n",
    "        # skip trailing white space\n",
    "        while s[i] == ' ':\n",
    "            i -= 1\n",
    "        # count letters until next white space or start of string\n",
    "        while s[i] != ' ' and i >= 0:\n",
    "            count += 1\n",
    "            i -= 1\n",
    "        return count"
   ]
  },
  {
   "cell_type": "code",
   "execution_count": 254,
   "metadata": {},
   "outputs": [
    {
     "data": {
      "text/plain": [
       "1"
      ]
     },
     "execution_count": 254,
     "metadata": {},
     "output_type": "execute_result"
    }
   ],
   "source": [
    "prob4 = Solution()\n",
    "s = \"n \"\n",
    "prob4.lengthOfLastWord(s)"
   ]
  },
  {
   "cell_type": "code",
   "execution_count": 269,
   "metadata": {},
   "outputs": [
    {
     "data": {
      "text/plain": [
       "3"
      ]
     },
     "execution_count": 269,
     "metadata": {},
     "output_type": "execute_result"
    }
   ],
   "source": [
    "digits = [1,2,3]\n",
    "# for i in range(1, len(digits)-1, 1):\n",
    "#     print(digits[-i:])\n",
    "digits[-1]"
   ]
  },
  {
   "cell_type": "code",
   "execution_count": 300,
   "metadata": {},
   "outputs": [
    {
     "data": {
      "text/plain": [
       "[1, 0, 0, 0, 0]"
      ]
     },
     "execution_count": 300,
     "metadata": {},
     "output_type": "execute_result"
    }
   ],
   "source": [
    "digits = [9,9,9,9]\n",
    "for i in range(1,len(digits)+1, 1):\n",
    "    # increment last element\n",
    "    digits[-i] += 1\n",
    "    if digits[-i] < 10:\n",
    "        break\n",
    "    # carry the 1\n",
    "    else:\n",
    "        digits[-i] -= 10\n",
    "        if i == len(digits):\n",
    "            digits = [1] + digits\n",
    "digits"
   ]
  },
  {
   "cell_type": "code",
   "execution_count": 343,
   "metadata": {},
   "outputs": [
    {
     "data": {
      "text/plain": [
       "'100'"
      ]
     },
     "execution_count": 343,
     "metadata": {},
     "output_type": "execute_result"
    }
   ],
   "source": [
    "a = '11'\n",
    "b = '1'\n",
    "c = int(a, 2) + int(b, 2)\n",
    "bin(int(a, 2) + int(b, 2))[2:]"
   ]
  },
  {
   "cell_type": "code",
   "execution_count": 324,
   "metadata": {},
   "outputs": [
    {
     "data": {
      "text/plain": [
       "'11111'"
      ]
     },
     "execution_count": 324,
     "metadata": {},
     "output_type": "execute_result"
    }
   ],
   "source": [
    "max(a,b, key=len)"
   ]
  },
  {
   "cell_type": "code",
   "execution_count": 323,
   "metadata": {},
   "outputs": [
    {
     "data": {
      "text/plain": [
       "'10110'"
      ]
     },
     "execution_count": 323,
     "metadata": {},
     "output_type": "execute_result"
    }
   ],
   "source": [
    "min(b,a, key=len)"
   ]
  },
  {
   "cell_type": "code",
   "execution_count": 318,
   "metadata": {},
   "outputs": [
    {
     "data": {
      "text/plain": [
       "1"
      ]
     },
     "execution_count": 318,
     "metadata": {},
     "output_type": "execute_result"
    }
   ],
   "source": [
    "ttl = 0\n",
    "a1 = '0'\n",
    "b1 = '0'\n",
    "c1 = '1'\n",
    "if a1 == '1': \n",
    "    ttl += 1\n",
    "if b1 == '1':\n",
    "    ttl += 1\n",
    "if c1 == '1':\n",
    "    ttl += 1\n",
    "ttl"
   ]
  },
  {
   "cell_type": "code",
   "execution_count": 336,
   "metadata": {},
   "outputs": [
    {
     "data": {
      "text/plain": [
       "5"
      ]
     },
     "execution_count": 336,
     "metadata": {},
     "output_type": "execute_result"
    }
   ],
   "source": [
    "int('101', 2)"
   ]
  },
  {
   "cell_type": "code",
   "execution_count": 338,
   "metadata": {},
   "outputs": [
    {
     "data": {
      "text/plain": [
       "'101'"
      ]
     },
     "execution_count": 338,
     "metadata": {},
     "output_type": "execute_result"
    }
   ],
   "source": [
    "bin(5)[2:]"
   ]
  },
  {
   "cell_type": "code",
   "execution_count": 371,
   "metadata": {},
   "outputs": [
    {
     "name": "stdout",
     "output_type": "stream",
     "text": [
      "1\n"
     ]
    }
   ],
   "source": [
    "x = 1\n",
    "y = 1\n",
    "while x // y > y:\n",
    "    y += 1\n",
    "print(x//y)"
   ]
  },
  {
   "cell_type": "code",
   "execution_count": 358,
   "metadata": {},
   "outputs": [
    {
     "data": {
      "text/plain": [
       "2"
      ]
     },
     "execution_count": 358,
     "metadata": {},
     "output_type": "execute_result"
    }
   ],
   "source": [
    "8//3"
   ]
  },
  {
   "cell_type": "code",
   "execution_count": 409,
   "metadata": {},
   "outputs": [
    {
     "data": {
      "text/plain": [
       "2.543114507074558e-05"
      ]
     },
     "execution_count": 409,
     "metadata": {},
     "output_type": "execute_result"
    }
   ],
   "source": [
    "x = 34.00515\n",
    "n = -3\n",
    "x**n"
   ]
  },
  {
   "cell_type": "code",
   "execution_count": 428,
   "metadata": {},
   "outputs": [
    {
     "data": {
      "text/plain": [
       "0.0"
      ]
     },
     "execution_count": 428,
     "metadata": {},
     "output_type": "execute_result"
    }
   ],
   "source": [
    "x = 0.00001\n",
    "n = 2147483647\n",
    "x**n"
   ]
  },
  {
   "cell_type": "code",
   "execution_count": 430,
   "metadata": {},
   "outputs": [
    {
     "data": {
      "text/plain": [
       "214748.3647"
      ]
     },
     "execution_count": 430,
     "metadata": {},
     "output_type": "execute_result"
    }
   ],
   "source": [
    "n/10000"
   ]
  },
  {
   "cell_type": "code",
   "execution_count": 427,
   "metadata": {},
   "outputs": [
    {
     "name": "stdout",
     "output_type": "stream",
     "text": [
      "0.0\n"
     ]
    }
   ],
   "source": [
    "y = x\n",
    "if n == 0:\n",
    "    y = 1.0\n",
    "elif n > 0:\n",
    "    for _ in range(n-1):\n",
    "        y = x * y\n",
    "else:\n",
    "    x = 1/x\n",
    "    y = x\n",
    "    for _ in range(abs(n)-1):\n",
    "        y = x * y\n",
    "#         y = 1/(x * y)\n",
    "\n",
    "print(y)"
   ]
  },
  {
   "cell_type": "code",
   "execution_count": 415,
   "metadata": {},
   "outputs": [
    {
     "data": {
      "text/plain": [
       "2.543114507074558e-05"
      ]
     },
     "execution_count": 415,
     "metadata": {},
     "output_type": "execute_result"
    }
   ],
   "source": [
    "(1/34.00515)*(1/34.00515)*(1/34.00515)"
   ]
  },
  {
   "cell_type": "code",
   "execution_count": 418,
   "metadata": {},
   "outputs": [
    {
     "data": {
      "text/plain": [
       "0.25"
      ]
     },
     "execution_count": 418,
     "metadata": {},
     "output_type": "execute_result"
    }
   ],
   "source": [
    "(1/2)*(1/2)"
   ]
  },
  {
   "cell_type": "code",
   "execution_count": 392,
   "metadata": {},
   "outputs": [
    {
     "data": {
      "text/plain": [
       "0.25"
      ]
     },
     "execution_count": 392,
     "metadata": {},
     "output_type": "execute_result"
    }
   ],
   "source": [
    "1/2.0000**2"
   ]
  },
  {
   "cell_type": "code",
   "execution_count": 431,
   "metadata": {},
   "outputs": [
    {
     "data": {
      "text/plain": [
       "2"
      ]
     },
     "execution_count": 431,
     "metadata": {},
     "output_type": "execute_result"
    }
   ],
   "source": [
    "5//2"
   ]
  },
  {
   "cell_type": "code",
   "execution_count": 432,
   "metadata": {},
   "outputs": [
    {
     "data": {
      "text/plain": [
       "3"
      ]
     },
     "execution_count": 432,
     "metadata": {},
     "output_type": "execute_result"
    }
   ],
   "source": [
    "-1*(-5//2)"
   ]
  },
  {
   "cell_type": "code",
   "execution_count": 493,
   "metadata": {},
   "outputs": [],
   "source": [
    "class Solution(object):\n",
    "    def myPow(self, x, n):\n",
    "        \"\"\"\n",
    "        :type x: float\n",
    "        :type n: int\n",
    "        :rtype: float\n",
    "        \"\"\"\n",
    "        if n < 0:\n",
    "            x = 1/x\n",
    "            n = -1*n\n",
    "            \n",
    "        if n == 0:\n",
    "            return 1.0\n",
    "        if x == 0:\n",
    "            return 0\n",
    "        elif n == 1:\n",
    "            return x\n",
    "        else:\n",
    "            ret = self.myPow(x, n//2)\n",
    "            if n%2 == 1:\n",
    "                return x * ret * ret\n",
    "            else:\n",
    "                return ret * ret"
   ]
  },
  {
   "cell_type": "code",
   "execution_count": 497,
   "metadata": {},
   "outputs": [
    {
     "data": {
      "text/plain": [
       "4.76837158203125e-07"
      ]
     },
     "execution_count": 497,
     "metadata": {},
     "output_type": "execute_result"
    }
   ],
   "source": [
    "x = 2\n",
    "n = -21\n",
    "prob = Solution()\n",
    "prob.myPow(x,n)"
   ]
  },
  {
   "cell_type": "code",
   "execution_count": 477,
   "metadata": {},
   "outputs": [
    {
     "data": {
      "text/plain": [
       "536870911"
      ]
     },
     "execution_count": 477,
     "metadata": {},
     "output_type": "execute_result"
    }
   ],
   "source": [
    "(n//2)//2"
   ]
  },
  {
   "cell_type": "code",
   "execution_count": 473,
   "metadata": {},
   "outputs": [
    {
     "data": {
      "text/plain": [
       "1073741824"
      ]
     },
     "execution_count": 473,
     "metadata": {},
     "output_type": "execute_result"
    }
   ],
   "source": [
    "-1*(-n//2)"
   ]
  },
  {
   "cell_type": "code",
   "execution_count": 458,
   "metadata": {},
   "outputs": [
    {
     "data": {
      "text/plain": [
       "4"
      ]
     },
     "execution_count": 458,
     "metadata": {},
     "output_type": "execute_result"
    }
   ],
   "source": [
    "9//2"
   ]
  },
  {
   "cell_type": "code",
   "execution_count": 500,
   "metadata": {},
   "outputs": [],
   "source": [
    "class Solution(object):\n",
    "    def climbStairs(self, n):\n",
    "        \"\"\"\n",
    "        :type n: int\n",
    "        :rtype: int\n",
    "        \"\"\"\n",
    "        if n == 0:\n",
    "            return 0\n",
    "        elif n == 1:\n",
    "            return 1\n",
    "        elif n== 2:\n",
    "            return 2\n",
    "        else:\n",
    "            return self.climbStairs(n-1) + self.climbStairs(n-2)"
   ]
  },
  {
   "cell_type": "code",
   "execution_count": 506,
   "metadata": {},
   "outputs": [],
   "source": [
    "prob = Solution()\n",
    "n = 45\n",
    "# prob.climbStairs(n)"
   ]
  },
  {
   "cell_type": "code",
   "execution_count": 594,
   "metadata": {},
   "outputs": [
    {
     "data": {
      "text/plain": [
       "[1]"
      ]
     },
     "execution_count": 594,
     "metadata": {},
     "output_type": "execute_result"
    }
   ],
   "source": [
    "nums1 = [1]\n",
    "m = 1\n",
    "nums2 = []\n",
    "n = 0\n",
    "p1 = m-1\n",
    "p2 = n-1\n",
    "for i in range(m+n-1, -1, -1):\n",
    "    if n == 0:\n",
    "        break\n",
    "    if nums1[p1] >= nums2[p2]:\n",
    "        print('p1', p1)\n",
    "        nums1[i] = nums1[p1]\n",
    "        p1 -= 1\n",
    "    else:\n",
    "        print('p2', p2)\n",
    "        nums1[i] = nums2[p2]\n",
    "        p2 -= 1\n",
    "    if p1 < 0:\n",
    "        nums1[:p2+1] = nums2[:p2+1]\n",
    "        break\n",
    "    if p2 < 0:\n",
    "        break\n",
    "nums1"
   ]
  },
  {
   "cell_type": "code",
   "execution_count": 586,
   "metadata": {},
   "outputs": [
    {
     "data": {
      "text/plain": [
       "[6, 2]"
      ]
     },
     "execution_count": 586,
     "metadata": {},
     "output_type": "execute_result"
    }
   ],
   "source": [
    "nums1[:2]"
   ]
  },
  {
   "cell_type": "code",
   "execution_count": 569,
   "metadata": {},
   "outputs": [
    {
     "data": {
      "text/plain": [
       "True"
      ]
     },
     "execution_count": 569,
     "metadata": {},
     "output_type": "execute_result"
    }
   ],
   "source": [
    "1 > float('-inf')"
   ]
  },
  {
   "cell_type": "code",
   "execution_count": 516,
   "metadata": {},
   "outputs": [],
   "source": [
    "# [print (i) for i in nums1[::-1]]"
   ]
  },
  {
   "cell_type": "code",
   "execution_count": 510,
   "metadata": {},
   "outputs": [
    {
     "data": {
      "text/plain": [
       "1"
      ]
     },
     "execution_count": 510,
     "metadata": {},
     "output_type": "execute_result"
    }
   ],
   "source": [
    "# nums1[n+m-1]"
   ]
  },
  {
   "cell_type": "code",
   "execution_count": 611,
   "metadata": {},
   "outputs": [
    {
     "data": {
      "text/plain": [
       "'abcabc'"
      ]
     },
     "execution_count": 611,
     "metadata": {},
     "output_type": "execute_result"
    }
   ],
   "source": [
    "s = \"abcabcbb\"\n",
    "ssA = ''\n",
    "ssB = ''\n",
    "for i in range(len(s)-1):\n",
    "    if s[i] != s[i+1]:\n",
    "        ssA += s[i]\n",
    "    else:\n",
    "#         print('reset', ssA)\n",
    "        ssA = ''\n",
    "    if len(ssA) > len(ssB):\n",
    "        ssB = ssA[:]\n",
    "ssB"
   ]
  },
  {
   "cell_type": "code",
   "execution_count": 625,
   "metadata": {},
   "outputs": [
    {
     "data": {
      "text/plain": [
       "'dv'"
      ]
     },
     "execution_count": 625,
     "metadata": {},
     "output_type": "execute_result"
    }
   ],
   "source": [
    "s = \"dvdf\"\n",
    "ssA = ''\n",
    "ssB = ''\n",
    "for i in range(len(s)):\n",
    "    if s[i] not in ssA:\n",
    "        ssA += s[i]\n",
    "    else:\n",
    "        ssA = s[i]\n",
    "    if len(ssA) > len(ssB):\n",
    "        ssB = ssA[:]\n",
    "ssB  "
   ]
  },
  {
   "cell_type": "code",
   "execution_count": 630,
   "metadata": {},
   "outputs": [
    {
     "data": {
      "text/plain": [
       "49"
      ]
     },
     "execution_count": 630,
     "metadata": {},
     "output_type": "execute_result"
    }
   ],
   "source": [
    "ord('1')"
   ]
  },
  {
   "cell_type": "code",
   "execution_count": 627,
   "metadata": {},
   "outputs": [
    {
     "name": "stdout",
     "output_type": "stream",
     "text": [
      "\n",
      "d\n",
      "dv\n",
      "\n",
      "\n",
      "v\n",
      "\n",
      "\n",
      "\n",
      "\n",
      "\n",
      "\n"
     ]
    },
    {
     "data": {
      "text/plain": [
       "0"
      ]
     },
     "execution_count": 627,
     "metadata": {},
     "output_type": "execute_result"
    }
   ],
   "source": [
    "count = 0\n",
    "for i in range(len(s)):\n",
    "    for j in range(len(s)-1):\n",
    "        print(s[i:j])\n",
    "#         if s[j+1] not in s[i:j]:\n",
    "#             count = j+1-i\n",
    "count"
   ]
  },
  {
   "cell_type": "code",
   "execution_count": 690,
   "metadata": {},
   "outputs": [
    {
     "name": "stdout",
     "output_type": "stream",
     "text": [
      "3\n",
      "3\n",
      "3\n",
      "3\n",
      "2\n",
      "2\n",
      "2\n",
      "2\n",
      "2\n",
      "2\n",
      "1\n",
      "1\n",
      "1\n",
      "1\n",
      "1\n",
      "1\n",
      "1\n",
      "1\n"
     ]
    }
   ],
   "source": [
    "s = \"abcabcbb\"\n",
    "for width in range(len(s), 0, -1):\n",
    "#     print(s[:width], s[1:width+1])\n",
    "    for idx in range(len(s)-width+1):\n",
    "        char_set = [False] * 128\n",
    "        unique = True\n",
    "#         print(s[idx:width+idx])\n",
    "#         print('loop')\n",
    "        for i in s[idx:width+idx]:\n",
    "            val = ord(i)\n",
    "            if char_set[val]:\n",
    "                \n",
    "                unique = False\n",
    "#                 print(unique)\n",
    "            char_set[val] = True\n",
    "#             print(char_set[val])\n",
    "        if unique:\n",
    "            print(width)"
   ]
  },
  {
   "cell_type": "code",
   "execution_count": 665,
   "metadata": {},
   "outputs": [],
   "source": [
    "# ^^^ too slow ^^^"
   ]
  },
  {
   "cell_type": "code",
   "execution_count": 691,
   "metadata": {},
   "outputs": [
    {
     "data": {
      "text/plain": [
       "3"
      ]
     },
     "execution_count": 691,
     "metadata": {},
     "output_type": "execute_result"
    }
   ],
   "source": [
    "s = \"abcabcbb\"\n",
    "charSet = set()\n",
    "l = 0\n",
    "ret = 0\n",
    "for r in range(len(s)):\n",
    "    while s[r] in charSet:\n",
    "        charSet.remove(s[l])\n",
    "        l += 1\n",
    "    charSet.add(s[r])\n",
    "    ret = max(ret, len(charSet))\n",
    "ret\n",
    "        "
   ]
  },
  {
   "cell_type": "code",
   "execution_count": 682,
   "metadata": {},
   "outputs": [],
   "source": [
    "def plus(x):\n",
    "    return x+1"
   ]
  },
  {
   "cell_type": "code",
   "execution_count": 683,
   "metadata": {},
   "outputs": [
    {
     "data": {
      "text/plain": [
       "81"
      ]
     },
     "execution_count": 683,
     "metadata": {},
     "output_type": "execute_result"
    }
   ],
   "source": [
    "plus(80)"
   ]
  },
  {
   "cell_type": "code",
   "execution_count": null,
   "metadata": {},
   "outputs": [],
   "source": []
  }
 ],
 "metadata": {
  "kernelspec": {
   "display_name": "Python 3",
   "language": "python",
   "name": "python3"
  },
  "language_info": {
   "codemirror_mode": {
    "name": "ipython",
    "version": 3
   },
   "file_extension": ".py",
   "mimetype": "text/x-python",
   "name": "python",
   "nbconvert_exporter": "python",
   "pygments_lexer": "ipython3",
   "version": "3.8.3"
  }
 },
 "nbformat": 4,
 "nbformat_minor": 4
}

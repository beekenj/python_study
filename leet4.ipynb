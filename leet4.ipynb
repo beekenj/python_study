{
 "cells": [
  {
   "cell_type": "code",
   "execution_count": 1,
   "metadata": {},
   "outputs": [],
   "source": [
    "def climbStairs(n):\n",
    "    n1, n2 = 1, 2\n",
    "    nth = 0\n",
    "    count = 2\n",
    "    if n == 1:\n",
    "        return n1\n",
    "    elif n == 2:\n",
    "        return n2\n",
    "    else:\n",
    "        while count < n:\n",
    "            nth = n1 + n2\n",
    "            n1 = n2\n",
    "            n2 = nth\n",
    "            count += 1\n",
    "        return nth"
   ]
  },
  {
   "cell_type": "code",
   "execution_count": 2,
   "metadata": {},
   "outputs": [
    {
     "data": {
      "text/plain": [
       "21"
      ]
     },
     "execution_count": 2,
     "metadata": {},
     "output_type": "execute_result"
    }
   ],
   "source": [
    "climbStairs(7)"
   ]
  },
  {
   "cell_type": "code",
   "execution_count": 3,
   "metadata": {},
   "outputs": [],
   "source": [
    "def isPalindrome(s):\n",
    "        \"\"\"\n",
    "        :type s: str\n",
    "        :rtype: bool\n",
    "        \"\"\"\n",
    "        i, j = 0, len(s)-1\n",
    "        \n",
    "        while i < j:\n",
    "            if not s[i].isalnum():\n",
    "                i += 1\n",
    "            elif not s[j].isalnum():\n",
    "                j -= 1\n",
    "            else:\n",
    "                if s[i].lower() != s[j].lower():\n",
    "                    return False\n",
    "                else:\n",
    "                    i += 1\n",
    "                    j -= 1\n",
    "        return True"
   ]
  },
  {
   "cell_type": "code",
   "execution_count": 4,
   "metadata": {},
   "outputs": [
    {
     "data": {
      "text/plain": [
       "True"
      ]
     },
     "execution_count": 4,
     "metadata": {},
     "output_type": "execute_result"
    }
   ],
   "source": [
    "s = \"A man, a plan, a canal: Panama\"\n",
    "isPalindrome(s)"
   ]
  },
  {
   "cell_type": "code",
   "execution_count": 5,
   "metadata": {},
   "outputs": [
    {
     "data": {
      "text/plain": [
       "30"
      ]
     },
     "execution_count": 5,
     "metadata": {},
     "output_type": "execute_result"
    }
   ],
   "source": [
    "len(s)"
   ]
  },
  {
   "cell_type": "code",
   "execution_count": 6,
   "metadata": {},
   "outputs": [],
   "source": [
    "def majorityElement(nums):\n",
    "        \"\"\"\n",
    "        :type nums: List[int]\n",
    "        :rtype: int\n",
    "        \"\"\"\n",
    "        hm = {}\n",
    "        for num in nums:\n",
    "            hm[num] = hm.get(num, 0) + 1\n",
    "        return max(hm, key=hm.get)"
   ]
  },
  {
   "cell_type": "code",
   "execution_count": 7,
   "metadata": {},
   "outputs": [],
   "source": [
    "nums = [2,2,1,1,1,1,2]"
   ]
  },
  {
   "cell_type": "code",
   "execution_count": 8,
   "metadata": {},
   "outputs": [
    {
     "data": {
      "text/plain": [
       "1"
      ]
     },
     "execution_count": 8,
     "metadata": {},
     "output_type": "execute_result"
    }
   ],
   "source": [
    "majorityElement(nums)"
   ]
  },
  {
   "cell_type": "code",
   "execution_count": 9,
   "metadata": {},
   "outputs": [
    {
     "data": {
      "text/plain": [
       "[1000000007]"
      ]
     },
     "execution_count": 9,
     "metadata": {},
     "output_type": "execute_result"
    }
   ],
   "source": [
    "[1000000007]"
   ]
  },
  {
   "cell_type": "code",
   "execution_count": 10,
   "metadata": {},
   "outputs": [],
   "source": [
    "# 8%len(nums)"
   ]
  },
  {
   "cell_type": "code",
   "execution_count": 11,
   "metadata": {},
   "outputs": [
    {
     "data": {
      "text/plain": [
       "2"
      ]
     },
     "execution_count": 11,
     "metadata": {},
     "output_type": "execute_result"
    }
   ],
   "source": [
    "hash(2) % 1000000007"
   ]
  },
  {
   "cell_type": "code",
   "execution_count": 12,
   "metadata": {},
   "outputs": [],
   "source": [
    "class ListNode(object):\n",
    "    def __init__(self, val=0, next=None):\n",
    "        self.val = val\n",
    "        self.next = next"
   ]
  },
  {
   "cell_type": "code",
   "execution_count": 13,
   "metadata": {},
   "outputs": [],
   "source": [
    "llist = ListNode()"
   ]
  },
  {
   "cell_type": "code",
   "execution_count": 18,
   "metadata": {},
   "outputs": [],
   "source": [
    "llist.val = 1\n",
    "llist.next = ListNode(2)"
   ]
  },
  {
   "cell_type": "code",
   "execution_count": 21,
   "metadata": {},
   "outputs": [
    {
     "data": {
      "text/plain": [
       "2"
      ]
     },
     "execution_count": 21,
     "metadata": {},
     "output_type": "execute_result"
    }
   ],
   "source": [
    "llist.next.val"
   ]
  },
  {
   "cell_type": "code",
   "execution_count": 116,
   "metadata": {},
   "outputs": [],
   "source": [
    "def listToLlist(lst):\n",
    "    head = ListNode()\n",
    "    node = head\n",
    "    \n",
    "#     node = head\n",
    "#     print(node.val)\n",
    "    for value in lst:\n",
    "        node.val = value\n",
    "        node.next = ListNode()\n",
    "        node = node.next\n",
    "    return head"
   ]
  },
  {
   "cell_type": "code",
   "execution_count": 146,
   "metadata": {},
   "outputs": [],
   "source": [
    "def mergeTwoLists(list1, list2):\n",
    "    \"\"\"\n",
    "    :type list1: Optional[ListNode]\n",
    "    :type list2: Optional[ListNode]\n",
    "    :rtype: Optional[ListNode]\n",
    "    \"\"\"\n",
    "    cur = head = ListNode()\n",
    "    \n",
    "    # if both lists are populated, iterate\n",
    "    while list1 and list2:\n",
    "        if list1.val < list2.val:\n",
    "            # set link to point to next node in list1\n",
    "            cur.next = list1\n",
    "            # move forward in list1\n",
    "            print(\"l1\", list1.val)\n",
    "            list1 = list1.next\n",
    "            print(\"l1.nxt\", list1.val)\n",
    "            # move cursor forward\n",
    "            cur = list1\n",
    "            \n",
    "        else:\n",
    "            # set link to point to next node in list2\n",
    "            cur.next = list2\n",
    "            # move forward in list2\n",
    "            print(list2.val)\n",
    "            list2 = list2.next\n",
    "            print(list2.val)\n",
    "            # move cursor forward\n",
    "            cur = list2\n",
    "#         print(node.val)\n",
    "        \n",
    "    \n",
    "    # if one list is unpopulated, but the other is, set head to point to the list that is populated\n",
    "    if list1 or list2:\n",
    "        if list1:\n",
    "            cur.next = list1\n",
    "        else:\n",
    "            cur.next = list2\n",
    "    \n",
    "    return head.next"
   ]
  },
  {
   "cell_type": "code",
   "execution_count": 44,
   "metadata": {},
   "outputs": [
    {
     "data": {
      "text/plain": [
       "3"
      ]
     },
     "execution_count": 44,
     "metadata": {},
     "output_type": "execute_result"
    }
   ],
   "source": [
    "listToLlist([1,2,3]).next.next.val"
   ]
  },
  {
   "cell_type": "code",
   "execution_count": 63,
   "metadata": {},
   "outputs": [],
   "source": [
    "def llistToList(node):\n",
    "    lst = []\n",
    "    while node.next:\n",
    "        lst.append(node.val)\n",
    "        node = node.next\n",
    "    return lst"
   ]
  },
  {
   "cell_type": "code",
   "execution_count": 117,
   "metadata": {},
   "outputs": [
    {
     "data": {
      "text/plain": [
       "[1, 2, 4]"
      ]
     },
     "execution_count": 117,
     "metadata": {},
     "output_type": "execute_result"
    }
   ],
   "source": [
    "llistToList(listToLlist([1,2,4]))"
   ]
  },
  {
   "cell_type": "code",
   "execution_count": 95,
   "metadata": {},
   "outputs": [
    {
     "data": {
      "text/plain": [
       "1"
      ]
     },
     "execution_count": 95,
     "metadata": {},
     "output_type": "execute_result"
    }
   ],
   "source": [
    "list1 = listToLlist([1,2,4])\n",
    "list2 = listToLlist([1,3,4])\n",
    "list1.val"
   ]
  },
  {
   "cell_type": "code",
   "execution_count": 93,
   "metadata": {},
   "outputs": [
    {
     "data": {
      "text/plain": [
       "2"
      ]
     },
     "execution_count": 93,
     "metadata": {},
     "output_type": "execute_result"
    }
   ],
   "source": [
    "list1 = list1.next\n",
    "list1.val"
   ]
  },
  {
   "cell_type": "code",
   "execution_count": 115,
   "metadata": {},
   "outputs": [],
   "source": [
    "# sol = mergeTwoLists(list1, list2)"
   ]
  },
  {
   "cell_type": "code",
   "execution_count": null,
   "metadata": {},
   "outputs": [],
   "source": [
    "llistToList(sol)"
   ]
  },
  {
   "cell_type": "code",
   "execution_count": 160,
   "metadata": {},
   "outputs": [],
   "source": [
    "def mergeTwoLists(list1, list2):\n",
    "    cur = dummy = ListNode()\n",
    "    while list1 and list2:               \n",
    "        if list1.val < list2.val:\n",
    "            cur.next = list1\n",
    "            list1, cur = list1.next, list1\n",
    "        else:\n",
    "            cur.next = list2\n",
    "            list2, cur = list2.next, list2\n",
    "\n",
    "    if list1 or list2:\n",
    "        cur.next = list1 if list1 else list2\n",
    "\n",
    "    return dummy.next"
   ]
  },
  {
   "cell_type": "code",
   "execution_count": 114,
   "metadata": {},
   "outputs": [],
   "source": [
    "# mergeTwoLists(list1, list2)"
   ]
  },
  {
   "cell_type": "code",
   "execution_count": 101,
   "metadata": {},
   "outputs": [],
   "source": [
    "def printLlist(node):\n",
    "    while node is not None:\n",
    "        print(node.val)\n",
    "        node = node.next"
   ]
  },
  {
   "cell_type": "code",
   "execution_count": 105,
   "metadata": {},
   "outputs": [
    {
     "name": "stdout",
     "output_type": "stream",
     "text": [
      "1\n",
      "2\n",
      "4\n"
     ]
    }
   ],
   "source": [
    "list1 = listToLlist([1,2,4])\n",
    "while list1.next:\n",
    "    print(list1.val)\n",
    "    list1 = list1.next"
   ]
  },
  {
   "cell_type": "code",
   "execution_count": 155,
   "metadata": {},
   "outputs": [],
   "source": [
    "def mergeTwoLists(list1, list2):\n",
    "        \n",
    "    head = ListNode()\n",
    "    temp = head\n",
    "\n",
    "    while (list1 != None and list2 != None):\n",
    "        if list1.val <= list2.val:\n",
    "            temp.next = list1\n",
    "            list1 = list1.next\n",
    "        else:\n",
    "            temp.next = list2\n",
    "            list2 = list2.next\n",
    "        temp = temp.next\n",
    "\n",
    "    if list1 != None:\n",
    "        temp.next = list1\n",
    "    if list2 != None:\n",
    "        temp.next = list2\n",
    "\n",
    "    return head.next"
   ]
  },
  {
   "cell_type": "code",
   "execution_count": 173,
   "metadata": {},
   "outputs": [],
   "source": [
    "# sol = mergeTwoLists(list1, list2)"
   ]
  },
  {
   "cell_type": "code",
   "execution_count": null,
   "metadata": {},
   "outputs": [],
   "source": [
    "printLlist(sol)"
   ]
  },
  {
   "cell_type": "code",
   "execution_count": 130,
   "metadata": {},
   "outputs": [],
   "source": [
    "def display(root):\n",
    "    while (root.next != None) :\n",
    "        print(root.val, end = \" \")\n",
    "        root = root.next"
   ]
  },
  {
   "cell_type": "code",
   "execution_count": 128,
   "metadata": {},
   "outputs": [],
   "source": [
    "list1 = listToLlist([1,2,4])"
   ]
  },
  {
   "cell_type": "code",
   "execution_count": 131,
   "metadata": {},
   "outputs": [
    {
     "name": "stdout",
     "output_type": "stream",
     "text": [
      "1 2 4 "
     ]
    }
   ],
   "source": [
    "display(list1)"
   ]
  },
  {
   "cell_type": "code",
   "execution_count": 135,
   "metadata": {},
   "outputs": [],
   "source": [
    "# class Node: \n",
    "#     def __init__(self, data): \n",
    "#         self.data = data \n",
    "#         self.next = None"
   ]
  },
  {
   "cell_type": "code",
   "execution_count": 140,
   "metadata": {},
   "outputs": [],
   "source": [
    "# Function to insert node\n",
    "def insert(root, item):\n",
    "    temp = ListNode(item)\n",
    "      \n",
    "    if (root == None):\n",
    "        root = temp\n",
    "    else :\n",
    "        ptr = root\n",
    "        while (ptr.next != None):\n",
    "            ptr = ptr.next\n",
    "        ptr.next = temp      \n",
    "    return root\n",
    "  \n",
    "def display(root):\n",
    "    while (root != None) :\n",
    "        print(root.val, end = \" \")\n",
    "        root = root.next\n",
    "          \n",
    "def arrayToList(arr, n):\n",
    "    root = None\n",
    "    for i in range(0, n, 1):\n",
    "        root = insert(root, arr[i])      \n",
    "    return root"
   ]
  },
  {
   "cell_type": "code",
   "execution_count": 141,
   "metadata": {},
   "outputs": [
    {
     "name": "stdout",
     "output_type": "stream",
     "text": [
      "1 2 3 4 5 "
     ]
    }
   ],
   "source": [
    "arr = [1, 2, 3, 4, 5]\n",
    "n = len(arr)\n",
    "root = arrayToList(arr, n)\n",
    "display(root)"
   ]
  },
  {
   "cell_type": "code",
   "execution_count": 181,
   "metadata": {},
   "outputs": [],
   "source": [
    "def mergeTwoLists(list1, list2):\n",
    "    \"\"\"\n",
    "    :type list1: Optional[ListNode]\n",
    "    :type list2: Optional[ListNode]\n",
    "    :rtype: Optional[ListNode]\n",
    "    \"\"\"\n",
    "    cur = head = ListNode()\n",
    "    \n",
    "    # if both lists are populated, iterate\n",
    "    while list1 and list2:\n",
    "#         print(list2.val)\n",
    "        if list1.val < list2.val:\n",
    "            # set link to point to next node in list1\n",
    "            cur.next = list1\n",
    "            # move forward in list1\n",
    "            list1 = list1.next\n",
    "#             cur = list1\n",
    "            \n",
    "        else:\n",
    "            # set link to point to next node in list2\n",
    "            cur.next = list2\n",
    "            # move forward in list1\n",
    "            list2 = list2.next\n",
    "            \n",
    "        # move cursor to next node\n",
    "        cur = cur.next\n",
    "    \n",
    "    # if one list is unpopulated, but the other is, set head to point to the list that is populated\n",
    "    if list1 or list2:\n",
    "        if list1:\n",
    "            cur.next = list1\n",
    "        else:\n",
    "            cur.next = list2\n",
    "    \n",
    "    return head.next"
   ]
  },
  {
   "cell_type": "code",
   "execution_count": 179,
   "metadata": {},
   "outputs": [],
   "source": [
    "list1 = arrayToList([1,2,4], 3)\n",
    "list2 = arrayToList([1,3,4], 3)\n",
    "sol = mergeTwoLists(list1, list2)"
   ]
  },
  {
   "cell_type": "code",
   "execution_count": null,
   "metadata": {},
   "outputs": [],
   "source": []
  },
  {
   "cell_type": "code",
   "execution_count": 180,
   "metadata": {},
   "outputs": [
    {
     "name": "stdout",
     "output_type": "stream",
     "text": [
      "1 1 2 3 4 4 "
     ]
    }
   ],
   "source": [
    "display(sol)"
   ]
  }
 ],
 "metadata": {
  "kernelspec": {
   "display_name": "Python 3",
   "language": "python",
   "name": "python3"
  },
  "language_info": {
   "codemirror_mode": {
    "name": "ipython",
    "version": 3
   },
   "file_extension": ".py",
   "mimetype": "text/x-python",
   "name": "python",
   "nbconvert_exporter": "python",
   "pygments_lexer": "ipython3",
   "version": "3.8.3"
  }
 },
 "nbformat": 4,
 "nbformat_minor": 4
}

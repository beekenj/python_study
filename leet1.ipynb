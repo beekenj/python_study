{
 "cells": [
  {
   "cell_type": "code",
   "execution_count": 22,
   "metadata": {},
   "outputs": [],
   "source": [
    "class Solution(object):\n",
    "    def twoSum(self, nums, target):\n",
    "        \"\"\"\n",
    "        :type nums: List[int]\n",
    "        :type target: int\n",
    "        :rtype: List[int]\n",
    "        \"\"\"\n",
    "        count = 0\n",
    "#         nums = [i for i in nums if i<=target]\n",
    "        for i in range(len(nums)):\n",
    "            for j in range(len(nums)):\n",
    "                count+=1\n",
    "                if (nums[i]+nums[j])==target:\n",
    "                    print(count)\n",
    "                    print(nums[i],nums[j])\n",
    "                    return [i,j]"
   ]
  },
  {
   "cell_type": "code",
   "execution_count": 25,
   "metadata": {},
   "outputs": [
    {
     "name": "stdout",
     "output_type": "stream",
     "text": [
      "30\n",
      "7 2\n"
     ]
    },
    {
     "data": {
      "text/plain": [
       "[4, 5]"
      ]
     },
     "execution_count": 25,
     "metadata": {},
     "output_type": "execute_result"
    }
   ],
   "source": [
    "test = Solution()\n",
    "test.twoSum([15,11,3,8,7,2],9)"
   ]
  },
  {
   "cell_type": "code",
   "execution_count": 263,
   "metadata": {},
   "outputs": [],
   "source": [
    "class Solution(object):\n",
    "    def romanToInt(self, s):\n",
    "        \"\"\"\n",
    "        :type s: str\n",
    "        :rtype: int\n",
    "        \"\"\"\n",
    "        numerals = {'I':1, 'V':5, 'X':10, 'L':50, 'C':100, 'D':500, 'M':1000}\n",
    "        total = 0\n",
    "#         print(len(s))\n",
    "        for i in range(len(s)):\n",
    "            if i < len(s)-1:\n",
    "#                 print(s[i+1])\n",
    "                if s[i] == 'I' and (s[i+1]=='V' or s[i+1]=='X'):\n",
    "                    total -= numerals[s[i]]\n",
    "                elif s[i] == 'X' and (s[i+1]=='L' or s[i+1]=='C'):\n",
    "                    total -= numerals[s[i]]\n",
    "                elif s[i] == 'C' and (s[i+1]=='D' or s[i+1]=='M'):\n",
    "                    total -= numerals[s[i]]\n",
    "                else:\n",
    "                    total += numerals[s[i]]\n",
    "            else:\n",
    "                total += numerals[s[i]]\n",
    "        return total\n",
    "#             print(letter)"
   ]
  },
  {
   "cell_type": "code",
   "execution_count": 264,
   "metadata": {},
   "outputs": [
    {
     "data": {
      "text/plain": [
       "3599"
      ]
     },
     "execution_count": 264,
     "metadata": {},
     "output_type": "execute_result"
    }
   ],
   "source": [
    "problem = Solution()\n",
    "problem.romanToInt('MMMDXCIX')"
   ]
  },
  {
   "cell_type": "code",
   "execution_count": 85,
   "metadata": {},
   "outputs": [
    {
     "data": {
      "text/plain": [
       "3.0"
      ]
     },
     "execution_count": 85,
     "metadata": {},
     "output_type": "execute_result"
    }
   ],
   "source": []
  },
  {
   "cell_type": "code",
   "execution_count": 71,
   "metadata": {},
   "outputs": [],
   "source": [
    "class Solution(object):\n",
    "    def romanToInt(self, s):\n",
    "        \"\"\"\n",
    "        :type s: str\n",
    "        :rtype: int\n",
    "        \"\"\"\n",
    "        numerals = {'I':1, 'V':5, 'X':10, 'L':50, 'C':100, 'D':500, 'M':1000}\n",
    "#         total = 0\n",
    "        nums = [numerals[s[i]] for i in range(len(s)) if s[i+1]]\n",
    "        return sum(nums)"
   ]
  },
  {
   "cell_type": "code",
   "execution_count": 216,
   "metadata": {},
   "outputs": [
    {
     "ename": "AttributeError",
     "evalue": "'Solution' object has no attribute 'romanToInt'",
     "output_type": "error",
     "traceback": [
      "\u001b[1;31m---------------------------------------------------------------------------\u001b[0m",
      "\u001b[1;31mAttributeError\u001b[0m                            Traceback (most recent call last)",
      "\u001b[1;32m<ipython-input-216-189b6726ac8b>\u001b[0m in \u001b[0;36m<module>\u001b[1;34m\u001b[0m\n\u001b[0;32m      1\u001b[0m \u001b[0mproblem\u001b[0m \u001b[1;33m=\u001b[0m \u001b[0mSolution\u001b[0m\u001b[1;33m(\u001b[0m\u001b[1;33m)\u001b[0m\u001b[1;33m\u001b[0m\u001b[1;33m\u001b[0m\u001b[0m\n\u001b[1;32m----> 2\u001b[1;33m \u001b[0mproblem\u001b[0m\u001b[1;33m.\u001b[0m\u001b[0mromanToInt\u001b[0m\u001b[1;33m(\u001b[0m\u001b[1;34m'MMMDCXXXIX'\u001b[0m\u001b[1;33m)\u001b[0m\u001b[1;33m\u001b[0m\u001b[1;33m\u001b[0m\u001b[0m\n\u001b[0m",
      "\u001b[1;31mAttributeError\u001b[0m: 'Solution' object has no attribute 'romanToInt'"
     ]
    }
   ],
   "source": [
    "problem = Solution()\n",
    "problem.romanToInt('MCMXCIV')"
   ]
  },
  {
   "cell_type": "code",
   "execution_count": 140,
   "metadata": {},
   "outputs": [
    {
     "data": {
      "text/plain": [
       "3.0"
      ]
     },
     "execution_count": 140,
     "metadata": {},
     "output_type": "execute_result"
    }
   ],
   "source": [
    "num = 3399\n",
    "s = ''\n",
    "for _ in range(round((num-num%1000)/1000)):\n",
    "    s += 'M'\n",
    "if round((num-(num%1000)%100)/100-round((num-num%1000)/1000)) == 9.0:\n",
    "    s += 'CM'\n",
    "elif ((num-(num%1000)%500)/500 >= 1):\n",
    "    s += 'D'\n",
    "else:\n",
    "    for _ in range(round((num-(num%1000)%100)/100 - M*10)):\n",
    "        s += 'C'\n",
    "\n",
    "# for _ in range :\n",
    "#     s += 'D'\n",
    "# if ()\n",
    "s\n",
    "# if \n",
    "#     D = round((num-(num%1000)%500)/500 - M*2)\n",
    "# else:\n",
    "#     C = round((num-(num%1000)%100)/100 - M*2)\n",
    "((num-(num%1000)%500)/500) - round((num-num%1000)/1000)"
   ]
  },
  {
   "cell_type": "code",
   "execution_count": 238,
   "metadata": {},
   "outputs": [
    {
     "data": {
      "text/plain": [
       "'III'"
      ]
     },
     "execution_count": 238,
     "metadata": {},
     "output_type": "execute_result"
    }
   ],
   "source": [
    "num = 3\n",
    "s = ''\n",
    "for _ in range(round((num-num%1000)/1000)):\n",
    "    s += 'M'\n",
    "    num = num-round((num-num%1000))\n",
    "if round((num-(num%1000)%100)/100) == 9:\n",
    "    s += 'CM'\n",
    "    num = num-round((num-(num%1000)%100))\n",
    "elif (num-(num%1000)%500)/500 >= 1:\n",
    "    s += 'D'\n",
    "    num = num - 500\n",
    "elif round((num-(num%1000)%100)/100) == 4:\n",
    "    s += 'CD'\n",
    "    num = num - 400\n",
    "# else:\n",
    "for _ in range(round((num-num%100)/100)):\n",
    "    s += 'C'\n",
    "    num = num - round((num-num%100))\n",
    "\n",
    "if round((num-num%10)/10) == 9:\n",
    "    s += 'XC'\n",
    "    num = num - 90\n",
    "elif round((num-num%10)/10) == 5:\n",
    "    s += 'L'\n",
    "    num = num - 50\n",
    "elif round((num-num%10)/10) == 4:\n",
    "    s += 'XL'\n",
    "    num = num - 40\n",
    "    \n",
    "for _ in range(round((num-num%10)/10)):\n",
    "    s += 'X'\n",
    "    num = num - 10\n",
    "    \n",
    "if num == 9:\n",
    "    s += 'IX'\n",
    "    num = num - 9\n",
    "elif (num - num%5) == 5:\n",
    "    s += 'V'\n",
    "    num = num - 5\n",
    "elif num == 4:\n",
    "    s += 'IV'\n",
    "    num = num - 4\n",
    "    \n",
    "for _ in range(num):\n",
    "    s += 'I'\n",
    "    num = num - 1\n",
    "# elif num == 5:\n",
    "\n",
    "# elif num == 4:\n",
    "#     s += 'IV'\n",
    "    \n",
    "\n",
    "# for _ in range(round)\n",
    "s\n"
   ]
  },
  {
   "cell_type": "code",
   "execution_count": 236,
   "metadata": {},
   "outputs": [
    {
     "data": {
      "text/plain": [
       "3"
      ]
     },
     "execution_count": 236,
     "metadata": {},
     "output_type": "execute_result"
    }
   ],
   "source": [
    "num"
   ]
  },
  {
   "cell_type": "code",
   "execution_count": 115,
   "metadata": {},
   "outputs": [
    {
     "data": {
      "text/plain": [
       "1.198"
      ]
     },
     "execution_count": 115,
     "metadata": {},
     "output_type": "execute_result"
    }
   ],
   "source": [
    "(num%1000)/500"
   ]
  },
  {
   "cell_type": "code",
   "execution_count": 247,
   "metadata": {},
   "outputs": [],
   "source": [
    "class Solution(object):\n",
    "    def intToRoman(self, num):\n",
    "        \"\"\"\n",
    "        :type num: int\n",
    "        :rtype: str\n",
    "        \"\"\"\n",
    "        s = ''\n",
    "        for _ in range(int(round((num-num%1000)/1000))):\n",
    "            s += 'M'\n",
    "            num = num-int(round((num-num%1000)))\n",
    "        if round((num-(num%1000)%100)/100) == 9:\n",
    "            s += 'CM'\n",
    "            num = num-int(round((num-(num%1000)%100)))\n",
    "        elif (num-(num%1000)%500)/500 >= 1:\n",
    "            s += 'D'\n",
    "            num = num - 500\n",
    "        elif int(round((num-(num%1000)%100)/100)) == 4:\n",
    "            s += 'CD'\n",
    "            num = num - 400\n",
    "        # else:\n",
    "        for _ in range(int(round((num-num%100)/100))):\n",
    "            s += 'C'\n",
    "            num = num - int(round((num-num%100)))\n",
    "\n",
    "        if int(round((num-num%10)/10)) == 9:\n",
    "            s += 'XC'\n",
    "            num = num - 90\n",
    "        elif int(round((num-num%10)/10)) >= 5:\n",
    "            s += 'L'\n",
    "            num = num - 50\n",
    "        elif int(round((num-num%10)/10)) == 4:\n",
    "            s += 'XL'\n",
    "            num = num - 40\n",
    "\n",
    "        for _ in range(int(round((num-num%10)/10))):\n",
    "            print(num)\n",
    "            s += 'X'\n",
    "            num = num - 10\n",
    "\n",
    "        if num == 9:\n",
    "            s += 'IX'\n",
    "            num = num - 9\n",
    "        elif (num - num%5) >= 5:\n",
    "            s += 'V'\n",
    "            num = num - 5\n",
    "        elif num == 4:\n",
    "            s += 'IV'\n",
    "            num = num - 4\n",
    "\n",
    "        for _ in range(num):\n",
    "            s += 'I'\n",
    "            num = num - 1\n",
    "            \n",
    "        return s"
   ]
  },
  {
   "cell_type": "code",
   "execution_count": 252,
   "metadata": {},
   "outputs": [
    {
     "data": {
      "text/plain": [
       "'VI'"
      ]
     },
     "execution_count": 252,
     "metadata": {},
     "output_type": "execute_result"
    }
   ],
   "source": [
    "prob2 = Solution()\n",
    "prob2.intToRoman(6)"
   ]
  },
  {
   "cell_type": "code",
   "execution_count": 299,
   "metadata": {},
   "outputs": [],
   "source": [
    "class Solution(object):\n",
    "    def intToRoman(self, num):\n",
    "        \"\"\"\n",
    "        :type num: int\n",
    "        :rtype: str\n",
    "        \"\"\"\n",
    "        s = ''\n",
    "        for _ in range(int(round((num-num%1000)/1000))):\n",
    "            s += 'M'\n",
    "            num = num-1000\n",
    "        if round((num-(num%1000)%100)/100) == 9:\n",
    "            s += 'CM'\n",
    "            num = num-900\n",
    "        elif int(round((num-(num%1000)%100)/100)) >= 5:\n",
    "            s += 'D'\n",
    "            num = num - 500\n",
    "        elif int(round((num-(num%1000)%100)/100)) == 4:\n",
    "            s += 'CD'\n",
    "            num = num - 400\n",
    "        # else:\n",
    "        for _ in range(int(round((num-num%100)/100))):\n",
    "            s += 'C'\n",
    "            num = num - 100\n",
    "\n",
    "        if int(round((num-num%10)/10)) == 9:\n",
    "            s += 'XC'\n",
    "            num = num - 90\n",
    "        elif int(round((num-num%10)/10)) >= 5:\n",
    "            s += 'L'\n",
    "            num = num - 50\n",
    "        elif int(round((num-num%10)/10)) == 4:\n",
    "            s += 'XL'\n",
    "            num = num - 40\n",
    "\n",
    "        for _ in range(int(round((num-num%10)/10))):\n",
    "            print(num)\n",
    "            s += 'X'\n",
    "            num = num - 10\n",
    "\n",
    "        if num == 9:\n",
    "            s += 'IX'\n",
    "            num = num - 9\n",
    "        elif (num - num%5) >= 5:\n",
    "            s += 'V'\n",
    "            num = num - 5\n",
    "        elif num == 4:\n",
    "            s += 'IV'\n",
    "            num = num - 4\n",
    "\n",
    "        for _ in range(num):\n",
    "            s += 'I'\n",
    "            num = num - 1\n",
    "            \n",
    "        return s"
   ]
  },
  {
   "cell_type": "code",
   "execution_count": 300,
   "metadata": {},
   "outputs": [
    {
     "data": {
      "text/plain": [
       "'MMMCMXCIX'"
      ]
     },
     "execution_count": 300,
     "metadata": {},
     "output_type": "execute_result"
    }
   ],
   "source": [
    "prob2 = Solution()\n",
    "prob2.intToRoman(3999)"
   ]
  },
  {
   "cell_type": "code",
   "execution_count": 332,
   "metadata": {},
   "outputs": [],
   "source": [
    "class Solution(object):\n",
    "    def intToRoman(self, num):\n",
    "        \"\"\"\n",
    "        :type num: int\n",
    "        :rtype: str\n",
    "        \"\"\"\n",
    "        s = ''\n",
    "        numString = str(num)\n",
    "        numString = numString[::-1]\n",
    "        for digit in range(len(numString)):\n",
    "            if numString[digit] == '9':\n",
    "#                 print('9')\n",
    "                if digit == 0:\n",
    "#                     print('ix')\n",
    "                    s+='XI'\n",
    "                elif digit == 1:\n",
    "                    s+='CX'\n",
    "                elif digit == 2:\n",
    "                    s+='MC'\n",
    "                else:\n",
    "                    s+=''\n",
    "            elif numString[digit] == '8':\n",
    "                if digit == 0:\n",
    "                    s+='IIIV'\n",
    "                elif digit == 1:\n",
    "                    s+='XXXL'\n",
    "                elif digit == 2:\n",
    "                    s+='CCCD'\n",
    "                else:\n",
    "                    s+=''\n",
    "            elif numString[digit] == '7':\n",
    "                if digit == 0:\n",
    "                    s+='IIV'\n",
    "                elif digit == 1:\n",
    "                    s+='XXL'\n",
    "                elif digit == 2:\n",
    "                    s+='CCD'\n",
    "                else:\n",
    "                    s+=''\n",
    "            elif numString[digit] == '6':\n",
    "                if digit == 0:\n",
    "                    s+='IV'\n",
    "                elif digit == 1:\n",
    "                    s+='XL'\n",
    "                elif digit == 2:\n",
    "                    s+='CD'\n",
    "                else:\n",
    "                    s+=''\n",
    "            elif numString[digit] == '5':\n",
    "                if digit == 0:\n",
    "                    s+='V'\n",
    "                elif digit == 1:\n",
    "                    s+='L'\n",
    "                elif digit == 2:\n",
    "                    s+='D'\n",
    "                else:\n",
    "                    s+=''\n",
    "            elif numString[digit] == '4':\n",
    "                if digit == 0:\n",
    "                    s+='VI'\n",
    "                elif digit == 1:\n",
    "                    s+='LX'\n",
    "                elif digit == 2:\n",
    "                    s+='DC'\n",
    "                else:\n",
    "                    s+=''\n",
    "            else:\n",
    "                for _ in range(int(numString[digit])):\n",
    "                    if digit == 0:\n",
    "                        s+='I'\n",
    "                    elif digit == 1:\n",
    "                        s+='X'\n",
    "                    elif digit == 2:\n",
    "                        s+='C'\n",
    "                    else:\n",
    "                        s+='M'\n",
    "#             print(digit)\n",
    "            \n",
    "        return s[::-1]"
   ]
  },
  {
   "cell_type": "code",
   "execution_count": 333,
   "metadata": {},
   "outputs": [
    {
     "data": {
      "text/plain": [
       "'DLXXXIX'"
      ]
     },
     "execution_count": 333,
     "metadata": {},
     "output_type": "execute_result"
    }
   ],
   "source": [
    "prob2 = Solution()\n",
    "prob2.intToRoman(589)"
   ]
  },
  {
   "cell_type": "code",
   "execution_count": 269,
   "metadata": {},
   "outputs": [
    {
     "data": {
      "text/plain": [
       "3"
      ]
     },
     "execution_count": 269,
     "metadata": {},
     "output_type": "execute_result"
    }
   ],
   "source": [
    "int(str(3999)[0])"
   ]
  }
 ],
 "metadata": {
  "kernelspec": {
   "display_name": "Python 3",
   "language": "python",
   "name": "python3"
  },
  "language_info": {
   "codemirror_mode": {
    "name": "ipython",
    "version": 3
   },
   "file_extension": ".py",
   "mimetype": "text/x-python",
   "name": "python",
   "nbconvert_exporter": "python",
   "pygments_lexer": "ipython3",
   "version": "3.8.3"
  }
 },
 "nbformat": 4,
 "nbformat_minor": 4
}

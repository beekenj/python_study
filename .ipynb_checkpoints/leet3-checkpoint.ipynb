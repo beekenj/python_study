{
 "cells": [
  {
   "cell_type": "code",
   "execution_count": 79,
   "metadata": {},
   "outputs": [],
   "source": [
    "class Solution(object):\n",
    "    def removeElement(self, nums, val):\n",
    "        \"\"\"\n",
    "        :type nums: List[int]\n",
    "        :type val: int\n",
    "        :rtype: int\n",
    "        \"\"\"\n",
    "        nxt = len(nums)-1\n",
    "        if nxt == 0 and nums[nxt] == val:\n",
    "            return 0\n",
    "        for i in range(len(nums)):\n",
    "        #     print(nums[i])\n",
    "\n",
    "            while nums[i] == val:        \n",
    "                if nxt == i:\n",
    "                    if nums[i] == nums[nxt]:\n",
    "                        return 0\n",
    "                    break\n",
    "                else:\n",
    "                    nums[i] = nums[nxt]\n",
    "                    nxt -= 1\n",
    "        return(i)"
   ]
  },
  {
   "cell_type": "code",
   "execution_count": 76,
   "metadata": {},
   "outputs": [
    {
     "name": "stdout",
     "output_type": "stream",
     "text": [
      "5\n"
     ]
    },
    {
     "data": {
      "text/plain": [
       "[0, 1, 4, 0, 3, 0, 4, 2]"
      ]
     },
     "execution_count": 76,
     "metadata": {},
     "output_type": "execute_result"
    }
   ],
   "source": [
    "nums = [0,1,2,2,3,0,4,2]\n",
    "val = 2\n",
    "nxt = len(nums)-1\n",
    "for i in range(len(nums)-1):\n",
    "#     print(nums[i])\n",
    "    \n",
    "    while nums[i] == val:        \n",
    "        if nxt == i:\n",
    "            break\n",
    "        else:\n",
    "            nums[i] = nums[nxt]\n",
    "            nxt -= 1\n",
    "#             print(nums[i])\n",
    "print(i-1)\n",
    "nums"
   ]
  },
  {
   "cell_type": "code",
   "execution_count": 80,
   "metadata": {},
   "outputs": [
    {
     "name": "stdout",
     "output_type": "stream",
     "text": [
      "7\n",
      "[0, 1, 4, 0, 3, 0, 4, 3]\n"
     ]
    }
   ],
   "source": [
    "prob1 = Solution()\n",
    "nums = [0,1,2,2,3,0,4,2]\n",
    "val = 2\n",
    "print(prob1.removeElement(nums,val))\n",
    "print(nums)"
   ]
  },
  {
   "cell_type": "code",
   "execution_count": 81,
   "metadata": {},
   "outputs": [
    {
     "name": "stdout",
     "output_type": "stream",
     "text": [
      "1\n",
      "[5, 5]\n"
     ]
    }
   ],
   "source": [
    "nums = [4,5]\n",
    "val = 4\n",
    "print(prob1.removeElement(nums,val))\n",
    "print(nums)"
   ]
  },
  {
   "cell_type": "code",
   "execution_count": 96,
   "metadata": {},
   "outputs": [
    {
     "name": "stdout",
     "output_type": "stream",
     "text": [
      "1\n"
     ]
    },
    {
     "data": {
      "text/plain": [
       "[3, 3]"
      ]
     },
     "execution_count": 96,
     "metadata": {},
     "output_type": "execute_result"
    }
   ],
   "source": [
    "nums = [2,3]\n",
    "val = 2\n",
    "j = len(nums)-1\n",
    "i = 0\n",
    "while i <= j:\n",
    "    while (nums[i] == val) and (i <= j):\n",
    "        if nums[j] != val:\n",
    "            nums[i] = nums[j]\n",
    "        j -= 1\n",
    "    if nums[i] != val:\n",
    "        i += 1\n",
    "print(i)\n",
    "nums"
   ]
  },
  {
   "cell_type": "code",
   "execution_count": 107,
   "metadata": {},
   "outputs": [
    {
     "name": "stdout",
     "output_type": "stream",
     "text": [
      "2\n",
      "-1\n"
     ]
    }
   ],
   "source": [
    "haystack = \"hello\"\n",
    "needle = \"ll\"\n",
    "\n",
    "for i in range(len(haystack)-len(needle)+1):\n",
    "    if haystack[i:i+len(needle)] == needle:\n",
    "        print(i)"
   ]
  },
  {
   "cell_type": "code",
   "execution_count": 108,
   "metadata": {},
   "outputs": [],
   "source": [
    "class Solution(object):\n",
    "    def strStr(self, haystack, needle):\n",
    "        \"\"\"\n",
    "        :type haystack: str\n",
    "        :type needle: str\n",
    "        :rtype: int\n",
    "        \"\"\"\n",
    "        if len(haystack) == 0:\n",
    "            return 0\n",
    "        for i in range(len(haystack)-len(needle)+1):\n",
    "            if haystack[i:i+len(needle)] == needle:\n",
    "                return i\n",
    "        return -1"
   ]
  },
  {
   "cell_type": "code",
   "execution_count": 115,
   "metadata": {},
   "outputs": [
    {
     "data": {
      "text/plain": [
       "-1"
      ]
     },
     "execution_count": 115,
     "metadata": {},
     "output_type": "execute_result"
    }
   ],
   "source": [
    "prob2 = Solution()\n",
    "haystack = \"hello\"\n",
    "needle = \"elo\"\n",
    "prob2.strStr(haystack, needle)"
   ]
  },
  {
   "cell_type": "code",
   "execution_count": 165,
   "metadata": {},
   "outputs": [],
   "source": [
    "nums = [5,6,7,8]\n",
    "target = 5"
   ]
  },
  {
   "cell_type": "code",
   "execution_count": 166,
   "metadata": {},
   "outputs": [
    {
     "name": "stdout",
     "output_type": "stream",
     "text": [
      "[5, 6]\n",
      "[7, 8]\n"
     ]
    }
   ],
   "source": [
    "pivot = len(nums)//2\n",
    "print(nums[0:pivot])\n",
    "print(nums[pivot:])"
   ]
  },
  {
   "cell_type": "code",
   "execution_count": 167,
   "metadata": {},
   "outputs": [
    {
     "name": "stdout",
     "output_type": "stream",
     "text": [
      "[5]\n",
      "[6, 7, 8]\n"
     ]
    }
   ],
   "source": [
    "p2 = len(nums[0:pivot])//2\n",
    "print(nums[0:p2])\n",
    "print(nums[p2:])"
   ]
  },
  {
   "cell_type": "code",
   "execution_count": 197,
   "metadata": {},
   "outputs": [],
   "source": [
    "def searchInsert(nums, target):\n",
    "    pivot = len(nums)//2\n",
    "    #base\n",
    "    if pivot == 0:\n",
    "        return 1\n",
    "    elif target == nums[pivot]:\n",
    "        return pivot\n",
    "    #lower branch\n",
    "    elif target < nums[pivot]:\n",
    "        return searchInsert(nums[0:pivot],target)\n",
    "    #upper branch\n",
    "    else:\n",
    "        return pivot + searchInsert(nums[pivot:],target)"
   ]
  },
  {
   "cell_type": "code",
   "execution_count": 202,
   "metadata": {},
   "outputs": [
    {
     "data": {
      "text/plain": [
       "4"
      ]
     },
     "execution_count": 202,
     "metadata": {},
     "output_type": "execute_result"
    }
   ],
   "source": [
    "nums = [1,2,3,6,8]\n",
    "target = 7\n",
    "searchInsert(nums, target)"
   ]
  },
  {
   "cell_type": "code",
   "execution_count": 223,
   "metadata": {},
   "outputs": [],
   "source": [
    "class Solution(object):\n",
    "    def searchInsert(self, nums, target):\n",
    "        \"\"\"\n",
    "        :type nums: List[int]\n",
    "        :type target: int\n",
    "        :rtype: int\n",
    "        \"\"\"\n",
    "        pivot = len(nums)//2\n",
    "        #base\n",
    "        if pivot == 0:\n",
    "            if target <= nums[pivot]:\n",
    "                return 0\n",
    "            else:\n",
    "                return 1\n",
    "        #target found\n",
    "#         elif target == nums[pivot]:\n",
    "#             return pivot\n",
    "        #lower branch\n",
    "        elif target < nums[pivot]:\n",
    "            return self.searchInsert(nums[0:pivot],target)\n",
    "        #upper branch\n",
    "        else:\n",
    "            return pivot + self.searchInsert(nums[pivot:],target)"
   ]
  },
  {
   "cell_type": "code",
   "execution_count": 226,
   "metadata": {},
   "outputs": [
    {
     "data": {
      "text/plain": [
       "3"
      ]
     },
     "execution_count": 226,
     "metadata": {},
     "output_type": "execute_result"
    }
   ],
   "source": [
    "nums = [1,2,3,7,8]\n",
    "target = 7\n",
    "prob3 = Solution()\n",
    "prob3.searchInsert(nums, target)"
   ]
  },
  {
   "cell_type": "code",
   "execution_count": 233,
   "metadata": {},
   "outputs": [],
   "source": [
    "s = \"   fly me   to   the moon  \"\n",
    "count = 0\n",
    "# for i in range(len(s)-1, 0, -1):\n",
    "# #     print(s[i])\n",
    "#     if s[i] != ' ':\n",
    "#         print(s[i])"
   ]
  },
  {
   "cell_type": "code",
   "execution_count": 241,
   "metadata": {},
   "outputs": [
    {
     "data": {
      "text/plain": [
       "5"
      ]
     },
     "execution_count": 241,
     "metadata": {},
     "output_type": "execute_result"
    }
   ],
   "source": [
    "s = \"Hello World\"\n",
    "i = len(s)-1\n",
    "count = 0\n",
    "while s[i] == ' ':\n",
    "#     print(i)\n",
    "    i -= 1\n",
    "while s[i] != ' ':\n",
    "    count += 1\n",
    "    i -= 1\n",
    "count"
   ]
  },
  {
   "cell_type": "code",
   "execution_count": 249,
   "metadata": {},
   "outputs": [],
   "source": [
    "class Solution(object):\n",
    "    def lengthOfLastWord(self, s):\n",
    "        \"\"\"\n",
    "        :type s: str\n",
    "        :rtype: int\n",
    "        \"\"\"\n",
    "        i = len(s)-1\n",
    "        count = 0\n",
    "        # skip trailing white space\n",
    "        while s[i] == ' ':\n",
    "            i -= 1\n",
    "        # count letters until next white space or start of string\n",
    "        while s[i] != ' ' and i >= 0:\n",
    "            count += 1\n",
    "            i -= 1\n",
    "        return count"
   ]
  },
  {
   "cell_type": "code",
   "execution_count": 254,
   "metadata": {},
   "outputs": [
    {
     "data": {
      "text/plain": [
       "1"
      ]
     },
     "execution_count": 254,
     "metadata": {},
     "output_type": "execute_result"
    }
   ],
   "source": [
    "prob4 = Solution()\n",
    "s = \"n \"\n",
    "prob4.lengthOfLastWord(s)"
   ]
  },
  {
   "cell_type": "code",
   "execution_count": 269,
   "metadata": {},
   "outputs": [
    {
     "data": {
      "text/plain": [
       "3"
      ]
     },
     "execution_count": 269,
     "metadata": {},
     "output_type": "execute_result"
    }
   ],
   "source": [
    "digits = [1,2,3]\n",
    "# for i in range(1, len(digits)-1, 1):\n",
    "#     print(digits[-i:])\n",
    "digits[-1]"
   ]
  },
  {
   "cell_type": "code",
   "execution_count": 300,
   "metadata": {},
   "outputs": [
    {
     "data": {
      "text/plain": [
       "[1, 0, 0, 0, 0]"
      ]
     },
     "execution_count": 300,
     "metadata": {},
     "output_type": "execute_result"
    }
   ],
   "source": [
    "digits = [9,9,9,9]\n",
    "for i in range(1,len(digits)+1, 1):\n",
    "    # increment last element\n",
    "    digits[-i] += 1\n",
    "    if digits[-i] < 10:\n",
    "        break\n",
    "    # carry the 1\n",
    "    else:\n",
    "        digits[-i] -= 10\n",
    "        if i == len(digits):\n",
    "            digits = [1] + digits\n",
    "digits"
   ]
  },
  {
   "cell_type": "code",
   "execution_count": 314,
   "metadata": {},
   "outputs": [
    {
     "name": "stdout",
     "output_type": "stream",
     "text": [
      "0\n",
      "1\n",
      "1\n",
      "0\n",
      "1\n"
     ]
    }
   ],
   "source": [
    "a = '11'\n",
    "b = '10110'\n",
    "c = '0'\n",
    "n = max(len(a),len(b))\n",
    "for i in range(1,n+1, 1):\n",
    "    print(max(a,b, key=len)[-i])\n",
    "    "
   ]
  },
  {
   "cell_type": "code",
   "execution_count": 311,
   "metadata": {},
   "outputs": [
    {
     "data": {
      "text/plain": [
       "'1111'"
      ]
     },
     "execution_count": 311,
     "metadata": {},
     "output_type": "execute_result"
    }
   ],
   "source": [
    "max(a,b, key=len)"
   ]
  },
  {
   "cell_type": "code",
   "execution_count": 318,
   "metadata": {},
   "outputs": [
    {
     "data": {
      "text/plain": [
       "1"
      ]
     },
     "execution_count": 318,
     "metadata": {},
     "output_type": "execute_result"
    }
   ],
   "source": [
    "ttl = 0\n",
    "a1 = '0'\n",
    "b1 = '0'\n",
    "c1 = '1'\n",
    "if a1 == '1': \n",
    "    ttl += 1\n",
    "if b1 == '1':\n",
    "    ttl += 1\n",
    "if c1 == '1':\n",
    "    ttl += 1\n",
    "ttl"
   ]
  }
 ],
 "metadata": {
  "kernelspec": {
   "display_name": "Python 3",
   "language": "python",
   "name": "python3"
  },
  "language_info": {
   "codemirror_mode": {
    "name": "ipython",
    "version": 3
   },
   "file_extension": ".py",
   "mimetype": "text/x-python",
   "name": "python",
   "nbconvert_exporter": "python",
   "pygments_lexer": "ipython3",
   "version": "3.8.3"
  }
 },
 "nbformat": 4,
 "nbformat_minor": 4
}

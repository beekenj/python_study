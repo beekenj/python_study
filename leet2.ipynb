{
 "cells": [
  {
   "cell_type": "code",
   "execution_count": 25,
   "metadata": {},
   "outputs": [
    {
     "data": {
      "text/plain": [
       "True"
      ]
     },
     "execution_count": 25,
     "metadata": {},
     "output_type": "execute_result"
    }
   ],
   "source": [
    "n = 51015\n",
    "\n",
    "num = x\n",
    "rev = 0\n",
    "while num > 0:\n",
    "    rev = rev*10 + num%10\n",
    "    num = num//10\n",
    "rev\n",
    "rev == x\n",
    "# rev"
   ]
  },
  {
   "cell_type": "code",
   "execution_count": 98,
   "metadata": {},
   "outputs": [
    {
     "name": "stdout",
     "output_type": "stream",
     "text": [
      "flower\n",
      "f\n",
      "- f\n",
      "- f\n",
      "fl\n",
      "- fl\n",
      "- fl\n",
      "flo\n",
      "- flo\n",
      "- fli\n",
      "flow\n",
      "- flow\n",
      "- flig\n",
      "flowe\n",
      "- flow\n",
      "flower\n",
      "- flow\n",
      "flow\n",
      "f\n",
      "- f\n",
      "fl\n",
      "- fl\n",
      "flo\n",
      "- fli\n",
      "flow\n",
      "- flig\n"
     ]
    }
   ],
   "source": [
    "strs = [\"flower\",\"flow\",\"flight\"]\n",
    "prfx = ''\n",
    "\n",
    "for i in range(len(strs)-1):\n",
    "    print(strs[i])\n",
    "    for j in range(len(strs[i])):\n",
    "        print(strs[i][:j+1])\n",
    "        for k in range(i+1, len(strs)):\n",
    "            print('-', strs[k][:j+1])\n",
    "#             print(strs[i][:j+1] != strs[k][:j+1])\n",
    "            if strs[i][:j+1] != strs[k][:j+1]:\n",
    "                break"
   ]
  },
  {
   "cell_type": "code",
   "execution_count": 84,
   "metadata": {},
   "outputs": [
    {
     "data": {
      "text/plain": [
       "range(1, 10)"
      ]
     },
     "execution_count": 84,
     "metadata": {},
     "output_type": "execute_result"
    }
   ],
   "source": [
    "range(1, 10)"
   ]
  },
  {
   "cell_type": "code",
   "execution_count": 129,
   "metadata": {},
   "outputs": [],
   "source": [
    "def longestCommonPrefix(strs):\n",
    "        \"\"\"\n",
    "        :type strs: List[str]\n",
    "        :rtype: str\n",
    "        \"\"\"\n",
    "        prfx = ''        \n",
    "\n",
    "        for i in strs:\n",
    "            if i == '':\n",
    "                return ''\n",
    "            for j in range(len(i)+1): \n",
    "                print(prfx)\n",
    "#                 check = i[:j]\n",
    "                for k in strs:\n",
    "                    if i[:j+1] == k[:j+1]:\n",
    "                        prfx = i[:j]\n",
    "                    else:\n",
    "#                         print('br')\n",
    "#                         break\n",
    "#                         print(prfx)\n",
    "                        return prfx\n",
    "        return prfx"
   ]
  },
  {
   "cell_type": "code",
   "execution_count": 130,
   "metadata": {},
   "outputs": [
    {
     "name": "stdout",
     "output_type": "stream",
     "text": [
      "\n",
      "\n",
      "f\n",
      "fl\n",
      "flo\n",
      "flow\n",
      "flowe\n",
      "flower\n",
      "\n",
      "f\n",
      "fl\n",
      "flo\n",
      "flow\n",
      "flowe\n",
      "flower\n",
      "\n",
      "f\n",
      "fl\n",
      "flo\n",
      "flow\n",
      "flowe\n",
      "flower\n",
      "\n",
      "f\n",
      "fl\n",
      "flo\n",
      "flow\n",
      "flowe\n"
     ]
    },
    {
     "data": {
      "text/plain": [
       "'flower'"
      ]
     },
     "execution_count": 130,
     "metadata": {},
     "output_type": "execute_result"
    }
   ],
   "source": [
    "strs = [\"flower\",\"flower\",\"flower\",\"flower\"]\n",
    "longestCommonPrefix(strs)"
   ]
  },
  {
   "cell_type": "code",
   "execution_count": 176,
   "metadata": {},
   "outputs": [],
   "source": [
    "def isValid(s):\n",
    "        \"\"\"\n",
    "        :type s: str\n",
    "        :rtype: bool\n",
    "        \"\"\"\n",
    "        stack = list()\n",
    "        mapping = {')':'(', ']':'[', '}':'{'}\n",
    "        for i in s:\n",
    "            if len(stack) >= 1 and \\\n",
    "            i not in mapping.values() and \\\n",
    "            stack[-1] == mapping[i]:\n",
    "                stack.pop()\n",
    "            else:\n",
    "                stack.append(i)\n",
    "        if len(stack) == 0:\n",
    "            return True\n",
    "        else:\n",
    "            return False"
   ]
  },
  {
   "cell_type": "code",
   "execution_count": 180,
   "metadata": {},
   "outputs": [
    {
     "data": {
      "text/plain": [
       "False"
      ]
     },
     "execution_count": 180,
     "metadata": {},
     "output_type": "execute_result"
    }
   ],
   "source": [
    "isValid('(]')"
   ]
  },
  {
   "cell_type": "code",
   "execution_count": 145,
   "metadata": {},
   "outputs": [
    {
     "data": {
      "text/plain": [
       "3"
      ]
     },
     "execution_count": 145,
     "metadata": {},
     "output_type": "execute_result"
    }
   ],
   "source": [
    "lst = [1,2,3]\n",
    "lst.pop()"
   ]
  },
  {
   "cell_type": "code",
   "execution_count": 213,
   "metadata": {},
   "outputs": [],
   "source": [
    "nums = [0,0,1,1,1,2,2,3,3,4]"
   ]
  },
  {
   "cell_type": "code",
   "execution_count": 182,
   "metadata": {},
   "outputs": [],
   "source": [
    "class Solution(object):\n",
    "    def removeDuplicates(self, nums):\n",
    "        \"\"\"\n",
    "        :type nums: List[int]\n",
    "        :rtype: int\n",
    "        \"\"\"\n",
    "        pass"
   ]
  },
  {
   "cell_type": "code",
   "execution_count": 319,
   "metadata": {},
   "outputs": [],
   "source": [
    "# nums = [0,0,1,1,1,2,2,3,3,4]\n",
    "def removeDuplicates(nums):\n",
    "    k=0\n",
    "    for i in range(len(nums)-2):\n",
    "#         print(i)\n",
    "        for j in range(i+1, len(nums)-1):\n",
    "#             print(j)\n",
    "            if nums[i] == nums[j] and nums[j] != -1:\n",
    "#                 print(nums[i], nums[j])\n",
    "                nums[i:] = nums[j:]\n",
    "                nums.append(-1)\n",
    "#             else:\n",
    "#                 break\n",
    "        print(nums)\n",
    "    print(len(nums))"
   ]
  },
  {
   "cell_type": "code",
   "execution_count": 320,
   "metadata": {},
   "outputs": [
    {
     "name": "stdout",
     "output_type": "stream",
     "text": [
      "[0, 1, 1, 1, 2, 2, 3, 3, 4, -1]\n",
      "[0, 1, 1, 2, 2, 3, 3, 4, -1, -1]\n",
      "[0, 1, 1, 2, 2, 3, 3, 4, -1, -1]\n",
      "[0, 1, 1, 2, 3, 3, 4, -1, -1, -1]\n",
      "[0, 1, 1, 2, 3, 4, -1, -1, -1, -1]\n",
      "[0, 1, 1, 2, 3, 4, -1, -1, -1, -1]\n",
      "[0, 1, 1, 2, 3, 4, -1, -1, -1, -1]\n",
      "[0, 1, 1, 2, 3, 4, -1, -1, -1, -1]\n",
      "10\n"
     ]
    }
   ],
   "source": [
    "nums = [0,0,1,1,1,2,2,3,3,4]\n",
    "removeDuplicates(nums)"
   ]
  },
  {
   "cell_type": "code",
   "execution_count": 333,
   "metadata": {},
   "outputs": [],
   "source": [
    "nums = [0,0,1,1,1,2,2,3,3,4]"
   ]
  },
  {
   "cell_type": "code",
   "execution_count": 289,
   "metadata": {},
   "outputs": [
    {
     "data": {
      "text/plain": [
       "[0, 1, 1, 1, 2, 2, 3, 3, 4, -1]"
      ]
     },
     "execution_count": 289,
     "metadata": {},
     "output_type": "execute_result"
    }
   ],
   "source": [
    "nums = [0,0,1,1,1,2,2,3,3,4]\n",
    "nums = nums[1:]\n",
    "nums.append(-1)\n",
    "nums"
   ]
  },
  {
   "cell_type": "code",
   "execution_count": 334,
   "metadata": {},
   "outputs": [
    {
     "data": {
      "text/plain": [
       "10"
      ]
     },
     "execution_count": 334,
     "metadata": {},
     "output_type": "execute_result"
    }
   ],
   "source": [
    "len(nums)"
   ]
  },
  {
   "cell_type": "code",
   "execution_count": 336,
   "metadata": {},
   "outputs": [],
   "source": [
    "# nums = [0,0,1,1,1,2,2,3,3,4]\n",
    "# for i in range(len(nums)-2):\n",
    "#     j = i+1\n",
    "#     while nums[i] == nums[j]:\n",
    "#         print(len(nums[j:]))\n",
    "#         nums[i:] = nums[j:]\n",
    "#         nums.append(-1)\n",
    "#         j += 1\n",
    "#         print(j)\n",
    "# print(nums)"
   ]
  },
  {
   "cell_type": "code",
   "execution_count": 1,
   "metadata": {},
   "outputs": [
    {
     "name": "stdout",
     "output_type": "stream",
     "text": [
      "5\n",
      "[0, 1, 2, 3, 4, 2, 2, 3, 3, 4]\n"
     ]
    }
   ],
   "source": [
    "nums = [0,0,1,1,1,2,2,3,3,4]\n",
    "# k=0\n",
    "def removeDuplicates(nums):\n",
    "    for i in range(len(nums)-1):\n",
    "        j = i+1\n",
    "        while j < len(nums):\n",
    "            if nums[i] >= nums[j]:\n",
    "                j+=1\n",
    "            else:\n",
    "                nums[i+1] = nums[j]\n",
    "                break\n",
    "        if nums[i] == nums[-1]:\n",
    "            return i+1\n",
    "print(removeDuplicates(nums))\n",
    "print(nums)\n"
   ]
  },
  {
   "cell_type": "code",
   "execution_count": 372,
   "metadata": {},
   "outputs": [],
   "source": [
    "nums = [0,0,1,1,1,2,2,3,3,4]\n",
    "expectedNums = [0, 1, 2, 3, 4]\n",
    "k = removeDuplicates(nums); \n",
    "\n",
    "assert k == len(expectedNums);\n",
    "for i in range(k):\n",
    "    assert nums[i] == expectedNums[i];"
   ]
  },
  {
   "cell_type": "code",
   "execution_count": null,
   "metadata": {},
   "outputs": [],
   "source": []
  }
 ],
 "metadata": {
  "kernelspec": {
   "display_name": "Python 3",
   "language": "python",
   "name": "python3"
  },
  "language_info": {
   "codemirror_mode": {
    "name": "ipython",
    "version": 3
   },
   "file_extension": ".py",
   "mimetype": "text/x-python",
   "name": "python",
   "nbconvert_exporter": "python",
   "pygments_lexer": "ipython3",
   "version": "3.8.3"
  }
 },
 "nbformat": 4,
 "nbformat_minor": 4
}

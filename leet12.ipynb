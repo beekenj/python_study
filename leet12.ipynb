{
 "cells": [
  {
   "cell_type": "code",
   "execution_count": 2,
   "metadata": {},
   "outputs": [],
   "source": [
    "# Definition for singly-linked list.\n",
    "class ListNode:\n",
    "    def __init__(self, val=0, next=None):\n",
    "        self.val = val\n",
    "        self.next = next\n",
    "        \n",
    "def arrayToList(arr):\n",
    "    head = node = ListNode()\n",
    "    \n",
    "    for i in range(len(arr)):\n",
    "        node.val = arr[i]\n",
    "        if i < len(arr)-1:\n",
    "            node.next = ListNode()\n",
    "            node = node.next\n",
    "    return head\n",
    "\n",
    "def display(root):\n",
    "    while (root != None) :\n",
    "        print(root.val, end = \" \")\n",
    "        root = root.next"
   ]
  },
  {
   "cell_type": "code",
   "execution_count": 8,
   "metadata": {},
   "outputs": [
    {
     "name": "stdout",
     "output_type": "stream",
     "text": [
      "2 5\n",
      "4 6\n",
      "3 4\n"
     ]
    }
   ],
   "source": []
  },
  {
   "cell_type": "code",
   "execution_count": 60,
   "metadata": {},
   "outputs": [
    {
     "data": {
      "text/plain": [
       "0"
      ]
     },
     "execution_count": 60,
     "metadata": {},
     "output_type": "execute_result"
    }
   ],
   "source": [
    "10%10"
   ]
  },
  {
   "cell_type": "code",
   "execution_count": 83,
   "metadata": {},
   "outputs": [
    {
     "data": {
      "text/plain": [
       "2"
      ]
     },
     "execution_count": 83,
     "metadata": {},
     "output_type": "execute_result"
    }
   ],
   "source": [
    "1 + True"
   ]
  },
  {
   "cell_type": "code",
   "execution_count": 88,
   "metadata": {},
   "outputs": [],
   "source": [
    "def addTwoNumbers(l1, l2):\n",
    "    head = node = ListNode()\n",
    "    carry = False\n",
    "    while l1 != None or l2 != None:\n",
    "        if l1 != None and l2 != None:\n",
    "            node.val = ((l1.val + l2.val + carry) % 10)\n",
    "            carry = ((l1.val + l2.val + carry) // 10) > 0\n",
    "            l1 = l1.next\n",
    "            l2 = l2.next\n",
    "        elif l1 != None:\n",
    "            node.val = (l1.val + carry) % 10\n",
    "            carry = ((l1.val + carry) // 10) > 0\n",
    "            l1 = l1.next\n",
    "        else: \n",
    "            node.val = (l2.val + carry) % 10\n",
    "            carry = ((l2.val + carry) // 10) > 0\n",
    "            l2 = l2.next\n",
    "        if l1 != None or l2 != None:\n",
    "            node.next = ListNode()\n",
    "            node = node.next\n",
    "        elif carry:\n",
    "            node.next = ListNode()\n",
    "            node.next.val = 1\n",
    "    return head"
   ]
  },
  {
   "cell_type": "code",
   "execution_count": 89,
   "metadata": {},
   "outputs": [
    {
     "name": "stdout",
     "output_type": "stream",
     "text": [
      "7 0 8 "
     ]
    }
   ],
   "source": [
    "l1 = arrayToList([2,4,3])\n",
    "l2 = arrayToList([5,6,4])\n",
    "display(addTwoNumbers(l1, l2))"
   ]
  },
  {
   "cell_type": "code",
   "execution_count": 49,
   "metadata": {},
   "outputs": [],
   "source": [
    "# Definition for a binary tree node.\n",
    "class TreeNode:\n",
    "    def __init__(self, val=0, left=None, right=None):\n",
    "        self.val = val\n",
    "        self.left = left\n",
    "        self.right = right"
   ]
  },
  {
   "cell_type": "code",
   "execution_count": 30,
   "metadata": {},
   "outputs": [
    {
     "data": {
      "text/plain": [
       "[1, 4, 0, 4, 1]"
      ]
     },
     "execution_count": 30,
     "metadata": {},
     "output_type": "execute_result"
    }
   ],
   "source": [
    "f = [1]\n",
    "# s = [f[i]+f[i+1] if i==0 or i == 1 else 1 for i in range(2)]\n",
    "j = 5\n",
    "s = [\n",
    "        1 if i == 0 or i == j-1 \n",
    "        else (\n",
    "            j-1 if i == 1 or i == j-2\n",
    "            else 0\n",
    "        )\n",
    "        for i in range(j)\n",
    "]\n",
    "s"
   ]
  },
  {
   "cell_type": "code",
   "execution_count": 42,
   "metadata": {},
   "outputs": [
    {
     "data": {
      "text/plain": [
       "[[1], [1, 1], [1, 2, 1], [1, 3, 3, 1], [1, 4, 6, 4, 1]]"
      ]
     },
     "execution_count": 42,
     "metadata": {},
     "output_type": "execute_result"
    }
   ],
   "source": [
    "from math import comb\n",
    "n = 5\n",
    "[[comb(j,i) for i in range(j+1)] for j in range(n)]"
   ]
  },
  {
   "cell_type": "code",
   "execution_count": 48,
   "metadata": {},
   "outputs": [
    {
     "data": {
      "text/plain": [
       "[1, 1]"
      ]
     },
     "execution_count": 48,
     "metadata": {},
     "output_type": "execute_result"
    }
   ],
   "source": [
    "n = 1\n",
    "[comb(n,i) for i in range(n+1)]"
   ]
  },
  {
   "cell_type": "code",
   "execution_count": 37,
   "metadata": {},
   "outputs": [
    {
     "data": {
      "text/plain": [
       "1"
      ]
     },
     "execution_count": 37,
     "metadata": {},
     "output_type": "execute_result"
    }
   ],
   "source": [
    "comb(2,2)"
   ]
  },
  {
   "cell_type": "code",
   "execution_count": 55,
   "metadata": {},
   "outputs": [],
   "source": [
    "class Solution:\n",
    "    def postorderTraversal(self, root) -> list:\n",
    "        lst = []\n",
    "        if not root:\n",
    "            return []\n",
    "        else:\n",
    "            lst.extend(self.postorderTraversal(root.left))\n",
    "            lst.extend(self.postorderTraversal(root.right))\n",
    "            lst.extend([root.val])\n",
    "        return lst"
   ]
  },
  {
   "cell_type": "code",
   "execution_count": 59,
   "metadata": {},
   "outputs": [
    {
     "data": {
      "text/plain": [
       "['D', 'E', 'B', 'C', 'A']"
      ]
     },
     "execution_count": 59,
     "metadata": {},
     "output_type": "execute_result"
    }
   ],
   "source": [
    "root = TreeNode(\"A\")\n",
    "root.right = TreeNode(\"C\")\n",
    "root.left = TreeNode(\"B\")\n",
    "root.left.left = TreeNode(\"D\")\n",
    "root.left.right = TreeNode(\"E\")\n",
    "sol = Solution()\n",
    "sol.postorderTraversal(root)"
   ]
  },
  {
   "cell_type": "code",
   "execution_count": 60,
   "metadata": {},
   "outputs": [
    {
     "data": {
      "text/plain": [
       "'d'"
      ]
     },
     "execution_count": 60,
     "metadata": {},
     "output_type": "execute_result"
    }
   ],
   "source": [
    "s = \"babad\"\n",
    "for letter in s:"
   ]
  }
 ],
 "metadata": {
  "kernelspec": {
   "display_name": "Python 3",
   "language": "python",
   "name": "python3"
  },
  "language_info": {
   "codemirror_mode": {
    "name": "ipython",
    "version": 3
   },
   "file_extension": ".py",
   "mimetype": "text/x-python",
   "name": "python",
   "nbconvert_exporter": "python",
   "pygments_lexer": "ipython3",
   "version": "3.8.3"
  }
 },
 "nbformat": 4,
 "nbformat_minor": 4
}

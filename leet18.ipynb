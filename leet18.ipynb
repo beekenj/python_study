{
 "cells": [
  {
   "cell_type": "code",
   "execution_count": 69,
   "metadata": {},
   "outputs": [],
   "source": [
    "class Solution:\n",
    "    def permute(self, nums, res, perms):\n",
    "        if len(res) == len(nums):\n",
    "            perms.append(res)\n",
    "        for i in range(len(nums)):\n",
    "            pass"
   ]
  },
  {
   "cell_type": "code",
   "execution_count": 2,
   "metadata": {},
   "outputs": [
    {
     "data": {
      "text/plain": [
       "[1, 2, 3, 4, 5, 6, 7, 8]"
      ]
     },
     "execution_count": 2,
     "metadata": {},
     "output_type": "execute_result"
    }
   ],
   "source": [
    "arr = [2, 8, 1, 3, 6, 7, 5, 4]\n",
    "# arr = [4,2,1,3]\n",
    "\n",
    "def merge_sort(arr):\n",
    "    def merge(left, right, arr):\n",
    "        i = j = k = 0\n",
    "        while i < len(left) and j < len(right):\n",
    "            if left[i] <= right[j]:\n",
    "                arr[k] = left[i]\n",
    "                i += 1\n",
    "                k += 1\n",
    "            else:\n",
    "                arr[k] = right[j]\n",
    "                j += 1\n",
    "                k += 1\n",
    "\n",
    "        arr[k:] = left[i:] if i < len(left) else right[j:]\n",
    "\n",
    "        return arr\n",
    "    \n",
    "    if len(arr) == 1:\n",
    "        return arr   \n",
    "    return merge(merge_sort(arr[:len(arr)>>1]), merge_sort(arr[len(arr)>>1:]), arr)\n",
    "\n",
    "merge_sort(arr)"
   ]
  },
  {
   "cell_type": "code",
   "execution_count": null,
   "metadata": {},
   "outputs": [],
   "source": [
    "# 3090. Maximum Length Substring With Two Occurrences\n",
    "\n",
    "class Solution:\n",
    "    def maximumLengthSubstring(self, s: str) -> int:\n",
    "        n, res = len(s), 0\n",
    "        for i in range(n):\n",
    "            for j in range(i+1, n+1):\n",
    "                tab = {}\n",
    "                for l in s[i:j]:\n",
    "                    tab[l] = 1 if l not in tab else tab[l] + 1\n",
    "                if max(tab.values()) <= 2:\n",
    "                    res = max(res, len(s[i:j]))\n",
    "\n",
    "        return res"
   ]
  },
  {
   "cell_type": "code",
   "execution_count": null,
   "metadata": {},
   "outputs": [],
   "source": [
    "# 2481. Minimum Cuts to Divide a Circle\n",
    "\n",
    "class Solution:\n",
    "    def numberOfCuts(self, n: int) -> int:\n",
    "        if n == 1:\n",
    "            return 0\n",
    "        return n>>1 if n%2 == 0 else n"
   ]
  },
  {
   "cell_type": "code",
   "execution_count": null,
   "metadata": {},
   "outputs": [],
   "source": [
    "# 1752. Check if Array Is Sorted and Rotated\n",
    "\n",
    "class Solution:\n",
    "    def check(self, nums: List[int]) -> bool:\n",
    "        def argmin(nums):\n",
    "            mn, idx = 2**10, 0\n",
    "            for i in range(len(nums)):\n",
    "                if nums[i] < mn:\n",
    "                    mn = nums[i]\n",
    "                    idx = i\n",
    "            return idx\n",
    "\n",
    "        def argmax(nums):\n",
    "            mx = idx = 0\n",
    "            for i in range(len(nums)):\n",
    "                if nums[i] > mx:\n",
    "                    mx = nums[i]\n",
    "                    idx = i\n",
    "            return idx\n",
    "\n",
    "        def is_sorted(nums):\n",
    "            for i in range(1, len(nums)):\n",
    "                if nums[i-1] > nums[i]:\n",
    "                    return False\n",
    "            return True\n",
    "\n",
    "        res = is_sorted(nums[argmin(nums):] + nums[:argmin(nums)])\n",
    "        res = res or is_sorted(nums[argmax(nums)+1:] + nums[:argmax(nums)+1])\n",
    "\n",
    "        return res"
   ]
  },
  {
   "cell_type": "code",
   "execution_count": 71,
   "metadata": {},
   "outputs": [
    {
     "data": {
      "text/plain": [
       "[1, 2, 3, 4, 5, 6, 7, 8]"
      ]
     },
     "execution_count": 71,
     "metadata": {},
     "output_type": "execute_result"
    }
   ],
   "source": [
    "arr = [2, 8, 1, 3, 6, 7, 5, 4]\n",
    "\n",
    "def quicksort(arr):\n",
    "    def partition(arr):\n",
    "        pivot = len(arr)-1\n",
    "        i = 0\n",
    "        store_idx = -1\n",
    "        while i < len(arr):\n",
    "            if arr[i] > arr[pivot] and store_idx < 0:\n",
    "                store_idx = i\n",
    "            elif arr[i] <= arr[pivot] and store_idx >= 0:\n",
    "                arr[store_idx], arr[i] = arr[i], arr[store_idx]\n",
    "                store_idx += 1\n",
    "            i += 1\n",
    "        return store_idx\n",
    "\n",
    "    if len(arr) == 1:\n",
    "        return arr\n",
    "    \n",
    "    store_idx = partition(arr)\n",
    "    \n",
    "    return quicksort(arr[:store_idx]) + quicksort(arr[store_idx:])\n",
    "\n",
    "quicksort(arr)"
   ]
  },
  {
   "cell_type": "code",
   "execution_count": 72,
   "metadata": {},
   "outputs": [
    {
     "data": {
      "text/plain": [
       "'dlroW olleH'"
      ]
     },
     "execution_count": 72,
     "metadata": {},
     "output_type": "execute_result"
    }
   ],
   "source": [
    "\"Hello World\"[::-1]"
   ]
  },
  {
   "cell_type": "code",
   "execution_count": 73,
   "metadata": {},
   "outputs": [
    {
     "data": {
      "text/plain": [
       "collections.deque"
      ]
     },
     "execution_count": 73,
     "metadata": {},
     "output_type": "execute_result"
    }
   ],
   "source": [
    "from collections import deque\n",
    "lst = [1,2,3]\n",
    "q = deque(lst)\n",
    "type(q)"
   ]
  },
  {
   "cell_type": "code",
   "execution_count": null,
   "metadata": {},
   "outputs": [],
   "source": []
  },
  {
   "cell_type": "code",
   "execution_count": 74,
   "metadata": {},
   "outputs": [],
   "source": [
    "# Definition for a binary tree node.\n",
    "class TreeNode(object):\n",
    "    def __init__(self, val=0, left=None, right=None):\n",
    "        self.val = val\n",
    "        self.left = left\n",
    "        self.right = right"
   ]
  },
  {
   "cell_type": "code",
   "execution_count": 75,
   "metadata": {},
   "outputs": [
    {
     "data": {
      "text/plain": [
       "[1, 2, 3, 1, 2, 3, 3, 5, 6]"
      ]
     },
     "execution_count": 75,
     "metadata": {},
     "output_type": "execute_result"
    }
   ],
   "source": [
    "lst = [1,2,3]\n",
    "lst = lst + [1,2,3] + [3,5,6]\n",
    "lst"
   ]
  },
  {
   "cell_type": "code",
   "execution_count": 76,
   "metadata": {},
   "outputs": [],
   "source": [
    "root = TreeNode(1)\n",
    "root.left = TreeNode(2)\n",
    "root.left.right = TreeNode(5)\n",
    "root.right = TreeNode(3)"
   ]
  },
  {
   "cell_type": "code",
   "execution_count": 77,
   "metadata": {},
   "outputs": [
    {
     "data": {
      "text/plain": [
       "['1->3', '1->2->5']"
      ]
     },
     "execution_count": 77,
     "metadata": {},
     "output_type": "execute_result"
    }
   ],
   "source": [
    "class Solution:\n",
    "    def binaryTreePaths(self, root, path=\"\"):\n",
    "        lst = []\n",
    "        if not root:\n",
    "            return lst\n",
    "        # Leaf node\n",
    "        if not root.right and not root.left:\n",
    "            # print(\"this\")\n",
    "            path += str(root.val)\n",
    "            lst.append(path)\n",
    "            return lst\n",
    "        else:\n",
    "            path += str(root.val) + \"->\"\n",
    "            lst.extend(self.binaryTreePaths(root.right, path))\n",
    "            lst.extend(self.binaryTreePaths(root.left, path))\n",
    "            return lst\n",
    "\n",
    "sol = Solution()\n",
    "sol.binaryTreePaths(root)"
   ]
  },
  {
   "cell_type": "code",
   "execution_count": 78,
   "metadata": {},
   "outputs": [
    {
     "data": {
      "text/plain": [
       "6.48074069840786"
      ]
     },
     "execution_count": 78,
     "metadata": {},
     "output_type": "execute_result"
    }
   ],
   "source": [
    "from math import sqrt\n",
    "sqrt(42)"
   ]
  },
  {
   "cell_type": "code",
   "execution_count": 79,
   "metadata": {},
   "outputs": [
    {
     "name": "stdout",
     "output_type": "stream",
     "text": [
      "7\n"
     ]
    },
    {
     "data": {
      "text/plain": [
       "False"
      ]
     },
     "execution_count": 79,
     "metadata": {},
     "output_type": "execute_result"
    }
   ],
   "source": [
    "class Solution:\n",
    "    def isPerfectSquare(self, num: int) -> bool:\n",
    "        if num == 1:\n",
    "            return True\n",
    "        divisor = num // 2\n",
    "        high = num\n",
    "        low = 1\n",
    "        while True:\n",
    "            if divisor == 0 or divisor == num:\n",
    "                return False\n",
    "            elif num / divisor == divisor:\n",
    "                return True\n",
    "            elif num // divisor < divisor:\n",
    "                # go smaller\n",
    "                high = divisor\n",
    "                divisor = (high-low) // 2\n",
    "            else:\n",
    "                # go bigger\n",
    "                low = divisor\n",
    "                divisor = (((high-low) // 2) and 1) + low\n",
    "                print(high)\n",
    "\n",
    "sol = Solution()\n",
    "sol.isPerfectSquare(14)"
   ]
  },
  {
   "cell_type": "code",
   "execution_count": 80,
   "metadata": {},
   "outputs": [
    {
     "data": {
      "text/plain": [
       "1"
      ]
     },
     "execution_count": 80,
     "metadata": {},
     "output_type": "execute_result"
    }
   ],
   "source": [
    "class Solution:\n",
    "    def arrangeCoins(self, n: int) -> int:\n",
    "        if n == 1:\n",
    "            return 1\n",
    "        coins = n\n",
    "        steps = 0\n",
    "        for i in range(1, n):\n",
    "            coins -= i\n",
    "            if coins < 0:\n",
    "                break\n",
    "            steps += 1\n",
    "        return steps\n",
    "\n",
    "sol = Solution()\n",
    "sol.arrangeCoins(2)"
   ]
  },
  {
   "cell_type": "code",
   "execution_count": 81,
   "metadata": {},
   "outputs": [
    {
     "data": {
      "text/plain": [
       "6.0"
      ]
     },
     "execution_count": 81,
     "metadata": {},
     "output_type": "execute_result"
    }
   ],
   "source": [
    "n = 3\n",
    "n*(n+1)/2"
   ]
  },
  {
   "cell_type": "code",
   "execution_count": 82,
   "metadata": {},
   "outputs": [
    {
     "data": {
      "text/plain": [
       "0"
      ]
     },
     "execution_count": 82,
     "metadata": {},
     "output_type": "execute_result"
    }
   ],
   "source": [
    "class Solution:\n",
    "    def arrangeCoins(self, n: int) -> int:\n",
    "        high = n\n",
    "        low = 1\n",
    "        target = (high - low) // 2\n",
    "        while True:\n",
    "            high = max(target, high)\n",
    "            low = min(target, low)\n",
    "            if high-low == 1:\n",
    "                return target\n",
    "            elif (target*(target+1))/2 == n:\n",
    "                return target\n",
    "            elif (target*(target+1))/2 < n:\n",
    "                low = target\n",
    "            elif (target*(target+1))/2 > n:\n",
    "                high = target\n",
    "            target = ((high - low) // 2) + low\n",
    "\n",
    "sol = Solution()\n",
    "sol.arrangeCoins(1)"
   ]
  },
  {
   "cell_type": "code",
   "execution_count": 83,
   "metadata": {},
   "outputs": [
    {
     "data": {
      "text/plain": [
       "2"
      ]
     },
     "execution_count": 83,
     "metadata": {},
     "output_type": "execute_result"
    }
   ],
   "source": [
    "(8*9)/2\n",
    "(8-6)//2\n",
    "5//2"
   ]
  },
  {
   "cell_type": "code",
   "execution_count": 84,
   "metadata": {},
   "outputs": [
    {
     "data": {
      "text/plain": [
       "28.0"
      ]
     },
     "execution_count": 84,
     "metadata": {},
     "output_type": "execute_result"
    }
   ],
   "source": [
    "n = 7\n",
    "n*(n+1)/2"
   ]
  },
  {
   "cell_type": "code",
   "execution_count": 85,
   "metadata": {},
   "outputs": [
    {
     "data": {
      "text/plain": [
       "-1"
      ]
     },
     "execution_count": 85,
     "metadata": {},
     "output_type": "execute_result"
    }
   ],
   "source": [
    "import heapq\n",
    "\n",
    "# initializing list\n",
    "li = [5, 7, 9, 1, 3]\n",
    " \n",
    "# using heapify to convert list into heap\n",
    "heapq.heapify(li)\n",
    "\n",
    "-heapq.heappop(li)"
   ]
  },
  {
   "cell_type": "code",
   "execution_count": 86,
   "metadata": {},
   "outputs": [
    {
     "name": "stdout",
     "output_type": "stream",
     "text": [
      "9\n"
     ]
    },
    {
     "data": {
      "text/plain": [
       "[-7, -5, -3, -1]"
      ]
     },
     "execution_count": 86,
     "metadata": {},
     "output_type": "execute_result"
    }
   ],
   "source": [
    "li = [5, 7, 9, 1, 3]\n",
    "hp = []\n",
    "\n",
    "for i in li:\n",
    "    heapq.heappush(hp, -i)\n",
    "\n",
    "print(-heapq.heappop(hp)) \n",
    "hp"
   ]
  },
  {
   "cell_type": "code",
   "execution_count": 87,
   "metadata": {},
   "outputs": [
    {
     "data": {
      "text/plain": [
       "[-9, -7, -5, -1, -3]"
      ]
     },
     "execution_count": 87,
     "metadata": {},
     "output_type": "execute_result"
    }
   ],
   "source": [
    "import numpy as np\n",
    "\n",
    "li = list(np.array([5, 7, 9, 1, 3])*-1)\n",
    "heapq.heapify(li)\n",
    "\n",
    "li"
   ]
  },
  {
   "cell_type": "code",
   "execution_count": 88,
   "metadata": {},
   "outputs": [
    {
     "name": "stdout",
     "output_type": "stream",
     "text": [
      "10\n"
     ]
    }
   ],
   "source": [
    "# create a max heap\n",
    "heap = [-5, -1, -10]\n",
    "heapq.heapify(heap)\n",
    "\n",
    "# get the maximum element\n",
    "print(-heapq.heappop(heap)) "
   ]
  },
  {
   "cell_type": "code",
   "execution_count": 89,
   "metadata": {},
   "outputs": [
    {
     "name": "stdout",
     "output_type": "stream",
     "text": [
      "through\n"
     ]
    },
    {
     "data": {
      "text/plain": [
       "1"
      ]
     },
     "execution_count": 89,
     "metadata": {},
     "output_type": "execute_result"
    }
   ],
   "source": [
    "import heapq\n",
    "\n",
    "class Solution:\n",
    "    def findContentChildren(self, g, s) -> int:\n",
    "        if len(s) == 0:\n",
    "            return 0\n",
    "        g_heap = []\n",
    "        s_heap = []\n",
    "        count = 0\n",
    "        for i in g:\n",
    "            heapq.heappush(g_heap, -i)\n",
    "        for i in s:\n",
    "            heapq.heappush(s_heap, -i)\n",
    "        while g_heap and s_heap:\n",
    "            print(\"through\")\n",
    "            if -heapq.heappop(g_heap) <= -s_heap[0]:\n",
    "                heapq.heappop(s_heap)\n",
    "                count += 1\n",
    "            \n",
    "            # if (what := -heapq.heappop(s_heap)) > -g_heap[0]:\n",
    "            #     print(what)\n",
    "            #     heapq.heappop(g_heap)\n",
    "            #     count += 1\n",
    "            # print(-g_heap[0])\n",
    "            # heapq.heappop(g_heap)\n",
    "        # print(-heapq.heappop(g_heap))\n",
    "        # print(g_heap)\n",
    "        # print(s_heap)\n",
    "        # for i in range(len(s)):\n",
    "        #     if not heapq.heappop(g_heap) > heapq.heappop(s_heap):\n",
    "        #         return i\n",
    "        return count\n",
    "    \n",
    "sol = Solution()\n",
    "sol.findContentChildren([1,2,3], [3])"
   ]
  },
  {
   "cell_type": "code",
   "execution_count": 90,
   "metadata": {},
   "outputs": [
    {
     "data": {
      "text/plain": [
       "2"
      ]
     },
     "execution_count": 90,
     "metadata": {},
     "output_type": "execute_result"
    }
   ],
   "source": [
    "import math\n",
    "\n",
    "class Solution:\n",
    "    def addDigits(self, num: int) -> int:\n",
    "        while num >= 10:\n",
    "            num = self.sumDigits(num)\n",
    "        return num\n",
    "\n",
    "    def sumDigits(self, num: int) -> int:\n",
    "        if num < 10:\n",
    "            return num\n",
    "        else:\n",
    "            return self.sumDigits(num//10) + num%10\n",
    "\n",
    "sol = Solution()\n",
    "sol.addDigits(38)"
   ]
  },
  {
   "cell_type": "code",
   "execution_count": 91,
   "metadata": {},
   "outputs": [
    {
     "data": {
      "text/plain": [
       "'bacdefg'"
      ]
     },
     "execution_count": 91,
     "metadata": {},
     "output_type": "execute_result"
    }
   ],
   "source": [
    "s = \"abcdefg\"\n",
    "s[0:0+2][::-1] + s[2:]"
   ]
  },
  {
   "cell_type": "code",
   "execution_count": 92,
   "metadata": {},
   "outputs": [
    {
     "data": {
      "text/plain": [
       "'bacdfeg'"
      ]
     },
     "execution_count": 92,
     "metadata": {},
     "output_type": "execute_result"
    }
   ],
   "source": [
    "class Solution:\n",
    "    def reverseStr(self, s: str, k: int) -> str:\n",
    "        ptr = 0\n",
    "        while ptr < len(s):\n",
    "            s = s[:ptr] + s[ptr:ptr+k][::-1] + s[ptr+k:]\n",
    "            ptr += 2*k\n",
    "        return s\n",
    "    \n",
    "sol = Solution()\n",
    "sol.reverseStr(s = \"abcdefg\", k = 2)"
   ]
  },
  {
   "cell_type": "code",
   "execution_count": 93,
   "metadata": {},
   "outputs": [
    {
     "name": "stdout",
     "output_type": "stream",
     "text": [
      "100\n"
     ]
    },
    {
     "data": {
      "text/plain": [
       "'202'"
      ]
     },
     "execution_count": 93,
     "metadata": {},
     "output_type": "execute_result"
    }
   ],
   "source": [
    "class Solution:\n",
    "    def convertToBase7(self, num: int) -> str:\n",
    "        base7 = \"\" if num != 0 else \"0\"\n",
    "        sign = \"\" if num >= 0 else \"-\"\n",
    "        if num < 0:\n",
    "            num = num * -1\n",
    "        print(num)\n",
    "        while num > 0:\n",
    "            base7 = str(num%7) + base7\n",
    "            num = num//7\n",
    "        base7 = sign + base7\n",
    "        return base7\n",
    "\n",
    "sol = Solution()\n",
    "sol.convertToBase7(100)"
   ]
  },
  {
   "cell_type": "code",
   "execution_count": 94,
   "metadata": {},
   "outputs": [
    {
     "data": {
      "text/plain": [
       "True"
      ]
     },
     "execution_count": 94,
     "metadata": {},
     "output_type": "execute_result"
    }
   ],
   "source": [
    "class Solution:\n",
    "    def detectCapitalUse(self, word: str) -> bool:\n",
    "        return word.isupper() or word[1:].islower() or word.islower()\n",
    "    \n",
    "sol = Solution()\n",
    "sol.detectCapitalUse(\"Taa\")"
   ]
  },
  {
   "cell_type": "code",
   "execution_count": 95,
   "metadata": {},
   "outputs": [],
   "source": [
    "class Solution:\n",
    "    def capitalizeTitle(self, title: str) -> str:\n",
    "        lst = title.split()\n",
    "        for i in range(len(lst)):\n",
    "            lst[i] = (lst[i][0].upper() + lst[i][1:].lower()) if len(lst[i]) > 2 else lst[i].lower()\n",
    "        return ' '.join(lst)\n"
   ]
  },
  {
   "cell_type": "code",
   "execution_count": 96,
   "metadata": {},
   "outputs": [],
   "source": [
    "class Solution:\n",
    "    def twoSum(self, nums, target: int):\n",
    "        tab = {}\n",
    "        for i in range(len(nums)):\n",
    "            if target-nums[i] not in tab:\n",
    "                tab[target-nums[i]] = i\n",
    "            elif target-nums[i]*2 == target:\n",
    "                return [tab[target-nums[i]], i]\n",
    "        \n",
    "        for i in tab:\n",
    "            if target-i in tab and tab[i] != tab[target-i]:\n",
    "                return [tab[i], tab[target-i]]"
   ]
  },
  {
   "cell_type": "code",
   "execution_count": 97,
   "metadata": {},
   "outputs": [
    {
     "name": "stdout",
     "output_type": "stream",
     "text": [
      "0\n"
     ]
    },
    {
     "data": {
      "text/plain": [
       "{3: 0}"
      ]
     },
     "execution_count": 97,
     "metadata": {},
     "output_type": "execute_result"
    }
   ],
   "source": [
    "nums = [3,3]\n",
    "target = 6\n",
    "# tab = {target-nums[i]:i if target-nums[i] not in tab else 'second':i for i in range(len(nums))}\n",
    "tab = {}\n",
    "for i in range(len(nums)):\n",
    "    if target-nums[i] not in tab:\n",
    "        tab[target-nums[i]] = i\n",
    "    elif target-nums[i]+nums[i] == target:\n",
    "        print(target-nums[i]*2)\n",
    "    \n",
    "tab"
   ]
  },
  {
   "cell_type": "code",
   "execution_count": 98,
   "metadata": {},
   "outputs": [
    {
     "data": {
      "text/plain": [
       "28"
      ]
     },
     "execution_count": 98,
     "metadata": {},
     "output_type": "execute_result"
    }
   ],
   "source": [
    "num = 28\n",
    "total = 0\n",
    "for i in range(1, num//2+1):\n",
    "    if num % i == 0:\n",
    "        total += i\n",
    "total"
   ]
  },
  {
   "cell_type": "code",
   "execution_count": 99,
   "metadata": {},
   "outputs": [
    {
     "data": {
      "text/plain": [
       "5792"
      ]
     },
     "execution_count": 99,
     "metadata": {},
     "output_type": "execute_result"
    }
   ],
   "source": [
    "from math import sqrt\n",
    "\n",
    "int(sqrt(33550336))"
   ]
  },
  {
   "cell_type": "code",
   "execution_count": 100,
   "metadata": {},
   "outputs": [
    {
     "data": {
      "text/plain": [
       "True"
      ]
     },
     "execution_count": 100,
     "metadata": {},
     "output_type": "execute_result"
    }
   ],
   "source": [
    "num = 28\n",
    "sum(i + num // i for i in range(2,int(sqrt(num))+1) if num % i == 0)+1 == num and num != 1"
   ]
  },
  {
   "cell_type": "code",
   "execution_count": 101,
   "metadata": {},
   "outputs": [
    {
     "data": {
      "text/plain": [
       "1"
      ]
     },
     "execution_count": 101,
     "metadata": {},
     "output_type": "execute_result"
    }
   ],
   "source": [
    "r,c = 1,4\n",
    "mat = [[i for i in range(c)] for _ in range(r)]\n",
    "# for i in range(r):\n",
    "#     for j in range(c):\n",
    "#         print(mat[i][j])\n",
    "mat[0][1]"
   ]
  },
  {
   "cell_type": "code",
   "execution_count": 102,
   "metadata": {},
   "outputs": [
    {
     "data": {
      "text/plain": [
       "[[1, 2], [3, 4]]"
      ]
     },
     "execution_count": 102,
     "metadata": {},
     "output_type": "execute_result"
    }
   ],
   "source": [
    "original = [1,2,3,4]\n",
    "m, n = 2, 2\n",
    "[[original[i] for i in range(j,n+j)] for j in range(m)]\n",
    "[i for i in range(0, len(original), n)]\n",
    "[original[i:i+n] for i in range(0, m*n, n)]"
   ]
  },
  {
   "cell_type": "code",
   "execution_count": 103,
   "metadata": {},
   "outputs": [
    {
     "data": {
      "text/plain": [
       "2"
      ]
     },
     "execution_count": 103,
     "metadata": {},
     "output_type": "execute_result"
    }
   ],
   "source": [
    "timeSeries = [1]\n",
    "duration = 2\n",
    "poison_count = 0\n",
    "for i in range(1, len(timeSeries)):\n",
    "    poison_count += min(duration, timeSeries[i] - timeSeries[i-1])\n",
    "poison_count += duration\n",
    "poison_count"
   ]
  },
  {
   "cell_type": "code",
   "execution_count": 104,
   "metadata": {},
   "outputs": [
    {
     "data": {
      "text/plain": [
       "['Gold Medal', '5', 'Bronze Medal', 'Silver Medal', '4']"
      ]
     },
     "execution_count": 104,
     "metadata": {},
     "output_type": "execute_result"
    }
   ],
   "source": [
    "import numpy as np\n",
    "\n",
    "score = [10,3,8,9,4]\n",
    "tab = {}\n",
    "rank = 1\n",
    "for i in sorted(score, reverse=True):\n",
    "    if rank == 1:\n",
    "        tab[i] = \"Gold Medal\"\n",
    "        rank += 1\n",
    "    elif rank == 2:\n",
    "        tab[i] = \"Silver Medal\"\n",
    "        rank += 1\n",
    "    elif rank == 3:\n",
    "        tab[i] = \"Bronze Medal\"\n",
    "        rank += 1\n",
    "    else:\n",
    "        tab[i] = \"{}\".format(rank)\n",
    "        rank += 1\n",
    "\n",
    "[tab[i] for i in score]"
   ]
  },
  {
   "cell_type": "code",
   "execution_count": 105,
   "metadata": {},
   "outputs": [
    {
     "data": {
      "text/plain": [
       "1"
      ]
     },
     "execution_count": 105,
     "metadata": {},
     "output_type": "execute_result"
    }
   ],
   "source": [
    "x = 0\n",
    "(x:= x + 1)"
   ]
  },
  {
   "cell_type": "code",
   "execution_count": 106,
   "metadata": {},
   "outputs": [
    {
     "data": {
      "text/plain": [
       "[3, 4, 8, 9, 10]"
      ]
     },
     "execution_count": 106,
     "metadata": {},
     "output_type": "execute_result"
    }
   ],
   "source": [
    "import heapq\n",
    "\n",
    "heapq.heapify(score)\n",
    "score"
   ]
  },
  {
   "cell_type": "code",
   "execution_count": 107,
   "metadata": {},
   "outputs": [
    {
     "name": "stdout",
     "output_type": "stream",
     "text": [
      "false\n",
      "true\n"
     ]
    }
   ],
   "source": [
    "s = \"PPALLL\"\n",
    "consec_late = 0\n",
    "absences = 0\n",
    "for i in s:\n",
    "    if i == 'L':\n",
    "        consec_late += 1\n",
    "    elif i == 'A':\n",
    "        absences += 1\n",
    "        consec_late = 0\n",
    "    else:\n",
    "        consec_late = 0\n",
    "    if consec_late == 3:\n",
    "        print(\"false\")\n",
    "    if absences == 2:\n",
    "        print(\"false\")\n",
    "print(\"true\")"
   ]
  },
  {
   "cell_type": "code",
   "execution_count": 108,
   "metadata": {},
   "outputs": [
    {
     "data": {
      "text/plain": [
       "[2, 3]"
      ]
     },
     "execution_count": 108,
     "metadata": {},
     "output_type": "execute_result"
    }
   ],
   "source": [
    "nums = [1,2,2,4]\n",
    "tab = {i:0 for i in range(1, len(nums)+1)}\n",
    "out = [0,0]\n",
    "for i in nums:\n",
    "    tab[i] += 1\n",
    "for i in tab:\n",
    "    if tab[i] == 2:\n",
    "        out[0] = i\n",
    "    if tab[i] == 0:\n",
    "        out[1] = i\n",
    "\n",
    "out"
   ]
  },
  {
   "cell_type": "code",
   "execution_count": 109,
   "metadata": {},
   "outputs": [
    {
     "data": {
      "text/plain": [
       "2"
      ]
     },
     "execution_count": 109,
     "metadata": {},
     "output_type": "execute_result"
    }
   ],
   "source": [
    "candyType = [1,1,2,3]\n",
    "min(len(set(candyType)), int(len(candyType)/2))"
   ]
  },
  {
   "cell_type": "code",
   "execution_count": 110,
   "metadata": {},
   "outputs": [
    {
     "data": {
      "text/plain": [
       "[[-1, 0, 1], [-1, 2, -1]]"
      ]
     },
     "execution_count": 110,
     "metadata": {},
     "output_type": "execute_result"
    }
   ],
   "source": [
    "nums = [-1,0,1,2,-1,-4]\n",
    "# nums_set = list(set(nums))\n",
    "# print(\"set:\", list(set(nums)))\n",
    "out = []\n",
    "for i in range(len(nums)-1):\n",
    "    tab = {}\n",
    "    for j in range(i+1, len(nums)):\n",
    "        if nums[j] in tab:\n",
    "            if set([nums[i], tab[nums[j]], nums[j]]) not in [set(i) for i in out]:\n",
    "                out.append([nums[i], tab[nums[j]], nums[j]])\n",
    "        else:\n",
    "            tab[-nums[i]-nums[j]] = nums[j]\n",
    "\n",
    "out\n",
    "            # print(tab)\n",
    "# for i in range(len(set(nums))):\n",
    "#     tab = {}\n",
    "#     for j in range(i, len(set(nums))):\n",
    "#         if nums[j] in tab:\n",
    "#             print([nums[i], tab[nums[j]], j])\n",
    "#         else:\n",
    "#             tab[nums[i]-nums[j]] = j\n"
   ]
  },
  {
   "cell_type": "code",
   "execution_count": 111,
   "metadata": {},
   "outputs": [
    {
     "data": {
      "text/plain": [
       "{1, 2}"
      ]
     },
     "execution_count": 111,
     "metadata": {},
     "output_type": "execute_result"
    }
   ],
   "source": [
    "lst = []\n",
    "set([1,1,2])"
   ]
  },
  {
   "cell_type": "code",
   "execution_count": 112,
   "metadata": {},
   "outputs": [
    {
     "data": {
      "text/plain": [
       "{'happy': 1, 'sad': 1, 'good': 4}"
      ]
     },
     "execution_count": 112,
     "metadata": {},
     "output_type": "execute_result"
    }
   ],
   "source": [
    "list1 = [\"happy\",\"sad\",\"good\"]\n",
    "list2 = [\"sad\",\"happy\",\"good\"]\n",
    "tab = {}\n",
    "for i in range(len(list1)):\n",
    "    tab[list1[i]] = i\n",
    "for i in range(len(list2)):\n",
    "    tab[list2[i]] += i\n",
    "min_val = min(tab.values())\n",
    "[key for key in tab if tab[key] == min_val]\n",
    "tab"
   ]
  },
  {
   "cell_type": "code",
   "execution_count": 113,
   "metadata": {},
   "outputs": [
    {
     "data": {
      "text/plain": [
       "{'Shogun': 0}"
      ]
     },
     "execution_count": 113,
     "metadata": {},
     "output_type": "execute_result"
    }
   ],
   "source": [
    "list1 = [\"Shogun\",\"Tapioca Express\",\"Burger King\",\"KFC\"]\n",
    "list2 = [\"Piatti\",\"The Grill at Torrey Pines\",\"Hungry Hunter Steakhouse\",\"Shogun\"]\n",
    "{key:0 for key in list1 if key in list2}"
   ]
  },
  {
   "cell_type": "code",
   "execution_count": 114,
   "metadata": {},
   "outputs": [
    {
     "name": "stdout",
     "output_type": "stream",
     "text": [
      "2\n",
      "5\n",
      "1\n"
     ]
    },
    {
     "data": {
      "text/plain": [
       "'23321511'"
      ]
     },
     "execution_count": 114,
     "metadata": {},
     "output_type": "execute_result"
    }
   ],
   "source": [
    "s = \"3322251\"\n",
    "say = \"\"\n",
    "num = int(s[0])\n",
    "count = 0\n",
    "for i in s:\n",
    "    if num != int(i):\n",
    "        print(i)\n",
    "        say += str(count) + str(num)\n",
    "        num = int(i)\n",
    "        count = 1\n",
    "    else:\n",
    "        count += 1\n",
    "say += str(count) + str(num)\n",
    "say"
   ]
  },
  {
   "cell_type": "code",
   "execution_count": 115,
   "metadata": {},
   "outputs": [
    {
     "data": {
      "text/plain": [
       "()"
      ]
     },
     "execution_count": 115,
     "metadata": {},
     "output_type": "execute_result"
    }
   ],
   "source": [
    "tuple(map(sum, zip()))"
   ]
  },
  {
   "cell_type": "code",
   "execution_count": 116,
   "metadata": {},
   "outputs": [
    {
     "data": {
      "text/plain": [
       "((0, 0), (1, 0))"
      ]
     },
     "execution_count": 116,
     "metadata": {},
     "output_type": "execute_result"
    }
   ],
   "source": [
    "tuple(zip((0,1), (0,0)))"
   ]
  },
  {
   "cell_type": "code",
   "execution_count": 117,
   "metadata": {},
   "outputs": [
    {
     "data": {
      "text/plain": [
       "False"
      ]
     },
     "execution_count": 117,
     "metadata": {},
     "output_type": "execute_result"
    }
   ],
   "source": [
    "\"-2\".isnumeric()"
   ]
  },
  {
   "cell_type": "code",
   "execution_count": 118,
   "metadata": {},
   "outputs": [],
   "source": [
    "try:\n",
    "    int(\"-2\")\n",
    "except:\n",
    "    print(False)"
   ]
  },
  {
   "cell_type": "code",
   "execution_count": 119,
   "metadata": {},
   "outputs": [
    {
     "data": {
      "text/html": [
       "<div>\n",
       "<style scoped>\n",
       "    .dataframe tbody tr th:only-of-type {\n",
       "        vertical-align: middle;\n",
       "    }\n",
       "\n",
       "    .dataframe tbody tr th {\n",
       "        vertical-align: top;\n",
       "    }\n",
       "\n",
       "    .dataframe thead th {\n",
       "        text-align: right;\n",
       "    }\n",
       "</style>\n",
       "<table border=\"1\" class=\"dataframe\">\n",
       "  <thead>\n",
       "    <tr style=\"text-align: right;\">\n",
       "      <th></th>\n",
       "      <th>getNthHighestSalary(2)</th>\n",
       "    </tr>\n",
       "  </thead>\n",
       "  <tbody>\n",
       "    <tr>\n",
       "      <th>0</th>\n",
       "      <td>100</td>\n",
       "    </tr>\n",
       "  </tbody>\n",
       "</table>\n",
       "</div>"
      ],
      "text/plain": [
       "   getNthHighestSalary(2)\n",
       "0                     100"
      ]
     },
     "execution_count": 119,
     "metadata": {},
     "output_type": "execute_result"
    }
   ],
   "source": [
    "import pandas as pd\n",
    "N = 2\n",
    "data = [\n",
    "    {'id':1, 'name':'Joe', 'salary':100, 'managerId':3},\n",
    "    {'id':2, 'name':'Henry', 'salary':200, 'managerId':4},\n",
    "    {'id':3, 'name':'Sam', 'salary':100, 'managerId':None},\n",
    "    # {'id':4, 'name':'Max', 'salary':90000, 'managerId':None},\n",
    "]\n",
    "employee = pd.DataFrame(data=data)\n",
    "\n",
    "# employee.loc[employee['salery'] > 60000]\n",
    "# employee['managerId'].apply(lambda x: employee[x, 'id'] if x else None)\n",
    "# employee.loc[employee['id'] == employee['managerId']]\n",
    "# employee['managerId'].apply(lambda x: employee.loc[employee['id'] == x]['salery'] if x else None)\n",
    "# employee['managerId']\n",
    "# employee.loc[employee.loc[employee['id'] ]]\\\n",
    "# (employee['salary'].value_counts().sort_index(axis='index', ascending=False)).index[1]\n",
    "employee.drop_duplicates(subset=['salary'], inplace=True)\n",
    "pd.DataFrame(data=\n",
    "    {'getNthHighestSalary({})'.format(N):[None] if employee.shape[0] < N else [employee.sort_values(by='salary', ascending=False).iloc[N-1]['salary']]}\n",
    ")\n",
    "# [employee.sort_values(by='salary', ascending=False).iloc[N]['salary']]\n",
    "# employee.shape[0]\n",
    "# employee.sort_values(by='salary', ascending=False)['salary']"
   ]
  },
  {
   "cell_type": "code",
   "execution_count": 120,
   "metadata": {},
   "outputs": [
    {
     "data": {
      "text/html": [
       "<div>\n",
       "<style scoped>\n",
       "    .dataframe tbody tr th:only-of-type {\n",
       "        vertical-align: middle;\n",
       "    }\n",
       "\n",
       "    .dataframe tbody tr th {\n",
       "        vertical-align: top;\n",
       "    }\n",
       "\n",
       "    .dataframe thead th {\n",
       "        text-align: right;\n",
       "    }\n",
       "</style>\n",
       "<table border=\"1\" class=\"dataframe\">\n",
       "  <thead>\n",
       "    <tr style=\"text-align: right;\">\n",
       "      <th></th>\n",
       "      <th>Email</th>\n",
       "    </tr>\n",
       "  </thead>\n",
       "  <tbody>\n",
       "    <tr>\n",
       "      <th>0</th>\n",
       "      <td>a@b.com</td>\n",
       "    </tr>\n",
       "    <tr>\n",
       "      <th>1</th>\n",
       "      <td>a@b.com</td>\n",
       "    </tr>\n",
       "  </tbody>\n",
       "</table>\n",
       "</div>"
      ],
      "text/plain": [
       "     Email\n",
       "0  a@b.com\n",
       "1  a@b.com"
      ]
     },
     "execution_count": 120,
     "metadata": {},
     "output_type": "execute_result"
    }
   ],
   "source": [
    "person = {'id': [1,2,3], 'email':['a@b.com', 'a@b.com', 'a@b.com'] }\n",
    "# df = pd.DataFrame(data = pd.DataFrame(data=data)['email'].value_counts() > 1).rename_axis('Email').reset_index()\n",
    "# (df.loc[df['email']]['Email'])\n",
    "# pd.DataFrame(data=data)\n",
    "person = pd.DataFrame(data=person)\n",
    "person['duplicated'] = person['email'].duplicated()\n",
    "# person\n",
    "pd.DataFrame({'Email':person.loc[person['duplicated']]['email']}).reset_index().drop(['index'], axis=1)"
   ]
  },
  {
   "cell_type": "code",
   "execution_count": 121,
   "metadata": {},
   "outputs": [
    {
     "data": {
      "text/plain": [
       "ID\n",
       "11    None\n",
       "12    None\n",
       "13      AA\n",
       "14      BB\n",
       "Name: Buy_ID, dtype: object"
      ]
     },
     "execution_count": 121,
     "metadata": {},
     "output_type": "execute_result"
    }
   ],
   "source": [
    "# import pandas as pd\n",
    "# import numpy as np\n",
    "df = pd.DataFrame({'ID':[11,12,13,14],\n",
    "                   'Type':['buy','buy','sell','sell'],\n",
    "                   'Trigger':['AA','BB','---','---'],\n",
    "                   'Buy_ID':['---','---',11,12]}).set_index('ID')\n",
    "df['Buy_ID'].apply(lambda x: df.loc[x,'Trigger'] if x != '---' else None)\n",
    "# print (df)"
   ]
  },
  {
   "cell_type": "code",
   "execution_count": 122,
   "metadata": {},
   "outputs": [
    {
     "data": {
      "text/plain": [
       "2"
      ]
     },
     "execution_count": 122,
     "metadata": {},
     "output_type": "execute_result"
    }
   ],
   "source": [
    "jewels = \"aA\"\n",
    "tab = {jewel:1 for jewel in jewels}\n",
    "sum(tab.values())"
   ]
  },
  {
   "cell_type": "code",
   "execution_count": 123,
   "metadata": {},
   "outputs": [
    {
     "data": {
      "text/plain": [
       "-1"
      ]
     },
     "execution_count": 123,
     "metadata": {},
     "output_type": "execute_result"
    }
   ],
   "source": [
    "nums = [-1,0,3,5,9,12]\n",
    "n = len(nums)\n",
    "nums[:n//2][:3//2][1//2]"
   ]
  },
  {
   "cell_type": "code",
   "execution_count": 124,
   "metadata": {},
   "outputs": [
    {
     "data": {
      "text/plain": [
       "-1"
      ]
     },
     "execution_count": 124,
     "metadata": {},
     "output_type": "execute_result"
    }
   ],
   "source": [
    "class Solution:\n",
    "    def search(self, nums, target: int) -> int:\n",
    "        n = len(nums)\n",
    "        if n == 0:\n",
    "            return -1\n",
    "        if nums[n//2] == target:\n",
    "            return n//2\n",
    "        elif n == 1:\n",
    "            return -1\n",
    "        elif nums[n//2] > target:\n",
    "            return self.search(nums[:n//2], target)\n",
    "        elif nums[n//2] < target:\n",
    "            idx = self.search(nums[n//2+1:], target)\n",
    "            return 1 + n//2 + idx if idx != -1 else -1\n",
    "        \n",
    "nums = [-1,0,3,5,9,12]\n",
    "sol = Solution()\n",
    "sol.search(nums, 13)"
   ]
  },
  {
   "cell_type": "code",
   "execution_count": 125,
   "metadata": {},
   "outputs": [
    {
     "name": "stdout",
     "output_type": "stream",
     "text": [
      "['num6', 'num5', 'num4', 'num3', 'num2', 'num1']\n"
     ]
    }
   ],
   "source": [
    "my_dict = { 'num6': 6, 'num3': 3, 'num2': 2, 'num4': 4, 'num1': 1, 'num5': 5}\n",
    "sortedDict = sorted(my_dict, reverse=True)\n",
    "\n",
    "print(sortedDict)"
   ]
  },
  {
   "cell_type": "code",
   "execution_count": 126,
   "metadata": {},
   "outputs": [
    {
     "data": {
      "text/plain": [
       "0"
      ]
     },
     "execution_count": 126,
     "metadata": {},
     "output_type": "execute_result"
    }
   ],
   "source": [
    "ord(\"a\")-97"
   ]
  },
  {
   "cell_type": "code",
   "execution_count": 127,
   "metadata": {},
   "outputs": [
    {
     "data": {
      "text/plain": [
       "'3'"
      ]
     },
     "execution_count": 127,
     "metadata": {},
     "output_type": "execute_result"
    }
   ],
   "source": [
    "def to_int(c):\n",
    "    return ord(c)-48\n",
    "\n",
    "chr(to_int(\"3\")+48)"
   ]
  },
  {
   "cell_type": "code",
   "execution_count": 128,
   "metadata": {},
   "outputs": [
    {
     "data": {
      "text/plain": [
       "'456'"
      ]
     },
     "execution_count": 128,
     "metadata": {},
     "output_type": "execute_result"
    }
   ],
   "source": [
    "nums = \"0123456789\"\n",
    "num1 = \"123\"\n",
    "\n",
    "def to_number(s):\n",
    "    to_num = {nums[i]:i for i in range(10)}\n",
    "    number = 0\n",
    "    for num in s:\n",
    "        number = number*10 + to_num[num]\n",
    "\n",
    "    return number\n",
    "\n",
    "num = 456\n",
    "\n",
    "def to_string(num):\n",
    "    to_chr = {i:nums[i] for i in range(10)}\n",
    "    s = \"\"\n",
    "    while num:\n",
    "        s = to_chr[num % 10] + s\n",
    "        num = num // 10\n",
    "\n",
    "    return s\n",
    "\n",
    "to_string(num)\n"
   ]
  },
  {
   "cell_type": "code",
   "execution_count": 129,
   "metadata": {},
   "outputs": [
    {
     "data": {
      "text/plain": [
       "'bc'"
      ]
     },
     "execution_count": 129,
     "metadata": {},
     "output_type": "execute_result"
    }
   ],
   "source": [
    "s = \"abc\"\n",
    "i = 0\n",
    "s[i+1:]\n"
   ]
  },
  {
   "cell_type": "code",
   "execution_count": 130,
   "metadata": {},
   "outputs": [
    {
     "ename": "NameError",
     "evalue": "name 't' is not defined",
     "output_type": "error",
     "traceback": [
      "\u001b[1;31m---------------------------------------------------------------------------\u001b[0m",
      "\u001b[1;31mNameError\u001b[0m                                 Traceback (most recent call last)",
      "\u001b[1;32m<ipython-input-130-bccd22cdda89>\u001b[0m in \u001b[0;36m<module>\u001b[1;34m\u001b[0m\n\u001b[0;32m      1\u001b[0m \u001b[0ms\u001b[0m \u001b[1;33m=\u001b[0m \u001b[0ms\u001b[0m \u001b[1;33m+\u001b[0m \u001b[1;34m\"$\"\u001b[0m\u001b[1;33m\u001b[0m\u001b[1;33m\u001b[0m\u001b[0m\n\u001b[1;32m----> 2\u001b[1;33m \u001b[0mt\u001b[0m \u001b[1;33m=\u001b[0m \u001b[0mt\u001b[0m \u001b[1;33m+\u001b[0m \u001b[1;34m\"$\"\u001b[0m\u001b[1;33m\u001b[0m\u001b[1;33m\u001b[0m\u001b[0m\n\u001b[0m\u001b[0;32m      3\u001b[0m \u001b[0mi\u001b[0m \u001b[1;33m=\u001b[0m \u001b[1;36m0\u001b[0m\u001b[1;33m\u001b[0m\u001b[1;33m\u001b[0m\u001b[0m\n\u001b[0;32m      4\u001b[0m \u001b[1;32mwhile\u001b[0m \u001b[0ms\u001b[0m\u001b[1;33m[\u001b[0m\u001b[0mi\u001b[0m\u001b[1;33m]\u001b[0m \u001b[1;33m!=\u001b[0m \u001b[1;34m\"$\"\u001b[0m \u001b[1;32mand\u001b[0m \u001b[0mt\u001b[0m\u001b[1;33m[\u001b[0m\u001b[0mi\u001b[0m\u001b[1;33m]\u001b[0m \u001b[1;33m!=\u001b[0m \u001b[1;34m\"$\"\u001b[0m\u001b[1;33m:\u001b[0m\u001b[1;33m\u001b[0m\u001b[1;33m\u001b[0m\u001b[0m\n\u001b[0;32m      5\u001b[0m     \u001b[1;32mif\u001b[0m \u001b[0ms\u001b[0m\u001b[1;33m[\u001b[0m\u001b[0mi\u001b[0m\u001b[1;33m]\u001b[0m \u001b[1;33m==\u001b[0m \u001b[1;34m\"#\"\u001b[0m \u001b[1;32mand\u001b[0m \u001b[0mi\u001b[0m \u001b[1;33m==\u001b[0m \u001b[1;36m0\u001b[0m\u001b[1;33m:\u001b[0m\u001b[1;33m\u001b[0m\u001b[1;33m\u001b[0m\u001b[0m\n",
      "\u001b[1;31mNameError\u001b[0m: name 't' is not defined"
     ]
    }
   ],
   "source": [
    "s = s + \"$\"\n",
    "t = t + \"$\"\n",
    "i = 0\n",
    "while s[i] != \"$\" and t[i] != \"$\":\n",
    "    if s[i] == \"#\" and i == 0:\n",
    "        s = s[i+1:]\n",
    "    if t[i] == \"#\" and i == 0:\n",
    "        t = t[i+1:]\n",
    "    # print(s, t, i)\n",
    "    if s[i] == \"#\" and i == 1:\n",
    "        s = s[i+2:]\n",
    "    if t[i] == \"#\" and i == 1:\n",
    "        t = t[i+2:]\n",
    "    # print(s, t, i)\n",
    "    if s[i] == \"#\" and i > 1:\n",
    "        s = s[:i-1] + s[i+1:]\n",
    "    if t[i] == \"#\" and i > 1:\n",
    "        t = t[:i-1] + t[i+1:]\n",
    "    # if s[i] == \"$\":\n",
    "    #     break\n",
    "    if s[i] != \"#\" and t[i] != \"#\":\n",
    "        i += 1\n",
    "    # print(s, t, i)\n",
    "    print(s, t, i)\n",
    "    # t = t[i+1:]"
   ]
  },
  {
   "cell_type": "code",
   "execution_count": null,
   "metadata": {},
   "outputs": [],
   "source": [
    "for i, l in enumerate(s):\n",
    "            print(s)\n",
    "            if l != \"#\":\n",
    "                continue\n",
    "            elif i == 0:\n",
    "                s = s[1:] + \"&\"\n",
    "            elif i == 1:\n",
    "                s = s[2:] + \"^^\"\n",
    "            else:\n",
    "                s = s[:i-1] + s[i+1:] + \"$$\"\n",
    "        for i, l in enumerate(t):\n",
    "            if l != \"#\":\n",
    "                continue\n",
    "            elif i == 0:\n",
    "                t = t[1:] + \"&\"\n",
    "            elif i == 1:\n",
    "                t = t[2:] + \"^^\"\n",
    "            else:\n",
    "                t = t[:i-1] + t[i+1:] + \"$$\""
   ]
  },
  {
   "cell_type": "code",
   "execution_count": null,
   "metadata": {},
   "outputs": [],
   "source": [
    "for i in range(min(len(s), len(t))):\n",
    "            print(s, t)\n",
    "            if s[i] == \"$\" or t[i] == \"$\":\n",
    "                break\n",
    "            if s[i] == \"#\" and i == 0:\n",
    "                s = s[i:] + \"$$\"\n",
    "            if t[i] == \"#\" and i == 0:\n",
    "                t = t[i:] + \"$$\"\n",
    "            if s[i] == \"#\" and i == 1:\n",
    "                s = s[i+2:] + \"$$\"\n",
    "            if t[i] == \"#\" and i == 1:\n",
    "                t = t[i+2:] + \"$$\"\n",
    "            if s[i] == \"#\":\n",
    "                # print(\"hi\")\n",
    "                s = s[:i-2] + s[i:] + \"$$\"\n",
    "            if t[i] == \"#\":\n",
    "                t = t[:i-2] + t[i:] + \"$$\""
   ]
  },
  {
   "cell_type": "code",
   "execution_count": null,
   "metadata": {},
   "outputs": [
    {
     "data": {
      "text/plain": [
       "[3, 2, 1, 0, 1, 0, 0, 1, 2, 2, 1, 0]"
      ]
     },
     "execution_count": 14,
     "metadata": {},
     "output_type": "execute_result"
    }
   ],
   "source": [
    "s = \"loveleetcode\"\n",
    "c = \"e\"\n",
    "ans = []\n",
    "lst = []\n",
    "for i, l in enumerate(s):\n",
    "    if l == c:\n",
    "        lst.append(i)\n",
    "for i in range(lst[0]):\n",
    "    ans.append(lst[0]-i)\n",
    "for i in range(len(lst)-1):\n",
    "    for j in range(lst[i], lst[i+1]):\n",
    "        ans.append(min(abs(j-lst[i]), abs(j-lst[i+1])))\n",
    "for i in range(lst[-1], len(s)):\n",
    "    ans.append(i-lst[-1])\n",
    "ans\n",
    "    "
   ]
  },
  {
   "cell_type": "code",
   "execution_count": null,
   "metadata": {},
   "outputs": [
    {
     "data": {
      "text/plain": [
       "[[1, 4, 7], [2, 5, 8], [3, 6, 9]]"
      ]
     },
     "execution_count": 7,
     "metadata": {},
     "output_type": "execute_result"
    }
   ],
   "source": [
    "matrix = [[1,2,3],[4,5,6],[7,8,9]]\n",
    "ans = [[] for _ in range(len(matrix[0]))]\n",
    "for i in range(len(matrix[0])):\n",
    "    for j in range(len(matrix)):\n",
    "        ans[i].append(matrix[j][i])\n",
    "ans"
   ]
  },
  {
   "cell_type": "code",
   "execution_count": null,
   "metadata": {},
   "outputs": [
    {
     "data": {
      "text/plain": [
       "False"
      ]
     },
     "execution_count": 12,
     "metadata": {},
     "output_type": "execute_result"
    }
   ],
   "source": [
    "def isprime(n):\n",
    "    if n < 2:\n",
    "        return False\n",
    "    for i in range(2,n):\n",
    "        if n%i==0:\n",
    "            return False\n",
    "    return True\n",
    "\n",
    "isprime(1)"
   ]
  },
  {
   "cell_type": "code",
   "execution_count": null,
   "metadata": {},
   "outputs": [
    {
     "name": "stdout",
     "output_type": "stream",
     "text": [
      "50\n",
      "3\n"
     ]
    },
    {
     "data": {
      "text/plain": [
       "12.75"
      ]
     },
     "execution_count": 32,
     "metadata": {},
     "output_type": "execute_result"
    }
   ],
   "source": [
    "nums = [1,12,-5,-6,50,3]\n",
    "k = 4\n",
    "total = mx = sum(nums[:k])\n",
    "for i in range(len(nums)-k):\n",
    "    print(nums[i+k])\n",
    "    total = total - nums[i] + nums[i+k]\n",
    "    mx = max(mx, total)\n",
    "mx/k"
   ]
  },
  {
   "cell_type": "code",
   "execution_count": null,
   "metadata": {},
   "outputs": [
    {
     "data": {
      "text/plain": [
       "False"
      ]
     },
     "execution_count": 20,
     "metadata": {},
     "output_type": "execute_result"
    }
   ],
   "source": [
    "def is_self_dividing(n: int) -> bool:\n",
    "    num = n\n",
    "    while num > 0:\n",
    "        if num%10 == 0:\n",
    "            return False\n",
    "        if n % (num%10) != 0:\n",
    "            return False\n",
    "        num = num//10\n",
    "    return True\n",
    "\n",
    "is_self_dividing(21)"
   ]
  },
  {
   "cell_type": "code",
   "execution_count": null,
   "metadata": {},
   "outputs": [
    {
     "data": {
      "text/plain": [
       "1"
      ]
     },
     "execution_count": 4,
     "metadata": {},
     "output_type": "execute_result"
    }
   ],
   "source": [
    "nums = [1,7,3,6,5,6]\n",
    "nums[-6]"
   ]
  },
  {
   "cell_type": "code",
   "execution_count": null,
   "metadata": {},
   "outputs": [
    {
     "data": {
      "text/plain": [
       "[1024, 512, 256, 128, 64, 32, 16, 8, 4, 2, 1]"
      ]
     },
     "execution_count": 10,
     "metadata": {},
     "output_type": "execute_result"
    }
   ],
   "source": [
    "arr = [1024,512,256,128,64,32,16,8,4,2,1]\n",
    "sorted(arr, key=lambda x:bin(x).count(\"1\"))"
   ]
  },
  {
   "cell_type": "code",
   "execution_count": null,
   "metadata": {},
   "outputs": [
    {
     "name": "stdout",
     "output_type": "stream",
     "text": [
      "-5\n",
      "10\n"
     ]
    }
   ],
   "source": [
    "asteroids = [5, 10, -5]\n",
    "for i in range(len(asteroids)-1, 0, -1):\n",
    "    print(asteroids[i])"
   ]
  },
  {
   "cell_type": "code",
   "execution_count": null,
   "metadata": {},
   "outputs": [
    {
     "data": {
      "text/plain": [
       "[10]"
      ]
     },
     "execution_count": 44,
     "metadata": {},
     "output_type": "execute_result"
    }
   ],
   "source": [
    "asteroids = [10,2,-5]\n",
    "\n",
    "def collision(asteroids):\n",
    "    for i in range(len(asteroids)-1, 0, -1):\n",
    "        if abs(asteroids[i]) > abs(asteroids[i-1]):\n",
    "            asteroids = asteroids[:i-1] + asteroids[i:]\n",
    "        elif abs(asteroids[i]) < abs(asteroids[i-1]):\n",
    "            return asteroids[:i]\n",
    "        else:\n",
    "            return asteroids[:i-1]\n",
    "    return asteroids\n",
    "\n",
    "collision(asteroids)"
   ]
  },
  {
   "cell_type": "code",
   "execution_count": null,
   "metadata": {},
   "outputs": [
    {
     "name": "stdout",
     "output_type": "stream",
     "text": [
      "[-2, 1]\n",
      "1 -2\n",
      "[1]\n",
      "-2 -2\n",
      "[]\n",
      "-2 1\n"
     ]
    }
   ],
   "source": [
    "asteroids = [1,-2,-2,1]\n",
    "i = 1\n",
    "\n",
    "while i < len(asteroids):\n",
    "# for i in range(1, len(asteroids)):\n",
    "    print(asteroids[i+1:])\n",
    "    print(asteroids[i-1], asteroids[i])\n",
    "    i += 1"
   ]
  },
  {
   "cell_type": "code",
   "execution_count": null,
   "metadata": {},
   "outputs": [],
   "source": [
    "# fail...\n",
    "class Solution:\n",
    "    def asteroidCollision(self, asteroids: List[int]) -> List[int]:\n",
    "        def isCollision(a1: int, a2: int) -> bool:\n",
    "            if a1 > 0 and a2 < 0:\n",
    "                return True\n",
    "            else:\n",
    "                return False\n",
    "\n",
    "        def collision(asteroids):\n",
    "            for i in range(len(asteroids)-1, 0, -1):\n",
    "                if abs(asteroids[i]) > abs(asteroids[i-1]):\n",
    "                    asteroids = asteroids[:i-1] + asteroids[i:]\n",
    "                elif abs(asteroids[i]) < abs(asteroids[i-1]):\n",
    "                    return asteroids[:i]\n",
    "                else:\n",
    "                    return asteroids[:i-1]\n",
    "            return asteroids\n",
    "\n",
    "        \n",
    "        for i in range(1, len(asteroids)):\n",
    "            if isCollision(asteroids[i-1], asteroids[i]):\n",
    "                asteroids = collision(asteroids[:i+1]) + asteroids[i+1:]\n",
    "\n",
    "        return asteroids"
   ]
  },
  {
   "cell_type": "code",
   "execution_count": null,
   "metadata": {},
   "outputs": [
    {
     "data": {
      "text/plain": [
       "['this', 'apple', 'is', 'sweet', 'this', 'apple', 'is', 'sour']"
      ]
     },
     "execution_count": 43,
     "metadata": {},
     "output_type": "execute_result"
    }
   ],
   "source": [
    "s1 = \"this apple is sweet\"\n",
    "s2 = \"this apple is sour\"\n",
    "[word for word in s1.split()+s2.split() if s1.split().count(word) < 2 and s2.split().count(word) < 2]"
   ]
  },
  {
   "cell_type": "code",
   "execution_count": null,
   "metadata": {},
   "outputs": [],
   "source": [
    "s = \"abbcccaa\""
   ]
  },
  {
   "cell_type": "code",
   "execution_count": null,
   "metadata": {},
   "outputs": [
    {
     "name": "stdout",
     "output_type": "stream",
     "text": [
      "a 1\n",
      "b 2\n",
      "c 3\n",
      "a 2\n"
     ]
    }
   ],
   "source": [
    "from itertools import groupby\n",
    "\n",
    "for key, group in groupby(s):\n",
    "    print(key, len(list(group)))"
   ]
  },
  {
   "cell_type": "code",
   "execution_count": null,
   "metadata": {},
   "outputs": [
    {
     "name": "stdout",
     "output_type": "stream",
     "text": [
      "a\n",
      "b\n",
      "c\n"
     ]
    }
   ],
   "source": [
    "from collections import Counter\n",
    "\n",
    "for key in Counter(s):\n",
    "    print(key)"
   ]
  },
  {
   "cell_type": "code",
   "execution_count": null,
   "metadata": {},
   "outputs": [
    {
     "data": {
      "text/plain": [
       "3"
      ]
     },
     "execution_count": 12,
     "metadata": {},
     "output_type": "execute_result"
    }
   ],
   "source": [
    "lst = [1,2,3]\n",
    "lst[-1]"
   ]
  },
  {
   "cell_type": "code",
   "execution_count": null,
   "metadata": {},
   "outputs": [
    {
     "data": {
      "text/plain": [
       "True"
      ]
     },
     "execution_count": 1,
     "metadata": {},
     "output_type": "execute_result"
    }
   ],
   "source": [
    "tab = {'s': 2, 'p': 1, 't': 1}\n",
    "word = \"steps\"\n",
    "is_completing = True\n",
    "for l in tab:\n",
    "    is_completing = is_completing and word.count(l) >= tab[l]\n",
    "is_completing"
   ]
  },
  {
   "cell_type": "code",
   "execution_count": null,
   "metadata": {},
   "outputs": [
    {
     "data": {
      "text/plain": [
       "{'a', 'e', 'i', 'o', 'u'}"
      ]
     },
     "execution_count": 1,
     "metadata": {},
     "output_type": "execute_result"
    }
   ],
   "source": [
    "set(\"aeiou\")"
   ]
  },
  {
   "cell_type": "code",
   "execution_count": null,
   "metadata": {},
   "outputs": [
    {
     "data": {
      "text/plain": [
       "[1, 2, 3, 4, 5, 6]"
      ]
     },
     "execution_count": 28,
     "metadata": {},
     "output_type": "execute_result"
    }
   ],
   "source": [
    "arr = [6, 5, 4, 3, 2, 1]\n",
    "# arr = [4, 5, 6, 1, 2, 3]\n",
    "def sort(arr):\n",
    "    if len(arr) == 1:\n",
    "        return arr\n",
    "\n",
    "    left = sort(arr[:len(arr)>>1])\n",
    "    right = sort(arr[len(arr)>>1:])\n",
    "\n",
    "    i = j = k = 0\n",
    "    while i < len(left) and j < len(right):\n",
    "        if left[i] <= right[j]:\n",
    "            arr[k] = left[i]\n",
    "            i += 1\n",
    "            k += 1\n",
    "        else:\n",
    "            arr[k] = right[j]\n",
    "            j += 1\n",
    "            k += 1\n",
    "        \n",
    "        if i == len(left):\n",
    "            arr[k:] = right[j:]\n",
    "        elif j == len(right):\n",
    "            arr[k:] = left[i:]\n",
    "\n",
    "    return arr\n",
    "\n",
    "sort(arr)"
   ]
  },
  {
   "cell_type": "code",
   "execution_count": null,
   "metadata": {},
   "outputs": [
    {
     "data": {
      "text/plain": [
       "{209: 10000, 10000: 1, 1: 0}"
      ]
     },
     "execution_count": 33,
     "metadata": {},
     "output_type": "execute_result"
    }
   ],
   "source": [
    "d = {209: 10000, 10000: 1, 1: 1}\n",
    "d[min(d.keys())] -= 1\n",
    "d"
   ]
  },
  {
   "cell_type": "code",
   "execution_count": null,
   "metadata": {},
   "outputs": [
    {
     "data": {
      "text/plain": [
       "1"
      ]
     },
     "execution_count": 23,
     "metadata": {},
     "output_type": "execute_result"
    }
   ],
   "source": [
    "# matrix = [[1,2,3,4],[5,1,2,3],[9,5,1,2]]\n",
    "# matrix = [[11,74,0,93],[40,11,74,7]]\n",
    "matrix = [[97,97],[80,6],[10,79]]\n",
    "for off in range(len(matrix[0])-len(matrix)+1):\n",
    "    idx = 0\n",
    "    for row in matrix:\n",
    "        print(row[idx+off])\n",
    "        idx += 1\n",
    "len(matrix[0])-len(matrix)+1 or len(matrix)-len(matrix[0])"
   ]
  },
  {
   "cell_type": "code",
   "execution_count": null,
   "metadata": {},
   "outputs": [
    {
     "data": {
      "text/plain": [
       "[[9], [5, 5], [1, 1, 1], [2, 2, 2], [3, 3], [4]]"
      ]
     },
     "execution_count": 66,
     "metadata": {},
     "output_type": "execute_result"
    }
   ],
   "source": [
    "matrix = [[1,2,3,4],[5,1,2,3],[9,5,1,2]]\n",
    "# matrix = [[1,5,9],[2,1,5],[3,2,1],[4,3,2]]\n",
    "# matrix = [[1,2,3],[4,5,6],[7,8,9],[10,11,12]]\n",
    "\n",
    "n = len(matrix[0])\n",
    "m = len(matrix)\n",
    "max_diag = -m + 1\n",
    "\n",
    "diags = [[] for _ in range(m+n-1)]\n",
    "for x in range(n):\n",
    "    for y in range(m):\n",
    "        diags[x-y-max_diag].append(matrix[y][x])\n",
    "diags"
   ]
  },
  {
   "cell_type": "code",
   "execution_count": null,
   "metadata": {},
   "outputs": [
    {
     "data": {
      "text/plain": [
       "'101'"
      ]
     },
     "execution_count": 82,
     "metadata": {},
     "output_type": "execute_result"
    }
   ],
   "source": [
    "bin(int(\"1\", 2) ^ int(\"10\", 2))\n",
    "\n",
    "nums = [\"111\",\"011\",\"001\"]\n",
    "nums = [int(num, 2) for num in nums]\n",
    "ans = 0\n",
    "for i in nums:\n",
    "    ans = ans ^ i\n",
    "bin(ans)[2:]"
   ]
  },
  {
   "cell_type": "code",
   "execution_count": null,
   "metadata": {},
   "outputs": [
    {
     "data": {
      "text/plain": [
       "'000'"
      ]
     },
     "execution_count": 102,
     "metadata": {},
     "output_type": "execute_result"
    }
   ],
   "source": [
    "nums = [\"111\",\"011\",\"001\"]\n",
    "s = set(int(num, 2) for num in nums)\n",
    "ans = 0\n",
    "for i in range(2**len(nums[0])):\n",
    "    if ans in s:\n",
    "        ans += 1\n",
    "\n",
    "bin(ans)[2:] if len(bin(ans)[2:]) == len(nums[0]) else (\"0\" * (len(nums[0]) - len(bin(ans)[2:]))) + bin(ans)[2:]\n"
   ]
  },
  {
   "cell_type": "code",
   "execution_count": null,
   "metadata": {},
   "outputs": [
    {
     "data": {
      "text/plain": [
       "{'Bob': 1,\n",
       " 'hit': 2,\n",
       " 'a': 1,\n",
       " 'ball,': 1,\n",
       " 'the': 1,\n",
       " 'BALL': 1,\n",
       " 'flew': 1,\n",
       " 'far': 1,\n",
       " 'after': 1,\n",
       " 'it': 1,\n",
       " 'was': 1,\n",
       " 'hit.': 1}"
      ]
     },
     "execution_count": 13,
     "metadata": {},
     "output_type": "execute_result"
    }
   ],
   "source": [
    "from collections import Counter\n",
    "paragraph = \"Bob hit a ball, the hit BALL flew far after it was hit.\"\n",
    "dict(Counter(paragraph.split()))"
   ]
  },
  {
   "cell_type": "code",
   "execution_count": null,
   "metadata": {},
   "outputs": [
    {
     "data": {
      "text/plain": [
       "[{'a': 1, 'b': 2}, {'c': 3, 'd': 4}, {'d': 5, 'f': 6}]"
      ]
     },
     "execution_count": 26,
     "metadata": {},
     "output_type": "execute_result"
    }
   ],
   "source": [
    "from collections import ChainMap\n",
    "\n",
    "d1 = {'a': 1, 'b': 2} \n",
    "d2 = {'c': 3, 'd': 4} \n",
    "d3 = {'d': 5, 'f': 6} \n",
    "  \n",
    "# Defining the chainmap  \n",
    "ChainMap(d1, d2, d3).maps"
   ]
  },
  {
   "cell_type": "code",
   "execution_count": null,
   "metadata": {},
   "outputs": [
    {
     "data": {
      "text/plain": [
       "'12'"
      ]
     },
     "execution_count": 13,
     "metadata": {},
     "output_type": "execute_result"
    }
   ],
   "source": [
    "s = \"12+34+\"\n",
    "i = 0\n",
    "num = \"\"\n",
    "while i < len(s) and s[i].isnumeric():\n",
    "    num += s[i]\n",
    "    i += 1\n",
    "num"
   ]
  },
  {
   "cell_type": "code",
   "execution_count": null,
   "metadata": {},
   "outputs": [
    {
     "data": {
      "text/plain": [
       "'12345'"
      ]
     },
     "execution_count": 5,
     "metadata": {},
     "output_type": "execute_result"
    }
   ],
   "source": [
    "from collections import namedtuple \n",
    "\n",
    "Employee = namedtuple('Employee',['name','id'])\n",
    "\n",
    "e1 = Employee('Jack', '12345')\n",
    "\n",
    "e1[1]"
   ]
  },
  {
   "cell_type": "code",
   "execution_count": null,
   "metadata": {},
   "outputs": [],
   "source": [
    "class Solution:\n",
    "    def calculate(self, s: str) -> int:\n",
    "        from collections import deque\n",
    "        stack = []\n",
    "        q = deque()\n",
    "        total = 0\n",
    "        num = \"\"\n",
    "\n",
    "        i = 0\n",
    "        while i < len(s):\n",
    "            if s[i].isnumeric():\n",
    "                while i < len(s) and s[i].isnumeric():\n",
    "                    num += s[i]\n",
    "                    i += 1\n",
    "                q.append(int(num))\n",
    "                num = \"\"\n",
    "            elif s[i] == \" \":\n",
    "                i += 1\n",
    "            elif s[i] == \")\":\n",
    "                while stack[-1] != \"(\":\n",
    "                    curr = stack.pop()\n",
    "                    q.append(curr)\n",
    "                stack.pop()\n",
    "                i += 1\n",
    "            elif s[i] == \"+\":\n",
    "                while stack and stack[-1] == \"-\":\n",
    "                    curr = stack.pop()\n",
    "                    q.append(curr)\n",
    "                stack.append(s[i])\n",
    "                i += 1\n",
    "            else:\n",
    "                stack.append(s[i])\n",
    "                i += 1\n",
    "\n",
    "\n",
    "        while stack:\n",
    "            curr = stack.pop()\n",
    "            q.append(curr)\n",
    "        # print(stack)\n",
    "        # print(list(q))\n",
    "\n",
    "        while q:\n",
    "            curr = q.popleft()\n",
    "            if curr == \"+\":\n",
    "                first = stack.pop()\n",
    "                second = stack.pop()\n",
    "                stack.append(first+second)\n",
    "            elif curr == \"-\" and len(stack) > 1:\n",
    "                first = -stack.pop()\n",
    "                second = stack.pop()\n",
    "                stack.append(second+first)\n",
    "            elif curr == \"-\":\n",
    "                first = -stack.pop()\n",
    "                stack.append(first)\n",
    "            else:\n",
    "                stack.append(curr)\n",
    "        print(stack)\n",
    "        return stack.pop()"
   ]
  },
  {
   "cell_type": "code",
   "execution_count": null,
   "metadata": {},
   "outputs": [],
   "source": [
    "class Solution:\n",
    "    def calculate(self, s: str) -> int:\n",
    "        from collections import deque\n",
    "        stack = []\n",
    "        q = deque()\n",
    "        total = 0\n",
    "        num = \"\"\n",
    "\n",
    "        i = 0\n",
    "        while i < len(s):\n",
    "            if s[i].isnumeric():\n",
    "                while i < len(s) and s[i].isnumeric():\n",
    "                    num += s[i]\n",
    "                    i += 1\n",
    "                q.append(int(num))\n",
    "                num = \"\"\n",
    "            elif s[i] == \" \":\n",
    "                i += 1\n",
    "            elif s[i] == \"(\":\n",
    "                j = i\n",
    "                while j < len(s) and s[j] != \")\":\n",
    "                    j += 1\n",
    "                q.append(self.calculate(s[i+1:j]))\n",
    "                while i < len(s) and s[i] != \")\":\n",
    "                    i += 1\n",
    "                i += 1\n",
    "            elif s[i] == \")\":\n",
    "                i += 1\n",
    "            elif s[i] == \"+\":\n",
    "                while stack and stack[-1] == \"-\":\n",
    "                    curr = stack.pop()\n",
    "                    q.append(curr)\n",
    "                stack.append(s[i])\n",
    "                i += 1\n",
    "            else:\n",
    "                stack.append(s[i])\n",
    "                i += 1\n",
    "        # print(stack)\n",
    "\n",
    "\n",
    "        while stack:\n",
    "            curr = stack.pop()\n",
    "            # print(curr)\n",
    "            q.append(curr)\n",
    "\n",
    "        print(q)\n",
    "        while q:\n",
    "            curr = q.popleft()\n",
    "            if curr == \"+\":\n",
    "                first = stack.pop()\n",
    "                second = stack.pop()\n",
    "                stack.append(first+second)\n",
    "            elif curr == \"-\" and len(stack) > 1:\n",
    "                first = -stack.pop()\n",
    "                second = stack.pop()\n",
    "                stack.append(second+first)\n",
    "            elif curr == \"-\":\n",
    "                first = -stack.pop()\n",
    "                stack.append(first)\n",
    "            else:\n",
    "                stack.append(curr)\n",
    "        # print(stack)\n",
    "        return stack.pop()"
   ]
  },
  {
   "cell_type": "code",
   "execution_count": null,
   "metadata": {},
   "outputs": [
    {
     "data": {
      "text/plain": [
       "0"
      ]
     },
     "execution_count": 13,
     "metadata": {},
     "output_type": "execute_result"
    }
   ],
   "source": [
    "class Solution:\n",
    "    def calculate(self, s: str) -> int:\n",
    "        # print(s)\n",
    "        stack = []\n",
    "        i = num = 0\n",
    "        sign = 1\n",
    "\n",
    "        while i < len(s):\n",
    "            if s[i].isdigit():\n",
    "                num = sign * (num * 10 + int(s[i])) if num >= 0 else sign * (num * 10 - int(s[i]))\n",
    "                sign = 1\n",
    "            elif s[i] == \" \":\n",
    "                pass\n",
    "            elif s[i] == \"(\":\n",
    "                if num:\n",
    "                    stack.append(num)\n",
    "                j = i+1\n",
    "                count = 1\n",
    "                while j < len(s) and count >= 1:\n",
    "                    if s[j] == \"(\":\n",
    "                        count += 1\n",
    "                    if s[j] == \")\":\n",
    "                        count -= 1\n",
    "                    j += 1\n",
    "                stack.append(sign * self.calculate(s[i+1:j-1]))\n",
    "                sign = 1\n",
    "                i = j-1\n",
    "            elif s[i] == \")\":\n",
    "                pass\n",
    "            elif s[i] == \"-\":\n",
    "                stack.append(num)\n",
    "                num = 0\n",
    "                sign = -1\n",
    "            else:\n",
    "                stack.append(num)\n",
    "                num = 0\n",
    "            \n",
    "            i += 1\n",
    "\n",
    "        stack.append(num)\n",
    "\n",
    "        # print(stack)\n",
    "\n",
    "        return sum(stack)\n"
   ]
  },
  {
   "cell_type": "code",
   "execution_count": null,
   "metadata": {},
   "outputs": [
    {
     "data": {
      "text/plain": [
       "6"
      ]
     },
     "execution_count": 3,
     "metadata": {},
     "output_type": "execute_result"
    }
   ],
   "source": [
    "arr = [2, 8, 1, 3, 6, 7, 5, 4]\n",
    "arr = [8, 7, 6, 1, 0, 9, 2]"
   ]
  },
  {
   "cell_type": "code",
   "execution_count": null,
   "metadata": {},
   "outputs": [
    {
     "data": {
      "text/plain": [
       "[-1]"
      ]
     },
     "execution_count": 1,
     "metadata": {},
     "output_type": "execute_result"
    }
   ],
   "source": [
    "import heapq\n",
    "stones = [2,7,4,1,8,1]\n",
    "stones = [-stone for stone in stones]\n",
    "heapq.heapify(stones)\n",
    "while len(stones) > 1:\n",
    "    y = -heapq.heappop(stones)\n",
    "    x = -heapq.heappop(stones)\n",
    "    heapq.heappush(stones, -(y-x))\n",
    "stones"
   ]
  },
  {
   "cell_type": "code",
   "execution_count": null,
   "metadata": {},
   "outputs": [
    {
     "data": {
      "text/plain": [
       "[1, 2, 3, 4, 5, 6, 7, 8]"
      ]
     },
     "execution_count": 12,
     "metadata": {},
     "output_type": "execute_result"
    }
   ],
   "source": [
    "arr = [2, 8, 1, 3, 6, 7, 5, 4]\n",
    "def quicksort(arr):\n",
    "    def partition(arr):\n",
    "        pivot = len(arr) -1\n",
    "        part_idx = -1\n",
    "        i = 0\n",
    "        while i < pivot:\n",
    "            if arr[i] > arr[pivot] and part_idx < 0:\n",
    "                part_idx = i\n",
    "            elif arr[i] < arr[pivot] and part_idx >= 0:\n",
    "                arr[i], arr[part_idx] = arr[part_idx], arr[i]\n",
    "                part_idx += 1\n",
    "                \n",
    "            i += 1\n",
    "\n",
    "        arr[part_idx], arr[pivot] = arr[pivot], arr[part_idx]\n",
    "        return part_idx\n",
    "    \n",
    "    if len(arr) <= 1:\n",
    "        return arr\n",
    "    \n",
    "    part_idx = partition(arr)\n",
    "\n",
    "    return quicksort(arr[:part_idx]) + quicksort(arr[part_idx:])\n",
    "\n",
    "quicksort(arr)"
   ]
  },
  {
   "cell_type": "code",
   "execution_count": null,
   "metadata": {},
   "outputs": [
    {
     "data": {
      "text/plain": [
       "'Qedo1ct-eeLg=ntse-T!'"
      ]
     },
     "execution_count": 83,
     "metadata": {},
     "output_type": "execute_result"
    }
   ],
   "source": [
    "s = \"Test1ng-Leet=code-Q!\"\n",
    "lst = ['' for _ in s]\n",
    "alph = \"\"\n",
    "\n",
    "\n",
    "for i in range(len(s)):\n",
    "    if not s[i].isalpha():\n",
    "        lst[i] = s[i]\n",
    "    else:\n",
    "        alph += s[i]\n",
    "\n",
    "alph = alph[::-1]\n",
    "\n",
    "i = j = 0\n",
    "while i < len(lst):\n",
    "    # print(lst[i])\n",
    "    if lst[i] == '':\n",
    "        lst[i] = alph[j]\n",
    "        j += 1\n",
    "    i += 1\n",
    "\n",
    "\"\".join(lst)"
   ]
  },
  {
   "cell_type": "code",
   "execution_count": null,
   "metadata": {},
   "outputs": [
    {
     "data": {
      "text/plain": [
       "136006598"
      ]
     },
     "execution_count": 141,
     "metadata": {},
     "output_type": "execute_result"
    }
   ],
   "source": [
    "n = 3131\n",
    "moves = {0:[4,6], 1:[6,8], 2:[7,9], 3:[4,8], 4:[0,3,9], 5:[], 6:[0,1,7], 7:[2,6], 8:[1,3], 9:[2,4]}\n",
    "counts = [0 for _ in range(10)]\n",
    "for i in range(10):\n",
    "    for j in moves[i]:\n",
    "        counts[j] += 1\n",
    "for _ in range(2, n):\n",
    "    counts2 = [0 for _ in range(10)]\n",
    "    for i in range(10):\n",
    "        for j in moves[i]:\n",
    "            counts2[j] += 1*counts[i]\n",
    "    counts = counts2\n",
    "sum(counts)%(10**9+7)\n",
    "# counts"
   ]
  },
  {
   "cell_type": "code",
   "execution_count": null,
   "metadata": {},
   "outputs": [
    {
     "data": {
      "text/plain": [
       "'Q....'"
      ]
     },
     "execution_count": 5,
     "metadata": {},
     "output_type": "execute_result"
    }
   ],
   "source": [
    "def queenrow(col, n=n):\n",
    "    return ''.join(['Q' if i == col else '.' for i in range(n)])\n",
    "\n",
    "n = 5\n",
    "col = 0\n",
    "queenrow(col, n)"
   ]
  },
  {
   "cell_type": "code",
   "execution_count": null,
   "metadata": {},
   "outputs": [
    {
     "data": {
      "text/plain": [
       "0"
      ]
     },
     "execution_count": 11,
     "metadata": {},
     "output_type": "execute_result"
    }
   ],
   "source": [
    "7^(2**3-1)"
   ]
  },
  {
   "cell_type": "code",
   "execution_count": null,
   "metadata": {},
   "outputs": [
    {
     "data": {
      "text/plain": [
       "0"
      ]
     },
     "execution_count": 1,
     "metadata": {},
     "output_type": "execute_result"
    }
   ],
   "source": [
    "from math import log\n",
    "\n",
    "n=1\n",
    "n^(2**int(log(n,2)+1)-1)"
   ]
  },
  {
   "cell_type": "code",
   "execution_count": null,
   "metadata": {},
   "outputs": [
    {
     "data": {
      "text/plain": [
       "[1, 2, 3, 4, 5, 6, 7, 8]"
      ]
     },
     "execution_count": 46,
     "metadata": {},
     "output_type": "execute_result"
    }
   ],
   "source": [
    "arr = [2, 8, 1, 3, 6, 7, 5, 4]\n",
    "# arr = [8, 7, 6, 1, 0, 9, 2]\n",
    "\n",
    "def bubblesort(arr):\n",
    "    for j in range(len(arr)):\n",
    "        for i in range(len(arr)-j-1):\n",
    "            if arr[i] > arr[i+1]:\n",
    "                arr[i], arr[i+1] = arr[i+1], arr[i]\n",
    "\n",
    "    return arr\n",
    "\n",
    "bubblesort(arr)"
   ]
  },
  {
   "cell_type": "code",
   "execution_count": null,
   "metadata": {},
   "outputs": [
    {
     "name": "stdout",
     "output_type": "stream",
     "text": [
      "John(36)\n",
      "Hello my name is John\n"
     ]
    }
   ],
   "source": [
    "class Person:\n",
    "    def __init__(self, name, age):\n",
    "        self.name = name\n",
    "        self.age = age\n",
    "\n",
    "    def myfunc(self):\n",
    "        print(f\"Hello my name is {self.name}\")\n",
    "\n",
    "    def __str__(self):\n",
    "        return f\"{self.name}({self.age})\"\n",
    "\n",
    "p1 = Person(\"John\", 36)\n",
    "\n",
    "print(p1)\n",
    "p1.myfunc()"
   ]
  },
  {
   "cell_type": "code",
   "execution_count": null,
   "metadata": {},
   "outputs": [
    {
     "data": {
      "text/plain": [
       "['.', 'p', 'R', '.', '.', 'p', '.', '.']"
      ]
     },
     "execution_count": 4,
     "metadata": {},
     "output_type": "execute_result"
    }
   ],
   "source": [
    "board = [[\".\",\".\",\".\",\".\",\".\",\".\",\".\",\".\"],[\".\",\".\",\".\",\"p\",\".\",\".\",\".\",\".\"],[\".\",\".\",\".\",\"R\",\".\",\".\",\".\",\"p\"],[\".\",\".\",\".\",\".\",\".\",\".\",\".\",\".\"],[\".\",\".\",\".\",\".\",\".\",\".\",\".\",\".\"],[\".\",\".\",\".\",\"p\",\".\",\".\",\".\",\".\"],[\".\",\".\",\".\",\".\",\".\",\".\",\".\",\".\"],[\".\",\".\",\".\",\".\",\".\",\".\",\".\",\".\"]]\n",
    "[board[k][3] for k in range(8)]"
   ]
  },
  {
   "cell_type": "code",
   "execution_count": null,
   "metadata": {},
   "outputs": [
    {
     "data": {
      "text/plain": [
       "[3, 2, 1]"
      ]
     },
     "execution_count": 4,
     "metadata": {},
     "output_type": "execute_result"
    }
   ],
   "source": [
    "def numtodigit(num):\n",
    "    while num:\n",
    "        yield num % 10\n",
    "        num = num // 10\n",
    "\n",
    "x = numtodigit(123)\n",
    "\n",
    "[num for num in x]"
   ]
  },
  {
   "cell_type": "code",
   "execution_count": null,
   "metadata": {},
   "outputs": [
    {
     "data": {
      "text/plain": [
       "[2, 3]"
      ]
     },
     "execution_count": 43,
     "metadata": {},
     "output_type": "execute_result"
    }
   ],
   "source": [
    "num = [0]\n",
    "k = 23\n",
    "\n",
    "num = num[::-1]\n",
    "numk = [n for n in numtodigit(k)]\n",
    "ans = []\n",
    "carry = 0\n",
    "for i in range(max(len(num), len(numk))):\n",
    "    if i < len(num) and i < len(numk):\n",
    "        digit = num[i]+numk[i]+carry\n",
    "    elif i < len(num):\n",
    "        digit = num[i]+carry\n",
    "    else:\n",
    "        digit = numk[i]+carry\n",
    "    ans = [digit%10] + ans\n",
    "    carry = digit//10\n",
    "if carry:\n",
    "    ans = [carry] + ans\n",
    "ans"
   ]
  },
  {
   "cell_type": "code",
   "execution_count": null,
   "metadata": {},
   "outputs": [
    {
     "data": {
      "text/plain": [
       "[0, 0, 1]"
      ]
     },
     "execution_count": 11,
     "metadata": {},
     "output_type": "execute_result"
    }
   ],
   "source": [
    "date1 = [int(x) for x in \"2019-06-29\".split(\"-\")]\n",
    "date2 = [int(x) for x in \"2019-06-30\".split(\"-\")]\n",
    "[date2[i]-date1[i] for i in range(len(date1))]"
   ]
  },
  {
   "cell_type": "code",
   "execution_count": null,
   "metadata": {},
   "outputs": [
    {
     "data": {
      "text/plain": [
       "20"
      ]
     },
     "execution_count": 3,
     "metadata": {},
     "output_type": "execute_result"
    }
   ],
   "source": [
    "arr = [1,2,2,2,2,2,2,2,2,2,2,2,2,2,2,2,2,2,2,3]\n",
    "len(arr)"
   ]
  },
  {
   "cell_type": "code",
   "execution_count": null,
   "metadata": {},
   "outputs": [
    {
     "data": {
      "text/plain": [
       "[4, 5, 6]"
      ]
     },
     "execution_count": 1,
     "metadata": {},
     "output_type": "execute_result"
    }
   ],
   "source": [
    "nums = [4,5,6,7,0,1,2]\n",
    "nums[:len(nums)//2]"
   ]
  },
  {
   "cell_type": "code",
   "execution_count": null,
   "metadata": {},
   "outputs": [
    {
     "data": {
      "text/plain": [
       "[7, 0, 1, 2]"
      ]
     },
     "execution_count": 2,
     "metadata": {},
     "output_type": "execute_result"
    }
   ],
   "source": [
    "nums[len(nums)//2:]"
   ]
  },
  {
   "cell_type": "code",
   "execution_count": null,
   "metadata": {},
   "outputs": [
    {
     "data": {
      "text/plain": [
       "15"
      ]
     },
     "execution_count": 3,
     "metadata": {},
     "output_type": "execute_result"
    }
   ],
   "source": [
    "n = 234\n",
    "sm = 0\n",
    "pr = 1\n",
    "while n > 0:\n",
    "    sm += n%10\n",
    "    pr *= n%10\n",
    "    n = n//10\n",
    "\n",
    "pr - sm"
   ]
  },
  {
   "cell_type": "code",
   "execution_count": null,
   "metadata": {},
   "outputs": [
    {
     "name": "stdout",
     "output_type": "stream",
     "text": [
      "3 4\n"
     ]
    }
   ],
   "source": [
    "matrix = [[1,3,5,7],[10,11,16,20],[23,30,34,60]]\n",
    "m = len(matrix)\n",
    "n = len(matrix[0])\n",
    "# i = 5\n",
    "# matrix[i//m][i%n]\n",
    "print(m,n)"
   ]
  },
  {
   "cell_type": "code",
   "execution_count": null,
   "metadata": {},
   "outputs": [],
   "source": [
    "def matrix_idx(idx, matrix):\n",
    "    n = len(matrix[0])\n",
    "    return idx//n, idx%n\n",
    "\n",
    "def flat_matrix(idx, matrix):\n",
    "    n = len(matrix[0])\n",
    "    return matrix[idx//n][idx%n]\n"
   ]
  },
  {
   "cell_type": "code",
   "execution_count": null,
   "metadata": {},
   "outputs": [
    {
     "data": {
      "text/plain": [
       "[1, 3, 5, 7, 10, 11, 16, 20, 23, 30, 34, 60]"
      ]
     },
     "execution_count": 3,
     "metadata": {},
     "output_type": "execute_result"
    }
   ],
   "source": [
    "matrix = [[1,3,5,7],[10,11,16,20],[23,30,34,60]]\n",
    "m = len(matrix)\n",
    "n = len(matrix[0])\n",
    "N = m*n\n",
    "arr = []\n",
    "\n",
    "for i in range(N):\n",
    "    arr.append(flat_matrix(i, matrix))\n",
    "\n",
    "arr"
   ]
  },
  {
   "cell_type": "code",
   "execution_count": null,
   "metadata": {},
   "outputs": [
    {
     "data": {
      "text/plain": [
       "16"
      ]
     },
     "execution_count": 28,
     "metadata": {},
     "output_type": "execute_result"
    }
   ],
   "source": [
    "high = N\n",
    "low = 0\n",
    "\n",
    "# while low < high:\n",
    "    "
   ]
  },
  {
   "cell_type": "code",
   "execution_count": null,
   "metadata": {},
   "outputs": [
    {
     "name": "stdout",
     "output_type": "stream",
     "text": [
      "[1, 3, 5, 7, 10, 11, 16, 20, 20, 30, 34, 60]\n",
      "[20, 20, 30, 34, 60]\n",
      "[20, 20]\n"
     ]
    },
    {
     "data": {
      "text/plain": [
       "8"
      ]
     },
     "execution_count": 29,
     "metadata": {},
     "output_type": "execute_result"
    }
   ],
   "source": [
    "arr = [1, 3, 5, 7, 10, 11, 16, 20, 20, 30, 34, 60]\n",
    "target = 20\n",
    "\n",
    "def bin_search(arr, target):\n",
    "    # print(arr)\n",
    "    mid = len(arr)//2\n",
    "    if len(arr) == 0:\n",
    "        return -1\n",
    "    # elif arr[mid] == target and arr[mid+1] != target:\n",
    "    elif arr[mid] == target:\n",
    "        return mid\n",
    "    elif len(arr) <= 1:\n",
    "        return -1\n",
    "    elif arr[mid] < target:\n",
    "        res = bin_search(arr[mid+1:], target)\n",
    "        return 1 + mid + res if res >= 0 else -1\n",
    "    else:\n",
    "        return bin_search(arr[:mid], target)\n",
    "\n",
    "bin_search(arr, target)"
   ]
  },
  {
   "cell_type": "code",
   "execution_count": null,
   "metadata": {},
   "outputs": [
    {
     "data": {
      "text/plain": [
       "7"
      ]
     },
     "execution_count": 40,
     "metadata": {},
     "output_type": "execute_result"
    }
   ],
   "source": [
    "arr = [1, 3, 5, 7, 10, 11, 16, 20, 20, 30, 34, 60]\n",
    "target = 20\n",
    "\n",
    "def bin_search(arr, target):\n",
    "    # print(arr)\n",
    "    high = len(arr)\n",
    "    low = 0\n",
    "    while low <= high:\n",
    "        mid = (low + high)//2\n",
    "        if mid >= len(arr):\n",
    "            return -1\n",
    "        if arr[mid] == target:\n",
    "            return mid\n",
    "        elif arr[mid] > target:\n",
    "            high = mid-1\n",
    "        else:\n",
    "            low = mid+1\n",
    "    return -1\n",
    "            \n",
    "\n",
    "bin_search(arr, target)"
   ]
  },
  {
   "cell_type": "code",
   "execution_count": null,
   "metadata": {},
   "outputs": [
    {
     "name": "stdout",
     "output_type": "stream",
     "text": [
      "11 16\n",
      "1 5\n",
      "60 1\n",
      "1 1\n"
     ]
    },
    {
     "data": {
      "text/plain": [
       "1"
      ]
     },
     "execution_count": 62,
     "metadata": {},
     "output_type": "execute_result"
    }
   ],
   "source": [
    "arr = [1, 1, 5, 5, 5, 11, 16, 20, 20, 21, 34, 60]\n",
    "target = 1\n",
    "\n",
    "def bin_search(arr, target, first=True):\n",
    "    # mid = 0\n",
    "    # print(arr)\n",
    "    high = len(arr)\n",
    "    low = 0\n",
    "    while low <= high:\n",
    "        mid = (low + high)//2\n",
    "        exp_last = arr[mid] == target and (mid == len(arr)-1 or arr[mid+1] != target)\n",
    "        exp_first = arr[mid] == target and (mid == 0 or arr[mid-1] != target)\n",
    "        print(arr[mid-1], arr[mid])\n",
    "        if mid >= len(arr):\n",
    "            return -1\n",
    "        if exp_first if first else exp_last:\n",
    "            return mid\n",
    "        elif arr[mid] > target:\n",
    "            high = mid-1\n",
    "        else:\n",
    "            low = mid+1\n",
    "    return -1\n",
    "            \n",
    "\n",
    "bin_search(arr, target, False)"
   ]
  },
  {
   "cell_type": "code",
   "execution_count": null,
   "metadata": {},
   "outputs": [
    {
     "data": {
      "text/plain": [
       "3"
      ]
     },
     "execution_count": 85,
     "metadata": {},
     "output_type": "execute_result"
    }
   ],
   "source": [
    "from math import sqrt\n",
    "\n",
    "int(sqrt(10))"
   ]
  },
  {
   "cell_type": "code",
   "execution_count": null,
   "metadata": {},
   "outputs": [],
   "source": [
    "# 204 Count Primes\n",
    "\n",
    "class Solution:\n",
    "    def countPrimes(self, n: int) -> int:\n",
    "        primes = [(1 if i > 1 else 0) for i in range(n)]\n",
    "        if not primes:\n",
    "            return 0\n",
    "\n",
    "        for i in range(2, int(sqrt(n))+1):\n",
    "            if primes[i] == 1:\n",
    "                j = 0\n",
    "                while (i**2)+(i*j) < n:\n",
    "                    primes[(i**2)+(i*j)] = 0\n",
    "                    j += 1\n",
    "        \n",
    "        # print(primes)\n",
    "\n",
    "        return sum(primes)"
   ]
  },
  {
   "cell_type": "code",
   "execution_count": null,
   "metadata": {},
   "outputs": [
    {
     "data": {
      "text/plain": [
       "array([[ 4,  3,  2, -1],\n",
       "       [ 3,  2,  1, -1],\n",
       "       [ 1,  1, -1, -2],\n",
       "       [-1, -1, -2, -3]])"
      ]
     },
     "execution_count": 1,
     "metadata": {},
     "output_type": "execute_result"
    }
   ],
   "source": [
    "import numpy as np\n",
    "\n",
    "grid = np.array([[4,3,2,-1],[3,2,1,-1],[1,1,-1,-2],[-1,-1,-2,-3]])\n",
    "\n",
    "grid"
   ]
  },
  {
   "cell_type": "code",
   "execution_count": null,
   "metadata": {},
   "outputs": [],
   "source": [
    "def argmin(arr):\n",
    "    idx = 0\n",
    "    mn = 2**64\n",
    "    for i in range(len(arr)):\n",
    "        if arr[i] < mn:\n",
    "            mn = arr[i]\n",
    "            idx = i\n",
    "    \n",
    "    return idx"
   ]
  },
  {
   "cell_type": "code",
   "execution_count": null,
   "metadata": {},
   "outputs": [
    {
     "data": {
      "text/plain": [
       "1"
      ]
     },
     "execution_count": 26,
     "metadata": {},
     "output_type": "execute_result"
    }
   ],
   "source": [
    "code = [5,7,1,4]\n",
    "i = 3\n",
    "k = 3\n",
    "\n",
    "code[i+k if i+k < len(code) else i+k-len(code)]"
   ]
  },
  {
   "cell_type": "code",
   "execution_count": null,
   "metadata": {},
   "outputs": [
    {
     "data": {
      "text/plain": [
       "[12, 10, 16, 13]"
      ]
     },
     "execution_count": 29,
     "metadata": {},
     "output_type": "execute_result"
    }
   ],
   "source": [
    "ans = []\n",
    "for i in range(len(code)):\n",
    "    total = 0\n",
    "    for j in range(i+1, i+k+1, 1):\n",
    "        total += code[j if j < len(code) else j-len(code)]\n",
    "\n",
    "    ans.append(total)\n",
    "\n",
    "ans"
   ]
  },
  {
   "cell_type": "code",
   "execution_count": null,
   "metadata": {},
   "outputs": [
    {
     "data": {
      "text/plain": [
       "[12, 5, 6, 13]"
      ]
     },
     "execution_count": 41,
     "metadata": {},
     "output_type": "execute_result"
    }
   ],
   "source": [
    "code = [2,4,9,3]\n",
    "k = -2\n",
    "\n",
    "ans = []\n",
    "for i in range(len(code)):\n",
    "    total = 0\n",
    "    for j in range(i+k, i, 1):\n",
    "        total += code[j]\n",
    "\n",
    "    ans.append(total)\n",
    "\n",
    "ans"
   ]
  },
  {
   "cell_type": "code",
   "execution_count": null,
   "metadata": {},
   "outputs": [
    {
     "name": "stdout",
     "output_type": "stream",
     "text": [
      "2 3\n",
      "5 4\n",
      "1 7\n"
     ]
    },
    {
     "data": {
      "text/plain": [
       "[2, 3, 5, 4, 1, 7]"
      ]
     },
     "execution_count": 2,
     "metadata": {},
     "output_type": "execute_result"
    }
   ],
   "source": [
    "nums = [2,5,1,3,4,7]\n",
    "n = 3\n",
    "ans = []\n",
    "\n",
    "for i in range(n):\n",
    "    ans.append(nums[i])\n",
    "    ans.append(nums[i+n])\n",
    "ans"
   ]
  },
  {
   "cell_type": "code",
   "execution_count": null,
   "metadata": {},
   "outputs": [
    {
     "data": {
      "image/png": "[encoded data removed]",
      "text/plain": [
       "<Figure size 432x288 with 1 Axes>"
      ]
     },
     "metadata": {
      "needs_background": "light"
     },
     "output_type": "display_data"
    }
   ],
   "source": [
    "\n",
    "import matplotlib.pyplot as plt \n",
    "  \n",
    "marks = [1, 2, 3, 2, 1, 2, 3, 2,  \n",
    "         1, 4, 5, 4, 3, 2, 5, 4,  \n",
    "         5, 4, 5, 3, 2, 1, 5] \n",
    "  \n",
    "plt.hist(marks, bins=[1, 1.5, 2.5, 4, 5], edgecolor=\"black\") \n",
    "plt.show() "
   ]
  },
  {
   "cell_type": "code",
   "execution_count": null,
   "metadata": {},
   "outputs": [
    {
     "data": {
      "text/plain": [
       "5"
      ]
     },
     "execution_count": 20,
     "metadata": {},
     "output_type": "execute_result"
    }
   ],
   "source": [
    "# mat = [[1,2,3],\n",
    "#        [4,5,6],\n",
    "#        [7,8,9]]\n",
    "\n",
    "mat = [[5]]\n",
    "\n",
    "total = 0\n",
    "for i in range(len(mat)):\n",
    "    total += mat[i][i] + mat[len(mat)-i-1][i]\n",
    "if len(mat) % 2 != 0:\n",
    "    total -= mat[len(mat)//2][len(mat)//2]\n",
    "\n",
    "\n",
    "total"
   ]
  },
  {
   "cell_type": "code",
   "execution_count": null,
   "metadata": {},
   "outputs": [
    {
     "data": {
      "text/plain": [
       "'f'"
      ]
     },
     "execution_count": 28,
     "metadata": {},
     "output_type": "execute_result"
    }
   ],
   "source": [
    "# 1844\n",
    "\n",
    "def shift(c, x):\n",
    "    return chr(ord(c)+x)\n",
    "\n",
    "shift('a', 5)"
   ]
  },
  {
   "cell_type": "code",
   "execution_count": null,
   "metadata": {},
   "outputs": [
    {
     "data": {
      "text/plain": [
       "True"
      ]
     },
     "execution_count": 14,
     "metadata": {},
     "output_type": "execute_result"
    }
   ],
   "source": [
    "coordinates = \"h8\"\n",
    "\n",
    "ord(coordinates[0]) % 2 == 0 or ord(coordinates[1]) % 2 == 0"
   ]
  },
  {
   "cell_type": "code",
   "execution_count": null,
   "metadata": {},
   "outputs": [
    {
     "data": {
      "text/plain": [
       "38.0"
      ]
     },
     "execution_count": 40,
     "metadata": {},
     "output_type": "execute_result"
    }
   ],
   "source": [
    "import numpy as np\n",
    "nums = [34,46,52,29,41,38,36,28]\n",
    "\n",
    "np.mean(nums)"
   ]
  },
  {
   "cell_type": "code",
   "execution_count": null,
   "metadata": {},
   "outputs": [
    {
     "data": {
      "text/plain": [
       "67.14285714285714"
      ]
     },
     "execution_count": 41,
     "metadata": {},
     "output_type": "execute_result"
    }
   ],
   "source": [
    "np.var(nums, ddof=1)"
   ]
  },
  {
   "cell_type": "code",
   "execution_count": 200,
   "metadata": {},
   "outputs": [
    {
     "data": {
      "text/plain": [
       "0"
      ]
     },
     "execution_count": 200,
     "metadata": {},
     "output_type": "execute_result"
    }
   ],
   "source": [
    "import random\n",
    "random.randint(0,10)"
   ]
  },
  {
   "cell_type": "code",
   "execution_count": 287,
   "metadata": {},
   "outputs": [],
   "source": [
    "def partition(arr, l, r, part_idx):\n",
    "\n",
    "    x = arr[part_idx]\n",
    "    i = l\n",
    "    \n",
    "    for j in range(l, r):\n",
    "        if arr[j] < x:\n",
    "            arr[i], arr[j] = arr[j], arr[i]\n",
    "            i += 1\n",
    "\n",
    "\n",
    "    arr[i], arr[r] = arr[r], arr[i]\n",
    "\n",
    "    return i\n",
    "\n",
    "# nums = [7, 10, 4, 3, 20, 15]\n",
    "# print(partition(nums, 0, len(nums)-1))\n",
    "# nums"
   ]
  },
  {
   "cell_type": "code",
   "execution_count": 295,
   "metadata": {},
   "outputs": [],
   "source": [
    "nums = [7, 10, 4, 3, 20, 15]\n",
    "nums = [3,2,1,5,6,4]\n",
    "nums = [3,2,3,1,2,4,5,5,6]\n",
    "k = 4\n",
    "def findit(nums, l, r, k):\n",
    "\n",
    "    part_idx = random.randint(l,r)\n",
    "    idx = partition(nums, l, r, part_idx)\n",
    "\n",
    "    if idx == len(nums)-k:\n",
    "        return nums[idx]\n",
    "    \n",
    "    elif idx < len(nums)-k:\n",
    "        # recurse right\n",
    "        return findit(nums, idx+1, r, k)\n",
    "    else:  \n",
    "        # recurse left\n",
    "        return findit(nums, l, idx-1, k)\n",
    "\n",
    "# [findit(nums, 0, len(nums)-1, k) for _ in range(100)]"
   ]
  },
  {
   "cell_type": "code",
   "execution_count": 289,
   "metadata": {},
   "outputs": [
    {
     "data": {
      "text/plain": [
       "{1, 2, 3, 4, 5, 6}"
      ]
     },
     "execution_count": 289,
     "metadata": {},
     "output_type": "execute_result"
    }
   ],
   "source": [
    "nums = [7, 10, 4, 3, 20, 15]\n",
    "nums = [3,2,1,5,6,4]\n",
    "nums = [3,2,3,1,2,4,5,5,6]\n",
    "k = 4\n",
    "def findit(nums, k):\n",
    "    l, r = 0, len(nums)-1\n",
    "\n",
    "    while True:\n",
    "\n",
    "        part_idx = random.randint(l, r)\n",
    "        idx = partition(nums, l, r, part_idx)\n",
    "\n",
    "        if idx == len(nums)-k:\n",
    "            return nums[idx]\n",
    "        \n",
    "        elif idx < len(nums)-k:\n",
    "            l = idx+1\n",
    "        else:  \n",
    "            r = idx-1\n",
    "\n",
    "set([findit(nums, k) for _ in range(100000)])"
   ]
  },
  {
   "cell_type": "code",
   "execution_count": 298,
   "metadata": {},
   "outputs": [],
   "source": [
    "# 215 -- quick_select solutions... does not pass test case 40\n",
    "\n",
    "def findKthLargest(nums, k: int) -> int:\n",
    "    def partition(arr, l, r):\n",
    "\n",
    "        part_idx = random.randint(l, r)\n",
    "        x = arr[part_idx]\n",
    "        arr[part_idx], arr[r] = arr[r], arr[part_idx]\n",
    "        i = l\n",
    "        \n",
    "        for j in range(l, r):\n",
    "            if arr[j] < x:\n",
    "                arr[i], arr[j] = arr[j], arr[i]\n",
    "                i += 1\n",
    "\n",
    "\n",
    "        arr[i], arr[r] = arr[r], arr[i]\n",
    "\n",
    "        return i\n",
    "\n",
    "    l, r = 0, len(nums)-1\n",
    "\n",
    "    while True:\n",
    "\n",
    "        \n",
    "        idx = partition(nums, l, r)\n",
    "\n",
    "        if idx == len(nums)-k:\n",
    "            return nums[idx]\n",
    "        \n",
    "        elif idx < len(nums)-k:\n",
    "            l = idx+1\n",
    "        else:  \n",
    "            r = idx-1"
   ]
  },
  {
   "cell_type": "code",
   "execution_count": 299,
   "metadata": {},
   "outputs": [
    {
     "data": {
      "text/plain": [
       "{4}"
      ]
     },
     "execution_count": 299,
     "metadata": {},
     "output_type": "execute_result"
    }
   ],
   "source": [
    "nums = [3,2,3,1,2,4,5,5,6]\n",
    "k = 4\n",
    "set([findKthLargest(nums, k) for _ in range(10000)])"
   ]
  },
  {
   "cell_type": "code",
   "execution_count": 4,
   "metadata": {},
   "outputs": [
    {
     "data": {
      "text/plain": [
       "[1, 0, 2, 1]"
      ]
     },
     "execution_count": 4,
     "metadata": {},
     "output_type": "execute_result"
    }
   ],
   "source": [
    "# leet 1720\n",
    "\n",
    "encoded = [1,2,3]\n",
    "first = 1\n",
    "ans = [first]\n",
    "\n",
    "for i in encoded:\n",
    "    ans.append(ans[-1]^i)\n",
    "\n",
    "ans"
   ]
  },
  {
   "cell_type": "code",
   "execution_count": 2,
   "metadata": {},
   "outputs": [
    {
     "data": {
      "text/plain": [
       "deque([1, 0, 0, 1])"
      ]
     },
     "execution_count": 2,
     "metadata": {},
     "output_type": "execute_result"
    }
   ],
   "source": [
    "from collections import deque\n",
    "\n",
    "students = deque([1,1,0,0])\n",
    "sandwiches = deque([0,1,0,1])\n",
    "\n",
    "students.append(students.popleft())\n",
    "students"
   ]
  },
  {
   "cell_type": "code",
   "execution_count": 18,
   "metadata": {},
   "outputs": [
    {
     "name": "stdout",
     "output_type": "stream",
     "text": [
      "True\n"
     ]
    }
   ],
   "source": [
    "s = \"abc\"\n",
    "t = \"ahbgdc\"\n",
    "\n",
    "j = 0\n",
    "for i in t:\n",
    "    if s[j] == i:\n",
    "        j += 1\n",
    "\n",
    "print(j == len(s))"
   ]
  },
  {
   "cell_type": "code",
   "execution_count": 25,
   "metadata": {},
   "outputs": [
    {
     "data": {
      "text/plain": [
       "11"
      ]
     },
     "execution_count": 25,
     "metadata": {},
     "output_type": "execute_result"
    }
   ],
   "source": [
    "int(\"1011\", 2)"
   ]
  },
  {
   "cell_type": "code",
   "execution_count": 76,
   "metadata": {},
   "outputs": [
    {
     "data": {
      "text/plain": [
       "['11:00',\n",
       " '10:32',\n",
       " '10:16',\n",
       " '10:08',\n",
       " '10:04',\n",
       " '10:02',\n",
       " '10:01',\n",
       " '9:32',\n",
       " '9:16',\n",
       " '9:08',\n",
       " '9:04',\n",
       " '9:02',\n",
       " '9:01',\n",
       " '8:48',\n",
       " '8:40',\n",
       " '8:36',\n",
       " '8:34',\n",
       " '8:33',\n",
       " '8:24',\n",
       " '8:20',\n",
       " '8:18',\n",
       " '8:17',\n",
       " '8:12',\n",
       " '8:10',\n",
       " '8:09',\n",
       " '8:06',\n",
       " '8:05',\n",
       " '8:03',\n",
       " '7:00',\n",
       " '6:32',\n",
       " '6:16',\n",
       " '6:08',\n",
       " '6:04',\n",
       " '6:02',\n",
       " '6:01',\n",
       " '5:32',\n",
       " '5:16',\n",
       " '5:08',\n",
       " '5:04',\n",
       " '5:02',\n",
       " '5:01',\n",
       " '4:48',\n",
       " '4:40',\n",
       " '4:36',\n",
       " '4:34',\n",
       " '4:33',\n",
       " '4:24',\n",
       " '4:20',\n",
       " '4:18',\n",
       " '4:17',\n",
       " '4:12',\n",
       " '4:10',\n",
       " '4:09',\n",
       " '4:06',\n",
       " '4:05',\n",
       " '4:03',\n",
       " '3:32',\n",
       " '3:16',\n",
       " '3:08',\n",
       " '3:04',\n",
       " '3:02',\n",
       " '3:01',\n",
       " '2:48',\n",
       " '2:40',\n",
       " '2:36',\n",
       " '2:34',\n",
       " '2:33',\n",
       " '2:24',\n",
       " '2:20',\n",
       " '2:18',\n",
       " '2:17',\n",
       " '2:12',\n",
       " '2:10',\n",
       " '2:09',\n",
       " '2:06',\n",
       " '2:05',\n",
       " '2:03',\n",
       " '1:48',\n",
       " '1:40',\n",
       " '1:36',\n",
       " '1:34',\n",
       " '1:33',\n",
       " '1:24',\n",
       " '1:20',\n",
       " '1:18',\n",
       " '1:17',\n",
       " '1:12',\n",
       " '1:10',\n",
       " '1:09',\n",
       " '1:06',\n",
       " '1:05',\n",
       " '1:03',\n",
       " '0:56',\n",
       " '0:52',\n",
       " '0:50',\n",
       " '0:49',\n",
       " '0:44',\n",
       " '0:42',\n",
       " '0:41',\n",
       " '0:38',\n",
       " '0:37',\n",
       " '0:35',\n",
       " '0:28',\n",
       " '0:26',\n",
       " '0:25',\n",
       " '0:22',\n",
       " '0:21',\n",
       " '0:19',\n",
       " '0:14',\n",
       " '0:13',\n",
       " '0:11',\n",
       " '0:07']"
      ]
     },
     "execution_count": 76,
     "metadata": {},
     "output_type": "execute_result"
    }
   ],
   "source": [
    "from itertools import combinations\n",
    "\n",
    "combs = list(combinations(range(10), 3))\n",
    "\n",
    "bin_combs = [[1 if i in comb else 0 for i in range(10)] for comb in combs]\n",
    "# list(filter(lambda x: x, list(map(watch, bin_combs))))\n",
    "[watch(x) for x in bin_combs if watch(x)]"
   ]
  },
  {
   "cell_type": "code",
   "execution_count": 62,
   "metadata": {},
   "outputs": [
    {
     "data": {
      "text/plain": [
       "1"
      ]
     },
     "execution_count": 62,
     "metadata": {},
     "output_type": "execute_result"
    }
   ],
   "source": [
    "arr = [0, 1, 0, 0, 0, 0, 0, 0, 0, 1]\n",
    "arr[:4] + arr[4:]\n",
    "int(\"\".join(str(x) for x in arr[4:]), 2)"
   ]
  },
  {
   "cell_type": "code",
   "execution_count": 75,
   "metadata": {},
   "outputs": [],
   "source": [
    "def watch(arr):\n",
    "    hour = int(\"\".join(str(x) for x in arr[:4]), 2)\n",
    "    minute = int(\"\".join(str(x) for x in arr[4:]), 2)\n",
    "\n",
    "    if hour > 11 or minute > 59:\n",
    "        return \"\"\n",
    "\n",
    "    return str(hour) + \":\" + (str(minute) if minute >= 10 else \"0\" + str(minute))"
   ]
  },
  {
   "cell_type": "code",
   "execution_count": 82,
   "metadata": {},
   "outputs": [
    {
     "data": {
      "text/plain": [
       "[('Q...', '.Q..', '..Q.', '...Q')]"
      ]
     },
     "execution_count": 82,
     "metadata": {},
     "output_type": "execute_result"
    }
   ],
   "source": [
    "list(combinations([\"Q...\", \".Q..\", \"..Q.\", \"...Q\"], 4))"
   ]
  },
  {
   "cell_type": "code",
   "execution_count": 98,
   "metadata": {},
   "outputs": [
    {
     "data": {
      "text/plain": [
       "[([1, 0, 0, 0], [0, 1, 0, 0]),\n",
       " ([1, 0, 0, 0], [0, 0, 1, 0]),\n",
       " ([1, 0, 0, 0], [0, 0, 0, 1]),\n",
       " ([0, 1, 0, 0], [0, 0, 1, 0]),\n",
       " ([0, 1, 0, 0], [0, 0, 0, 1]),\n",
       " ([0, 0, 1, 0], [0, 0, 0, 1])]"
      ]
     },
     "execution_count": 98,
     "metadata": {},
     "output_type": "execute_result"
    }
   ],
   "source": [
    "# combs = list(combinations(range(4), 4))\n",
    "\n",
    "# [[1 if i in comb else 0 for i in range(10)] for comb in combs]\n",
    "\n",
    "col = 1\n",
    "n = 4\n",
    "\n",
    "list(combinations([[1 if i == col else 0 for i in range(n)] for col in range(n)], 2))"
   ]
  },
  {
   "cell_type": "code",
   "execution_count": 115,
   "metadata": {},
   "outputs": [
    {
     "data": {
      "text/plain": [
       "[(0, 1, 2, 3),\n",
       " (0, 1, 3, 2),\n",
       " (0, 2, 1, 3),\n",
       " (0, 2, 3, 1),\n",
       " (0, 3, 1, 2),\n",
       " (0, 3, 2, 1),\n",
       " (1, 0, 2, 3),\n",
       " (1, 0, 3, 2),\n",
       " (1, 2, 0, 3),\n",
       " (1, 2, 3, 0),\n",
       " (1, 3, 0, 2),\n",
       " (1, 3, 2, 0),\n",
       " (2, 0, 1, 3),\n",
       " (2, 0, 3, 1),\n",
       " (2, 1, 0, 3),\n",
       " (2, 1, 3, 0),\n",
       " (2, 3, 0, 1),\n",
       " (2, 3, 1, 0),\n",
       " (3, 0, 1, 2),\n",
       " (3, 0, 2, 1),\n",
       " (3, 1, 0, 2),\n",
       " (3, 1, 2, 0),\n",
       " (3, 2, 0, 1),\n",
       " (3, 2, 1, 0)]"
      ]
     },
     "execution_count": 115,
     "metadata": {},
     "output_type": "execute_result"
    }
   ],
   "source": [
    "from itertools import permutations\n",
    "n = 4\n",
    "\n",
    "list(permutations([col for col in range(n)]))"
   ]
  },
  {
   "cell_type": "code",
   "execution_count": 170,
   "metadata": {},
   "outputs": [],
   "source": [
    "def iscapture(pos1, pos2):\n",
    "    x_dist = abs(pos2[0]-pos1[0])\n",
    "    y_dist = abs(pos2[1]-pos1[1])\n",
    "    return x_dist == 0 or y_dist == 0 or x_dist == y_dist"
   ]
  },
  {
   "cell_type": "code",
   "execution_count": 171,
   "metadata": {},
   "outputs": [
    {
     "data": {
      "text/plain": [
       "False"
      ]
     },
     "execution_count": 171,
     "metadata": {},
     "output_type": "execute_result"
    }
   ],
   "source": [
    "# (x,y)\n",
    "pos1 = (1,0)\n",
    "pos2 = (2,3)\n",
    "\n",
    "iscapture(pos1, pos2)"
   ]
  },
  {
   "cell_type": "code",
   "execution_count": 156,
   "metadata": {},
   "outputs": [
    {
     "name": "stdout",
     "output_type": "stream",
     "text": [
      "(1, 0) (3, 0)\n",
      "(1, 0) (0, 1)\n",
      "(1, 0) (2, 2)\n",
      "(3, 1) (0, 1)\n",
      "(3, 1) (2, 2)\n",
      "(0, 2) (2, 2)\n"
     ]
    }
   ],
   "source": [
    "t = (1, 3, 0, 2)\n",
    "\n",
    "for pos1 in enumerate(t):\n",
    "    for pos2 in enumerate(t[pos1[0]+1:]):\n",
    "        print(pos1[::-1], (pos2[1], pos2[0]+pos1[0]))\n",
    "        # print(iscapture(pos1[::-1], (pos2[1], pos2[1]+pos1[0])))"
   ]
  },
  {
   "cell_type": "code",
   "execution_count": 181,
   "metadata": {},
   "outputs": [],
   "source": [
    "n = 4\n",
    "# t = (1, 3, 0, 2)\n",
    "t = (3, 2, 0, 1)\n",
    "\n",
    "def islegal(t):\n",
    "    legal = True\n",
    "    for y1 in range(n):\n",
    "        for y2 in range(y1+1, n, 1):\n",
    "            # print((t[y1], y1), (t[y2], y2))\n",
    "            legal = legal and not iscapture((t[y1], y1), (t[y2], y2))\n",
    "\n",
    "    return legal"
   ]
  },
  {
   "cell_type": "code",
   "execution_count": 197,
   "metadata": {},
   "outputs": [
    {
     "data": {
      "text/plain": [
       "'...Q'"
      ]
     },
     "execution_count": 197,
     "metadata": {},
     "output_type": "execute_result"
    }
   ],
   "source": [
    "# nqueens\n",
    "\n",
    "row = 0\n",
    "n = 4\n",
    "\n",
    "def queen_format(row, n):\n",
    "    assert row < n\n",
    "    s = \"\"\n",
    "\n",
    "    for i in range(n):\n",
    "        s += \"Q\" if i == row else \".\"\n",
    "\n",
    "    return s\n",
    "\n",
    "queen_format(3, 4)"
   ]
  },
  {
   "cell_type": "code",
   "execution_count": 201,
   "metadata": {},
   "outputs": [
    {
     "data": {
      "text/plain": [
       "[['.Q..', '...Q', 'Q...', '..Q.'], ['..Q.', 'Q...', '...Q', '.Q..']]"
      ]
     },
     "execution_count": 201,
     "metadata": {},
     "output_type": "execute_result"
    }
   ],
   "source": [
    "from itertools import permutations\n",
    "n = 4\n",
    "\n",
    "raw = list(filter(islegal, list(permutations([col for col in range(n)]))))\n",
    "[[queen_format(elem, n) for elem in t] for t in raw]"
   ]
  },
  {
   "cell_type": "code",
   "execution_count": 5,
   "metadata": {},
   "outputs": [
    {
     "data": {
      "text/plain": [
       "[6]"
      ]
     },
     "execution_count": 5,
     "metadata": {},
     "output_type": "execute_result"
    }
   ],
   "source": [
    "[6,5,7][0:1]"
   ]
  },
  {
   "cell_type": "code",
   "execution_count": null,
   "metadata": {},
   "outputs": [],
   "source": [
    "# 120\n",
    "\n",
    "class Solution:\n",
    "    def minimumTotal(self, triangle: List[List[int]]) -> int:\n",
    "        tab = [0]\n",
    "        # tab1 = []\n",
    "\n",
    "        for row in triangle:\n",
    "            tab1 = []\n",
    "            for idx, elem in enumerate(row):\n",
    "                # print(elem)\n",
    "                low = idx-1 if idx-1 > 0 else 0\n",
    "                high = idx+1 if idx+1 < len(row) else len(row)\n",
    "                # print(tab1)\n",
    "                tab1.append(elem + min(tab[low:high]))\n",
    "            # tab.extend(tab1)\n",
    "            tab = list(tab1)\n",
    "\n",
    "        return min(tab)"
   ]
  },
  {
   "cell_type": "code",
   "execution_count": 25,
   "metadata": {},
   "outputs": [
    {
     "data": {
      "text/plain": [
       "'eeeeoolldctv'"
      ]
     },
     "execution_count": 25,
     "metadata": {},
     "output_type": "execute_result"
    }
   ],
   "source": [
    "s = \"loveleetcode\"\n",
    "tab = {}\n",
    "\n",
    "for l in s:\n",
    "    if l in tab:\n",
    "        tab[l] += 1\n",
    "    else:\n",
    "        tab[l] = 1\n",
    "\n",
    "for i, e in enumerate(sorted(tab.items(), key=lambda x: x[1])):\n",
    "    tab[e[0]] += i\n",
    "\n",
    "\"\".join(sorted(s, key=lambda x:tab[x], reverse=True))\n",
    "\n",
    "# sorted(tab.items(), key=lambda x: x[1])\n",
    "# tab"
   ]
  },
  {
   "cell_type": "code",
   "execution_count": 28,
   "metadata": {},
   "outputs": [
    {
     "data": {
      "text/plain": [
       "6"
      ]
     },
     "execution_count": 28,
     "metadata": {},
     "output_type": "execute_result"
    }
   ],
   "source": [
    "def count_digits(num):\n",
    "    count = 0\n",
    "    \n",
    "    while num:\n",
    "        count += 1\n",
    "        num = num // 10\n",
    "\n",
    "    return count\n",
    "\n",
    "count_digits(100000)"
   ]
  },
  {
   "cell_type": "code",
   "execution_count": 7,
   "metadata": {},
   "outputs": [
    {
     "name": "stdout",
     "output_type": "stream",
     "text": [
      "ab\n",
      "ab\n"
     ]
    },
    {
     "data": {
      "text/plain": [
       "2"
      ]
     },
     "execution_count": 7,
     "metadata": {},
     "output_type": "execute_result"
    }
   ],
   "source": [
    "sequence = \"ababc\"\n",
    "word = \"ab\"\n",
    "\n",
    "# check = True\n",
    "count = 0\n",
    "i = 0\n",
    "while i < len(sequence)-len(word)+1:\n",
    "    print(sequence[i:i+len(word)])\n",
    "    if sequence[i:i+len(word)] == word:\n",
    "        count += 1\n",
    "        i += len(word)\n",
    "    else:\n",
    "        i += 1\n",
    "\n",
    "count"
   ]
  },
  {
   "cell_type": "code",
   "execution_count": 9,
   "metadata": {},
   "outputs": [
    {
     "data": {
      "text/plain": [
       "[[5, 10], [3, 9], [4, 7], [2, 5]]"
      ]
     },
     "execution_count": 9,
     "metadata": {},
     "output_type": "execute_result"
    }
   ],
   "source": [
    "boxTypes = [[5,10],[2,5],[4,7],[3,9]]\n",
    "sorted(boxTypes, key=lambda x:x[1], reverse=True)"
   ]
  },
  {
   "cell_type": "code",
   "execution_count": 11,
   "metadata": {},
   "outputs": [
    {
     "data": {
      "text/plain": [
       "'book'"
      ]
     },
     "execution_count": 11,
     "metadata": {},
     "output_type": "execute_result"
    }
   ],
   "source": [
    "s = \"textbook\"\n",
    "s[len(s)//2:]"
   ]
  },
  {
   "cell_type": "code",
   "execution_count": 2,
   "metadata": {},
   "outputs": [
    {
     "data": {
      "text/plain": [
       "[1, 2, 3]"
      ]
     },
     "execution_count": 2,
     "metadata": {},
     "output_type": "execute_result"
    }
   ],
   "source": [
    "lst = [1,2,3,4]\n",
    "\n",
    "lst[:len(lst)-1]"
   ]
  },
  {
   "cell_type": "code",
   "execution_count": null,
   "metadata": {},
   "outputs": [],
   "source": [
    "# Definition for a binary tree node.\n",
    "# class TreeNode:\n",
    "#     def __init__(self, val=0, left=None, right=None):\n",
    "#         self.val = val\n",
    "#         self.left = left\n",
    "#         self.right = right\n",
    "class Solution:\n",
    "    def flatten(self, root: Optional[TreeNode]) -> None:\n",
    "        global lst\n",
    "        lst = []\n",
    "        \"\"\"\n",
    "        Do not return anything, modify root in-place instead.\n",
    "        \"\"\"\n",
    "        print(root)\n",
    "        def listit(root):\n",
    "            if not root:\n",
    "                return\n",
    "\n",
    "            lst.append(root.val)\n",
    "\n",
    "            listit(root.left)\n",
    "            listit(root.right)\n",
    "\n",
    "        listit(root)\n",
    "\n",
    "        print(lst)\n",
    "\n",
    "        root = curr = TreeNode()\n",
    "\n",
    "        for i in lst[:len(lst)-1]:\n",
    "            curr.val = i\n",
    "            curr.right = TreeNode()\n",
    "            curr.left = None\n",
    "            curr = curr.right\n",
    "\n",
    "        # curr.val = lst[-1]\n",
    "\n",
    "        # while root.right:\n",
    "        #     print(root.val)\n",
    "        #     root = root.right\n",
    "\n",
    "        print(root)"
   ]
  },
  {
   "cell_type": "code",
   "execution_count": null,
   "metadata": {},
   "outputs": [],
   "source": [
    "# 129\n",
    "class Solution:\n",
    "    def sumNumbers(self, root: Optional[TreeNode], num=0) -> int:\n",
    "\n",
    "        if not root:\n",
    "            return 0\n",
    "\n",
    "        # leaf node\n",
    "        if not root.left and not root.right:\n",
    "            return num*10+root.val\n",
    "\n",
    "        return self.sumNumbers(root.left, num*10+root.val) + self.sumNumbers(root.right, num*10+root.val)"
   ]
  },
  {
   "cell_type": "code",
   "execution_count": null,
   "metadata": {},
   "outputs": [],
   "source": [
    "# 1736\n",
    "class Solution:\n",
    "    def maximumTime(self, time: str) -> str:\n",
    "        times = [2,0,0,5,9]\n",
    "\n",
    "        ans = \"\"\n",
    "\n",
    "        for i, l in enumerate(time):\n",
    "            if l == \"?\" and i == 1:\n",
    "                ans += \"3\" if ans == \"2\" else \"9\"\n",
    "            elif l == \"?\" and i == 0:\n",
    "                ans += \"2\" if time[1] == \"?\" or int(time[1]) <= 3 else \"1\"\n",
    "            elif l == \"?\":\n",
    "                ans += str(times[i])\n",
    "            else:\n",
    "                ans += l\n",
    "\n",
    "        return ans"
   ]
  },
  {
   "cell_type": "code",
   "execution_count": null,
   "metadata": {},
   "outputs": [],
   "source": [
    "# 1773\n",
    "class Solution:\n",
    "    def countMatches(self, items: List[List[str]], ruleKey: str, ruleValue: str) -> int:\n",
    "        ruleMap = {\"type\":0, \"color\":1, \"name\":2}\n",
    "        count = 0\n",
    "\n",
    "        for item in items:\n",
    "            count += 1 if item[ruleMap[ruleKey]] == ruleValue else 0\n",
    "\n",
    "        return count"
   ]
  },
  {
   "cell_type": "code",
   "execution_count": 5,
   "metadata": {},
   "outputs": [
    {
     "data": {
      "text/plain": [
       "True"
      ]
     },
     "execution_count": 5,
     "metadata": {},
     "output_type": "execute_result"
    }
   ],
   "source": [
    "set(\"ab\").issubset(set(\"babd\"))"
   ]
  },
  {
   "cell_type": "code",
   "execution_count": 9,
   "metadata": {},
   "outputs": [
    {
     "data": {
      "text/plain": [
       "{'123', '25', '5'}"
      ]
     },
     "execution_count": 9,
     "metadata": {},
     "output_type": "execute_result"
    }
   ],
   "source": [
    "set(\"  123 25 5 5\".split())"
   ]
  },
  {
   "cell_type": "code",
   "execution_count": 11,
   "metadata": {},
   "outputs": [
    {
     "data": {
      "text/plain": [
       "[18, 6, 6, 6, 1, -1]"
      ]
     },
     "execution_count": 11,
     "metadata": {},
     "output_type": "execute_result"
    }
   ],
   "source": [
    "arr = [17,18,5,4,6,1]\n",
    "mx = arr[-1]\n",
    "arr[-1] = -1\n",
    "\n",
    "for i in range(len(arr)-2, -1, -1):\n",
    "    temp = arr[i]\n",
    "    arr[i] = mx\n",
    "    mx = max(mx, temp)\n",
    "\n",
    "arr"
   ]
  },
  {
   "cell_type": "code",
   "execution_count": 2,
   "metadata": {},
   "outputs": [
    {
     "data": {
      "text/plain": [
       "[4, 5, 0, 1, 2, 3]"
      ]
     },
     "execution_count": 2,
     "metadata": {},
     "output_type": "execute_result"
    }
   ],
   "source": [
    "nums = [5,0,1,2,3,4]\n",
    "[nums[i] for i in nums]"
   ]
  },
  {
   "cell_type": "code",
   "execution_count": 1,
   "metadata": {},
   "outputs": [
    {
     "data": {
      "text/plain": [
       "[0, 1, 2]"
      ]
     },
     "execution_count": 1,
     "metadata": {},
     "output_type": "execute_result"
    }
   ],
   "source": [
    "nums = [0,1,2,3,4]\n",
    "index = [0,1,2,2,1]\n",
    "\n"
   ]
  },
  {
   "cell_type": "code",
   "execution_count": 15,
   "metadata": {},
   "outputs": [
    {
     "data": {
      "text/plain": [
       "1.338"
      ]
     },
     "execution_count": 15,
     "metadata": {},
     "output_type": "execute_result"
    }
   ],
   "source": [
    "import random\n",
    "\n",
    "n = 1000\n",
    "total = 0\n",
    "\n",
    "for _ in range(n):\n",
    "    total += 2 if random.randint(1,3) == 3 else 1\n",
    "\n",
    "total / n"
   ]
  },
  {
   "cell_type": "code",
   "execution_count": 1,
   "metadata": {},
   "outputs": [
    {
     "data": {
      "text/plain": [
       "[1, 2, 1, 1, 2, 1]"
      ]
     },
     "execution_count": 1,
     "metadata": {},
     "output_type": "execute_result"
    }
   ],
   "source": [
    "lst = [1,2,1]\n",
    "\n",
    "lst + lst"
   ]
  },
  {
   "cell_type": "code",
   "execution_count": 6,
   "metadata": {},
   "outputs": [
    {
     "data": {
      "text/plain": [
       "'cbad'"
      ]
     },
     "execution_count": 6,
     "metadata": {},
     "output_type": "execute_result"
    }
   ],
   "source": [
    "order = \"cba\"\n",
    "s = \"abcd\"\n",
    "tab = {e:i for i, e in enumerate(order)}\n",
    "\n",
    "\"\".join(sorted(s, key=lambda x: 27 if x not in tab else tab[x]))"
   ]
  },
  {
   "cell_type": "code",
   "execution_count": 8,
   "metadata": {},
   "outputs": [
    {
     "data": {
      "text/plain": [
       "[1, 3, 6, 10]"
      ]
     },
     "execution_count": 8,
     "metadata": {},
     "output_type": "execute_result"
    }
   ],
   "source": [
    "nums = [1,2,3,4]\n",
    "acc = [0]\n",
    "\n",
    "def accumulate(acc, num):\n",
    "    acc[0] += num\n",
    "    return acc[0]\n",
    "\n",
    "[accumulate(acc, num) for num in nums]"
   ]
  },
  {
   "cell_type": "code",
   "execution_count": 1,
   "metadata": {},
   "outputs": [
    {
     "data": {
      "text/plain": [
       "'9669'"
      ]
     },
     "execution_count": 1,
     "metadata": {},
     "output_type": "execute_result"
    }
   ],
   "source": [
    "str(9669)"
   ]
  },
  {
   "cell_type": "code",
   "execution_count": 16,
   "metadata": {},
   "outputs": [
    {
     "data": {
      "text/plain": [
       "9969"
      ]
     },
     "execution_count": 16,
     "metadata": {},
     "output_type": "execute_result"
    }
   ],
   "source": [
    "s = \"9669\"\n",
    "mx = 0\n",
    "\n",
    "for i, e in enumerate(s):\n",
    "    mx = max(mx, int(s[:i] + (\"9\" if e == \"6\" else \"6\") + s[i+1:]))\n",
    "\n",
    "mx"
   ]
  },
  {
   "cell_type": "code",
   "execution_count": 9,
   "metadata": {},
   "outputs": [
    {
     "data": {
      "text/plain": [
       "7"
      ]
     },
     "execution_count": 9,
     "metadata": {},
     "output_type": "execute_result"
    }
   ],
   "source": [
    "nums = [1,1,1]\n",
    "\n",
    "int(\"\".join([str(num) for num in nums]), 2)"
   ]
  },
  {
   "cell_type": "code",
   "execution_count": 6,
   "metadata": {},
   "outputs": [
    {
     "data": {
      "text/plain": [
       "{2: 3}"
      ]
     },
     "execution_count": 6,
     "metadata": {},
     "output_type": "execute_result"
    }
   ],
   "source": [
    "from random import choice\n",
    "\n",
    "d = {1:1, 2:3}\n",
    "\n",
    "d.pop(1)\n",
    "\n",
    "d"
   ]
  },
  {
   "cell_type": "code",
   "execution_count": 10,
   "metadata": {},
   "outputs": [],
   "source": [
    "# 988\n",
    "\n",
    "class Solution:\n",
    "    def smallestFromLeaf(self, root) -> str:\n",
    "        smallest = \"z\"*8500\n",
    "        def rec_smallest(root, s):\n",
    "            nonlocal smallest\n",
    "            if not root:\n",
    "                return\n",
    "            if not root.left and not root.right:\n",
    "                smallest = min(smallest, chr(root.val+97)+s)\n",
    "            \n",
    "            rec_smallest(root.left, chr(root.val+97)+s)\n",
    "            rec_smallest(root.right, chr(root.val+97)+s)\n",
    "\n",
    "        rec_smallest(root, \"\")\n",
    "\n",
    "        return smallest"
   ]
  },
  {
   "cell_type": "code",
   "execution_count": 9,
   "metadata": {},
   "outputs": [],
   "source": [
    "# 1971\n",
    "\n",
    "class Solution:\n",
    "    def validPath(self, n: int, edges, source: int, destination: int) -> bool:\n",
    "        parent = [i for i in range(n)]\n",
    "        rank = [0] * n\n",
    "\n",
    "        def find(i):\n",
    "            if parent[i] != i:\n",
    "                parent[i] = find(parent[i])\n",
    "            return parent[i]\n",
    "\n",
    "        def union(i, j):\n",
    "            irep = find(i)\n",
    "            jrep = find(j)\n",
    "\n",
    "            # same set\n",
    "            if irep == jrep:\n",
    "                return\n",
    "            \n",
    "            irank = rank[irep]\n",
    "            jrank = rank[jrep]\n",
    "\n",
    "            if irank < jrank:\n",
    "                parent[irep] = jrep\n",
    "\n",
    "            elif jrank < irank:\n",
    "                parent[jrep] = irep\n",
    "\n",
    "            else:\n",
    "                parent[irep] = jrep\n",
    "                rank[jrep] += 1\n",
    "\n",
    "                \n",
    "        for edge in edges:\n",
    "            union(edge[0], edge[1])\n",
    "\n",
    "        # if source and destination have same representative, then in same\n",
    "        # set, return True, else False\n",
    "        return find(source) == find(destination)"
   ]
  },
  {
   "cell_type": "code",
   "execution_count": 2,
   "metadata": {},
   "outputs": [],
   "source": [
    "# 752\n",
    "\n",
    "class Solution:\n",
    "    def openLock(self, deadends, target: str) -> int:\n",
    "        tab = {i:str(int(i)-1)+str(int(i)+1) for i in \"12345678\"}\n",
    "        tab[\"0\"] = \"91\"\n",
    "        tab[\"9\"] = \"80\"\n",
    "\n",
    "        from collections import deque\n",
    "\n",
    "        q = deque([(\"0000\", 1)])\n",
    "        forbid = set(deadends)\n",
    "        if \"0000\" in forbid:\n",
    "            return -1\n",
    "        if target == \"0000\":\n",
    "            return 0\n",
    "\n",
    "        while q:\n",
    "            cur, depth = q.popleft()\n",
    "            forbid.add(cur)\n",
    "            \n",
    "            for i in range(4):\n",
    "                for j in tab[cur[i]]:\n",
    "                    comb = cur[:i]+j+cur[i+1:]\n",
    "                    if comb == target:\n",
    "                        return depth\n",
    "                    elif comb not in forbid:\n",
    "                        q.append((comb, depth+1))\n",
    "                        forbid.add(comb)\n",
    "\n",
    "\n",
    "        return -1"
   ]
  },
  {
   "cell_type": "code",
   "execution_count": 1,
   "metadata": {},
   "outputs": [
    {
     "data": {
      "text/plain": [
       "[(5, 1), (5, 6), (1, 6)]"
      ]
     },
     "execution_count": 1,
     "metadata": {},
     "output_type": "execute_result"
    }
   ],
   "source": [
    "import itertools\n",
    "\n",
    "nums = [5,1,6]\n",
    "\n",
    "list(itertools.combinations(nums, 2))"
   ]
  },
  {
   "cell_type": "code",
   "execution_count": 4,
   "metadata": {},
   "outputs": [],
   "source": [
    "# 1863. Sum of All Subset XOR Totals\n",
    "\n",
    "class Solution:\n",
    "    def subsetXORSum(self, nums) -> int:\n",
    "        def reduce(fun, iterable):\n",
    "            it = iter(iterable)\n",
    "            value = next(it)\n",
    "            for elem in it:\n",
    "                value = fun(value, elem)\n",
    "            return value\n",
    "\n",
    "        def subsets(nums):\n",
    "            if nums == []:\n",
    "                return [[]]\n",
    "            x = subsets(nums[1:])\n",
    "            return x + [[nums[0]] + y for y in x]\n",
    "\n",
    "        def gettotal(nums):\n",
    "            total = 0\n",
    "            for subset in subsets(nums):\n",
    "                if subset == []:\n",
    "                    continue\n",
    "                total += reduce(lambda a, b: a^b, subset)\n",
    "            return total\n",
    "\n",
    "        return gettotal(nums)"
   ]
  },
  {
   "cell_type": "code",
   "execution_count": 4,
   "metadata": {},
   "outputs": [],
   "source": [
    "class ListNode:\n",
    "    def __init__(self, val=0, next=None):\n",
    "        self.val = val\n",
    "        self.next = next"
   ]
  },
  {
   "cell_type": "code",
   "execution_count": 8,
   "metadata": {},
   "outputs": [
    {
     "name": "stdout",
     "output_type": "stream",
     "text": [
      "1\n",
      "2\n"
     ]
    },
    {
     "data": {
      "text/plain": [
       "<__main__.ListNode at 0x25021238760>"
      ]
     },
     "execution_count": 8,
     "metadata": {},
     "output_type": "execute_result"
    }
   ],
   "source": [
    "head = ListNode(val=1)\n",
    "head.next = ListNode(val=2)\n",
    "\n",
    "cur = head\n",
    "stack = []\n",
    "\n",
    "while cur:\n",
    "    print(cur.val)\n",
    "    stack.append(cur)\n",
    "    cur = cur.next\n",
    "\n",
    "stack.pop()"
   ]
  },
  {
   "cell_type": "code",
   "execution_count": null,
   "metadata": {},
   "outputs": [],
   "source": [
    "class Solution:\n",
    "    def doubleIt(self, head: Optional[ListNode]) -> Optional[ListNode]:\n",
    "        def countdigits(num):\n",
    "            count = 0\n",
    "\n",
    "            while num != 0:\n",
    "                num //= 10\n",
    "                count += 1\n",
    "\n",
    "            return count\n",
    "\n",
    "        cur = head\n",
    "        val = 0\n",
    "\n",
    "        while cur:\n",
    "            val = val*10+cur.val\n",
    "            cur = cur.next\n",
    "\n",
    "        if val == 0:\n",
    "            return head\n",
    "\n",
    "        val *= 2\n",
    "        count = countdigits(val)\n",
    "        cur = head\n",
    "\n",
    "        while cur:\n",
    "            cur.val = (val)//(10**(count-1))\n",
    "            val %= 10**(count-1)\n",
    "            count -= 1\n",
    "            if count and not cur.next:\n",
    "                cur.next = ListNode()\n",
    "            cur = cur.next\n",
    "\n",
    "        return head"
   ]
  },
  {
   "cell_type": "code",
   "execution_count": 3,
   "metadata": {},
   "outputs": [
    {
     "name": "stdout",
     "output_type": "stream",
     "text": [
      "1 1\n",
      "1 2\n",
      "1 3\n",
      "2 2\n",
      "2 3\n",
      "3 3\n"
     ]
    }
   ],
   "source": [
    "nums = [1,2,3]\n",
    "\n",
    "for i in range(len(nums)):\n",
    "    for j in range(i, len(nums)):\n",
    "        print(nums[i],nums[j])"
   ]
  },
  {
   "cell_type": "code",
   "execution_count": 35,
   "metadata": {},
   "outputs": [
    {
     "name": "stdout",
     "output_type": "stream",
     "text": [
      "[1]\n",
      "[2]\n",
      "[1]\n",
      "[1, 2]\n",
      "[3]\n",
      "[1]\n",
      "[1, 3]\n",
      "[2]\n",
      "[2, 3]\n",
      "[1]\n",
      "[1, 2]\n",
      "[1, 2, 3]\n"
     ]
    },
    {
     "data": {
      "text/plain": [
       "[[], [1], [2], [1, 2], [3], [1, 3], [2, 3], [1, 2, 3]]"
      ]
     },
     "execution_count": 35,
     "metadata": {},
     "output_type": "execute_result"
    }
   ],
   "source": [
    "ans = []\n",
    "for i in range(1<<len(nums)):\n",
    "    cur = []\n",
    "    for j in range(len(nums)):\n",
    "        if i & (1 << j) != 0:\n",
    "            cur.append(nums[j])\n",
    "    ans.append(cur)\n",
    "\n",
    "ans"
   ]
  },
  {
   "cell_type": "code",
   "execution_count": 36,
   "metadata": {},
   "outputs": [
    {
     "name": "stdout",
     "output_type": "stream",
     "text": [
      "\n",
      "1\n",
      "2\n",
      "1 2\n",
      "3\n",
      "1 3\n",
      "2 3\n",
      "1 2 3\n"
     ]
    }
   ],
   "source": [
    "for subset in ans:\n",
    "    print(*subset)"
   ]
  },
  {
   "cell_type": "code",
   "execution_count": 39,
   "metadata": {},
   "outputs": [
    {
     "data": {
      "text/plain": [
       "[1, 2, 3]"
      ]
     },
     "execution_count": 39,
     "metadata": {},
     "output_type": "execute_result"
    }
   ],
   "source": [
    "nums"
   ]
  },
  {
   "cell_type": "code",
   "execution_count": 12,
   "metadata": {},
   "outputs": [
    {
     "name": "stdout",
     "output_type": "stream",
     "text": [
      "[1, 2, 3]\n",
      "[1, 2, 4]\n",
      "[1, 3, 4]\n",
      "[2, 3, 4]\n"
     ]
    }
   ],
   "source": [
    "# 78\n",
    "\n",
    "nums = [i for i in range(1,5)]\n",
    "\n",
    "def calcSubset(A, res, subset, index):\n",
    "    res.append(subset[:])\n",
    "\n",
    "    for i in range(index, len(A)):\n",
    "        subset.append(A[i])\n",
    "\n",
    "        # print(i, subset)\n",
    "        calcSubset(A, res, subset, i+1)\n",
    "\n",
    "        subset.pop()\n",
    "        # print(i, \"pop\", subset.pop())\n",
    "    # print(subset)\n",
    "    # print(res)\n",
    "\n",
    "def subsets(A):\n",
    "    subset = []\n",
    "    res = []\n",
    "    calcSubset(A, res, subset, 0)\n",
    "    return res\n",
    "\n",
    "# subsets(nums)\n",
    "for ss in subsets(nums):\n",
    "    if len(ss)==3:\n",
    "        print(ss)"
   ]
  },
  {
   "cell_type": "code",
   "execution_count": 2,
   "metadata": {},
   "outputs": [
    {
     "data": {
      "text/plain": [
       "26"
      ]
     },
     "execution_count": 2,
     "metadata": {},
     "output_type": "execute_result"
    }
   ],
   "source": [
    "sentence = \"thequickbrownfoxjumpsoverthelazydog\"\n",
    "len(set(sentence))"
   ]
  },
  {
   "cell_type": "code",
   "execution_count": 2,
   "metadata": {},
   "outputs": [
    {
     "data": {
      "text/plain": [
       "0"
      ]
     },
     "execution_count": 2,
     "metadata": {},
     "output_type": "execute_result"
    }
   ],
   "source": [
    "# 2399\n",
    "\n",
    "class Solution:\n",
    "    def checkDistances(self, s: str, distance: List[int]) -> bool:\n",
    "        tab = {}\n",
    "\n",
    "        for i, e in enumerate(s):\n",
    "            if e not in tab:\n",
    "                tab[e] = i\n",
    "            elif i-tab[e]-1 != distance[ord(e)-97]:\n",
    "                return False\n",
    "\n",
    "        return True"
   ]
  },
  {
   "cell_type": "code",
   "execution_count": null,
   "metadata": {},
   "outputs": [],
   "source": [
    "# 303\n",
    "\n",
    "class NumArray:\n",
    "\n",
    "    def __init__(self, nums: List[int]):\n",
    "        self.lst = nums\n",
    "\n",
    "    def sumRange(self, left: int, right: int) -> int:\n",
    "        return sum(self.lst[left:right+1])"
   ]
  },
  {
   "cell_type": "code",
   "execution_count": 7,
   "metadata": {},
   "outputs": [
    {
     "data": {
      "text/plain": [
       "3"
      ]
     },
     "execution_count": 7,
     "metadata": {},
     "output_type": "execute_result"
    }
   ],
   "source": [
    "(4//3)*3"
   ]
  },
  {
   "cell_type": "code",
   "execution_count": null,
   "metadata": {},
   "outputs": [],
   "source": [
    "# 37. Sudoku Solver\n",
    "\n",
    "class Solution:\n",
    "    def validate_cell(self, val, i, j) -> bool:\n",
    "        for b_i in range((i//3)*3, ((i//3)*3)+3):\n",
    "            for b_j in range((j//3)*3, ((j//3)*3)+3):\n",
    "                if self.board[b_i][b_j] == str(val):\n",
    "                    return False\n",
    "\n",
    "        for col in range(0,9):\n",
    "            if self.board[i][col] == str(val):\n",
    "                    return False\n",
    "\n",
    "        for row in range(0,9):\n",
    "            if self.board[row][j] == str(val):\n",
    "                    return False\n",
    "\n",
    "        return True\n",
    "\n",
    "    def solve_rec(self, i, j) -> bool:\n",
    "        # reached end of row, move to next row\n",
    "        if j > 8:\n",
    "            j = 0\n",
    "            i += 1\n",
    "            # base case: end of puzzle\n",
    "            if i > 8:\n",
    "                return True\n",
    "\n",
    "        # skip cell if already filled\n",
    "        if self.board[i][j] != \".\":\n",
    "            if self.solve_rec(i, j+1):\n",
    "                return True\n",
    "\n",
    "        # solve if empty\n",
    "        else:\n",
    "            # iterate over values\n",
    "            for val in range(1,10):\n",
    "                # validate value for cell\n",
    "                if self.validate_cell(val, i, j):\n",
    "                    self.board[i][j] = str(val)\n",
    "                    if self.solve_rec(i, j+1):\n",
    "                        return True\n",
    "                    # backtrack\n",
    "                    self.board[i][j] = \".\"\n",
    "\n",
    "        return False\n",
    "\n",
    "    def solveSudoku(self, board: List[List[str]]) -> None:\n",
    "        \"\"\"\n",
    "        Do not return anything, modify board in-place instead.\n",
    "        \"\"\"\n",
    "        self.board = board\n",
    "\n",
    "        self.solve_rec(0, 0)"
   ]
  },
  {
   "cell_type": "code",
   "execution_count": 87,
   "metadata": {},
   "outputs": [
    {
     "data": {
      "text/plain": [
       "6"
      ]
     },
     "execution_count": 87,
     "metadata": {},
     "output_type": "execute_result"
    }
   ],
   "source": [
    "def reduce(fun, it):\n",
    "    it = iter(it)\n",
    "    acc = next(it)\n",
    "\n",
    "    for elem in it:\n",
    "        acc = fun(acc, elem)\n",
    "\n",
    "    return acc\n",
    "\n",
    "arr = [2,3,1,6,7]\n",
    "reduce(lambda x, y: x^y, arr[:-1])\n",
    "# arr[2:4]"
   ]
  },
  {
   "cell_type": "code",
   "execution_count": 67,
   "metadata": {},
   "outputs": [
    {
     "data": {
      "text/plain": [
       "19"
      ]
     },
     "execution_count": 67,
     "metadata": {},
     "output_type": "execute_result"
    }
   ],
   "source": [
    "arr = [1,1,1,1,1,1]\n",
    "\n",
    "count = 0\n",
    "for i in range(len(arr)):\n",
    "    for j in range(i+2, len(arr)+1):\n",
    "        count += len(arr[i:j])-1 if reduce(lambda x,y: x^y, arr[i:j]) == 0 else 0\n",
    "\n",
    "\n",
    "count"
   ]
  },
  {
   "cell_type": "code",
   "execution_count": 73,
   "metadata": {},
   "outputs": [
    {
     "name": "stdout",
     "output_type": "stream",
     "text": [
      "2 2\n",
      "3 1\n",
      "1 0\n",
      "6 6\n",
      "7 1\n"
     ]
    },
    {
     "data": {
      "text/plain": [
       "[0, 2, 1, 0, 6, 1]"
      ]
     },
     "execution_count": 73,
     "metadata": {},
     "output_type": "execute_result"
    }
   ],
   "source": [
    "arr = [2,3,1,6,7]\n",
    "prefix = [0] * (len(arr)+1)\n",
    "for i in range(len(arr)):\n",
    "    print(arr[i], prefix[i]^arr[i])\n",
    "    prefix[i+1] = prefix[i]^arr[i]\n",
    "\n",
    "prefix"
   ]
  },
  {
   "cell_type": "code",
   "execution_count": 85,
   "metadata": {},
   "outputs": [
    {
     "data": {
      "text/plain": [
       "4"
      ]
     },
     "execution_count": 85,
     "metadata": {},
     "output_type": "execute_result"
    }
   ],
   "source": [
    "count = 0\n",
    "for i in range(len(arr)):\n",
    "    for j in range(i+1, len(arr)):\n",
    "        if prefix[i] == prefix[j+1]:\n",
    "            count += j-i\n",
    "count\n"
   ]
  },
  {
   "cell_type": "code",
   "execution_count": null,
   "metadata": {},
   "outputs": [],
   "source": [
    "# 1442. Count Triplets That Can Form Two Arrays of Equal XOR\n",
    "\n",
    "class Solution:\n",
    "    def reduce(self, fun, it):\n",
    "        it = iter(it)\n",
    "        acc = next(it)\n",
    "\n",
    "        for elem in it:\n",
    "            acc = fun(acc, elem)\n",
    "\n",
    "        return acc\n",
    "\n",
    "    def countTriplets(self, arr: List[int]) -> int:\n",
    "        return self.sol2(arr)\n",
    "\n",
    "    def sol1(self, arr):\n",
    "        count = 0\n",
    "\n",
    "        for i in range(len(arr)):\n",
    "            for j in range(i+2, len(arr)+1):\n",
    "                count += len(arr[i:j])-1 if reduce(lambda x,y: x^y, arr[i:j]) == 0 else 0\n",
    "\n",
    "        return count\n",
    "\n",
    "    def sol2(self, arr):\n",
    "        prefix = [0] * (len(arr)+1)\n",
    "\n",
    "        for i in range(len(arr)):\n",
    "            prefix[i+1] = prefix[i]^arr[i]\n",
    "\n",
    "        count = 0\n",
    "        for i in range(len(arr)):\n",
    "            for j in range(i+1, len(arr)):\n",
    "                if prefix[i] == prefix[j+1]:\n",
    "                    count += j-i\n",
    "        return count"
   ]
  },
  {
   "cell_type": "code",
   "execution_count": 88,
   "metadata": {},
   "outputs": [],
   "source": [
    "# Definition for singly-linked list.\n",
    "class ListNode:\n",
    "    def __init__(self, val=0, next=None):\n",
    "        self.val = val\n",
    "        self.next = next"
   ]
  },
  {
   "cell_type": "code",
   "execution_count": 238,
   "metadata": {},
   "outputs": [
    {
     "name": "stdout",
     "output_type": "stream",
     "text": [
      "[1]\n"
     ]
    }
   ],
   "source": [
    "# 25. Reverse Nodes in k-Group\n",
    "\n",
    "arr = [1]\n",
    "k = 2\n",
    "\n",
    "head = cur = ListNode(arr[0])\n",
    "\n",
    "for num in arr[1:]:\n",
    "    cur.next = ListNode()\n",
    "    cur = cur.next\n",
    "    cur.val = num\n",
    "\n",
    "node = head\n",
    "stack = [node]\n",
    "stacks = []\n",
    "while node:\n",
    "    while node and len(stack) < k:\n",
    "        if node.next:\n",
    "            stack.append(node.next)\n",
    "        node = node.next\n",
    "    stacks.append(stack)\n",
    "    # print(stacks)\n",
    "    if node:\n",
    "        node = node.next\n",
    "    stack = [node]\n",
    "stack = []\n",
    "for nodes in stacks[::-1]:\n",
    "    stack += nodes if len(nodes) == k else nodes[::-1]\n",
    "print([node.val for node in stack])\n",
    "\n",
    "node = head = stack.pop()\n",
    "while stack:\n",
    "    if node:\n",
    "        node.next = stack.pop()\n",
    "        node = node.next\n",
    "node.next = None"
   ]
  },
  {
   "cell_type": "code",
   "execution_count": 239,
   "metadata": {},
   "outputs": [
    {
     "name": "stdout",
     "output_type": "stream",
     "text": [
      "1\n"
     ]
    }
   ],
   "source": [
    "cur = head\n",
    "while cur:\n",
    "    print(cur.val)\n",
    "    cur = cur.next"
   ]
  },
  {
   "cell_type": "code",
   "execution_count": null,
   "metadata": {},
   "outputs": [],
   "source": [
    "# Definition for singly-linked list.\n",
    "# class ListNode:\n",
    "#     def __init__(self, val=0, next=None):\n",
    "#         self.val = val\n",
    "#         self.next = next\n",
    "class Solution:\n",
    "    def reverseKGroup(self, head: Optional[ListNode], k: int) -> Optional[ListNode]:\n",
    "        node = head\n",
    "        stack = [node]\n",
    "        stacks = []\n",
    "        while node:\n",
    "            while node and len(stack) < k:\n",
    "                if node.next:\n",
    "                    stack.append(node.next)\n",
    "                node = node.next\n",
    "            stacks.append(stack)\n",
    "            if node:\n",
    "                node = node.next\n",
    "            stack = [node]\n",
    "        stack = []\n",
    "        for nodes in stacks[::-1]:\n",
    "            stack += nodes if len(nodes) == k else nodes[::-1]\n",
    "        # print([node.val for node in stack])\n",
    "\n",
    "        node = head = stack.pop()\n",
    "        while stack:\n",
    "            if node:\n",
    "                node.next = stack.pop()\n",
    "                node = node.next\n",
    "        node.next = None\n",
    "\n",
    "        return head"
   ]
  },
  {
   "cell_type": "code",
   "execution_count": 6,
   "metadata": {},
   "outputs": [
    {
     "data": {
      "text/plain": [
       "[3, 5]"
      ]
     },
     "execution_count": 6,
     "metadata": {},
     "output_type": "execute_result"
    }
   ],
   "source": [
    "# 350. Intersection of Two Arrays II\n",
    "\n",
    "nums = [1,2,1,3,2,5]\n",
    "it = iter(nums)\n",
    "\n",
    "xor = next(it)\n",
    "\n",
    "for num in it:\n",
    "    xor ^= num\n",
    "\n",
    "mask = (xor & -xor)\n",
    "\n",
    "num1 = num2 = 0\n",
    "\n",
    "for num in nums:\n",
    "    if mask & num:\n",
    "        num1 ^= num\n",
    "    else:\n",
    "        num2 ^= num\n",
    "\n",
    "[num1, num2]"
   ]
  },
  {
   "cell_type": "code",
   "execution_count": 14,
   "metadata": {},
   "outputs": [
    {
     "data": {
      "text/plain": [
       "31"
      ]
     },
     "execution_count": 14,
     "metadata": {},
     "output_type": "execute_result"
    }
   ],
   "source": [
    "days_per_month = [\n",
    "            31, 28, 31, 30, 31, 30, 31, 31, 30, 31, 30, 31\n",
    "        ]\n",
    "sum(days_per_month[:1])"
   ]
  },
  {
   "cell_type": "code",
   "execution_count": 18,
   "metadata": {},
   "outputs": [
    {
     "name": "stdout",
     "output_type": "stream",
     "text": [
      "2\n",
      "4\n",
      "6\n",
      "8\n",
      "10\n"
     ]
    }
   ],
   "source": [
    "it = iter([2,4,6,8,10])\n",
    "# next(it)\n",
    "\n",
    "i = next(it)\n",
    "while i is not None:\n",
    "    print(i)\n",
    "    i = next(it, None)"
   ]
  },
  {
   "cell_type": "code",
   "execution_count": 22,
   "metadata": {},
   "outputs": [],
   "source": [
    "class Solution:\n",
    "    def maxProfitAssignment(self, difficulty: List[int], profit: List[int], worker: List[int]) -> int:\n",
    "        tab = {}\n",
    "        n = len(difficulty)\n",
    "        ans = 0\n",
    "        mx = 0\n",
    "\n",
    "        print(n)\n",
    "\n",
    "        # create hash table\n",
    "        for i, e in enumerate(difficulty):\n",
    "            tab[e] = profit[i]\n",
    "        print(dict(sorted(tab.items(), reverse = True)))\n",
    "\n",
    "        # get max values for hash table\n",
    "        for item in dict(sorted(tab.items())):\n",
    "            tab[item] = max(tab[item], mx)\n",
    "            mx = max(mx, tab[item])\n",
    "        # print(sorted(worker, reverse=True))\n",
    "        print(dict(sorted(tab.items(), reverse = True)))\n",
    "\n",
    "        # create iterables\n",
    "        diff_it = iter(sorted(difficulty, reverse=True))\n",
    "        work_it = iter(sorted(worker, reverse=True))\n",
    "\n",
    "        # loop for profits\n",
    "        d = next(diff_it)\n",
    "        w = next(work_it)\n",
    "        while d and w:\n",
    "            if d <= w:\n",
    "                print(w, d, tab[d])\n",
    "                ans += tab[d]\n",
    "                # print(ans)\n",
    "                w = next(work_it, None)\n",
    "            else:\n",
    "                d = next(diff_it, None)        \n",
    "\n",
    "        return ans"
   ]
  },
  {
   "cell_type": "code",
   "execution_count": null,
   "metadata": {},
   "outputs": [],
   "source": [
    "# 826. Most Profit Assigning Work\n",
    "\n",
    "class Solution:\n",
    "    def maxProfitAssignment(self, difficulty: List[int], profit: List[int], worker: List[int]) -> int:\n",
    "        ans, j, mx, n, temp = 0, 0, 0, len(worker), []\n",
    "\n",
    "        for i in range(n):\n",
    "            temp.append((difficulty[i], profit[i]))\n",
    "\n",
    "        # tab = dict(sorted(temp))\n",
    "        temp.sort()\n",
    "        worker.sort()\n",
    "        # print(n, len(temp))\n",
    "\n",
    "        for work in worker:\n",
    "            while j < n and work >= temp[j][0]:\n",
    "                mx = max(mx, temp[j][1])\n",
    "                j += 1\n",
    "            ans += mx\n",
    "\n",
    "        return ans"
   ]
  },
  {
   "cell_type": "code",
   "execution_count": 6,
   "metadata": {},
   "outputs": [
    {
     "name": "stdout",
     "output_type": "stream",
     "text": [
      "0 1\n",
      "0 2\n",
      "1 0\n",
      "1 1\n",
      "1 2\n",
      "2 0\n",
      "2 1\n"
     ]
    }
   ],
   "source": [
    "arr = [7,7,7,7,12,7,7]\n",
    "k = 3\n",
    "b, f = 0, 0\n",
    "\n",
    "for i in arr:\n",
    "    b += (f+1)//k\n",
    "    f = (f+1)%k\n",
    "    print(b, f)"
   ]
  },
  {
   "cell_type": "code",
   "execution_count": 15,
   "metadata": {},
   "outputs": [],
   "source": [
    "def is_m_bouquet(bloomDay, n, m, k):\n",
    "    bouquets, flowers = 0, 0\n",
    "\n",
    "    for bloom in bloomDay:\n",
    "        if n < bloom:\n",
    "            flowers = 0\n",
    "        else:\n",
    "            bouquets += (flowers+1)//k\n",
    "            flowers = (flowers+1)%k\n",
    "\n",
    "    return bouquets >= m"
   ]
  },
  {
   "cell_type": "code",
   "execution_count": 23,
   "metadata": {},
   "outputs": [
    {
     "name": "stdout",
     "output_type": "stream",
     "text": [
      "12\n"
     ]
    }
   ],
   "source": [
    "bloomDay = [7,7,7,7,12,7,7]\n",
    "k = 3\n",
    "m = 2\n",
    "\n",
    "left, right = 1, 10**9\n",
    "\n",
    "while left < right:\n",
    "    mid = left + (right-left)//2\n",
    "    if is_m_bouquet(bloomDay, mid, m, k):\n",
    "        right = mid\n",
    "    else:\n",
    "        left = mid+1\n",
    "print(left)"
   ]
  },
  {
   "cell_type": "code",
   "execution_count": 5,
   "metadata": {},
   "outputs": [
    {
     "data": {
      "text/plain": [
       "4"
      ]
     },
     "execution_count": 5,
     "metadata": {},
     "output_type": "execute_result"
    }
   ],
   "source": [
    "54%10"
   ]
  },
  {
   "cell_type": "code",
   "execution_count": 6,
   "metadata": {},
   "outputs": [
    {
     "data": {
      "text/plain": [
       "6"
      ]
     },
     "execution_count": 6,
     "metadata": {},
     "output_type": "execute_result"
    }
   ],
   "source": [
    "def sum_digits(num):\n",
    "    res = 0\n",
    "    while num:\n",
    "        res += num%10\n",
    "        num //= 10\n",
    "\n",
    "    return res\n",
    "\n",
    "sum_digits(123)"
   ]
  },
  {
   "cell_type": "code",
   "execution_count": 9,
   "metadata": {},
   "outputs": [
    {
     "data": {
      "text/plain": [
       "262124"
      ]
     },
     "execution_count": 9,
     "metadata": {},
     "output_type": "execute_result"
    }
   ],
   "source": [
    "# 1945. Sum of Digits of String After Convert\n",
    "\n",
    "class Solution:\n",
    "    def sum_digits(self, num):\n",
    "        res = 0\n",
    "        while num:\n",
    "            res += num%10\n",
    "            num //= 10\n",
    "\n",
    "        return res\n",
    "\n",
    "    def convert(self, s):\n",
    "        res = \"\"\n",
    "        for l in s:\n",
    "            res += str(ord(l)-96)\n",
    "\n",
    "        return int(res)\n",
    "        \n",
    "    def getLucky(self, s: str, k: int) -> int:\n",
    "        num = self.convert(s)\n",
    "\n",
    "        for _ in range(k):\n",
    "            num = self.sum_digits(num)\n",
    "\n",
    "        return num"
   ]
  },
  {
   "cell_type": "code",
   "execution_count": 28,
   "metadata": {},
   "outputs": [
    {
     "data": {
      "text/plain": [
       "8"
      ]
     },
     "execution_count": 28,
     "metadata": {},
     "output_type": "execute_result"
    }
   ],
   "source": [
    "customers = [5,8]\n",
    "grumpy = [0,1]\n",
    "minutes = 1\n",
    "n = len(customers)\n",
    "\n",
    "sum(customers[i]*grumpy[i] for i in range(len(customers)))\n",
    "# [customers[i]*grumpy[i] for i in range(n)]"
   ]
  },
  {
   "cell_type": "code",
   "execution_count": 65,
   "metadata": {},
   "outputs": [
    {
     "name": "stdout",
     "output_type": "stream",
     "text": [
      "14\n",
      "20\n",
      "10\n"
     ]
    },
    {
     "data": {
      "text/plain": [
       "24"
      ]
     },
     "execution_count": 65,
     "metadata": {},
     "output_type": "execute_result"
    }
   ],
   "source": [
    "# 1052. Grumpy Bookstore Owner\n",
    "\n",
    "customers = [4,10,10]\n",
    "grumpy = [1,1,0]\n",
    "minutes = 2\n",
    "\n",
    "grumpy = [1 if i == 0 else 0 for i in grumpy]\n",
    "\n",
    "n = len(customers)\n",
    "curr_with = sum(customers[0:minutes])\n",
    "curr_without = sum(customers[i]*grumpy[i] for i in range(minutes))\n",
    "mx = curr_with-curr_without\n",
    "mxi = 0\n",
    "print(curr_with)\n",
    "\n",
    "for i in range(1, n-minutes+1):\n",
    "    curr_with = curr_with-customers[i-1]+customers[i+minutes-1]\n",
    "    print(curr_with)\n",
    "    curr_without = curr_without-customers[i-1]*grumpy[i-1]+customers[i+minutes-1]*grumpy[i+minutes-1]\n",
    "    print(curr_without)\n",
    "    (mx, mxi) = (curr_with-curr_without, i) if curr_with-curr_without > mx else (mx, mxi)\n",
    "\n",
    "sum(customers[i]*grumpy[i] for i in range(mxi)) + sum(customers[mxi:mxi+minutes]) + sum(customers[i]*grumpy[i] for i in range(mxi+minutes, n))"
   ]
  },
  {
   "cell_type": "code",
   "execution_count": null,
   "metadata": {},
   "outputs": [],
   "source": []
  },
  {
   "cell_type": "code",
   "execution_count": 63,
   "metadata": {},
   "outputs": [
    {
     "data": {
      "text/plain": [
       "1"
      ]
     },
     "execution_count": 63,
     "metadata": {},
     "output_type": "execute_result"
    }
   ],
   "source": [
    "sum(customers[i]*grumpy[i] for i in range(mxi+1))\n",
    "sum(customers[mxi:mxi+minutes])\n",
    "# sum(customers[i]*grumpy[i] for i in range(mxi+minutes, n))\n",
    "mxi"
   ]
  },
  {
   "cell_type": "code",
   "execution_count": 6,
   "metadata": {},
   "outputs": [
    {
     "data": {
      "text/plain": [
       "15"
      ]
     },
     "execution_count": 6,
     "metadata": {},
     "output_type": "execute_result"
    }
   ],
   "source": [
    "# 2913. Subarrays Distinct Element Sum of Squares I\n",
    "\n",
    "nums = [1, 2, 1]\n",
    "n = len(nums)\n",
    "res = 0\n",
    "\n",
    "for i in range(n):\n",
    "    for j in range(i+1, n+1):\n",
    "        res += len(set(nums[i:j]))**2\n",
    "\n",
    "res"
   ]
  },
  {
   "cell_type": "code",
   "execution_count": 46,
   "metadata": {},
   "outputs": [
    {
     "name": "stdout",
     "output_type": "stream",
     "text": [
      "[2] 0\n",
      "[2, 2] 0\n",
      "[2, 2, 2] 0\n",
      "[2, 2, 2, 1] 1\n",
      "[2, 2, 2, 1, 2] 1\n",
      "[2, 2, 2, 1, 2, 2] 1\n",
      "[2, 2, 2, 1, 2, 2, 1] 2\n",
      "[2, 2, 2, 1, 2, 2, 1, 2] 2\n",
      "[2, 2, 2, 1, 2, 2, 1, 2, 2] 2\n",
      "[2] 0\n",
      "[2, 2] 0\n",
      "[2, 2, 1] 1\n",
      "[2, 2, 1, 2] 1\n",
      "[2, 2, 1, 2, 2] 1\n",
      "[2, 2, 1, 2, 2, 1] 2\n",
      "[2, 2, 1, 2, 2, 1, 2] 2\n",
      "[2, 2, 1, 2, 2, 1, 2, 2] 2\n",
      "[2, 2, 1, 2, 2, 1, 2, 2, 2] 2\n",
      "[2] 0\n",
      "[2, 1] 1\n",
      "[2, 1, 2] 1\n",
      "[2, 1, 2, 2] 1\n",
      "[2, 1, 2, 2, 1] 2\n",
      "[2, 1, 2, 2, 1, 2] 2\n",
      "[2, 1, 2, 2, 1, 2, 2] 2\n",
      "[2, 1, 2, 2, 1, 2, 2, 2] 2\n",
      "[1] 1\n",
      "[1, 2] 1\n",
      "[1, 2, 2] 1\n",
      "[1, 2, 2, 1] 2\n",
      "[1, 2, 2, 1, 2] 2\n",
      "[1, 2, 2, 1, 2, 2] 2\n",
      "[1, 2, 2, 1, 2, 2, 2] 2\n",
      "[2] 0\n",
      "[2, 2] 0\n",
      "[2, 2, 1] 1\n",
      "[2, 2, 1, 2] 1\n",
      "[2, 2, 1, 2, 2] 1\n",
      "[2, 2, 1, 2, 2, 2] 1\n",
      "[2] 0\n",
      "[2, 1] 1\n",
      "[2, 1, 2] 1\n",
      "[2, 1, 2, 2] 1\n",
      "[2, 1, 2, 2, 2] 1\n",
      "[1] 1\n",
      "[1, 2] 1\n",
      "[1, 2, 2] 1\n",
      "[1, 2, 2, 2] 1\n",
      "[2] 0\n",
      "[2, 2] 0\n",
      "[2, 2, 2] 0\n",
      "[2] 0\n",
      "[2, 2] 0\n",
      "[2] 0\n"
     ]
    },
    {
     "data": {
      "text/plain": [
       "15"
      ]
     },
     "execution_count": 46,
     "metadata": {},
     "output_type": "execute_result"
    }
   ],
   "source": [
    "nums = [1,1,2,1,1]\n",
    "nums = [2,2,2,1,2,2,1,2,2,2]\n",
    "k = 2\n",
    "n = len(nums)\n",
    "\n",
    "count = 0\n",
    "# odd = 1 if nums[0]%2==1 else 0\n",
    "odd = 0\n",
    "\n",
    "for i in range(n):\n",
    "    odd = 0\n",
    "    for j in range(i+1, n+1):\n",
    "        if len(nums[i:j]) == n:\n",
    "            break\n",
    "        odd += 1 if nums[j-1]%2==1 else 0\n",
    "        print(nums[i:j], odd)\n",
    "        # print(\"o\", odd)\n",
    "        count += 1 if odd >=k else 0\n",
    "        # print(\"c\", count)\n",
    "    # odd -= 1 if nums[i]%2==1 else 0\n",
    "\n",
    "\n",
    "\n",
    "count"
   ]
  },
  {
   "cell_type": "code",
   "execution_count": 1,
   "metadata": {},
   "outputs": [
    {
     "data": {
      "text/plain": [
       "6"
      ]
     },
     "execution_count": 1,
     "metadata": {},
     "output_type": "execute_result"
    }
   ],
   "source": [
    "# 2427. Number of Common Factors\n",
    "\n",
    "class Solution:\n",
    "    def commonFactors(self, a: int, b: int) -> int:\n",
    "        count = 0\n",
    "\n",
    "        for i in range(1, min(a,b)+1):\n",
    "            count += 1 if (a%i==0 and b%i==0) else 0\n",
    "\n",
    "        return count"
   ]
  },
  {
   "cell_type": "code",
   "execution_count": 9,
   "metadata": {},
   "outputs": [
    {
     "name": "stdout",
     "output_type": "stream",
     "text": [
      "1\n",
      "2\n",
      "3\n"
     ]
    }
   ],
   "source": [
    "n = 6\n",
    "for j in range(1, (n//2)+1):\n",
    "    print(j)"
   ]
  },
  {
   "cell_type": "code",
   "execution_count": 10,
   "metadata": {},
   "outputs": [
    {
     "data": {
      "text/plain": [
       "3"
      ]
     },
     "execution_count": 10,
     "metadata": {},
     "output_type": "execute_result"
    }
   ],
   "source": [
    "# 1823. Find the Winner of the Circular Game\n",
    "\n",
    "n = 5\n",
    "lst = [i for i in range(1, n+1)]\n",
    "lst.pop(1)\n",
    "n-=1\n",
    "lst[5%n]"
   ]
  },
  {
   "cell_type": "code",
   "execution_count": 4,
   "metadata": {},
   "outputs": [
    {
     "data": {
      "text/plain": [
       "[1, 5, 4, 2]"
      ]
     },
     "execution_count": 4,
     "metadata": {},
     "output_type": "execute_result"
    }
   ],
   "source": [
    "# 2293. Min Max Game\n",
    "\n",
    "nums = [1,3,5,2,4,8,2,2]\n",
    "\n",
    "[min(nums[2*i], nums[2*i+1]) if i % 2 == 0 else max(nums[2*i], nums[2*i+1]) for i in range(len(nums)//2)]"
   ]
  },
  {
   "cell_type": "code",
   "execution_count": 3,
   "metadata": {},
   "outputs": [
    {
     "name": "stdout",
     "output_type": "stream",
     "text": [
      "1\n",
      "2\n",
      "3\n",
      "4\n",
      "5\n",
      "6\n",
      "7\n",
      "8\n",
      "9\n",
      "0\n"
     ]
    }
   ],
   "source": [
    "for i in range(1,11):\n",
    "    print(i%10)"
   ]
  },
  {
   "cell_type": "code",
   "execution_count": 6,
   "metadata": {},
   "outputs": [
    {
     "data": {
      "text/plain": [
       "True"
      ]
     },
     "execution_count": 6,
     "metadata": {},
     "output_type": "execute_result"
    }
   ],
   "source": [
    "# 1317. Convert Integer to the Sum of Two No-Zero Integers\n",
    "\n",
    "def contains_zero(n):\n",
    "    while n:\n",
    "        if n%10 == 0:\n",
    "            return True\n",
    "        n //= 10\n",
    "    return False\n",
    "\n",
    "contains_zero(101)"
   ]
  },
  {
   "cell_type": "code",
   "execution_count": 34,
   "metadata": {},
   "outputs": [
    {
     "data": {
      "text/plain": [
       "[1, 1, 1, 2, 2, 3]"
      ]
     },
     "execution_count": 34,
     "metadata": {},
     "output_type": "execute_result"
    }
   ],
   "source": [
    "nums = [1,1,1,2,2,3]\n",
    "num, count = nums[0], 0\n",
    "\n",
    "nums"
   ]
  },
  {
   "cell_type": "code",
   "execution_count": 2,
   "metadata": {},
   "outputs": [
    {
     "name": "stdout",
     "output_type": "stream",
     "text": [
      "4\n",
      "2\n"
     ]
    }
   ],
   "source": [
    "nums = [1,4,3,2]\n",
    "\n",
    "for i in range(1, len(nums)+1, 2):\n",
    "    print(nums[i])"
   ]
  },
  {
   "cell_type": "code",
   "execution_count": 18,
   "metadata": {},
   "outputs": [
    {
     "data": {
      "text/plain": [
       "''"
      ]
     },
     "execution_count": 18,
     "metadata": {},
     "output_type": "execute_result"
    }
   ],
   "source": [
    "num = \"123\"\n",
    "\n",
    "for i in range(1, len(num)+1):\n",
    "    if num[-i] != '0':\n",
    "        num = num[:-i+1]\n",
    "        break\n",
    "    # print(num[:-i])\n",
    "\n",
    "num"
   ]
  },
  {
   "cell_type": "code",
   "execution_count": 11,
   "metadata": {},
   "outputs": [],
   "source": [
    "def numberOfSetBits(i):\n",
    "    i = i - ((i >> 1) & 0x55555555)\n",
    "    i = (i & 0x33333333) + ((i >> 2) & 0x33333333)\n",
    "    return (((i + (i >> 4) & 0xF0F0F0F) * 0x1010101) & 0xffffffff) >> 24"
   ]
  },
  {
   "cell_type": "code",
   "execution_count": 14,
   "metadata": {},
   "outputs": [
    {
     "data": {
      "text/plain": [
       "2"
      ]
     },
     "execution_count": 14,
     "metadata": {},
     "output_type": "execute_result"
    }
   ],
   "source": [
    "numberOfSetBits(14^13)"
   ]
  },
  {
   "cell_type": "code",
   "execution_count": 15,
   "metadata": {},
   "outputs": [
    {
     "data": {
      "text/plain": [
       "4"
      ]
     },
     "execution_count": 15,
     "metadata": {},
     "output_type": "execute_result"
    }
   ],
   "source": [
    "13&4"
   ]
  },
  {
   "cell_type": "code",
   "execution_count": 16,
   "metadata": {},
   "outputs": [
    {
     "data": {
      "text/plain": [
       "12"
      ]
     },
     "execution_count": 16,
     "metadata": {},
     "output_type": "execute_result"
    }
   ],
   "source": [
    "14&13"
   ]
  },
  {
   "cell_type": "code",
   "execution_count": 8,
   "metadata": {},
   "outputs": [
    {
     "data": {
      "text/plain": [
       "False"
      ]
     },
     "execution_count": 8,
     "metadata": {},
     "output_type": "execute_result"
    }
   ],
   "source": [
    "def is_leap(year: int) -> bool:\n",
    "    return (year%4==0) and ((year%100!=0) or (year%400==0))\n",
    "    \n",
    "is_leap(1900)"
   ]
  },
  {
   "cell_type": "code",
   "execution_count": 12,
   "metadata": {},
   "outputs": [
    {
     "data": {
      "text/plain": [
       "6939"
      ]
     },
     "execution_count": 12,
     "metadata": {},
     "output_type": "execute_result"
    }
   ],
   "source": [
    "date = \"1919-06-29\"\n",
    "\n",
    "def days_from_turn(date: str) -> int:\n",
    "        res = 0\n",
    "\n",
    "        for year in range(1900, int(date[:4])):\n",
    "            res += 366 if is_leap(year) else 365\n",
    "\n",
    "        return res\n",
    "\n",
    "days_from_turn(date)"
   ]
  },
  {
   "cell_type": "code",
   "execution_count": 86,
   "metadata": {},
   "outputs": [],
   "source": [
    "def days_from_turn(date: str) -> int:\n",
    "    num_days = [31,28,31,30,31,30,31,31,30,31,30,31]\n",
    "    res = 0\n",
    "    year, month, day = int(date[:4]), int(date[5:7]), int(date[8:])\n",
    "    leap_count = 0\n",
    "\n",
    "\n",
    "    # for year in range(1900, year):\n",
    "    #     if is_leap(year):\n",
    "    #         leap_count += 1\n",
    "    #         print(year)\n",
    "    #     res += 366 if is_leap(year) else 365\n",
    "\n",
    "    res += sum(num_days[:month-1]) + day\n",
    "\n",
    "    res += 1 if is_leap(year) and month>2 else 0\n",
    "    leap_count += 1 if is_leap(year) and month>2 else 0\n",
    "\n",
    "    print(leap_count)\n",
    "\n",
    "    return res"
   ]
  },
  {
   "cell_type": "code",
   "execution_count": 100,
   "metadata": {},
   "outputs": [
    {
     "name": "stdout",
     "output_type": "stream",
     "text": [
      "27\n",
      "45\n"
     ]
    },
    {
     "data": {
      "text/plain": [
       "25763"
      ]
     },
     "execution_count": 100,
     "metadata": {},
     "output_type": "execute_result"
    }
   ],
   "source": [
    "date1 = \"2009-08-18\"\n",
    "# date2 = \"2080-08-08\"\n",
    "date2 = \"2080-03-01\"\n",
    "\n",
    "abs(days_from_turn(date1)-days_from_turn(date2))\n",
    "# days_from_turn(date1)\n",
    "# days_from_turn(date2)"
   ]
  },
  {
   "cell_type": "code",
   "execution_count": 38,
   "metadata": {},
   "outputs": [
    {
     "data": {
      "text/plain": [
       "334"
      ]
     },
     "execution_count": 38,
     "metadata": {},
     "output_type": "execute_result"
    }
   ],
   "source": [
    "num_days = [31,28,31,30,31,30,31,31,30,31,30,31]\n",
    "\n",
    "sum(num_days[:11])"
   ]
  },
  {
   "cell_type": "code",
   "execution_count": 98,
   "metadata": {},
   "outputs": [],
   "source": [
    "# 1360. Number of Days Between Two Dates\n",
    "\n",
    "def days_from_turn(date: str) -> int:\n",
    "    num_days = [31,28,31,30,31,30,31,31,30,31,30,31]\n",
    "    \n",
    "    res = 0\n",
    "    year, month, day = int(date[:4]), int(date[5:7]), int(date[8:])\n",
    "    leap_count = 0\n",
    "\n",
    "\n",
    "    for y in range(1900, year):\n",
    "        if is_leap(y):\n",
    "            leap_count += 1\n",
    "            # print(year)\n",
    "        res += 366 if is_leap(y) else 365\n",
    "\n",
    "    # res += 365*(year-1900)\n",
    "\n",
    "    res += sum(num_days[:month-1]) + day\n",
    "\n",
    "    res += 1 if is_leap(year) and month>2 else 0\n",
    "    leap_count += 1 if is_leap(year) and month>2 else 0\n",
    "\n",
    "    print(leap_count)\n",
    "\n",
    "    return res"
   ]
  },
  {
   "cell_type": "code",
   "execution_count": 108,
   "metadata": {},
   "outputs": [],
   "source": [
    "leaps = [1 if is_leap(i) else 0 for i in range(1900, 2101)]"
   ]
  },
  {
   "cell_type": "code",
   "execution_count": 32,
   "metadata": {},
   "outputs": [
    {
     "data": {
      "text/plain": [
       "'0b10101010101010101010101010101010001'"
      ]
     },
     "execution_count": 32,
     "metadata": {},
     "output_type": "execute_result"
    }
   ],
   "source": [
    "bin(0x555555555^4)"
   ]
  },
  {
   "cell_type": "code",
   "execution_count": 33,
   "metadata": {},
   "outputs": [
    {
     "data": {
      "text/plain": [
       "'0b10101010101010101010101010101010000'"
      ]
     },
     "execution_count": 33,
     "metadata": {},
     "output_type": "execute_result"
    }
   ],
   "source": [
    "bin(0x555555555^5)"
   ]
  },
  {
   "cell_type": "code",
   "execution_count": 38,
   "metadata": {},
   "outputs": [
    {
     "data": {
      "text/plain": [
       "'0xf'"
      ]
     },
     "execution_count": 38,
     "metadata": {},
     "output_type": "execute_result"
    }
   ],
   "source": [
    "hex(15)"
   ]
  },
  {
   "cell_type": "code",
   "execution_count": 59,
   "metadata": {},
   "outputs": [
    {
     "data": {
      "text/plain": [
       "'0b10101010101010101010101010101010000'"
      ]
     },
     "execution_count": 59,
     "metadata": {},
     "output_type": "execute_result"
    }
   ],
   "source": [
    "bin((0xfffffffff^5)&0x555555555)"
   ]
  },
  {
   "cell_type": "code",
   "execution_count": 60,
   "metadata": {},
   "outputs": [
    {
     "data": {
      "text/plain": [
       "'0b111111111111111111111111111111111010'"
      ]
     },
     "execution_count": 60,
     "metadata": {},
     "output_type": "execute_result"
    }
   ],
   "source": [
    "bin((0xfffffffff^5))"
   ]
  },
  {
   "cell_type": "code",
   "execution_count": 56,
   "metadata": {},
   "outputs": [
    {
     "data": {
      "text/plain": [
       "'0b100'"
      ]
     },
     "execution_count": 56,
     "metadata": {},
     "output_type": "execute_result"
    }
   ],
   "source": [
    "bin(4)"
   ]
  },
  {
   "cell_type": "code",
   "execution_count": 3,
   "metadata": {},
   "outputs": [
    {
     "name": "stdout",
     "output_type": "stream",
     "text": [
      "4 2\n",
      "2 1\n",
      "1 3\n"
     ]
    }
   ],
   "source": [
    "# 703. Kth Largest Element in a Stream\n",
    "\n",
    "class KthLargest:\n",
    "    k, nums = 0, []\n",
    "\n",
    "    def __init__(self, k: int, nums: List[int]):\n",
    "        self.k = k\n",
    "        self.nums = nums\n",
    "\n",
    "    def add(self, val: int) -> int:\n",
    "        self.nums.append(val)\n",
    "        self.nums.sort(reverse=True)\n",
    "        # print(self.nums)\n",
    "        return self.nums[self.k-1]"
   ]
  },
  {
   "cell_type": "code",
   "execution_count": 2,
   "metadata": {},
   "outputs": [
    {
     "name": "stdout",
     "output_type": "stream",
     "text": [
      "75\n",
      "92\n",
      "40\n"
     ]
    }
   ],
   "source": [
    "details = [\"7868190130M7522\",\"5303914400F9211\",\"9273338290F4010\"]\n",
    "\n",
    "for detail in details:\n",
    "    print(detail[-4:-2])"
   ]
  },
  {
   "cell_type": "code",
   "execution_count": 2,
   "metadata": {},
   "outputs": [
    {
     "name": "stdout",
     "output_type": "stream",
     "text": [
      "1 4\n",
      "2 2\n",
      "3 3\n"
     ]
    }
   ],
   "source": [
    "# 2053. Kth Distinct String in an Array\n",
    "\n",
    "class Solution:\n",
    "    def kthDistinct(self, arr: List[str], k: int) -> str:\n",
    "        tab = {}\n",
    "\n",
    "        for i in arr:\n",
    "            tab[i] = 1 if i not in tab else tab[i]+1\n",
    "\n",
    "        uniques = 0\n",
    "        for key in tab:\n",
    "            if tab[key] == 1:\n",
    "                uniques += 1\n",
    "            if uniques == k:\n",
    "                return key\n",
    "\n",
    "        return \"\""
   ]
  },
  {
   "cell_type": "code",
   "execution_count": 14,
   "metadata": {},
   "outputs": [
    {
     "data": {
      "text/plain": [
       "array([0, 2, 0, 0, 1, 0])"
      ]
     },
     "execution_count": 14,
     "metadata": {},
     "output_type": "execute_result"
    }
   ],
   "source": [
    "import numpy as np\n",
    "\n",
    "mat = np.array([[0,1,0],[0,0,0]])\n",
    "\n",
    "mat[:,1]+=1\n",
    "\n",
    "mat.flatten()"
   ]
  },
  {
   "cell_type": "code",
   "execution_count": 15,
   "metadata": {},
   "outputs": [
    {
     "data": {
      "text/plain": [
       "1"
      ]
     },
     "execution_count": 15,
     "metadata": {},
     "output_type": "execute_result"
    }
   ],
   "source": [
    "tab = {\"a\":1}\n",
    "len(tab)"
   ]
  },
  {
   "cell_type": "code",
   "execution_count": 1,
   "metadata": {},
   "outputs": [],
   "source": [
    "# 2917. Find the K-or of an Array\n",
    "\n",
    "class Solution:\n",
    "    def findKOr(self, nums, k: int) -> int:\n",
    "        res = 0\n",
    "        for i in range(32):\n",
    "            count = 0\n",
    "            for num in nums:\n",
    "                count += 1 if num&(1<<i) == 1<<i else 0\n",
    "                if count >= k:\n",
    "                    res |= 1<<i\n",
    "                    break\n",
    "\n",
    "        return res"
   ]
  },
  {
   "cell_type": "code",
   "execution_count": null,
   "metadata": {},
   "outputs": [],
   "source": [
    "# 2190. Most Frequent Number Following Key In an Array\n",
    "\n",
    "class Solution:\n",
    "    def mostFrequent(self, nums: List[int], key: int) -> int:\n",
    "        tab = {}\n",
    "        for i in range(len(nums)-1):\n",
    "            if nums[i] == key:\n",
    "                tab[nums[i+1]] = 1 if nums[i+1] not in tab else tab[nums[i+1]]+1\n",
    "\n",
    "        return sorted(tab, key=lambda x: tab[x], reverse=True)[0]"
   ]
  },
  {
   "cell_type": "code",
   "execution_count": 1,
   "metadata": {},
   "outputs": [
    {
     "data": {
      "text/plain": [
       "10"
      ]
     },
     "execution_count": 1,
     "metadata": {},
     "output_type": "execute_result"
    }
   ],
   "source": [
    "26%16"
   ]
  },
  {
   "cell_type": "code",
   "execution_count": 7,
   "metadata": {},
   "outputs": [
    {
     "data": {
      "text/plain": [
       "'blue is sky the'"
      ]
     },
     "execution_count": 7,
     "metadata": {},
     "output_type": "execute_result"
    }
   ],
   "source": [
    "# 151. Reverse Words in a String\n",
    "\n",
    "class Solution:\n",
    "    def reverseWords(self, s: str) -> str:\n",
    "        return \" \".join(s.split()[::-1])"
   ]
  },
  {
   "cell_type": "code",
   "execution_count": null,
   "metadata": {},
   "outputs": [],
   "source": [
    "# 1941. Check if All Characters Have Equal Number of Occurrences\n",
    "\n",
    "class Solution:\n",
    "    def areOccurrencesEqual(self, s: str) -> bool:\n",
    "        tab = {}\n",
    "\n",
    "        for l in s:\n",
    "            tab[l] = 1 if l not in tab else tab[l]+1\n",
    "\n",
    "        return len(set(tab.values()))==1"
   ]
  },
  {
   "cell_type": "code",
   "execution_count": 4,
   "metadata": {},
   "outputs": [
    {
     "data": {
      "text/plain": [
       "1"
      ]
     },
     "execution_count": 4,
     "metadata": {},
     "output_type": "execute_result"
    }
   ],
   "source": [
    "# 2341. Maximum Number of Pairs in Array\n",
    "\n",
    "class Solution:\n",
    "    def numberOfPairs(self, nums: List[int]) -> List[int]:\n",
    "        tab = {}\n",
    "\n",
    "        for num in nums:\n",
    "            tab[num] = 1 if num not in tab else tab[num]+1\n",
    "\n",
    "        res = [0,0]\n",
    "\n",
    "        for num in tab:\n",
    "            res[0] += tab[num]//2\n",
    "            res[1] += 1 if tab[num]%2 != 0 else 0\n",
    "\n",
    "        return res"
   ]
  },
  {
   "cell_type": "code",
   "execution_count": null,
   "metadata": {},
   "outputs": [],
   "source": [
    "# 1688. Count of Matches in Tournament\n",
    "\n",
    "class Solution:\n",
    "    def numberOfMatches(self, n: int) -> int:\n",
    "        if n == 1:\n",
    "            return 0\n",
    "        elif n == 2:\n",
    "            return 1\n",
    "        elif n % 2 == 0:\n",
    "            return n//2 + self.numberOfMatches(n//2)\n",
    "        else:\n",
    "            return (n-1)//2 + self.numberOfMatches(((n-1)//2)+1)"
   ]
  },
  {
   "cell_type": "code",
   "execution_count": 4,
   "metadata": {},
   "outputs": [
    {
     "data": {
      "text/plain": [
       "'cbad'"
      ]
     },
     "execution_count": 4,
     "metadata": {},
     "output_type": "execute_result"
    }
   ],
   "source": [
    "# 2810. Faulty Keyboard\n",
    "\n",
    "class Solution:\n",
    "    def finalString(self, s: str) -> str:\n",
    "        res = ''\n",
    "\n",
    "        for l in s:\n",
    "            if l == 'i':\n",
    "                res = res[::-1]\n",
    "            else:\n",
    "                res += l\n",
    "\n",
    "        return res"
   ]
  },
  {
   "cell_type": "code",
   "execution_count": null,
   "metadata": {},
   "outputs": [],
   "source": [
    "# 2363. Merge Similar Items\n",
    "\n",
    "class Solution:\n",
    "    def mergeSimilarItems(self, items1: List[List[int]], items2: List[List[int]]) -> List[List[int]]:\n",
    "        tab = {}\n",
    "\n",
    "        for item in items1:\n",
    "            tab[item[0]] = item[1]\n",
    "        for item in items2:\n",
    "            tab[item[0]] = item[1] if item[0] not in tab else tab[item[0]]+item[1]\n",
    "\n",
    "        return [[val,tab[val]] for val in sorted(tab)]"
   ]
  },
  {
   "cell_type": "code",
   "execution_count": null,
   "metadata": {},
   "outputs": [],
   "source": [
    "# 2389. Longest Subsequence With Limited Sum\n",
    "\n",
    "class Solution:\n",
    "    def answerQueries(self, nums: List[int], queries: List[int]) -> List[int]:\n",
    "        def max_subsequence(nums: List[int], query: int) -> int:\n",
    "            tot = 0\n",
    "            for i in range(len(nums)):\n",
    "                tot += nums[i]\n",
    "                if tot > query:\n",
    "                    return i\n",
    "            return len(nums)\n",
    "\n",
    "        nums.sort()\n",
    "\n",
    "        return [max_subsequence(nums, query) for query in queries]"
   ]
  },
  {
   "cell_type": "code",
   "execution_count": 40,
   "metadata": {},
   "outputs": [
    {
     "data": {
      "text/plain": [
       "[6, 7, 8, 9, 1, 2, 3, 4, 5]"
      ]
     },
     "execution_count": 40,
     "metadata": {},
     "output_type": "execute_result"
    }
   ],
   "source": [
    "# 1260. Shift 2D Grid\n",
    "\n",
    "class Solution:\n",
    "    def shiftGrid(self, grid: List[List[int]], k: int) -> List[List[int]]:\n",
    "        def flatten(grid: List[List[int]]) -> List[int]:\n",
    "            return [grid[i][j] for i in range(len(grid)) for j in range(len(grid[0]))]\n",
    "        def to_matrix(flat: List[int], m: int, n: int) -> List[List[int]]:\n",
    "            return [[flat[i+j*n] for i in range(n)] for j in range(m)]\n",
    "        def rotate(flat: List[int], k: int) -> List[int]:\n",
    "            return flat[-k%len(flat):] + flat[:-k%len(flat)]\n",
    "\n",
    "        m, n = len(grid), len(grid[0])\n",
    "        flat = flatten(grid)\n",
    "        flat = rotate(flat, k)\n",
    "\n",
    "        return to_matrix(flat, m, n)"
   ]
  },
  {
   "cell_type": "code",
   "execution_count": null,
   "metadata": {},
   "outputs": [],
   "source": [
    "# 2028. Find Missing Observations\n",
    "\n",
    "class Solution:\n",
    "    def missingRolls(self, rolls: List[int], mean: int, n: int) -> List[int]:\n",
    "        m, sum_rolls = len(rolls), sum(rolls)\n",
    "        sum_remaining, res = (mean*(m+n) - sum_rolls), []\n",
    "\n",
    "        if sum_remaining < n or sum_remaining > 6*n:\n",
    "            return []\n",
    "\n",
    "        for i in range(n, 0, -1):\n",
    "            ans = sum_remaining//i\n",
    "            res.append(ans)\n",
    "            sum_remaining -= ans\n",
    "\n",
    "        return res"
   ]
  },
  {
   "cell_type": "code",
   "execution_count": null,
   "metadata": {},
   "outputs": [],
   "source": [
    "# 1232. Check If It Is a Straight Line\n",
    "\n",
    "class Solution:\n",
    "    def checkStraightLine(self, coordinates: List[List[int]]) -> bool:\n",
    "        # handle vertical line\n",
    "        x1, y1 = coordinates[1]\n",
    "        if coordinates[1][0] - coordinates[0][0] == 0:\n",
    "            for [x2, y2] in coordinates[2:]:\n",
    "                if x2 != x1:\n",
    "                    return False\n",
    "                x1, y1 = x2, y2\n",
    "        else:\n",
    "            m = (coordinates[1][1] - coordinates[0][1])/(coordinates[1][0] - coordinates[0][0])\n",
    "\n",
    "            x1, y1 = coordinates[1]\n",
    "            for [x2, y2] in coordinates[2:]:\n",
    "                if x2-x1 == 0:\n",
    "                    return False\n",
    "                elif (y2-y1)/(x2-x1) != m:\n",
    "                    return False\n",
    "                x1, y1 = x2, y2\n",
    "\n",
    "        return True"
   ]
  },
  {
   "cell_type": "code",
   "execution_count": 13,
   "metadata": {},
   "outputs": [
    {
     "data": {
      "text/plain": [
       "26"
      ]
     },
     "execution_count": 13,
     "metadata": {},
     "output_type": "execute_result"
    }
   ],
   "source": [
    "len([1,0,9,5,0,0,3,0,0,0,0,0,0,0,2,0,0,0,0,0,0,0,0,0,0,0])"
   ]
  },
  {
   "cell_type": "code",
   "execution_count": 24,
   "metadata": {},
   "outputs": [
    {
     "name": "stdout",
     "output_type": "stream",
     "text": [
      "\n",
      "dog\n",
      "cat\n",
      "dogcat\n",
      "dad\n",
      "dogdad\n",
      "catdad\n",
      "dogcatdad\n",
      "good\n",
      "doggood\n",
      "catgood\n",
      "dogcatgood\n",
      "dadgood\n",
      "dogdadgood\n",
      "catdadgood\n",
      "dogcatdadgood\n"
     ]
    }
   ],
   "source": [
    "# 1255. Maximum Score Words Formed by Letters\n",
    "\n",
    "class Solution:\n",
    "    def maxScoreWords(self, words: List[str], letters: List[str], score: List[int]) -> int:\n",
    "        def score_word(word: str, score: List[int]) -> int:\n",
    "            res = 0\n",
    "            for l in word:\n",
    "                res += score[ord(l)-97]\n",
    "            return res\n",
    "\n",
    "        def is_allowed(word: str, tab: dict) -> bool:\n",
    "            for l in set(word):\n",
    "                if l not in tab or tab[l] < word.count(l):\n",
    "                    return False\n",
    "            return True\n",
    "\n",
    "        def subsets(words):\n",
    "            size = 2**len(words)\n",
    "            for i in range(size):\n",
    "                s = ''\n",
    "                for j in range(len(words)):\n",
    "                    if i & (1 << j) > 0:\n",
    "                        s += words[j]\n",
    "                yield s\n",
    "\n",
    "        mx, tab = 0, {}\n",
    "\n",
    "        for l in letters:\n",
    "            tab[l] = 1 if l not in tab else tab[l]+1\n",
    "            \n",
    "        for word in subsets(words):\n",
    "            if is_allowed(word, tab):\n",
    "                mx = max(mx, score_word(word, score))\n",
    "\n",
    "        return mx"
   ]
  },
  {
   "cell_type": "code",
   "execution_count": null,
   "metadata": {},
   "outputs": [],
   "source": [
    "# 3217. Delete Nodes From Linked List Present in Array\n",
    "\n",
    "class Solution:\n",
    "    def modifiedList(self, nums: List[int], head: Optional[ListNode]) -> Optional[ListNode]:\n",
    "        tab = set(nums)\n",
    "\n",
    "        while head and head.val in tab:\n",
    "            head = head.next\n",
    "\n",
    "        prev = head\n",
    "        curr = head.next\n",
    "\n",
    "        while curr:\n",
    "            # print(curr.val)\n",
    "            if curr.val not in tab:\n",
    "                prev.next = curr\n",
    "                prev = curr\n",
    "\n",
    "            curr = curr.next\n",
    "\n",
    "        prev.next = None\n",
    "        return head"
   ]
  },
  {
   "cell_type": "code",
   "execution_count": 6,
   "metadata": {},
   "outputs": [
    {
     "name": "stdout",
     "output_type": "stream",
     "text": [
      "[0, 0, 0]\n",
      "[0, 1, 0]\n",
      "[1, 1, 1]\n",
      "[1, 0, 0]\n",
      "[1, 1, 0]\n",
      "[1, 0, 0]\n"
     ]
    }
   ],
   "source": [
    "mat = [[0,0,0],[0,1,0],[1,1,1]]\n",
    "def rotate(mat):\n",
    "    n = len(mat[0])\n",
    "    for i in range(n//2):\n",
    "        for j in range(i, n-i-1):\n",
    "            temp = mat[i][j]\n",
    "            mat[i][j] = mat[n-1-j][i]\n",
    "            mat[n-1-j][i] = mat[n-1-i][n-1-j]\n",
    "            mat[n-1-i][n-1-j] = mat[j][n-1-i]\n",
    "            mat[j][n-1-i] = temp\n",
    "\n",
    "def printMatrix(A):\n",
    "    N = len(A[0])\n",
    "    for i in range(N):\n",
    "        print(A[i])\n",
    "\n",
    "printMatrix(mat)\n",
    "\n",
    "rotate(mat)\n",
    "\n",
    "printMatrix(mat)"
   ]
  },
  {
   "cell_type": "code",
   "execution_count": null,
   "metadata": {},
   "outputs": [],
   "source": [
    "# 2807. Insert Greatest Common Divisors in Linked List\n",
    "\n",
    "class Solution:\n",
    "    def insertGreatestCommonDivisors(self, head: Optional[ListNode]) -> Optional[ListNode]:\n",
    "        def gcd(num1: int, num2: int) -> int:\n",
    "            while(num2):\n",
    "                num1, num2 = num2, num1 % num2\n",
    "            return abs(num1)\n",
    "\n",
    "        curr = head\n",
    "\n",
    "        while curr.next:\n",
    "            # print(curr.val, curr.next.val, gcd(curr.val, curr.next.val))\n",
    "            node = ListNode(gcd(curr.val, curr.next.val))\n",
    "            node.next = curr.next\n",
    "            curr.next = node\n",
    "            curr = node.next\n",
    "\n",
    "        return head"
   ]
  },
  {
   "cell_type": "code",
   "execution_count": null,
   "metadata": {},
   "outputs": [],
   "source": [
    "# 2974. Minimum Number Game\n",
    "\n",
    "class Solution:\n",
    "    def numberGame(self, nums: List[int]) -> List[int]:\n",
    "        nums.sort()\n",
    "\n",
    "        for i in range(1, len(nums), 2):\n",
    "            nums[i-1], nums[i] = nums[i], nums[i-1]\n",
    "\n",
    "        return nums"
   ]
  },
  {
   "cell_type": "code",
   "execution_count": null,
   "metadata": {},
   "outputs": [],
   "source": [
    "# 2269. Find the K-Beauty of a Number\n",
    "\n",
    "class Solution:\n",
    "    def divisorSubstrings(self, num: int, k: int) -> int:\n",
    "        s, count = str(num), 0\n",
    "      \n",
    "        for i in range(k, len(s)+1):\n",
    "            sub = int(s[i-k:i])\n",
    "            if sub != 0:\n",
    "                count += 1 if num % sub == 0 else 0\n",
    "\n",
    "        return count"
   ]
  },
  {
   "cell_type": "code",
   "execution_count": 35,
   "metadata": {},
   "outputs": [
    {
     "data": {
      "text/plain": [
       "1234"
      ]
     },
     "execution_count": 35,
     "metadata": {},
     "output_type": "execute_result"
    }
   ],
   "source": [
    "num = 123456\n",
    "\n",
    "def substring_num(num, start, finish):\n",
    "    return (num//10**finish)\n",
    "\n",
    "substring_num(num, 0, 2)%10**(count_digits(num)-3)"
   ]
  },
  {
   "cell_type": "code",
   "execution_count": 55,
   "metadata": {},
   "outputs": [
    {
     "name": "stdout",
     "output_type": "stream",
     "text": [
      "0\n"
     ]
    },
    {
     "data": {
      "text/plain": [
       "23456"
      ]
     },
     "execution_count": 55,
     "metadata": {},
     "output_type": "execute_result"
    }
   ],
   "source": [
    "num = 123456\n",
    "\n",
    "def substring_num(num, start, finish):\n",
    "    def count_digits(num):\n",
    "        count = 0\n",
    "        while num:\n",
    "            num //= 10\n",
    "            count += 1\n",
    "        return count\n",
    "    \n",
    "    digits = count_digits(num)\n",
    "    print(digits-finish)\n",
    "    # print(digits-start)\n",
    "    return (num//10**(digits-finish))%10**(digits-start)\n",
    "\n",
    "substring_num(num, 1, 6)"
   ]
  },
  {
   "cell_type": "code",
   "execution_count": 54,
   "metadata": {},
   "outputs": [
    {
     "data": {
      "text/plain": [
       "'2345'"
      ]
     },
     "execution_count": 54,
     "metadata": {},
     "output_type": "execute_result"
    }
   ],
   "source": [
    "str(123456)[1:5]"
   ]
  },
  {
   "cell_type": "code",
   "execution_count": 23,
   "metadata": {},
   "outputs": [
    {
     "data": {
      "text/plain": [
       "2"
      ]
     },
     "execution_count": 23,
     "metadata": {},
     "output_type": "execute_result"
    }
   ],
   "source": [
    "def count_digits(num):\n",
    "    count = 0\n",
    "    while num:\n",
    "        num //= 10\n",
    "        count += 1\n",
    "    return count\n",
    "\n",
    "count_digits(num)"
   ]
  },
  {
   "cell_type": "code",
   "execution_count": null,
   "metadata": {},
   "outputs": [],
   "source": [
    "# 1952. Three Divisors\n",
    "\n",
    "from math import sqrt\n",
    "\n",
    "class Solution:\n",
    "    def isThree(self, n: int) -> bool:\n",
    "        cnt = 0\n",
    "        for i in range(1, int(sqrt(n))+1):\n",
    "            if n % i == 0:\n",
    "                if n / i == i:\n",
    "                    cnt += 1\n",
    "                else:\n",
    "                    cnt += 2\n",
    "            if cnt > 3:\n",
    "                return False\n",
    "        return cnt == 3"
   ]
  },
  {
   "cell_type": "code",
   "execution_count": null,
   "metadata": {},
   "outputs": [],
   "source": [
    "# 77. Combinations\n",
    "\n",
    "class Solution:\n",
    "    def combine(self, n: int, k: int) -> List[List[int]]:\n",
    "        num = (2**n)\n",
    "        res = []\n",
    "        for i in range(1, num):\n",
    "            j = 0\n",
    "            cur = []\n",
    "            while i:\n",
    "                j += 1\n",
    "                if i & 1:\n",
    "                    cur.append(j)\n",
    "                i >>= 1\n",
    "            if len(cur) == k:\n",
    "                res.append(cur)\n",
    "        return res"
   ]
  },
  {
   "cell_type": "code",
   "execution_count": 22,
   "metadata": {},
   "outputs": [
    {
     "data": {
      "text/plain": [
       "[[1]]"
      ]
     },
     "execution_count": 22,
     "metadata": {},
     "output_type": "execute_result"
    }
   ],
   "source": [
    "# 1310. XOR Queries of a Subarray\n",
    "\n",
    "class Solution:\n",
    "    def xorQueries(self, arr: List[int], queries: List[List[int]]) -> List[int]:\n",
    "        psums = [arr[0]]\n",
    "\n",
    "        for i in range(1, len(arr)):\n",
    "            psums.append(psums[i-1]^arr[i])\n",
    "\n",
    "        res = [psums[q[1]]^psums[q[0]-1] if q[0]>0 else psums[q[1]] for q in queries]\n",
    "\n",
    "        return res"
   ]
  },
  {
   "cell_type": "code",
   "execution_count": 8,
   "metadata": {},
   "outputs": [],
   "source": [
    "# 2843. Count Symmetric Integers\n",
    "\n",
    "class Solution:\n",
    "    def countSymmetricIntegers(self, low: int, high: int) -> int:\n",
    "        def sum_digits(num):\n",
    "            res = 0\n",
    "            while num:\n",
    "                res += num%10\n",
    "                num //= 10\n",
    "\n",
    "            return res\n",
    "\n",
    "        def count_digits(num):\n",
    "            count = 0\n",
    "            while num:\n",
    "                num //= 10\n",
    "                count += 1\n",
    "            return count\n",
    "\n",
    "        def is_symmetric(num):\n",
    "            n = count_digits(num)\n",
    "            if n % 2 != 0:\n",
    "                return False    \n",
    "            return sum_digits(num//10**(n//2)) == sum_digits(num%10**(n//2))\n",
    "\n",
    "        count = 0\n",
    "\n",
    "        for i in range(low, high+1):\n",
    "            count += 1 if is_symmetric(i) else 0\n",
    "\n",
    "        return count"
   ]
  },
  {
   "cell_type": "code",
   "execution_count": null,
   "metadata": {},
   "outputs": [],
   "source": [
    "# 2965. Find Missing and Repeated Values\n",
    "\n",
    "class Solution:\n",
    "    def findMissingAndRepeatedValues(self, grid: List[List[int]]) -> List[int]:\n",
    "        n = len(grid)\n",
    "        tab = {i:0 for i in range(1, (n**2)+1)}\n",
    "        a = b = 0\n",
    "\n",
    "        for i in range(n):\n",
    "            for j in range(n):\n",
    "                tab[grid[i][j]] += 1\n",
    "\n",
    "        for i in tab.keys():\n",
    "            if tab[i] == 2:\n",
    "                a = i\n",
    "            elif tab[i] == 0:\n",
    "                b = i\n",
    "\n",
    "        return [a,b]"
   ]
  },
  {
   "cell_type": "code",
   "execution_count": null,
   "metadata": {},
   "outputs": [],
   "source": [
    "# 1450. Number of Students Doing Homework at a Given Time\n",
    "\n",
    "class Solution:\n",
    "    def busyStudent(self, startTime: List[int], endTime: List[int], queryTime: int) -> int:\n",
    "        cnt = 0\n",
    "\n",
    "        for i in range(len(startTime)):\n",
    "            cnt += 1 if startTime[i] <= queryTime and queryTime <= endTime[i] else 0\n",
    "        \n",
    "        return cnt"
   ]
  },
  {
   "cell_type": "code",
   "execution_count": 1,
   "metadata": {},
   "outputs": [
    {
     "data": {
      "text/plain": [
       "1439"
      ]
     },
     "execution_count": 1,
     "metadata": {},
     "output_type": "execute_result"
    }
   ],
   "source": [
    "# 539. Minimum Time Difference\n",
    "\n",
    "class Solution:\n",
    "    def findMinDifference(self, timePoints: List[str]) -> int:\n",
    "        def to_minutes(time):\n",
    "            return int(time[0:2])*60+int(time[3:])\n",
    "        times = sorted([to_minutes(time) for time in timePoints])\n",
    "        diff = 1500\n",
    "        for i in range(1, len(times)):\n",
    "            diff = min(diff, times[i]-times[i-1])\n",
    "        diff = min(diff, times[0]+1440-times[-1])\n",
    "        return diff"
   ]
  },
  {
   "cell_type": "code",
   "execution_count": 2,
   "metadata": {},
   "outputs": [
    {
     "data": {
      "text/plain": [
       "False"
      ]
     },
     "execution_count": 2,
     "metadata": {},
     "output_type": "execute_result"
    }
   ],
   "source": [
    "# 2496. Maximum Value of a String in an Array\n",
    "\n",
    "class Solution:\n",
    "    def maximumValue(self, strs: List[str]) -> int:\n",
    "        mx = 0\n",
    "\n",
    "        for s in strs:\n",
    "            if s.isnumeric():\n",
    "                mx = max(mx, int(s))\n",
    "            else:\n",
    "                mx = max(mx, len(s))\n",
    "\n",
    "        return mx"
   ]
  },
  {
   "cell_type": "code",
   "execution_count": null,
   "metadata": {},
   "outputs": [],
   "source": [
    "# 993. Cousins in Binary Tree\n",
    "\n",
    "class Solution:\n",
    "    def isCousins(self, root: Optional[TreeNode], x: int, y: int) -> bool:\n",
    "        from collections import deque\n",
    "\n",
    "        lvl = 0\n",
    "        q = deque([(root, lvl, None)])\n",
    "\n",
    "        while q:\n",
    "            node, lvl, par = q.popleft()\n",
    "            if node.left:\n",
    "                q.append((node.left, lvl+1, node.val))\n",
    "            if node.right:\n",
    "                q.append((node.right, lvl+1, node.val))\n",
    "            tablvl = {n[0].val:n[1] for n in q}\n",
    "            tabpar = {n[0].val:n[2] for n in q}\n",
    "            if x in tablvl and y in tablvl:\n",
    "                if tablvl[x] == tablvl[y] and tabpar[x] != tabpar[y]:\n",
    "                    return True\n",
    "\n",
    "        return False"
   ]
  },
  {
   "cell_type": "code",
   "execution_count": 22,
   "metadata": {},
   "outputs": [
    {
     "name": "stdout",
     "output_type": "stream",
     "text": [
      "[2, 2]\n",
      "[4, 1]\n"
     ]
    }
   ],
   "source": [
    "# 492. Construct the Rectangle\n",
    "\n",
    "class Solution:\n",
    "    def constructRectangle(self, area: int) -> List[int]:\n",
    "        from math import sqrt\n",
    "\n",
    "        for i in range(int(sqrt(area)), 0, -1):\n",
    "            if (area/i)%1 == 0:\n",
    "                return [int(area/i), i]"
   ]
  },
  {
   "cell_type": "code",
   "execution_count": 4,
   "metadata": {},
   "outputs": [],
   "source": [
    "n = 432\n",
    "k = 2\n",
    "\n",
    "# sorted([str(i) for i in range(k, n+1)])"
   ]
  },
  {
   "cell_type": "code",
   "execution_count": 16,
   "metadata": {},
   "outputs": [
    {
     "name": "stdout",
     "output_type": "stream",
     "text": [
      "0 1 2\n",
      "1 10 20\n",
      "11 100 200\n"
     ]
    },
    {
     "data": {
      "text/plain": [
       "111"
      ]
     },
     "execution_count": 16,
     "metadata": {},
     "output_type": "execute_result"
    }
   ],
   "source": [
    "n = 432\n",
    "k = 30\n",
    "\n",
    "def count_prefix(p, n):\n",
    "    count = 0\n",
    "    cur = p\n",
    "    next_p = p + 1\n",
    "    while cur <= n:\n",
    "        print(count, cur, next_p)\n",
    "        count += min(next_p, n + 1) - cur\n",
    "        cur *= 10\n",
    "        next_p *= 10\n",
    "    return count\n",
    "\n",
    "count_prefix(1, n)"
   ]
  },
  {
   "cell_type": "code",
   "execution_count": 50,
   "metadata": {},
   "outputs": [
    {
     "data": {
      "text/plain": [
       "['e', 'jyr']"
      ]
     },
     "execution_count": 50,
     "metadata": {},
     "output_type": "execute_result"
    }
   ],
   "source": [
    "words = [\"jyr\",\"e\"]\n",
    "order = \"abcdefghijklmnopqrstuvwxyz\"\n",
    "\n",
    "def lex_order_key(string, order):\n",
    "    tab = {order[i]:i for i in range(len(order))}\n",
    "    # print(100-len(string))\n",
    "    # return \"\".join(sorted(string + order[0]*(100-len(string)), key=lambda char: tab[char]))\n",
    "    return \"\".join(sorted(string, key=lambda char: tab[char])) + order[0]*(100-len(string))\n",
    "\n",
    "sorted(words, key=lambda x: lex_order_key(x, order))"
   ]
  },
  {
   "cell_type": "code",
   "execution_count": 16,
   "metadata": {},
   "outputs": [
    {
     "data": {
      "text/plain": [
       "True"
      ]
     },
     "execution_count": 16,
     "metadata": {},
     "output_type": "execute_result"
    }
   ],
   "source": [
    "s = \"1 box has 3 blue 4 red 6 green and 12 yellow marbles\"\n",
    "\n",
    "nums = [int(elem) for elem in s.split() if elem.isnumeric()]\n",
    "all(nums[i] <= nums[i+1] for i in range(len(nums)-1))"
   ]
  },
  {
   "cell_type": "code",
   "execution_count": 22,
   "metadata": {},
   "outputs": [
    {
     "data": {
      "text/plain": [
       "4"
      ]
     },
     "execution_count": 22,
     "metadata": {},
     "output_type": "execute_result"
    }
   ],
   "source": [
    "order = \"ngxlkthsjuoqcpavbfdermiywz\"\n",
    "tab = {order[i]:i for i in range(len(order))}\n",
    "tab['k']"
   ]
  },
  {
   "cell_type": "code",
   "execution_count": 51,
   "metadata": {},
   "outputs": [
    {
     "data": {
      "text/plain": [
       "'appaaaaaaaaaaaaaaaaaaaaaaaaaaaaaaaaaaaaaaaaaaaaaaaaaaaaaaaaaaaaaaaaaaaaaaaaaaaaaaaaaaaaaaaaaaaaaaaaa'"
      ]
     },
     "execution_count": 51,
     "metadata": {},
     "output_type": "execute_result"
    }
   ],
   "source": [
    "lex_order_key(\"app\", order)"
   ]
  },
  {
   "cell_type": "code",
   "execution_count": 52,
   "metadata": {},
   "outputs": [
    {
     "data": {
      "text/plain": [
       "'aelppaaaaaaaaaaaaaaaaaaaaaaaaaaaaaaaaaaaaaaaaaaaaaaaaaaaaaaaaaaaaaaaaaaaaaaaaaaaaaaaaaaaaaaaaaaaaaaa'"
      ]
     },
     "execution_count": 52,
     "metadata": {},
     "output_type": "execute_result"
    }
   ],
   "source": [
    "lex_order_key(\"apple\", order)"
   ]
  },
  {
   "cell_type": "code",
   "execution_count": null,
   "metadata": {},
   "outputs": [],
   "source": [
    "# 1779. Find Nearest Point That Has the Same X or Y Coordinate\n",
    "\n",
    "class Solution:\n",
    "    def nearestValidPoint(self, x: int, y: int, points: List[List[int]]) -> int:\n",
    "        res, mn = -1, 10**5\n",
    "\n",
    "        for i, e in enumerate(points):\n",
    "            # check validity\n",
    "            if e[0] != x and e[1] != y:\n",
    "                continue\n",
    "            # find minimum man-dist\n",
    "            if (abs(x - e[0]) + abs(y - e[1])) < mn:\n",
    "                res, mn = i, (abs(x - e[0]) + abs(y - e[1]))\n",
    "\n",
    "        return res"
   ]
  },
  {
   "cell_type": "code",
   "execution_count": null,
   "metadata": {},
   "outputs": [],
   "source": [
    "# 1909. Remove One Element to Make the Array Strictly Increasing\n",
    "\n",
    "class Solution:\n",
    "    def canBeIncreasing(self, nums: List[int]) -> bool:\n",
    "\n",
    "        for i in range(len(nums)):\n",
    "            check = nums[:i] + nums[i+1:]\n",
    "            if all(check[j] < check[j+1] for j in range(len(check)-1)):\n",
    "                return True\n",
    "\n",
    "        return False"
   ]
  },
  {
   "cell_type": "code",
   "execution_count": null,
   "metadata": {},
   "outputs": [],
   "source": [
    "# 2006. Count Number of Pairs With Absolute Difference K\n",
    "\n",
    "class Solution:\n",
    "    def countKDifference(self, nums: List[int], k: int) -> int:\n",
    "        res = 0\n",
    "\n",
    "        for i in range(len(nums)):\n",
    "            for j in range(i, len(nums)):\n",
    "                res += 1 if abs(nums[i] - nums[j]) == k else 0\n",
    "\n",
    "        return res"
   ]
  },
  {
   "cell_type": "code",
   "execution_count": null,
   "metadata": {},
   "outputs": [],
   "source": [
    "# 1337. The K Weakest Rows in a Matrix\n",
    "\n",
    "class Solution:\n",
    "    def kWeakestRows(self, mat: List[List[int]], k: int) -> List[int]:\n",
    "        tab = {}\n",
    "\n",
    "        for i, e in enumerate(mat):\n",
    "            tab[i] = sum(e)\n",
    "\n",
    "        return sorted(tab.keys(), key=lambda x: (tab[x], x))[:k]"
   ]
  },
  {
   "cell_type": "code",
   "execution_count": 36,
   "metadata": {},
   "outputs": [
    {
     "data": {
      "text/plain": [
       "2"
      ]
     },
     "execution_count": 36,
     "metadata": {},
     "output_type": "execute_result"
    }
   ],
   "source": [
    "# 2506. Count Pairs Of Similar Strings\n",
    "\n",
    "class Solution:\n",
    "    def similarPairs(self, words: List[str]) -> int:\n",
    "        res, tab, lst = 0, {}, [frozenset(word) for word in words]\n",
    "        for e in lst:\n",
    "            tab[e] = 1 if e not in tab else tab[e]+1\n",
    "\n",
    "        for e in lst:\n",
    "            if tab[e] == 1:\n",
    "                continue\n",
    "            while tab[e] > 0:\n",
    "                res += tab[e]-1\n",
    "                tab[e] -= 1\n",
    "\n",
    "        return res"
   ]
  },
  {
   "cell_type": "code",
   "execution_count": 17,
   "metadata": {},
   "outputs": [],
   "source": [
    "# 1381. Design a Stack With Increment Operation\n",
    "\n",
    "class CustomStack:\n",
    "    stack = []\n",
    "    mx = 0\n",
    "\n",
    "    def __init__(self, maxSize: int):\n",
    "        self.mx = maxSize\n",
    "        self.stack = list()\n",
    "\n",
    "    def push(self, x: int) -> None:\n",
    "        if len(self.stack) < self.mx:\n",
    "            self.stack.append(x)\n",
    "\n",
    "    def pop(self) -> int:\n",
    "        if self.stack:\n",
    "            return self.stack.pop()\n",
    "        else:\n",
    "            return -1\n",
    "\n",
    "    def increment(self, k: int, val: int) -> None:\n",
    "        for i in range(min(k, len(self.stack))):\n",
    "            self.stack[i] += val\n",
    "\n",
    "\n",
    "# Your CustomStack object will be instantiated and called as such:\n",
    "# obj = CustomStack(maxSize)\n",
    "# obj.push(x)"
   ]
  },
  {
   "cell_type": "code",
   "execution_count": 10,
   "metadata": {},
   "outputs": [
    {
     "data": {
      "text/plain": [
       "30000"
      ]
     },
     "execution_count": 10,
     "metadata": {},
     "output_type": "execute_result"
    }
   ],
   "source": [
    "# 3028. Ant on the Boundary\n",
    "\n",
    "class Solution:\n",
    "    def returnToBoundaryCount(self, nums: List[int]) -> int:\n",
    "        pos, cnt = 0, 0\n",
    "\n",
    "        for num in nums:\n",
    "            pos += num\n",
    "            cnt += 1 if pos == 0 else 0\n",
    "\n",
    "        return cnt"
   ]
  },
  {
   "cell_type": "code",
   "execution_count": null,
   "metadata": {},
   "outputs": [],
   "source": [
    "# 1047. Remove All Adjacent Duplicates In String\n",
    "\n",
    "class Solution:\n",
    "    def removeDuplicates(self, s: str) -> str:\n",
    "        stack = []\n",
    "\n",
    "        for l in s:\n",
    "            stack.append(l)\n",
    "            while len(stack) > 1 and stack[-1] == stack[-2]:\n",
    "                stack = stack[:-2]\n",
    "\n",
    "        return \"\".join(stack)"
   ]
  },
  {
   "cell_type": "code",
   "execution_count": null,
   "metadata": {},
   "outputs": [],
   "source": [
    "# 2491. Divide Players Into Teams of Equal Skill\n",
    "\n",
    "class Solution:\n",
    "    def dividePlayers(self, skill: List[int]) -> int:\n",
    "        skill.sort()\n",
    "        skill_lvl, res = skill[0] + skill[-1], 0\n",
    "\n",
    "        for i in range(len(skill)//2):\n",
    "            if skill[i] + skill[-i-1] != skill_lvl:\n",
    "                return -1\n",
    "            res += skill[i] * skill[-i-1]\n",
    "\n",
    "        return res"
   ]
  },
  {
   "cell_type": "code",
   "execution_count": 5,
   "metadata": {},
   "outputs": [],
   "source": [
    "# 2264. Largest 3-Same-Digit Number in String\n",
    "\n",
    "class Solution:\n",
    "    def largestGoodInteger(self, num: str) -> str:\n",
    "        for i in range(9, -1, -1):\n",
    "            for j in range(3, len(num)+1):\n",
    "                if int(num[j-3:j] )== (i*100 + i*10 + i):\n",
    "                    return num[j-3:j]\n",
    "\n",
    "        return \"\""
   ]
  },
  {
   "cell_type": "code",
   "execution_count": 43,
   "metadata": {},
   "outputs": [
    {
     "data": {
      "text/plain": [
       "[10, 98, 1000]"
      ]
     },
     "execution_count": 43,
     "metadata": {},
     "output_type": "execute_result"
    }
   ],
   "source": [
    "def argmax(nums):\n",
    "    mx = idx = 0\n",
    "    for i in range(len(nums)):\n",
    "        if nums[i] > mx:\n",
    "            mx = nums[i]\n",
    "            idx = i\n",
    "    return idx\n",
    "\n",
    "def max_letter(abc, disallowed) -> str:\n",
    "    idx_tab = {\"a\":0, \"b\":1, \"c\":2, \"\":-1}\n",
    "    temp = [abc[i] if i != idx_tab[disallowed] else 0 for i in range(3)]\n",
    "    idx = argmax(temp)\n",
    "    abc[idx] -= 1 \n",
    "    if sum(temp) < 1:\n",
    "        return \"\"\n",
    "    return \"abc\"[idx]\n",
    "    \n",
    "abc = [10,100,1000]\n",
    "max_letter(abc, \"c\")\n",
    "max_letter(abc, \"c\")\n",
    "abc"
   ]
  },
  {
   "cell_type": "code",
   "execution_count": 4,
   "metadata": {},
   "outputs": [
    {
     "data": {
      "text/plain": [
       "\"s'teL ekat edoCteeL tsetnoc\""
      ]
     },
     "execution_count": 4,
     "metadata": {},
     "output_type": "execute_result"
    }
   ],
   "source": [
    "s = \"Let's take LeetCode contest\"\n",
    "s.split()\n",
    "\" \".join([word[::-1] for word in s.split()])"
   ]
  },
  {
   "cell_type": "code",
   "execution_count": 54,
   "metadata": {},
   "outputs": [],
   "source": [
    "# 405. Convert a Number to Hexadecimal\n",
    "\n",
    "class Solution:\n",
    "    def toHex(self, num: int) -> str:\n",
    "        def twos_comp(num: int) -> str:\n",
    "            if num >= 0:\n",
    "                # for pos nums we only want to fill non-zero bytes of representation\n",
    "                return bin(num)[2:].zfill(-((len(bin(num))-2)//-4)*4)\n",
    "            else:\n",
    "                # for neg nums we want all 32 bits of representation\n",
    "                return bin(2**32 + num)[2:]\n",
    "\n",
    "        hexadecimal = {twos_comp(i):'0123456789abcdef'[i] for i in range(16)}\n",
    "        bit_rep, res = twos_comp(num), ''\n",
    "\n",
    "        for i in range(0, len(bit_rep), 4):\n",
    "            res += hexadecimal[bit_rep[i:i+4]]\n",
    "\n",
    "        return res"
   ]
  },
  {
   "cell_type": "code",
   "execution_count": 36,
   "metadata": {},
   "outputs": [
    {
     "data": {
      "text/plain": [
       "16"
      ]
     },
     "execution_count": 36,
     "metadata": {},
     "output_type": "execute_result"
    }
   ],
   "source": [
    "grid = [[0, 1, 2], [3, 4, 5], [6, 7, 8]]\n",
    "\n",
    "def grid_idx(value: int) -> tuple:\n",
    "    return (value//len(grid), value%len(grid))\n",
    "\n",
    "def adjacentSum(value):\n",
    "    i, j = grid_idx(value)\n",
    "    res = 0\n",
    "    if i > 0:\n",
    "        res += grid[i-1][j]\n",
    "    if i < len(grid)-1:\n",
    "        res += grid[i+1][j]\n",
    "    if j > 0:\n",
    "        res += grid[i][j-1]\n",
    "    if j < len(grid)-1:\n",
    "        res += grid[i][j+1]\n",
    "\n",
    "    return res\n",
    "\n",
    "def diagonalSum(value):\n",
    "    i, j = grid_idx(value)\n",
    "    res = 0\n",
    "    if i > 0 and j > 0:\n",
    "        res += grid[i-1][j-1]\n",
    "    if i > 0 and j < len(grid)-1:\n",
    "        res += grid[i-1][j+1]\n",
    "    if i < len(grid)-1 and j > 0:\n",
    "        res += grid[i+1][j-1]\n",
    "    if i < len(grid)-1 and j < len(grid)-1:\n",
    "        res += grid[i+1][j+1]\n",
    "\n",
    "    return res\n",
    "\n",
    "diagonalSum(4)"
   ]
  },
  {
   "cell_type": "code",
   "execution_count": 38,
   "metadata": {},
   "outputs": [
    {
     "data": {
      "text/plain": [
       "{0: [0, 0],\n",
       " 1: [0, 1],\n",
       " 2: [0, 2],\n",
       " 3: [1, 0],\n",
       " 4: [1, 1],\n",
       " 5: [1, 2],\n",
       " 6: [2, 0],\n",
       " 7: [2, 1],\n",
       " 8: [2, 2]}"
      ]
     },
     "execution_count": 38,
     "metadata": {},
     "output_type": "execute_result"
    }
   ],
   "source": [
    "grid = [[0, 1, 2], [3, 4, 5], [6, 7, 8]]\n",
    "\n",
    "{grid[i][j]:[i,j] for i in range(len(grid)) for j in range(len(grid))}"
   ]
  },
  {
   "cell_type": "code",
   "execution_count": 7,
   "metadata": {},
   "outputs": [
    {
     "data": {
      "text/plain": [
       "'0b1100100'"
      ]
     },
     "execution_count": 7,
     "metadata": {},
     "output_type": "execute_result"
    }
   ],
   "source": [
    "def binary(num):\n",
    "    res = \"\"\n",
    "\n",
    "    while num:\n",
    "        res = \"1\" + res if num & 1 else \"0\" + res\n",
    "        num >>= 1\n",
    "\n",
    "    return \"0b\" + res\n",
    "\n",
    "binary(100)"
   ]
  },
  {
   "cell_type": "code",
   "execution_count": 6,
   "metadata": {},
   "outputs": [
    {
     "data": {
      "text/plain": [
       "'0b1100100'"
      ]
     },
     "execution_count": 6,
     "metadata": {},
     "output_type": "execute_result"
    }
   ],
   "source": [
    "class Solution:\n",
    "    def equalFrequency(self, word: str) -> bool:\n",
    "        if len(word) == 2:\n",
    "            return True\n",
    "\n",
    "        tab = {}\n",
    "        count = {}\n",
    "\n",
    "        for l in word:\n",
    "            tab[l] = 1 if l not in tab else tab[l] + 1\n",
    "\n",
    "        for c in tab.values():\n",
    "            count[c] = 1 if c not in count else count[c] + 1\n",
    "\n",
    "        mx = max(count, key=lambda x: count[x])\n",
    "        mn = min(count, key=lambda x: count[x])\n",
    "\n",
    "        if count[mx] == len(word):\n",
    "            return True\n",
    "\n",
    "        if len(count) != 2:\n",
    "            return False\n",
    "\n",
    "        print(mx, mn)\n",
    "        print(tab)\n",
    "        print(count)\n",
    "\n",
    "        return mn - 1 == mx or min(count.values()) == 1"
   ]
  },
  {
   "cell_type": "code",
   "execution_count": 1,
   "metadata": {},
   "outputs": [
    {
     "name": "stdout",
     "output_type": "stream",
     "text": [
      "0b1\n",
      "0b10\n",
      "0b100\n",
      "0b1000\n",
      "0b10000\n",
      "0b100000\n",
      "0b1000000\n",
      "0b10000000\n",
      "0b100000000\n",
      "0b1000000000\n",
      "0b10000000000\n",
      "0b100000000000\n",
      "0b1000000000000\n",
      "0b10000000000000\n",
      "0b100000000000000\n",
      "0b1000000000000000\n",
      "0b10000000000000000\n",
      "0b100000000000000000\n",
      "0b1000000000000000000\n",
      "0b10000000000000000000\n",
      "0b100000000000000000000\n",
      "0b1000000000000000000000\n",
      "0b10000000000000000000000\n",
      "0b100000000000000000000000\n"
     ]
    }
   ],
   "source": [
    "for i in range(24):\n",
    "    print(bin(1<<i))"
   ]
  },
  {
   "cell_type": "code",
   "execution_count": 2,
   "metadata": {},
   "outputs": [
    {
     "data": {
      "text/plain": [
       "24"
      ]
     },
     "execution_count": 2,
     "metadata": {},
     "output_type": "execute_result"
    }
   ],
   "source": [
    "len(\"100000000000000000000000\")"
   ]
  },
  {
   "cell_type": "code",
   "execution_count": 11,
   "metadata": {},
   "outputs": [
    {
     "name": "stdout",
     "output_type": "stream",
     "text": [
      "0010000\n",
      "0010001\n",
      "1000111\n",
      "0111110\n",
      "0001100\n",
      "0011000\n",
      "0001110\n"
     ]
    }
   ],
   "source": [
    "candidates = [16,17,71,62,12,24,14]\n",
    "\n",
    "for cand in candidates:\n",
    "    print(\"0\"*(7-len(bin(cand)[2:]))+bin(cand)[2:])"
   ]
  },
  {
   "cell_type": "code",
   "execution_count": 6,
   "metadata": {},
   "outputs": [
    {
     "data": {
      "text/plain": [
       "('0b10', '0b100', '0b110')"
      ]
     },
     "execution_count": 6,
     "metadata": {},
     "output_type": "execute_result"
    }
   ],
   "source": [
    "bin(2), bin(4), bin(6)"
   ]
  },
  {
   "cell_type": "code",
   "execution_count": 5,
   "metadata": {},
   "outputs": [
    {
     "data": {
      "text/plain": [
       "['0b100', '0b101', '0b110']"
      ]
     },
     "execution_count": 5,
     "metadata": {},
     "output_type": "execute_result"
    }
   ],
   "source": [
    "[bin(x) for x in range(4, 7)]"
   ]
  },
  {
   "cell_type": "code",
   "execution_count": 8,
   "metadata": {},
   "outputs": [
    {
     "data": {
      "text/plain": [
       "('0b1', '0b111', '0b1111')"
      ]
     },
     "execution_count": 8,
     "metadata": {},
     "output_type": "execute_result"
    }
   ],
   "source": [
    "bin(1), bin(7), bin(15)"
   ]
  },
  {
   "cell_type": "code",
   "execution_count": 30,
   "metadata": {},
   "outputs": [
    {
     "data": {
      "text/plain": [
       "('0b10', '0b101', '0b1101')"
      ]
     },
     "execution_count": 30,
     "metadata": {},
     "output_type": "execute_result"
    }
   ],
   "source": [
    "bin(2), bin(5), bin(13)"
   ]
  },
  {
   "cell_type": "code",
   "execution_count": 16,
   "metadata": {},
   "outputs": [
    {
     "data": {
      "text/plain": [
       "7"
      ]
     },
     "execution_count": 16,
     "metadata": {},
     "output_type": "execute_result"
    }
   ],
   "source": [
    "int(\"111\", 2)"
   ]
  },
  {
   "cell_type": "code",
   "execution_count": 56,
   "metadata": {},
   "outputs": [],
   "source": [
    "def merge(v, x):\n",
    "    bit = 0\n",
    "    \n",
    "    while v:\n",
    "        if not (1<<bit)&x:\n",
    "            x |= (v&1)<<bit\n",
    "            v >>= 1\n",
    "        bit += 1\n",
    "\n",
    "    return x\n"
   ]
  },
  {
   "cell_type": "code",
   "execution_count": 57,
   "metadata": {},
   "outputs": [
    {
     "data": {
      "text/plain": [
       "6"
      ]
     },
     "execution_count": 57,
     "metadata": {},
     "output_type": "execute_result"
    }
   ],
   "source": [
    "# 104. Maximum Depth of Binary Tree\n",
    "\n",
    "class Solution:\n",
    "    def maxDepth(self, root: Optional[TreeNode], depth: int = 0) -> int:\n",
    "        if not root:\n",
    "            return depth\n",
    "\n",
    "        return max(self.maxDepth(root.left, depth+1), self.maxDepth(root.right, depth+1))"
   ]
  },
  {
   "cell_type": "code",
   "execution_count": 1,
   "metadata": {},
   "outputs": [
    {
     "data": {
      "text/plain": [
       "3"
      ]
     },
     "execution_count": 1,
     "metadata": {},
     "output_type": "execute_result"
    }
   ],
   "source": [
    "# 543. Diameter of Binary Tree\n",
    "# too slow...\n",
    "\n",
    "class Solution:\n",
    "    def maxDepth(self, root: Optional[TreeNode], depth: int = 0) -> int:\n",
    "        if not root:\n",
    "            return depth\n",
    "        return max(self.maxDepth(root.left, depth+1), self.maxDepth(root.right, depth+1))\n",
    "\n",
    "    def diameterOfBinaryTree(self, root: Optional[TreeNode]) -> int:\n",
    "        def diameternode(root):\n",
    "            if not root:\n",
    "                return 0   \n",
    "            return self.maxDepth(root.left) + self.maxDepth(root.right)\n",
    "            \n",
    "        if not root:\n",
    "            return 0\n",
    "\n",
    "        return max(diameternode(root), \n",
    "                    self.diameterOfBinaryTree(root.left),\n",
    "                    self.diameterOfBinaryTree(root.right))\n"
   ]
  },
  {
   "cell_type": "code",
   "execution_count": 2,
   "metadata": {},
   "outputs": [
    {
     "data": {
      "text/plain": [
       "[1, 2, 3, 4, 5, 6, 7, 8]"
      ]
     },
     "execution_count": 2,
     "metadata": {},
     "output_type": "execute_result"
    }
   ],
   "source": [
    "arr = [2, 8, 1, 3, 6, 7, 5, 4]\n",
    "\n",
    "def merge_sort(arr):\n",
    "    def merge(left, right):\n",
    "        arr = [0 for _ in range(len(left)+len(right))]\n",
    "        k = i = j = 0\n",
    "\n",
    "        while i < len(left) and j < len(right):\n",
    "            if left[i] <= right[j]:\n",
    "                arr[k] = left[i]\n",
    "                i += 1\n",
    "            else:\n",
    "                arr[k] = right[j]\n",
    "                j += 1\n",
    "            k += 1\n",
    "        \n",
    "        arr[k:] = left[i:] if i < len(left) else right[j:]\n",
    "\n",
    "        return arr\n",
    "    \n",
    "    if len(arr) == 1:\n",
    "        return arr\n",
    "    \n",
    "    return merge(merge_sort(arr[:len(arr)//2]), merge_sort(arr[len(arr)//2:]))\n",
    "\n",
    "merge_sort(arr)"
   ]
  },
  {
   "cell_type": "code",
   "execution_count": 32,
   "metadata": {},
   "outputs": [
    {
     "data": {
      "text/plain": [
       "2"
      ]
     },
     "execution_count": 32,
     "metadata": {},
     "output_type": "execute_result"
    }
   ],
   "source": [
    "def highest_prime(n):\n",
    "    prime = [True for _ in range(n+1)]\n",
    "    p = 2\n",
    "    while(p * p <= n):\n",
    "        if prime[p]:\n",
    "            for i in range(p * p, n+1, p):\n",
    "                prime[i] = False\n",
    "        p += 1\n",
    "\n",
    "    for p in range(n, 1, -1):\n",
    "        if prime[p]:\n",
    "            return p\n",
    "        \n",
    "    # if n == 2:\n",
    "    #     return 2\n",
    "        \n",
    "    return 0\n",
    "        \n",
    "highest_prime(2)"
   ]
  },
  {
   "cell_type": "code",
   "execution_count": null,
   "metadata": {},
   "outputs": [],
   "source": [
    "# 1656. Design an Ordered Stream\n",
    "\n",
    "class OrderedStream:\n",
    "\n",
    "    def __init__(self, n: int):\n",
    "        self.stream = [False for _ in range(n)]\n",
    "        self.nextid = 1\n",
    "        self.insids = set()\n",
    "\n",
    "    def insert(self, idKey: int, value: str) -> List[str]:\n",
    "        self.stream[idKey-1] = value\n",
    "        self.insids.add(idKey)\n",
    "        chunk = []\n",
    "        for i in range(len(self.stream)):\n",
    "            if self.nextid in self.insids:\n",
    "                chunk.append(self.stream[self.nextid-1])\n",
    "                self.nextid += 1\n",
    "            else: \n",
    "                break\n",
    "        return chunk\n",
    "        "
   ]
  },
  {
   "cell_type": "code",
   "execution_count": null,
   "metadata": {},
   "outputs": [],
   "source": [
    "# 617. Merge Two Binary Trees\n",
    "\n",
    "class Solution:\n",
    "    def mergeTrees(self, root1: Optional[TreeNode], root2: Optional[TreeNode]) -> Optional[TreeNode]:\n",
    "        if not root1 and not root2:\n",
    "            return\n",
    "        elif not root2:\n",
    "            node = TreeNode(root1.val)\n",
    "            node.left = self.mergeTrees(root1.left, None)\n",
    "            node.right = self.mergeTrees(root1.right, None)\n",
    "        elif not root1:\n",
    "            node = TreeNode(root2.val)\n",
    "            node.left = self.mergeTrees(None, root2.left)\n",
    "            node.right = self.mergeTrees(None, root2.right)\n",
    "        else:\n",
    "            node = TreeNode(root1.val+root2.val)\n",
    "            node.left = self.mergeTrees(root1.left, root2.left)\n",
    "            node.right = self.mergeTrees(root1.right, root2.right)\n",
    "\n",
    "        return node"
   ]
  },
  {
   "cell_type": "code",
   "execution_count": null,
   "metadata": {},
   "outputs": [],
   "source": [
    "# 2070. Most Beautiful Item for Each Query\n",
    "\n",
    "# TOO SLOW\n",
    "\n",
    "class Solution:\n",
    "    def maximumBeauty(self, items: List[List[int]], queries: List[int]) -> List[int]:\n",
    "        def search(arr, val):\n",
    "            left, right, idx = 0, len(arr) - 1, -1\n",
    "            while left <= right:\n",
    "                mid = (left + right) // 2\n",
    "                if arr[mid] <= val:\n",
    "                    idx = mid\n",
    "                    left = mid + 1\n",
    "                else:\n",
    "                    right = mid - 1\n",
    "            return idx\n",
    "\n",
    "        items.sort(key = lambda x: x[0])\n",
    "\n",
    "        res = []\n",
    "\n",
    "        for query in queries:\n",
    "            idx = search([item[0] for item in items], query)\n",
    "            if idx >= 0:\n",
    "                res.append(max([item[1] for item in items][:idx+1]))\n",
    "            else:\n",
    "                res.append(0)\n",
    "\n",
    "        return res"
   ]
  },
  {
   "cell_type": "code",
   "execution_count": null,
   "metadata": {},
   "outputs": [],
   "source": [
    "# 2070. Most Beautiful Item for Each Query\n",
    "\n",
    "class Solution:\n",
    "    def maximumBeauty(self, items: List[List[int]], queries: List[int]) -> List[int]:\n",
    "        items.sort(key = lambda x: x[1], reverse=True)\n",
    "\n",
    "        res = []\n",
    "        \n",
    "        for query in queries:\n",
    "            beauty = 0\n",
    "            for item in items:\n",
    "                if item[0] <= query:\n",
    "                    beauty = item[1]\n",
    "                    break\n",
    "            res.append(beauty)\n",
    "\n",
    "        return res"
   ]
  },
  {
   "cell_type": "code",
   "execution_count": null,
   "metadata": {},
   "outputs": [],
   "source": [
    "# 1646. Get Maximum in Generated Array\n",
    "\n",
    "class Solution:\n",
    "    def getMaximumGenerated(self, n: int) -> int:\n",
    "        if n == 0:\n",
    "            return 0\n",
    "\n",
    "        nums = [0, 1] + [0 for _ in range(n-1)]\n",
    "\n",
    "        for i in range(1, -(-n//2)):\n",
    "            nums[i * 2] = nums[i]\n",
    "            nums[(i * 2) + 1] = nums[i] + nums[i + 1]\n",
    "\n",
    "        if n % 2 == 0:\n",
    "            nums[n] = nums[n//2]\n",
    "\n",
    "        return max(nums)"
   ]
  },
  {
   "cell_type": "code",
   "execution_count": null,
   "metadata": {},
   "outputs": [],
   "source": [
    "# 1380. Lucky Numbers in a Matrix\n",
    "\n",
    "class Solution:\n",
    "    def luckyNumbers (self, matrix: List[List[int]]) -> List[int]:\n",
    "        res = []\n",
    "\n",
    "        for i in range(len(matrix)):\n",
    "            for j in range(len(matrix[0])):\n",
    "                mn = min(matrix[i])\n",
    "                mx = max([matrix[k][j] for k in range(len(matrix))])\n",
    "                if matrix[i][j] == mn and matrix[i][j] == mx:\n",
    "                    res.append(matrix[i][j])\n",
    "\n",
    "        return res"
   ]
  },
  {
   "cell_type": "code",
   "execution_count": null,
   "metadata": {},
   "outputs": [],
   "source": [
    "# 942. DI String Match\n",
    "\n",
    "class Solution:\n",
    "    def diStringMatch(self, s: str) -> List[int]:\n",
    "        from collections import deque\n",
    "\n",
    "        q = deque([i for i in range(len(s)+1)])\n",
    "        res = []\n",
    "\n",
    "        for i in s:\n",
    "            if i == 'I':\n",
    "                res.append(q.popleft())\n",
    "            else:\n",
    "                res.append(q.pop())\n",
    "\n",
    "        res.append(q.pop())\n",
    "\n",
    "        return res"
   ]
  },
  {
   "cell_type": "code",
   "execution_count": null,
   "metadata": {},
   "outputs": [],
   "source": [
    "# 697. Degree of an Array\n",
    "\n",
    "class Solution:\n",
    "    def findShortestSubArray(self, nums: List[int]) -> int:\n",
    "        tab = {}\n",
    "\n",
    "        for num in nums:\n",
    "            tab[num] = 1 if num not in tab else tab[num] + 1\n",
    "\n",
    "        mxval = max(tab.values())\n",
    "\n",
    "        candidates = set([num for num in nums if tab[num] == mxval])\n",
    "\n",
    "        tab = {}\n",
    "\n",
    "        for i, num in enumerate(nums):\n",
    "            if num in candidates:\n",
    "                tab[num] = i\n",
    "\n",
    "        for i, num in enumerate(nums):\n",
    "            if num in candidates:\n",
    "                tab[num] = abs(tab[num] - i) + 1\n",
    "                candidates.remove(nums[i])\n",
    "\n",
    "        return min(tab.values())"
   ]
  },
  {
   "cell_type": "code",
   "execution_count": null,
   "metadata": {},
   "outputs": [
    {
     "data": {
      "text/plain": [
       "365"
      ]
     },
     "execution_count": 11,
     "metadata": {},
     "output_type": "execute_result"
    }
   ],
   "source": [
    "# 1185. Day of the Week\n",
    "\n",
    "class Solution:\n",
    "    def dayOfTheWeek(self, day: int, month: int, year: int) -> str:\n",
    "        weekday = [\"Sunday\", \"Monday\", \"Tuesday\", \"Wednesday\", \"Thursday\", \"Friday\", \"Saturday\"]\n",
    "        months = [31,28,31,30,31,30,31,31,30,31,30,31]\n",
    "        days = 0\n",
    "\n",
    "        for y in range(1971, year):\n",
    "            days += 365 if y % 4 != 0 else 366\n",
    "\n",
    "        days += sum(months[:month-1])\n",
    "\n",
    "        days += day\n",
    "\n",
    "        if month > 2 and year % 4 == 0 and year != 2100:\n",
    "            days += 1\n",
    "\n",
    "        days += 5\n",
    "\n",
    "        return weekday[(days-1)%7]"
   ]
  },
  {
   "cell_type": "code",
   "execution_count": 31,
   "metadata": {},
   "outputs": [
    {
     "data": {
      "text/plain": [
       "3"
      ]
     },
     "execution_count": 31,
     "metadata": {},
     "output_type": "execute_result"
    }
   ],
   "source": [
    "nums = [4,5,6,7,0,1,2,]\n",
    "\n",
    "def pivot_search(nums):\n",
    "\n",
    "    left, right = 0, len(nums)-1\n",
    "\n",
    "    while left <= right and nums[left] > nums[right]:\n",
    "        mid = (left+right)//2\n",
    "\n",
    "        if nums[mid] > nums[mid+1]:\n",
    "            return mid\n",
    "        \n",
    "        if nums[mid] < nums[right]:\n",
    "            right = mid-1\n",
    "\n",
    "        else:\n",
    "            left = mid\n",
    "\n",
    "    return right\n",
    "\n",
    "pivot_search(nums)"
   ]
  },
  {
   "cell_type": "code",
   "execution_count": null,
   "metadata": {},
   "outputs": [
    {
     "data": {
      "text/plain": [
       "-1"
      ]
     },
     "execution_count": 37,
     "metadata": {},
     "output_type": "execute_result"
    }
   ],
   "source": [
    "nums = [0,1,2,4,5,6,7,]\n",
    "\n",
    "def search(nums, k):\n",
    "    left, right = 0, len(nums)-1\n",
    "\n",
    "    while left <= right:\n",
    "        mid = (left+right)//2\n",
    "\n",
    "        if nums[mid] == k:\n",
    "            return mid\n",
    "\n",
    "        if nums[mid] > k:\n",
    "            right = mid-1\n",
    "\n",
    "        else:\n",
    "            left = mid+1\n",
    "\n",
    "    return -1\n",
    "\n",
    "search(nums, 10)"
   ]
  },
  {
   "cell_type": "code",
   "execution_count": null,
   "metadata": {},
   "outputs": [],
   "source": [
    "res, tot, tab = 0, sum(nums[:k]), {}\n",
    "print(len(nums))\n",
    "\n",
    "for num in nums[:k]:\n",
    "    tab[num] = 1 if num not in tab else tab[num] + 1\n",
    "\n",
    "if max(tab.values()) == 1:\n",
    "    res = tot\n",
    "        \n",
    "for i in range(len(nums)-k):\n",
    "    if tab[nums[i]] == 1:\n",
    "        del tab[nums[i]]\n",
    "    else:\n",
    "        tab[nums[i]] -= 1\n",
    "    tab[nums[i+k]] = 1 if nums[i+k] not in tab else tab[nums[i+k]] + 1\n",
    "    tot += nums[i+k] - nums[i]\n",
    "    if max(tab.values()) == 1:\n",
    "        res = max(res, tot)\n",
    "\n",
    "# return res"
   ]
  },
  {
   "cell_type": "code",
   "execution_count": null,
   "metadata": {},
   "outputs": [],
   "source": [
    "# 1486. XOR Operation in an Array\n",
    "\n",
    "class Solution:\n",
    "    def xorOperation(self, n: int, start: int) -> int:\n",
    "        def reduce(fun, it):\n",
    "            it = iter(it)\n",
    "            acc = next(it)\n",
    "\n",
    "            for elem in it:\n",
    "                acc = fun(acc, elem)\n",
    "\n",
    "            return acc\n",
    "\n",
    "        arr = [start + 2 * i for i in range(n)]\n",
    "\n",
    "        return reduce(lambda x, y: x ^ y, arr)"
   ]
  },
  {
   "cell_type": "code",
   "execution_count": null,
   "metadata": {},
   "outputs": [],
   "source": [
    "# 733. Flood Fill\n",
    "\n",
    "class Solution:\n",
    "    def floodFill(self, image: List[List[int]], sr: int, sc: int, color: int) -> List[List[int]]:\n",
    "        \n",
    "        orig = image[sr][sc]\n",
    "\n",
    "        image[sr][sc] = color\n",
    "\n",
    "        if sr > 0 and image[sr-1][sc] == orig and orig != color:\n",
    "            image = self.floodFill(image, sr-1, sc, color)\n",
    "        if sr < len(image)-1 and image[sr+1][sc] == orig and orig != color:\n",
    "            image = self.floodFill(image, sr+1, sc, color)\n",
    "        if sc > 0 and image[sr][sc-1] == orig and orig != color:\n",
    "            image = self.floodFill(image, sr, sc-1, color)\n",
    "        if sc < len(image[0])-1 and image[sr][sc+1] == orig and orig != color:\n",
    "            image = self.floodFill(image, sr, sc+1, color)\n",
    "\n",
    "        return image"
   ]
  },
  {
   "cell_type": "code",
   "execution_count": null,
   "metadata": {},
   "outputs": [],
   "source": [
    "# 908. Smallest Range I\n",
    "\n",
    "class Solution:\n",
    "    def smallestRangeI(self, nums: List[int], k: int) -> int:\n",
    "\n",
    "        nums.sort()\n",
    "\n",
    "        sm = min(nums[0] + k, nums[-1])\n",
    "\n",
    "        lg = max(nums[-1] - k, sm)\n",
    "\n",
    "        return lg - sm"
   ]
  },
  {
   "cell_type": "code",
   "execution_count": 5,
   "metadata": {},
   "outputs": [
    {
     "data": {
      "text/plain": [
       "1"
      ]
     },
     "execution_count": 5,
     "metadata": {},
     "output_type": "execute_result"
    }
   ],
   "source": [
    "lst1, lst2 = [], []\n",
    "\n",
    "lst1.append(1)\n",
    "\n",
    "lst1.pop()"
   ]
  },
  {
   "cell_type": "code",
   "execution_count": null,
   "metadata": {},
   "outputs": [
    {
     "name": "stdout",
     "output_type": "stream",
     "text": [
      "supe\n",
      "uper\n",
      "perh\n",
      "erhe\n",
      "rher\n",
      "hero\n"
     ]
    }
   ],
   "source": [
    "s_min = min(\"hero\", \"superhero\")\n",
    "s_max = max(\"hero\", \"superhero\")\n",
    "\n",
    "for i in range(len(s_max)-len(s_min)+1):\n",
    "    print(s_max[i:i+len(s_min)])"
   ]
  },
  {
   "cell_type": "code",
   "execution_count": null,
   "metadata": {},
   "outputs": [
    {
     "data": {
      "text/plain": [
       "[]"
      ]
     },
     "execution_count": 6,
     "metadata": {},
     "output_type": "execute_result"
    }
   ],
   "source": [
    "# 2570. Merge Two 2D Arrays by Summing Values\n",
    "\n",
    "class Solution:\n",
    "    def mergeArrays(self, nums1: List[List[int]], nums2: List[List[int]]) -> List[List[int]]:\n",
    "        tab = {i: 0 for i in range(1, 1001)}\n",
    "\n",
    "        for i in nums1:\n",
    "            tab[i[0]] += i[1]\n",
    "\n",
    "        for i in nums2:\n",
    "            tab[i[0]] += i[1]\n",
    "\n",
    "        return [[i, tab[i]] for i in tab if tab[i] > 0]"
   ]
  },
  {
   "cell_type": "code",
   "execution_count": null,
   "metadata": {},
   "outputs": [],
   "source": [
    "# 2124. Check if All A's Appears Before All B's\n",
    "\n",
    "class Solution:\n",
    "    def checkString(self, s: str) -> bool:\n",
    "        res = True\n",
    "\n",
    "        for i in range(len(s)-1):\n",
    "            res &= s[i:i+2] != 'ba'\n",
    "\n",
    "        return res"
   ]
  },
  {
   "cell_type": "code",
   "execution_count": null,
   "metadata": {},
   "outputs": [
    {
     "data": {
      "text/plain": [
       "10"
      ]
     },
     "execution_count": 4,
     "metadata": {},
     "output_type": "execute_result"
    }
   ],
   "source": [
    "# 2558. Take Gifts From the Richest Pile\n",
    "\n",
    "class Solution:\n",
    "    def pickGifts(self, gifts: List[int], k: int) -> int:\n",
    "        import heapq\n",
    "        \n",
    "        sqrt = lambda n: int(n**0.5)\n",
    "        gifts = [-g for g in gifts]\n",
    "\n",
    "        heapq.heapify(gifts)\n",
    "\n",
    "        for _ in range(k):\n",
    "            item = heapq.heappop(gifts)\n",
    "            item = sqrt(-item)\n",
    "            heapq.heappush(gifts, -item)\n",
    "\n",
    "        return -sum(gifts)"
   ]
  },
  {
   "cell_type": "code",
   "execution_count": 4,
   "metadata": {},
   "outputs": [],
   "source": [
    "# 2119. A Number After a Double Reversal\n",
    "\n",
    "class Solution:\n",
    "    def isSameAfterReversals(self, num: int) -> bool:\n",
    "        if num == 0:\n",
    "            return True\n",
    "\n",
    "        if num % 10 == 0:\n",
    "            return False\n",
    "        else:\n",
    "            return True"
   ]
  },
  {
   "cell_type": "code",
   "execution_count": null,
   "metadata": {},
   "outputs": [],
   "source": [
    "# 2593. Find Score of an Array After Marking All Elements\n",
    "\n",
    "class Solution:\n",
    "    def findScore(self, nums: List[int]) -> int:\n",
    "        tab = {i:nums[i] for i in range(len(nums))}\n",
    "        res = 0\n",
    "\n",
    "        for idx in sorted(tab, key = lambda x: tab[x]):\n",
    "            res += nums[idx]\n",
    "            if nums[idx] == 0:\n",
    "                continue\n",
    "            nums[idx] = 0\n",
    "            if idx > 0:\n",
    "                nums[idx-1] = 0\n",
    "            if idx < len(nums)-1:\n",
    "                nums[idx+1] = 0\n",
    "\n",
    "        return res"
   ]
  },
  {
   "cell_type": "code",
   "execution_count": null,
   "metadata": {},
   "outputs": [
    {
     "data": {
      "text/plain": [
       "111"
      ]
     },
     "execution_count": 5,
     "metadata": {},
     "output_type": "execute_result"
    }
   ],
   "source": [
    "# 1387. Sort Integers by The Power Value\n",
    "\n",
    "class Solution:\n",
    "    def getKth(self, lo: int, hi: int, k: int) -> int:\n",
    "        def power(x):\n",
    "            count = 0\n",
    "            while x > 1:\n",
    "                if x % 2 == 0:\n",
    "                    x //= 2\n",
    "                else:\n",
    "                    x = 3 * x + 1\n",
    "                count += 1\n",
    "            return count\n",
    "\n",
    "        return sorted([i for i in range(lo, hi+1)], key = lambda x: power(x))[k-1]"
   ]
  },
  {
   "cell_type": "code",
   "execution_count": null,
   "metadata": {},
   "outputs": [],
   "source": [
    "# 2108. Find First Palindromic String in the Array\n",
    "\n",
    "class Solution:\n",
    "    def firstPalindrome(self, words: List[str]) -> str:\n",
    "        def is_palindrome(word):\n",
    "            return word == word[::-1]\n",
    "\n",
    "        for word in words:\n",
    "            if is_palindrome(word):\n",
    "                return word\n",
    "\n",
    "        return \"\""
   ]
  },
  {
   "cell_type": "code",
   "execution_count": 8,
   "metadata": {},
   "outputs": [],
   "source": [
    "# 2243. Calculate Digit Sum of a String\n",
    "\n",
    "class Solution:\n",
    "    def digitSum(self, s: str, k: int) -> str:\n",
    "        def digSum(s: str) -> str:\n",
    "            return str(sum(int(n) for n in s))\n",
    "\n",
    "        while len(s) > k:\n",
    "            temp = \"\"\n",
    "            for i in range(0, len(s), k):\n",
    "                temp += digSum(s[i:i+k])\n",
    "            s = temp\n",
    "\n",
    "        return s"
   ]
  },
  {
   "cell_type": "code",
   "execution_count": null,
   "metadata": {},
   "outputs": [],
   "source": [
    "# 3264. Final Array State After K Multiplication Operations I\n",
    "\n",
    "class Solution:\n",
    "    def getFinalState(self, nums: List[int], k: int, multiplier: int) -> List[int]:\n",
    "        import heapq as hq\n",
    "\n",
    "        lst = [(num, idx) for idx, num in enumerate(nums)]\n",
    "\n",
    "        hq.heapify(lst)\n",
    "\n",
    "        for _ in range(k):\n",
    "            x, i = hq.heappop(lst)\n",
    "            hq.heappush(lst, (x * multiplier, i))\n",
    "\n",
    "        return [elem[0] for elem in sorted(lst, key = lambda x: x[1])]"
   ]
  },
  {
   "cell_type": "code",
   "execution_count": 4,
   "metadata": {},
   "outputs": [
    {
     "data": {
      "text/plain": [
       "[1, 3]"
      ]
     },
     "execution_count": 4,
     "metadata": {},
     "output_type": "execute_result"
    }
   ],
   "source": [
    "def numDigits(num: int):\n",
    "    res = []\n",
    "    while num:\n",
    "        res.append(num%10)\n",
    "        num //= 10\n",
    "    return res[::-1]\n",
    "\n",
    "numDigits(13)"
   ]
  },
  {
   "cell_type": "code",
   "execution_count": null,
   "metadata": {},
   "outputs": [
    {
     "data": {
      "text/plain": [
       "'aba'"
      ]
     },
     "execution_count": 2,
     "metadata": {},
     "output_type": "execute_result"
    }
   ],
   "source": [
    "# 3042. Count Prefix and Suffix Pairs I\n",
    "\n",
    "class Solution:\n",
    "    def countPrefixSuffixPairs(self, words: List[str]) -> int:\n",
    "        def isPrefixAndSuffix(str1, str2):\n",
    "            return str1 == str2[:len(str1)] and str1 == str2[-len(str1):]\n",
    "\n",
    "        res = 0\n",
    "\n",
    "        for i in range(len(words)):\n",
    "            for j in range(i+1, len(words)):\n",
    "                res += 1 if isPrefixAndSuffix(words[i], words[j]) else 0\n",
    "\n",
    "        return res"
   ]
  },
  {
   "cell_type": "code",
   "execution_count": 1,
   "metadata": {},
   "outputs": [],
   "source": [
    "# 2490. Circular Sentence\n",
    "\n",
    "class Solution:\n",
    "    def isCircularSentence(self, sentence: str) -> bool:\n",
    "        words = sentence.split()\n",
    "\n",
    "        for i in range(1, len(words)):\n",
    "            if words[i][0] != words[i-1][-1]:\n",
    "                return False\n",
    "\n",
    "        if words[-1][-1] != words[0][0]:\n",
    "            return False\n",
    "\n",
    "        return True"
   ]
  },
  {
   "cell_type": "code",
   "execution_count": null,
   "metadata": {},
   "outputs": [],
   "source": [
    "# 2319. Check if Matrix Is X-Matrix\n",
    "\n",
    "class Solution:\n",
    "    def checkXMatrix(self, grid: List[List[int]]) -> bool:\n",
    "        n = len(grid)\n",
    "\n",
    "        for i in range(n):\n",
    "            for j in range(n):\n",
    "                if i == j or i == n - 1 - j:\n",
    "                    if grid[i][j] == 0:\n",
    "                        return False\n",
    "                else:\n",
    "                    if grid[i][j] != 0:\n",
    "                        return False\n",
    "\n",
    "        return True"
   ]
  },
  {
   "cell_type": "code",
   "execution_count": null,
   "metadata": {},
   "outputs": [],
   "source": [
    "# 2299. Strong Password Checker II\n",
    "\n",
    "class Solution:\n",
    "    def strongPasswordCheckerII(self, password: str) -> bool:\n",
    "        spec = set(\"!@#$%^&*()-+\")\n",
    "\n",
    "        up = password[0].isupper()\n",
    "        low = password[0].islower()\n",
    "        dig = password[0].isdigit()\n",
    "        char = password[0] in spec\n",
    "\n",
    "        if len(password) < 8:\n",
    "            return False\n",
    "\n",
    "        for i in range(1, len(password)):\n",
    "            if password[i] == password[i-1]:\n",
    "                return False\n",
    "            up = up or password[i].isupper()\n",
    "            low = low or password[i].islower()\n",
    "            dig = dig or password[i].isdigit()\n",
    "            char = char or password[i] in spec\n",
    "\n",
    "        return up and low and dig and char"
   ]
  },
  {
   "cell_type": "code",
   "execution_count": null,
   "metadata": {},
   "outputs": [],
   "source": [
    "# 2578. Split With Minimum Sum\n",
    "\n",
    "class Solution:\n",
    "    def splitNum(self, num: int) -> int:\n",
    "        def splitDig(num: int) -> List[int]:\n",
    "            res = []\n",
    "            while num:\n",
    "                res.append(num%10)\n",
    "                num //= 10\n",
    "            return res\n",
    "\n",
    "        num1 = num2 = 0\n",
    "        lst = sorted(splitDig(num))\n",
    "\n",
    "        for i in range(len(lst)):\n",
    "            if i % 2 == 0:\n",
    "                num1 *= 10\n",
    "                num1 += lst[i]\n",
    "            else:\n",
    "                num2 *= 10\n",
    "                num2 += lst[i]              \n",
    "\n",
    "        return num1 + num2"
   ]
  },
  {
   "cell_type": "code",
   "execution_count": null,
   "metadata": {},
   "outputs": [],
   "source": [
    "# 3110. Score of a String\n",
    "\n",
    "class Solution:\n",
    "    def scoreOfString(self, s: str) -> int:\n",
    "        score = 0\n",
    "\n",
    "        for i in range(1, len(s)):\n",
    "            score += abs(ord(s[i-1]) - ord(s[i]))\n",
    "\n",
    "        return score"
   ]
  },
  {
   "cell_type": "code",
   "execution_count": null,
   "metadata": {},
   "outputs": [],
   "source": [
    "# 2899. Last Visited Integers\n",
    "\n",
    "class Solution:\n",
    "    def lastVisitedIntegers(self, nums: List[int]) -> List[int]:\n",
    "        seen, ans, k = [], [], 0\n",
    "\n",
    "        for num in nums:\n",
    "            if num >= 1:\n",
    "                k = 0\n",
    "                seen = [num] + seen\n",
    "            else:\n",
    "                k += 1\n",
    "                if k <= len(seen):\n",
    "                    ans.append(seen[k-1])\n",
    "                else:\n",
    "                    ans.append(-1)\n",
    "\n",
    "        return ans"
   ]
  },
  {
   "cell_type": "code",
   "execution_count": 7,
   "metadata": {},
   "outputs": [
    {
     "data": {
      "text/plain": [
       "0.6989700043360189"
      ]
     },
     "execution_count": 7,
     "metadata": {},
     "output_type": "execute_result"
    }
   ],
   "source": [
    "from math import log10\n",
    "\n",
    "log10(5)"
   ]
  },
  {
   "cell_type": "code",
   "execution_count": null,
   "metadata": {},
   "outputs": [
    {
     "data": {
      "text/plain": [
       "5"
      ]
     },
     "execution_count": 4,
     "metadata": {},
     "output_type": "execute_result"
    }
   ],
   "source": [
    "# 2562. Find the Array Concatenation Value\n",
    "\n",
    "class Solution:\n",
    "    def findTheArrayConcVal(self, nums: List[int]) -> int:\n",
    "        from collections import deque\n",
    "\n",
    "        def concat(num1: int, num2: int) -> int:\n",
    "            from math import log10\n",
    "            dig_count = int(log10(num2)) + 1\n",
    "\n",
    "            return num1*(10**dig_count) + num2\n",
    "\n",
    "        nums = deque(nums)\n",
    "        \n",
    "        val = 0\n",
    "\n",
    "        while len(nums) >= 2:\n",
    "            first = nums.popleft()\n",
    "            last = nums.pop()\n",
    "            val += concat(first, last)\n",
    "\n",
    "        if nums:\n",
    "            val += nums.pop()\n",
    "\n",
    "        return val"
   ]
  },
  {
   "cell_type": "code",
   "execution_count": null,
   "metadata": {},
   "outputs": [],
   "source": [
    "# 3146. Permutation Difference between Two Strings\n",
    "\n",
    "class Solution:\n",
    "    def findPermutationDifference(self, s: str, t: str) -> int:\n",
    "        tab = {}\n",
    "        res = 0\n",
    "\n",
    "        for i in range(len(s)):\n",
    "            tab[s[i]] = i\n",
    "\n",
    "        for i in range(len(t)):\n",
    "            res += abs(tab[t[i]] - i)\n",
    "\n",
    "        return res"
   ]
  },
  {
   "cell_type": "code",
   "execution_count": null,
   "metadata": {},
   "outputs": [],
   "source": [
    "# 3168. Minimum Number of Chairs in a Waiting Room\n",
    "\n",
    "class Solution:\n",
    "    def minimumChairs(self, s: str) -> int:\n",
    "        cnt = mx = 0\n",
    "\n",
    "        for i in s:\n",
    "            cnt += 1 if i == 'E' else -1\n",
    "            mx = max(mx, cnt)\n",
    "\n",
    "        return mx"
   ]
  },
  {
   "cell_type": "code",
   "execution_count": null,
   "metadata": {},
   "outputs": [],
   "source": [
    "# 3120. Count the Number of Special Characters I\n",
    "\n",
    "class Solution:\n",
    "    def numberOfSpecialChars(self, word: str) -> int:\n",
    "        tab = set()\n",
    "        res = 0\n",
    "\n",
    "        for l in word:\n",
    "            if l.isupper():\n",
    "                tab.add(l.lower())\n",
    "\n",
    "        # print(tab)\n",
    "\n",
    "        for l in word:\n",
    "            if l in tab:\n",
    "                res += 1\n",
    "                tab.remove(l)\n",
    "\n",
    "        return res"
   ]
  },
  {
   "cell_type": "code",
   "execution_count": null,
   "metadata": {},
   "outputs": [
    {
     "data": {
      "text/plain": [
       "[1, 2, 3]"
      ]
     },
     "execution_count": 2,
     "metadata": {},
     "output_type": "execute_result"
    }
   ],
   "source": [
    "# 72. Edit Distance\n",
    "\n",
    "class Solution:\n",
    "    def editDistRec(self, s1, s2, m, n, memo):\n",
    "        if m == 0:\n",
    "            return n\n",
    "        \n",
    "        if n == 0:\n",
    "            return m\n",
    "\n",
    "        if memo[m][n] != -1:\n",
    "            return memo[m][n]\n",
    "\n",
    "        if s1[m - 1] == s2[n - 1]:\n",
    "            memo[m][n] = self.editDistRec(s1, s2, m - 1, n - 1, memo)\n",
    "            return memo[m][n]\n",
    "\n",
    "        memo[m][n] = 1 + min(\n",
    "            self.editDistRec(s1, s2, m, n - 1, memo),\n",
    "            self.editDistRec(s1, s2, m - 1, n, memo),\n",
    "            self.editDistRec(s1, s2, m - 1, n - 1, memo)\n",
    "        )\n",
    "        return memo[m][n]\n",
    "\n",
    "    def minDistance(self, word1: str, word2: str) -> int:\n",
    "        m, n = len(word1), len(word2)\n",
    "        memo = [[-1 for _ in range(n + 1)] for _ in range(m + 1)]\n",
    "        return self.editDistRec(word1, word2, m, n, memo)"
   ]
  },
  {
   "cell_type": "code",
   "execution_count": null,
   "metadata": {},
   "outputs": [],
   "source": [
    "# 2409. Count Days Spent Together\n",
    "\n",
    "class Solution:\n",
    "    def countDaysTogether(self, arriveAlice: str, leaveAlice: str, arriveBob: str, leaveBob: str) -> int:\n",
    "        months = [31, 28, 31, 30, 31, 30, 31, 31, 30, 31, 30, 31]\n",
    "        res = 0\n",
    "        monthStartAlice = int(arriveAlice[:2])\n",
    "        monthStartBob = int(arriveBob[:2])\n",
    "        dayStartAlice = int(arriveAlice[3:])\n",
    "        dayStartBob = int(arriveBob[3:])\n",
    "\n",
    "        monthEndAlice = int(leaveAlice[:2])\n",
    "        monthEndBob = int(leaveBob[:2])\n",
    "        dayEndAlice = int(leaveAlice[3:])\n",
    "        dayEndBob = int(leaveBob[3:])\n",
    "\n",
    "        for month, days in enumerate(months):\n",
    "            for day in range(1, days+1):\n",
    "                # skip outside months\n",
    "                if month+1 < monthStartAlice or month+1 > monthEndAlice:\n",
    "                    continue\n",
    "                if month+1 < monthStartBob or month+1 > monthEndBob:\n",
    "                    continue\n",
    "\n",
    "                # check starting month; skip days before start\n",
    "                if month+1 == monthStartAlice and day < dayStartAlice:\n",
    "                    continue\n",
    "                if month+1 == monthStartBob and day < dayStartBob:\n",
    "                    continue\n",
    "\n",
    "                # check ending month; skip days after end\n",
    "                if month+1 == monthEndAlice and day > dayEndAlice:\n",
    "                    continue\n",
    "                if month+1 == monthEndBob and day > dayEndBob:\n",
    "                    continue\n",
    "\n",
    "                # print(month+1, day)\n",
    "\n",
    "                res += 1\n",
    "\n",
    "        return res"
   ]
  },
  {
   "cell_type": "code",
   "execution_count": null,
   "metadata": {},
   "outputs": [],
   "source": [
    "# 2379. Minimum Recolors to Get K Consecutive Black Blocks\n",
    "\n",
    "class Solution:\n",
    "    def minimumRecolors(self, blocks: str, k: int) -> int:\n",
    "        res = cnt = 0\n",
    "        n = len(blocks)\n",
    "\n",
    "        for i in range(k):\n",
    "            cnt += 1 if blocks[i] == 'W' else 0\n",
    "            res = cnt\n",
    "\n",
    "        for i in range(k, n):\n",
    "            cnt -= 1 if blocks[i-k] == 'W' else 0\n",
    "            cnt += 1 if blocks[i] == 'W' else 0\n",
    "            res = min(res, cnt)\n",
    "\n",
    "        return res"
   ]
  },
  {
   "cell_type": "code",
   "execution_count": null,
   "metadata": {},
   "outputs": [],
   "source": [
    "# 3162. Find the Number of Good Pairs I\n",
    "\n",
    "class Solution:\n",
    "    def numberOfPairs(self, nums1: List[int], nums2: List[int], k: int) -> int:\n",
    "        res = 0\n",
    "\n",
    "        for i in range(len(nums1)):\n",
    "            for j in range(len(nums2)):\n",
    "                res += 1 if nums1[i] % (nums2[j] * k) == 0 else 0\n",
    "\n",
    "        return res"
   ]
  },
  {
   "cell_type": "code",
   "execution_count": 7,
   "metadata": {},
   "outputs": [
    {
     "data": {
      "text/plain": [
       "1"
      ]
     },
     "execution_count": 7,
     "metadata": {},
     "output_type": "execute_result"
    }
   ],
   "source": [
    "def length(num):\n",
    "    res = 0\n",
    "    if num == 0:\n",
    "        return 1\n",
    "    elif num < 0:\n",
    "        num *= -1\n",
    "        res += 1\n",
    "    while num:\n",
    "        num //= 10\n",
    "        res += 1\n",
    "    return res\n",
    "\n",
    "length(0)"
   ]
  },
  {
   "cell_type": "code",
   "execution_count": null,
   "metadata": {},
   "outputs": [],
   "source": [
    "# 2566. Maximum Difference by Remapping a Digit\n",
    "\n",
    "class Solution:\n",
    "    def minMaxDifference(self, num: int) -> int:\n",
    "        num = mx = mn = str((num))        \n",
    "        \n",
    "        for i in range(len(num)):\n",
    "            dig = '0'\n",
    "            if num[i] != '9':\n",
    "                dig = num[i]\n",
    "                mx = num[:i] + '9' + num[i+1:]\n",
    "                break\n",
    "\n",
    "        for i in range(len(num)):\n",
    "            if num[i] == dig:\n",
    "                mx = mx[:i] + '9' + mx[i+1:]\n",
    "\n",
    "\n",
    "        for i in range(len(num)):\n",
    "            dig = '9'\n",
    "            if num[i] != '0':\n",
    "                dig = num[i]\n",
    "                mn = num[:i] + '0' + num[i+1:]\n",
    "                break\n",
    "\n",
    "        for i in range(len(num)):\n",
    "            if num[i] == dig:\n",
    "                mn = mn[:i] + '0' + mn[i+1:]\n",
    "\n",
    "        return int(mx) - int(mn)"
   ]
  },
  {
   "cell_type": "code",
   "execution_count": null,
   "metadata": {},
   "outputs": [],
   "source": [
    "# 2144. Minimum Cost of Buying Candies With Discount\n",
    "\n",
    "class Solution:\n",
    "    def minimumCost(self, cost: List[int]) -> int:\n",
    "        res = sum(cost)\n",
    "        cost.sort(reverse=True)\n",
    "\n",
    "        for i in range(1, len(cost)+1):\n",
    "            res -= cost[i-1] if i % 3 == 0 else 0\n",
    "\n",
    "        return res"
   ]
  },
  {
   "cell_type": "code",
   "execution_count": null,
   "metadata": {},
   "outputs": [],
   "source": [
    "# 3069. Distribute Elements Into Two Arrays I\n",
    "\n",
    "class Solution:\n",
    "    def resultArray(self, nums: List[int]) -> List[int]:\n",
    "        arr1, arr2 = [nums[0]], [nums[1]]\n",
    "\n",
    "        for i in range(2, len(nums)):\n",
    "            if arr1[-1] > arr2[-1]:\n",
    "                arr1.append(nums[i])\n",
    "            else:\n",
    "                arr2.append(nums[i])\n",
    "\n",
    "        return arr1 + arr2"
   ]
  },
  {
   "cell_type": "code",
   "execution_count": null,
   "metadata": {},
   "outputs": [],
   "source": [
    "# 3248. Snake in Matrix\n",
    "\n",
    "class Solution:\n",
    "    def finalPositionOfSnake(self, n: int, commands: List[str]) -> int:\n",
    "        pos = [0, 0]\n",
    "\n",
    "        for comm in commands:\n",
    "            if comm == \"UP\":\n",
    "                pos[0] -= 1\n",
    "            if comm == \"RIGHT\":\n",
    "                pos[1] += 1\n",
    "            if comm == \"DOWN\":\n",
    "                pos[0] += 1\n",
    "            if comm == \"LEFT\":\n",
    "                pos[1] -= 1\n",
    "\n",
    "        return (pos[0] * n) + pos[1]"
   ]
  },
  {
   "cell_type": "code",
   "execution_count": null,
   "metadata": {},
   "outputs": [],
   "source": [
    "# 1742. Maximum Number of Balls in a Box\n",
    "\n",
    "class Solution:\n",
    "    def countBalls(self, lowLimit: int, highLimit: int) -> int:\n",
    "        def sumdig(num):\n",
    "            res = 0\n",
    "            while num:\n",
    "                res += num % 10\n",
    "                num //= 10\n",
    "            return res\n",
    "\n",
    "        res = 0\n",
    "        tab = {}\n",
    "\n",
    "        for i in range(lowLimit, highLimit+1):\n",
    "            tab[sumdig(i)] = 1 if sumdig(i) not in tab else tab[sumdig(i)] + 1\n",
    "            res = max(res, tab[sumdig(i)])\n",
    "\n",
    "        return res"
   ]
  },
  {
   "cell_type": "code",
   "execution_count": 8,
   "metadata": {},
   "outputs": [],
   "source": [
    "# 3304. Find the K-th Character in String Game I\n",
    "\n",
    "class Solution:\n",
    "    def kthCharacter(self, k: int) -> str:\n",
    "        word = \"a\"\n",
    "\n",
    "        while len(word) < k:\n",
    "            s = \"\"\n",
    "            for c in word:\n",
    "                asc = ord(c) if ord(c) < 122 else 97\n",
    "                s += chr(asc+1)\n",
    "            word = word + s\n",
    "\n",
    "        return word[k-1]"
   ]
  },
  {
   "cell_type": "code",
   "execution_count": null,
   "metadata": {},
   "outputs": [],
   "source": [
    "# 3516. Find Closest Person\n",
    "\n",
    "class Solution:\n",
    "    def findClosest(self, x: int, y: int, z: int) -> int:\n",
    "        if abs(x-z) < abs(y-z):\n",
    "            return 1\n",
    "        elif abs(x-z) > abs(y-z):\n",
    "            return 2\n",
    "        else:\n",
    "            return 0"
   ]
  },
  {
   "cell_type": "code",
   "execution_count": null,
   "metadata": {},
   "outputs": [],
   "source": [
    "# 3210. Find the Encrypted String\n",
    "\n",
    "class Solution:\n",
    "    def getEncryptedString(self, s: str, k: int) -> str:\n",
    "        res = \"\"\n",
    "\n",
    "        for i in range(len(s)):\n",
    "            res += s[(i+k)%len((s))] \n",
    "\n",
    "        return res"
   ]
  },
  {
   "cell_type": "code",
   "execution_count": null,
   "metadata": {},
   "outputs": [],
   "source": [
    "# 3340. Check Balanced String\n",
    "\n",
    "class Solution:\n",
    "    def isBalanced(self, num: str) -> bool:\n",
    "        even = odd = 0\n",
    "\n",
    "        for i in range(len(num)):\n",
    "            even += int(num[i]) if i % 2 == 0 else 0\n",
    "            odd += int(num[i]) if i % 2 != 0 else 0\n",
    "\n",
    "        return even == odd"
   ]
  },
  {
   "cell_type": "code",
   "execution_count": null,
   "metadata": {},
   "outputs": [],
   "source": [
    "# 3158. Find the XOR of Numbers Which Appear Twice\n",
    "\n",
    "class Solution:\n",
    "    def duplicateNumbersXOR(self, nums: List[int]) -> int:\n",
    "        def reduce(fun, it):\n",
    "            it = iter(it)\n",
    "            acc = next(it)\n",
    "\n",
    "            for elem in it:\n",
    "                acc = fun(acc, elem)\n",
    "\n",
    "            return acc\n",
    "\n",
    "        once, twice = set(), set()\n",
    "\n",
    "        for num in nums:\n",
    "            if num in once:\n",
    "                twice.add(num)\n",
    "            else:\n",
    "                once.add(num)\n",
    "\n",
    "        if len(twice) == 0:\n",
    "            return 0\n",
    "        else:\n",
    "            return reduce(lambda x, y: x ^ y, list(twice))"
   ]
  },
  {
   "cell_type": "code",
   "execution_count": null,
   "metadata": {},
   "outputs": [],
   "source": [
    "# 3375. Minimum Operations to Make Array Values Equal to K\n",
    "\n",
    "class Solution:\n",
    "    def minOperations(self, nums: List[int], k: int) -> int:\n",
    "        s = set()\n",
    "        \n",
    "        if min(nums) < k:\n",
    "            return -1\n",
    "        \n",
    "        for num in nums:\n",
    "            if num > k:\n",
    "                s.add(num)\n",
    "\n",
    "        return len(s)"
   ]
  },
  {
   "cell_type": "code",
   "execution_count": null,
   "metadata": {},
   "outputs": [],
   "source": [
    "# 2923. Find Champion I\n",
    "\n",
    "class Solution:\n",
    "    def findChampion(self, grid: List[List[int]]) -> int:\n",
    "        for i in range(len(grid)):\n",
    "            if sum(grid[i]) == len(grid) - 1:\n",
    "                return i"
   ]
  },
  {
   "cell_type": "code",
   "execution_count": null,
   "metadata": {},
   "outputs": [],
   "source": [
    "# 1897. Redistribute Characters to Make All Strings Equal\n",
    "\n",
    "class Solution:\n",
    "    def makeEqual(self, words: List[str]) -> bool:\n",
    "        tab = {}\n",
    "\n",
    "        for word in words:\n",
    "            for l in word:\n",
    "                tab[l] = 1 if l not in tab else tab[l] + 1\n",
    "\n",
    "        for n in tab.values():\n",
    "            if n % len(words) != 0:\n",
    "                return False\n",
    "\n",
    "        return True"
   ]
  },
  {
   "cell_type": "code",
   "execution_count": null,
   "metadata": {},
   "outputs": [],
   "source": [
    "# 3300. Minimum Element After Replacement With Digit Sum\n",
    "\n",
    "class Solution:\n",
    "    def minElement(self, nums: List[int]) -> int:\n",
    "        def dig_sum(num):\n",
    "            res = 0\n",
    "\n",
    "            while num:\n",
    "                res += num % 10\n",
    "                num //= 10\n",
    "\n",
    "            return res\n",
    "\n",
    "        return min(dig_sum(num) for num in nums)"
   ]
  },
  {
   "cell_type": "code",
   "execution_count": null,
   "metadata": {},
   "outputs": [],
   "source": [
    "# 1539. Kth Missing Positive Number\n",
    "\n",
    "class Solution:\n",
    "    def findKthPositive(self, arr: List[int], k: int) -> int:\n",
    "        s = set(arr)\n",
    "        cnt = 0\n",
    "\n",
    "        for i in range(1, arr[-1]+k+1):\n",
    "            if i not in s:\n",
    "                cnt += 1\n",
    "                if cnt == k:\n",
    "                    return i"
   ]
  },
  {
   "cell_type": "code",
   "execution_count": null,
   "metadata": {},
   "outputs": [],
   "source": [
    "# 2932. Maximum Strong Pair XOR I\n",
    "\n",
    "class Solution:\n",
    "    def maximumStrongPairXor(self, nums: List[int]) -> int:\n",
    "        res = 0\n",
    "\n",
    "        for i in range(len(nums)):\n",
    "            for j in range(i, len(nums)):\n",
    "                if abs(nums[i] - nums[j]) <= min(nums[i], nums[j]):\n",
    "                    res = max(res, nums[i] ^ nums[j])\n",
    "\n",
    "        return res"
   ]
  },
  {
   "cell_type": "code",
   "execution_count": null,
   "metadata": {},
   "outputs": [],
   "source": [
    "# 2133. Check if Every Row and Column Contains All Numbers\n",
    "\n",
    "class Solution:\n",
    "    def checkValid(self, matrix: List[List[int]]) -> bool:\n",
    "        n = len(matrix)\n",
    "\n",
    "        rows = [set() for _ in range(n)]\n",
    "        cols = [set() for _ in range(n)]\n",
    "\n",
    "        for i in range(n):\n",
    "            for j in range(n):\n",
    "                rows[i].add(matrix[i][j])\n",
    "                cols[j].add(matrix[i][j])\n",
    "\n",
    "        return all(len(s) == n for s in rows) and all(len(s) == n for s in cols)"
   ]
  },
  {
   "cell_type": "code",
   "execution_count": null,
   "metadata": {},
   "outputs": [],
   "source": [
    "# 2068. Check Whether Two Strings are Almost Equivalent\n",
    "\n",
    "class Solution:\n",
    "    def checkAlmostEquivalent(self, word1: str, word2: str) -> bool:\n",
    "        freq1, freq2 = {}, {}\n",
    "        n = len(word1)\n",
    "\n",
    "        for i in range(n):\n",
    "            freq1[word1[i]] = 1 if word1[i] not in freq1 else freq1[word1[i]] + 1\n",
    "            freq2[word2[i]] = 1 if word2[i] not in freq2 else freq2[word2[i]] + 1\n",
    "\n",
    "        for key in freq1:\n",
    "            if key in freq2 and abs(freq1[key] - freq2[key]) > 3:\n",
    "                return False\n",
    "            if key not in freq2 and freq1[key] > 3:\n",
    "                return False\n",
    "        for key in freq2:\n",
    "            if key in freq1 and abs(freq1[key] - freq2[key]) > 3:\n",
    "                return False\n",
    "            if key not in freq1 and freq2[key] > 3:\n",
    "                return False\n",
    "\n",
    "        return True"
   ]
  },
  {
   "cell_type": "code",
   "execution_count": null,
   "metadata": {},
   "outputs": [],
   "source": [
    "# 3467. Transform Array by Parity\n",
    "\n",
    "class Solution:\n",
    "    def transformArray(self, nums: List[int]) -> List[int]:\n",
    "        evens = odds = 0\n",
    "        for i in range(len(nums)):\n",
    "            evens += 1 if nums[i] % 2 == 0 else 0\n",
    "            odds += 0 if nums[i] % 2 == 0 else 1\n",
    "\n",
    "        return [0 for _ in range(evens)] + [1 for _ in range(odds)]"
   ]
  },
  {
   "cell_type": "code",
   "execution_count": null,
   "metadata": {},
   "outputs": [],
   "source": [
    "# 3461. Check If Digits Are Equal in String After Operations I\n",
    "\n",
    "class Solution:\n",
    "    def hasSameDigits(self, s: str) -> bool:\n",
    "\n",
    "        while len(s) > 2:\n",
    "            s1 = ''\n",
    "            for i in range(len(s)-1):\n",
    "                s1 += str((int(s[i]) + int(s[i+1])) % 10)\n",
    "\n",
    "            s = s1\n",
    "\n",
    "        return s[0] == s[1]"
   ]
  },
  {
   "cell_type": "code",
   "execution_count": null,
   "metadata": {},
   "outputs": [],
   "source": [
    "# 3427. Sum of Variable Length Subarrays\n",
    "\n",
    "class Solution:\n",
    "    def subarraySum(self, nums: List[int]) -> int:\n",
    "        res = 0\n",
    "\n",
    "        for i in range(len(nums)):\n",
    "            start = max(0, i - nums[i])\n",
    "            res += sum(nums[start:i+1])\n",
    "            # print(nums[start:i+1])\n",
    "\n",
    "        return res"
   ]
  },
  {
   "cell_type": "code",
   "execution_count": null,
   "metadata": {},
   "outputs": [],
   "source": [
    "# 3512. Minimum Operations to Make Array Sum Divisible by K\n",
    "\n",
    "class Solution:\n",
    "    def minOperations(self, nums: List[int], k: int) -> int:\n",
    "        return sum(nums) % k"
   ]
  },
  {
   "cell_type": "code",
   "execution_count": null,
   "metadata": {},
   "outputs": [],
   "source": [
    "# 3184. Count Pairs That Form a Complete Day I\n",
    "\n",
    "class Solution:\n",
    "    def countCompleteDayPairs(self, hours: List[int]) -> int:\n",
    "        res = 0\n",
    "\n",
    "        for i in range(len(hours)-1):\n",
    "            for j in range(i+1, len(hours)):\n",
    "                res += 1 if (hours[i] + hours[j]) % 24 == 0 else 0\n",
    "\n",
    "        return res"
   ]
  },
  {
   "cell_type": "code",
   "execution_count": null,
   "metadata": {},
   "outputs": [],
   "source": [
    "# 2839. Check if Strings Can be Made Equal With Operations I\n",
    "\n",
    "class Solution:\n",
    "    def canBeEqual(self, s1: str, s2: str) -> bool:\n",
    "        def swap1(s1):\n",
    "            return s1[2]+s1[1]+s1[0]+s1[3]\n",
    "\n",
    "        def swap2(s1):\n",
    "            return s1[0]+s1[3]+s1[2]+s1[1]\n",
    "        \n",
    "        if s1 == s2 or swap1(s1) == s2 or swap2(s1) == s2 or swap2(swap1(s1)) == s2:\n",
    "            return True\n",
    "        else:\n",
    "            return False"
   ]
  },
  {
   "cell_type": "code",
   "execution_count": null,
   "metadata": {},
   "outputs": [
    {
     "data": {
      "text/plain": [
       "False"
      ]
     },
     "execution_count": 2,
     "metadata": {},
     "output_type": "execute_result"
    }
   ],
   "source": [
    "# 3206. Alternating Groups I\n",
    "\n",
    "class Solution:\n",
    "    def numberOfAlternatingGroups(self, colors: List[int]) -> int:\n",
    "        colors = colors + colors[:2]\n",
    "        res = 0\n",
    "\n",
    "        for i in range(len(colors)-2):\n",
    "            res += 1 if colors[i:i+3] == [1,0,1] or colors[i:i+3] == [0,1,0] else 0\n",
    "\n",
    "        return res"
   ]
  },
  {
   "cell_type": "code",
   "execution_count": null,
   "metadata": {},
   "outputs": [],
   "source": [
    "# 3151. Special Array I\n",
    "\n",
    "class Solution:\n",
    "    def isArraySpecial(self, nums: List[int]) -> bool:\n",
    "        par = nums[0] % 2 == 0\n",
    "\n",
    "        for i in range(1, len(nums)):\n",
    "            if (nums[i] % 2 == 0) == par:\n",
    "                return False\n",
    "            else:\n",
    "                par = nums[i] % 2 == 0\n",
    "\n",
    "        return True"
   ]
  },
  {
   "cell_type": "code",
   "execution_count": null,
   "metadata": {},
   "outputs": [],
   "source": [
    "# 3492. Maximum Containers on a Ship\n",
    "\n",
    "class Solution:\n",
    "    def maxContainers(self, n: int, w: int, maxWeight: int) -> int:\n",
    "        return min(n * n, maxWeight // w)"
   ]
  },
  {
   "cell_type": "code",
   "execution_count": null,
   "metadata": {},
   "outputs": [],
   "source": [
    "# 1991. Find the Middle Index in Array\n",
    "\n",
    "class Solution:\n",
    "    def findMiddleIndex(self, nums: List[int]) -> int:\n",
    "        left = 0\n",
    "        right = sum(nums[1:])\n",
    "\n",
    "        for i in range(len(nums)):\n",
    "            if left == right:\n",
    "                return i\n",
    "            left += nums[i]\n",
    "            if i < len(nums)-1:\n",
    "                right -= nums[i+1]\n",
    "\n",
    "        return -1"
   ]
  },
  {
   "cell_type": "code",
   "execution_count": null,
   "metadata": {},
   "outputs": [],
   "source": [
    "# 1582. Special Positions in a Binary Matrix\n",
    "\n",
    "class Solution:\n",
    "    def numSpecial(self, mat: List[List[int]]) -> int:\n",
    "        m = len(mat)\n",
    "        n = len(mat[0])\n",
    "        res = 0\n",
    "        rows = {i:0 for i in range(m)}\n",
    "        cols = {j:0 for j in range(n)}\n",
    "\n",
    "        for i in range(m):\n",
    "            for j in range(n):\n",
    "                rows[i] += 1 if mat[i][j] == 1 else 0\n",
    "                cols[j] += 1 if mat[i][j] == 1 else 0\n",
    "\n",
    "        for i in range(m):\n",
    "            for j in range(n):\n",
    "                res += 1 if mat[i][j] == 1 and rows[i] == 1 and cols[j] == 1 else 0\n",
    "\n",
    "        return res"
   ]
  },
  {
   "cell_type": "code",
   "execution_count": null,
   "metadata": {},
   "outputs": [],
   "source": [
    "# 860. Lemonade Change\n",
    "\n",
    "class Solution:\n",
    "    def lemonadeChange(self, bills: List[int]) -> bool:\n",
    "        tab = {5:0, 10:0}\n",
    "\n",
    "        for bill in bills:\n",
    "            if bill == 5:\n",
    "                tab[5] += 1\n",
    "            elif bill == 10:\n",
    "                if tab[5] < 1:\n",
    "                    return False\n",
    "                tab[5] -= 1\n",
    "                tab[10] += 1\n",
    "            elif bill == 20:\n",
    "                if (tab[5] < 1) or (tab[10] < 1 and tab[5] < 3):\n",
    "                    return False\n",
    "                if tab[10] >= 1:\n",
    "                    tab[10] -= 1\n",
    "                    tab[5] -= 1\n",
    "                else:\n",
    "                    tab[5] -= 3\n",
    "\n",
    "        return True"
   ]
  },
  {
   "cell_type": "code",
   "execution_count": null,
   "metadata": {},
   "outputs": [],
   "source": [
    "# 3550. Smallest Index With Digit Sum Equal to Index\n",
    "\n",
    "class Solution:\n",
    "    def smallestIndex(self, nums: List[int]) -> int:\n",
    "        def digsum(num):\n",
    "            res = 0\n",
    "            while num:\n",
    "                res += num % 10\n",
    "                num //= 10\n",
    "            return res\n",
    "\n",
    "        for i in range(len(nums)):\n",
    "            if digsum(nums[i]) == i:\n",
    "                return i\n",
    "\n",
    "        return -1"
   ]
  },
  {
   "cell_type": "code",
   "execution_count": 4,
   "metadata": {},
   "outputs": [],
   "source": [
    "# 62. Unique Paths\n",
    "\n",
    "class Solution:\n",
    "    def uniquePaths(self, m: int, n: int) -> int:\n",
    "        grid = [[0 for _ in range(n+1)] for _ in range(m+1)]\n",
    "        def pathsRec(m: int, n: int) -> int:\n",
    "            if m == 1 and n == 1:\n",
    "                return 1\n",
    "            elif m == 1:\n",
    "                if grid[m][n-1] == 0:\n",
    "                    grid[m][n-1] = pathsRec(m, n-1)\n",
    "                return grid[m][n-1]\n",
    "            elif n == 1:\n",
    "                if grid[m-1][n] == 0:\n",
    "                    grid[m-1][n] = pathsRec(m-1, n)\n",
    "                return grid[m-1][n]\n",
    "            \n",
    "            if grid[m][n-1] == 0:\n",
    "                grid[m][n-1] = pathsRec(m, n-1)\n",
    "            if grid[m-1][n] == 0:\n",
    "                grid[m-1][n] = pathsRec(m-1, n)\n",
    "            \n",
    "            return grid[m][n-1] + grid[m-1][n]\n",
    "\n",
    "        return pathsRec(m, n)"
   ]
  },
  {
   "cell_type": "code",
   "execution_count": null,
   "metadata": {},
   "outputs": [],
   "source": [
    "# 1592. Rearrange Spaces Between Words\n",
    "\n",
    "class Solution:\n",
    "    def reorderSpaces(self, text: str) -> str:\n",
    "        spaces = text.count(\" \")\n",
    "        if spaces == 0:\n",
    "            return text\n",
    "\n",
    "        lst = text.split()\n",
    "        if len(lst) == 1:\n",
    "            return lst[0] + \" \" * spaces\n",
    "            \n",
    "        return (\" \" * (spaces//(len(lst)-1))).join(lst) + \" \" * (spaces%(len(lst)-1))"
   ]
  },
  {
   "cell_type": "code",
   "execution_count": null,
   "metadata": {},
   "outputs": [
    {
     "data": {
      "text/plain": [
       "0"
      ]
     },
     "execution_count": 3,
     "metadata": {},
     "output_type": "execute_result"
    }
   ],
   "source": [
    "# 3258. Count Substrings That Satisfy K-Constraint I\n",
    "\n",
    "class Solution:\n",
    "    def countKConstraintSubstrings(self, s: str, k: int) -> int:\n",
    "        res = ones = zeros = 0\n",
    "        for i in range(len(s)):\n",
    "            ones += 1 if s[i] == '1' else 0\n",
    "            zeros += 1 if s[i] == '0' else 0\n",
    "            ones_i = zeros_i = 0\n",
    "            for j in range(i, len(s)):\n",
    "                ones_i += 1 if s[j] == '1' and i != j else 0\n",
    "                zeros_i += 1 if s[j] == '0' and i != j else 0\n",
    "                res += 1 if (ones + ones_i) <= k or (zeros + zeros_i) <= k else 0\n",
    "            ones -= 1 if s[i] == '1' else 0\n",
    "            zeros -= 1 if s[i] == '0' else 0\n",
    "\n",
    "        return res"
   ]
  },
  {
   "cell_type": "code",
   "execution_count": null,
   "metadata": {},
   "outputs": [],
   "source": [
    "# 3270. Find the Key of the Numbers\n",
    "\n",
    "class Solution:\n",
    "    def generateKey(self, num1: int, num2: int, num3: int) -> int:\n",
    "        res = 0\n",
    "\n",
    "        for i in range(4):\n",
    "            res += min(num1%10, num2%10, num3%10) * (10**i)\n",
    "            num1 //= 10\n",
    "            num2 //= 10\n",
    "            num3 //= 10\n",
    "            \n",
    "        return res"
   ]
  },
  {
   "cell_type": "code",
   "execution_count": null,
   "metadata": {},
   "outputs": [],
   "source": [
    "# 3033. Modify the Matrix\n",
    "\n",
    "class Solution:\n",
    "    def modifiedMatrix(self, matrix: List[List[int]]) -> List[List[int]]:\n",
    "        mx_cols = [0 for _ in range(len(matrix[0]))]\n",
    "\n",
    "        for i in range(len(matrix)):\n",
    "            for j in range(len(matrix[i])):\n",
    "                mx_cols[j] = max(mx_cols[j], matrix[i][j])\n",
    "\n",
    "        for i in range(len(matrix)):\n",
    "            for j in range(len(matrix[i])):\n",
    "                if matrix[i][j] == -1:\n",
    "                    matrix[i][j] = mx_cols[j]\n",
    "\n",
    "        return matrix"
   ]
  },
  {
   "cell_type": "code",
   "execution_count": null,
   "metadata": {},
   "outputs": [],
   "source": [
    "# 3330. Find the Original Typed String I\n",
    "\n",
    "class Solution:\n",
    "    def possibleStringCount(self, word: str) -> int:\n",
    "        curr = ''\n",
    "        res = 1\n",
    "\n",
    "        for l in word:\n",
    "            if l == curr:\n",
    "                res += 1\n",
    "            else:\n",
    "                curr = l\n",
    "\n",
    "        return res"
   ]
  },
  {
   "cell_type": "code",
   "execution_count": null,
   "metadata": {},
   "outputs": [],
   "source": [
    "# 3105. Longest Strictly Increasing or Strictly Decreasing Subarray\n",
    "\n",
    "class Solution:\n",
    "    def longestMonotonicSubarray(self, nums: List[int]) -> int:\n",
    "        res, n = 1, len(nums)\n",
    "\n",
    "        for i in range(n):\n",
    "            for j in range(i + 1, n + 1):\n",
    "                if all(nums[i:j][k] > nums[i:j][k-1] for k in range(1, len(nums[i:j]))) or \\\n",
    "                all(nums[i:j][k] < nums[i:j][k-1] for k in range(1, len(nums[i:j]))):\n",
    "                    res = max(res, len(nums[i:j]))\n",
    "\n",
    "        return res"
   ]
  },
  {
   "cell_type": "code",
   "execution_count": null,
   "metadata": {},
   "outputs": [],
   "source": [
    "# 3142. Check if Grid Satisfies Conditions\n",
    "\n",
    "class Solution:\n",
    "    def satisfiesConditions(self, grid: List[List[int]]) -> bool:\n",
    "        for i in range(len(grid)):\n",
    "            for j in range(len(grid[i])):\n",
    "                if i < len(grid)-1 and grid[i][j] != grid[i + 1][j]:\n",
    "                    return False\n",
    "                if j < len(grid[i])-1 and grid[i][j] == grid[i][j + 1]:\n",
    "                    return False\n",
    "\n",
    "        return True"
   ]
  },
  {
   "cell_type": "code",
   "execution_count": null,
   "metadata": {},
   "outputs": [],
   "source": [
    "# 2335. Minimum Amount of Time to Fill Cups\n",
    "\n",
    "class Solution:\n",
    "    def fillCups(self, amount: List[int]) -> int:\n",
    "        amount.sort(reverse=True)\n",
    "        res = 0\n",
    "\n",
    "        while sum(amount) > 0:\n",
    "            if amount[1] > 0:\n",
    "                amount[0] -= 1\n",
    "                amount[1] -= 1\n",
    "                res += 1\n",
    "            else:\n",
    "                res += amount[0]\n",
    "                break\n",
    "            amount.sort(reverse=True)            \n",
    "\n",
    "        return res"
   ]
  },
  {
   "cell_type": "code",
   "execution_count": null,
   "metadata": {},
   "outputs": [],
   "source": [
    "# 2748. Number of Beautiful Pairs\n",
    "\n",
    "class Solution:\n",
    "    from math import gcd\n",
    "\n",
    "    def countBeautifulPairs(self, nums: List[int]) -> int:\n",
    "        def first_dig(num):\n",
    "            while num >= 10:\n",
    "                num //= 10\n",
    "            return num\n",
    "\n",
    "        def last_dig(num):\n",
    "            return num % 10\n",
    "        \n",
    "        res = 0\n",
    "\n",
    "        for i in range(len(nums)-1):\n",
    "            for j in range(i+1, len(nums)):\n",
    "                res += 1 if gcd(first_dig(nums[i]), last_dig(nums[j])) == 1 else 0\n",
    "\n",
    "        return res"
   ]
  },
  {
   "cell_type": "code",
   "execution_count": null,
   "metadata": {},
   "outputs": [],
   "source": [
    "# 2395. Find Subarrays With Equal Sum\n",
    "\n",
    "class Solution:\n",
    "    def findSubarrays(self, nums: List[int]) -> bool:\n",
    "        s = set()\n",
    "\n",
    "        for i in range(len(nums)-1):\n",
    "            count = sum(nums[i:i+2])\n",
    "            if count in s:\n",
    "                return True\n",
    "            else:\n",
    "                s.add(count)\n",
    "\n",
    "        return False"
   ]
  },
  {
   "cell_type": "code",
   "execution_count": null,
   "metadata": {},
   "outputs": [],
   "source": [
    "# 628. Maximum Product of Three Numbers\n",
    "\n",
    "class Solution:\n",
    "    def maximumProduct(self, nums: List[int]) -> int:\n",
    "        nums.sort(reverse=True)\n",
    "        return max((nums[0] * nums[1] * nums[2]), (nums[0] * nums[-1] * nums[-2]))"
   ]
  },
  {
   "cell_type": "code",
   "execution_count": null,
   "metadata": {},
   "outputs": [],
   "source": [
    "# 3136. Valid Word\n",
    "\n",
    "class Solution:\n",
    "    def isValid(self, word: str) -> bool:\n",
    "        if len(word) < 3:\n",
    "            return False\n",
    "\n",
    "        vowels = set('aeiouAEIOU')\n",
    "\n",
    "        has_vowel = has_consonant = False\n",
    "\n",
    "        for l in word:\n",
    "            if not l.isalnum():\n",
    "                return False\n",
    "            has_vowel = has_vowel or l in vowels\n",
    "            has_consonant = has_consonant or (l.isalpha() and l not in vowels)\n",
    "\n",
    "        return has_vowel and has_consonant"
   ]
  },
  {
   "cell_type": "code",
   "execution_count": null,
   "metadata": {},
   "outputs": [],
   "source": [
    "# 3083. Existence of a Substring in a String and Its Reverse\n",
    "\n",
    "class Solution:\n",
    "    def isSubstringPresent(self, s: str) -> bool:\n",
    "        r = s[::-1]\n",
    "        subs = set()\n",
    "\n",
    "        for i in range(len(s)):\n",
    "            for j in range(i+2, len(s)+1):\n",
    "                subs.add(s[i:j])\n",
    "\n",
    "        for i in range(len(s)):\n",
    "            for j in range(i+1, len(s)+1):\n",
    "                if r[i:j] in subs:\n",
    "                    return True\n",
    "\n",
    "        return False"
   ]
  },
  {
   "cell_type": "code",
   "execution_count": null,
   "metadata": {},
   "outputs": [],
   "source": [
    "# 3591. Check if Any Element Has Prime Frequency\n",
    "\n",
    "class Solution:\n",
    "    import math\n",
    "    def checkPrimeFrequency(self, nums: List[int]) -> bool:\n",
    "        def isprime(num):\n",
    "            if num <= 1:\n",
    "                return False\n",
    "            for i in range(2, int(math.sqrt(num)) + 1):\n",
    "                if num % i == 0:\n",
    "                    return False\n",
    "            return True\n",
    "\n",
    "        tab = {}\n",
    "\n",
    "        for num in nums:\n",
    "            tab[num] = 1 if num not in tab else tab[num] + 1\n",
    "\n",
    "        for freq in tab.values():\n",
    "            if isprime(freq):\n",
    "                return True\n",
    "\n",
    "        return False"
   ]
  },
  {
   "cell_type": "code",
   "execution_count": null,
   "metadata": {},
   "outputs": [],
   "source": [
    "# 2903. Find Indices With Index and Value Difference I\n",
    "\n",
    "class Solution:\n",
    "    def findIndices(self, nums: List[int], indexDifference: int, valueDifference: int) -> List[int]:\n",
    "        for i in range(len(nums)):\n",
    "            for j in range(i, len(nums)):\n",
    "                if abs(i - j) >= indexDifference and abs(nums[i] - nums[j]) >= valueDifference:\n",
    "                    return [i, j]\n",
    "\n",
    "        return [-1, -1]"
   ]
  },
  {
   "cell_type": "code",
   "execution_count": null,
   "metadata": {},
   "outputs": [],
   "source": [
    "# 3318. Find X-Sum of All K-Long Subarrays I\n",
    "\n",
    "class Solution:\n",
    "    def findXSum(self, nums: List[int], k: int, x: int) -> List[int]:\n",
    "        def xsum(nums, x):\n",
    "            freq = {}\n",
    "            for num in nums:\n",
    "                freq[num] = 1 if num not in freq else freq[num] + 1\n",
    "\n",
    "            if len(freq) < x:\n",
    "                return sum(nums)\n",
    "            else:\n",
    "                return sum(num * freq[num] for num in sorted(freq, key=lambda x: (freq[x], x), reverse=True)[:x])\n",
    "\n",
    "        res = []\n",
    "\n",
    "        for i in range(len(nums)-k+1):\n",
    "            res.append(xsum(nums[i:i+k], x))\n",
    "\n",
    "        return res"
   ]
  },
  {
   "cell_type": "code",
   "execution_count": null,
   "metadata": {},
   "outputs": [],
   "source": [
    "# 3452. Sum of Good Numbers\n",
    "\n",
    "class Solution:\n",
    "    def sumOfGoodNumbers(self, nums: List[int], k: int) -> int:\n",
    "        def isgood(nums, i, k):\n",
    "            if i - k < 0 and i + k >= len(nums):\n",
    "                return True\n",
    "            elif i - k < 0 and nums[i] > nums[i + k]:\n",
    "                return True\n",
    "            elif i + k >= len(nums) and nums[i] > nums[i - k]:\n",
    "                return True\n",
    "            elif nums[i] > nums[i - k] and nums[i] > nums[i + k]:\n",
    "                return True\n",
    "            else:\n",
    "                return False\n",
    "            \n",
    "        return sum(nums[i] for i in range(len(nums)) if isgood(nums, i, k))"
   ]
  },
  {
   "cell_type": "code",
   "execution_count": null,
   "metadata": {},
   "outputs": [
    {
     "data": {
      "text/plain": [
       "720"
      ]
     },
     "execution_count": 3,
     "metadata": {},
     "output_type": "execute_result"
    }
   ],
   "source": [
    "# 73. Set Matrix Zeroes\n",
    "\n",
    "class Solution:\n",
    "    def setZeroes(self, matrix: List[List[int]]) -> None:\n",
    "        \"\"\"\n",
    "        Do not return anything, modify matrix in-place instead.\n",
    "        \"\"\"\n",
    "        rows, cols, m, n = set(), set(), len(matrix), len(matrix[0])\n",
    "\n",
    "        for i in range(m):\n",
    "            for j in range(n):\n",
    "                if matrix[i][j] == 0:\n",
    "                    rows.add(i)\n",
    "                    cols.add(j)\n",
    "\n",
    "        for i in range(m):\n",
    "            for j in range(n):\n",
    "                if i in rows:\n",
    "                    matrix[i][j] = 0\n",
    "                if j in cols:\n",
    "                    matrix[i][j] = 0"
   ]
  },
  {
   "cell_type": "code",
   "execution_count": null,
   "metadata": {},
   "outputs": [],
   "source": [
    "# 3127. Make a Square with the Same Color\n",
    "\n",
    "class Solution:\n",
    "    def canMakeSquare(self, grid: List[List[str]]) -> bool:\n",
    "        return ((grid[0][0:2] + grid[1][0:2]).count('B') != 2 or \\\n",
    "        (grid[0][1:3] + grid[1][1:3]).count('B') != 2 or \\\n",
    "        (grid[1][0:2] + grid[2][0:2]).count('B') != 2 or \\\n",
    "        (grid[1][1:3] + grid[2][1:3]).count('B') != 2)"
   ]
  },
  {
   "cell_type": "code",
   "execution_count": null,
   "metadata": {},
   "outputs": [],
   "source": [
    "# 3360. Stone Removal Game\n",
    "\n",
    "class Solution:\n",
    "    def canAliceWin(self, n: int) -> bool:\n",
    "        res = False\n",
    "        k = 10\n",
    "\n",
    "        while n >= k:\n",
    "            res = not res\n",
    "            n -= k\n",
    "            k -= 1\n",
    "\n",
    "        return res"
   ]
  },
  {
   "cell_type": "code",
   "execution_count": null,
   "metadata": {},
   "outputs": [],
   "source": [
    "# 289. Game of Life\n",
    "\n",
    "class Solution:\n",
    "    def gameOfLife(self, board: List[List[int]]) -> None:\n",
    "        \"\"\"\n",
    "        Do not return anything, modify board in-place instead.\n",
    "        \"\"\"\n",
    "        ref = [row[:] for row in board]\n",
    "\n",
    "        for i in range(len(board)):\n",
    "            for j in range(len(board[i])):\n",
    "                cell_count = 0\n",
    "\n",
    "                # count cell neighbors\n",
    "                if j > 0 and i > 0:\n",
    "                    cell_count += ref[i-1][j-1]\n",
    "                if i > 0:\n",
    "                    cell_count += ref[i-1][j]\n",
    "                if j < len(board[i])-1 and i > 0:\n",
    "                    cell_count += ref[i-1][j+1]\n",
    "                if j > 0:\n",
    "                    cell_count += ref[i][j-1]\n",
    "                if j < len(board[i])-1:\n",
    "                    cell_count += ref[i][j+1]\n",
    "                if j > 0 and i < len(board)-1:\n",
    "                    cell_count += ref[i+1][j-1]\n",
    "                if i < len(board)-1:\n",
    "                    cell_count += ref[i+1][j]\n",
    "                if j < len(board[i])-1 and i < len(board)-1:\n",
    "                    cell_count += ref[i+1][j+1]\n",
    "                    \n",
    "                # update cell\n",
    "                if cell_count < 2:\n",
    "                    board[i][j] = 0\n",
    "                elif cell_count == 2:\n",
    "                    pass\n",
    "                elif cell_count == 3:\n",
    "                    board[i][j] = 1\n",
    "                else:\n",
    "                    board[i][j] = 0"
   ]
  },
  {
   "cell_type": "code",
   "execution_count": null,
   "metadata": {},
   "outputs": [],
   "source": [
    "# 3379. Transformed Array\n",
    "\n",
    "class Solution:\n",
    "    def constructTransformedArray(self, nums: List[int]) -> List[int]:\n",
    "        n = len(nums)\n",
    "        res = []\n",
    "\n",
    "        for i in range(n):\n",
    "            if nums[i] > 0:\n",
    "                res.append(nums[(i+nums[i])%n])\n",
    "            elif nums[i] < 0:\n",
    "                res.append(nums[(i-abs(nums[i]))%n])\n",
    "            else:\n",
    "                res.append(nums[i])\n",
    "\n",
    "        return res"
   ]
  },
  {
   "cell_type": "code",
   "execution_count": null,
   "metadata": {},
   "outputs": [],
   "source": [
    "# 2047. Number of Valid Words in a Sentence\n",
    "\n",
    "class Solution:\n",
    "    def countValidWords(self, sentence: str) -> int:\n",
    "        def isValid(word):\n",
    "            h_count = 0\n",
    "            if word[-1].isdigit() or word[-1] == '-' or word[0] == '-':\n",
    "                return False\n",
    "            for i in range(len(word[:-1])):\n",
    "                h_count += 1 if word[i] == '-' else 0\n",
    "                if word[i] == '-' and not word[i+1].isalpha():\n",
    "                    return False\n",
    "                if word[i].isdigit() or word[i] in ('!', '.', ',') or h_count > 1:\n",
    "                    return False\n",
    "            return True\n",
    "\n",
    "        return sum(1 if isValid(word) else 0 for word in sentence.split())"
   ]
  },
  {
   "cell_type": "code",
   "execution_count": null,
   "metadata": {},
   "outputs": [],
   "source": [
    "# 347. Top K Frequent Elements\n",
    "\n",
    "class Solution:\n",
    "    def topKFrequent(self, nums: List[int], k: int) -> List[int]:\n",
    "        freq = {}\n",
    "\n",
    "        for num in nums:\n",
    "            freq[num] = 1 if num not in freq else freq[num] + 1\n",
    "\n",
    "        return sorted(list(freq.keys()), key=lambda x: freq[x], reverse=True)[:k]"
   ]
  },
  {
   "cell_type": "code",
   "execution_count": null,
   "metadata": {},
   "outputs": [],
   "source": [
    "# 3095. Shortest Subarray With OR at Least K I\n",
    "\n",
    "class Solution:\n",
    "    def reduce(self, fun, it):\n",
    "        it = iter(it)\n",
    "        acc = next(it)\n",
    "\n",
    "        for elem in it:\n",
    "            acc = fun(acc, elem)\n",
    "\n",
    "        return acc\n",
    "\n",
    "    def minimumSubarrayLength(self, nums: List[int], k: int) -> int:\n",
    "        res = len(nums)\n",
    "        is_valid = False\n",
    "\n",
    "        for i in range(len(nums)):\n",
    "            for j in range(i+1, len(nums)+1):\n",
    "                if self.reduce(lambda x,y: x|y, nums[i:j]) >= k:\n",
    "                    is_valid = True\n",
    "                    res = min(res, j-i)\n",
    "\n",
    "        return res if is_valid else -1"
   ]
  },
  {
   "cell_type": "code",
   "execution_count": null,
   "metadata": {},
   "outputs": [],
   "source": [
    "# 406. Queue Reconstruction by Height\n",
    "\n",
    "class Solution:\n",
    "    def reconstructQueue(self, people: List[List[int]]) -> List[List[int]]:\n",
    "        res = [False for _ in people]\n",
    "        ptr = 0\n",
    "        people.sort(key=lambda x: (x[0], -x[1]))\n",
    "\n",
    "        for p in people:\n",
    "            ptr = 0\n",
    "            k = p[1]\n",
    "            while k > 0 or res[ptr]:\n",
    "                k -= 1 if not res[ptr] else 0\n",
    "                ptr += 1\n",
    "            res[ptr] = p\n",
    "\n",
    "        return res"
   ]
  },
  {
   "cell_type": "code",
   "execution_count": null,
   "metadata": {},
   "outputs": [],
   "source": [
    "# 107. Binary Tree Level Order Traversal II\n",
    "\n",
    "# Definition for a binary tree node.\n",
    "# class TreeNode:\n",
    "#     def __init__(self, val=0, left=None, right=None):\n",
    "#         self.val = val\n",
    "#         self.left = left\n",
    "#         self.right = right\n",
    "class Solution:\n",
    "    from collections import deque\n",
    "\n",
    "    def levelOrderBottom(self, root: Optional[TreeNode]) -> List[List[int]]:\n",
    "        if not root:\n",
    "            return []\n",
    "\n",
    "        row = 0\n",
    "        res = deque([[]])\n",
    "\n",
    "        q = deque([(root, 0)])\n",
    "\n",
    "        while q:\n",
    "            node, lvl = q.popleft()\n",
    "            if node:\n",
    "                if lvl > row:\n",
    "                    row = lvl\n",
    "                    res.appendleft([])\n",
    "                res[0].append(node.val)\n",
    "                q.append((node.left, lvl+1))\n",
    "                q.append((node.right, lvl+1))\n",
    "\n",
    "        return list(res)"
   ]
  },
  {
   "cell_type": "code",
   "execution_count": null,
   "metadata": {},
   "outputs": [],
   "source": [
    "# 692. Top K Frequent Words\n",
    "\n",
    "class Solution:\n",
    "    def topKFrequent(self, words: List[str], k: int) -> List[str]:\n",
    "        freq = {}\n",
    "\n",
    "        for word in words:\n",
    "            freq[word] = 1 if word not in freq else freq[word] + 1\n",
    "\n",
    "        return sorted(freq.keys(), key=lambda x: (-freq[x], x))[:k]"
   ]
  },
  {
   "cell_type": "code",
   "execution_count": null,
   "metadata": {},
   "outputs": [],
   "source": [
    "# 155. Min Stack\n",
    "\n",
    "class MinStack:\n",
    "\n",
    "    def __init__(self):\n",
    "        self.stack = []\n",
    "        self.min = [2**32]\n",
    "\n",
    "    def push(self, val: int) -> None:\n",
    "        self.stack.append(val)\n",
    "        if val <= self.min[-1]:\n",
    "            self.min.append(val)\n",
    "\n",
    "    def pop(self) -> None:\n",
    "        val = self.stack.pop()\n",
    "        if val == self.min[-1]:\n",
    "            self.min.pop()\n",
    "\n",
    "    def top(self) -> int:\n",
    "        return self.stack[-1]\n",
    "\n",
    "    def getMin(self) -> int:\n",
    "        return self.min[-1]\n",
    "\n",
    "\n",
    "# Your MinStack object will be instantiated and called as such:\n",
    "# obj = MinStack()\n",
    "# obj.push(val)\n",
    "# obj.pop()\n",
    "# param_3 = obj.top()\n",
    "# param_4 = obj.getMin()"
   ]
  },
  {
   "cell_type": "code",
   "execution_count": null,
   "metadata": {},
   "outputs": [
    {
     "data": {
      "text/plain": [
       "'ABCABC'"
      ]
     },
     "execution_count": 3,
     "metadata": {},
     "output_type": "execute_result"
    }
   ],
   "source": [
    "# 1071. Greatest Common Divisor of Strings\n",
    "\n",
    "class Solution:\n",
    "    def gcdOfStrings(self, str1: str, str2: str) -> str:\n",
    "        def can_divide(s1, s2):\n",
    "            # function tests if s2 divides s1\n",
    "\n",
    "            if len(s1) % len(s2) != 0:\n",
    "                return False\n",
    "            \n",
    "            reps = len(s1) // len(s2)\n",
    "\n",
    "            return s1 == s2 * reps\n",
    "\n",
    "        s1 = str1 if len(str1) >= len(str2) else str2\n",
    "        s2 = str2 if len(str1) >= len(str2) else str1\n",
    "        res = \"\"\n",
    "\n",
    "        for i in range(1, len(s2)+1):\n",
    "            pfx = s2[:i]\n",
    "            res = pfx if can_divide(s1, pfx) and can_divide(s2, pfx) else res\n",
    "\n",
    "        return res"
   ]
  },
  {
   "cell_type": "code",
   "execution_count": null,
   "metadata": {},
   "outputs": [],
   "source": [
    "# 2833. Furthest Point From Origin\n",
    "\n",
    "class Solution:\n",
    "    def furthestDistanceFromOrigin(self, moves: str) -> int:\n",
    "        freq = {\"L\":0, \"R\":0, \"_\":0}\n",
    "\n",
    "        for m in moves:\n",
    "            freq[m] += 1\n",
    "\n",
    "        return max(freq[\"L\"], freq[\"R\"]) + freq[\"_\"] - min(freq[\"L\"], freq[\"R\"])"
   ]
  },
  {
   "cell_type": "code",
   "execution_count": null,
   "metadata": {},
   "outputs": [],
   "source": [
    "# 230. Kth Smallest Element in a BST\n",
    "\n",
    "# Definition for a binary tree node.\n",
    "# class TreeNode:\n",
    "#     def __init__(self, val=0, left=None, right=None):\n",
    "#         self.val = val\n",
    "#         self.left = left\n",
    "#         self.right = right\n",
    "class Solution:\n",
    "    def kthSmallest(self, root: Optional[TreeNode], k: int) -> int:\n",
    "        count = 0\n",
    "        ans = 0\n",
    "        def recSmallest(root: Optional[TreeNode], k: int) -> None:\n",
    "            nonlocal count\n",
    "            nonlocal ans\n",
    "            if root.left:\n",
    "                recSmallest(root.left, k)\n",
    "            count += 1\n",
    "            if count == k:\n",
    "                ans = root.val\n",
    "            if root.right:\n",
    "                recSmallest(root.right, k)\n",
    "\n",
    "        recSmallest(root, k)\n",
    "        \n",
    "        return ans"
   ]
  },
  {
   "cell_type": "code",
   "execution_count": null,
   "metadata": {},
   "outputs": [],
   "source": [
    "# 2900. Longest Unequal Adjacent Groups Subsequence I\n",
    "\n",
    "class Solution:\n",
    "    def getLongestSubsequence(self, words: List[str], groups: List[int]) -> List[str]:\n",
    "        n = len(words)\n",
    "        res = [words[0]]\n",
    "\n",
    "        for i in range(1, n):\n",
    "            if groups[i] != groups[i-1]:\n",
    "                res.append(words[i])\n",
    "\n",
    "        return res"
   ]
  },
  {
   "cell_type": "code",
   "execution_count": null,
   "metadata": {},
   "outputs": [],
   "source": [
    "# 48. Rotate Image\n",
    "\n",
    "class Solution:\n",
    "    def rotate(self, matrix: List[List[int]]) -> None:\n",
    "        \"\"\"\n",
    "        Do not return anything, modify matrix in-place instead.\n",
    "        \"\"\"\n",
    "        n = len(matrix)\n",
    "        transpose = [[matrix[j][i] for j in range(n)] for i in range(n)]\n",
    "        for i in range(n):\n",
    "            for j in range(n):\n",
    "                matrix[i][j] = transpose[i][::-1][j]"
   ]
  }
 ],
 "metadata": {
  "kernelspec": {
   "display_name": "base",
   "language": "python",
   "name": "python3"
  },
  "language_info": {
   "codemirror_mode": {
    "name": "ipython",
    "version": 3
   },
   "file_extension": ".py",
   "mimetype": "text/x-python",
   "name": "python",
   "nbconvert_exporter": "python",
   "pygments_lexer": "ipython3",
   "version": "3.8.3"
  },
  "orig_nbformat": 4
 },
 "nbformat": 4,
 "nbformat_minor": 2
}

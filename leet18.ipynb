{
 "cells": [
  {
   "cell_type": "code",
   "execution_count": 69,
   "metadata": {},
   "outputs": [],
   "source": [
    "class Solution:\n",
    "    def permute(self, nums, res, perms):\n",
    "        if len(res) == len(nums):\n",
    "            perms.append(res)\n",
    "        for i in range(len(nums)):\n",
    "            pass"
   ]
  },
  {
   "cell_type": "code",
   "execution_count": 2,
   "metadata": {},
   "outputs": [
    {
     "data": {
      "text/plain": [
       "[1, 2, 3, 4, 5, 6, 7, 8]"
      ]
     },
     "execution_count": 2,
     "metadata": {},
     "output_type": "execute_result"
    }
   ],
   "source": [
    "arr = [2, 8, 1, 3, 6, 7, 5, 4]\n",
    "# arr = [4,2,1,3]\n",
    "\n",
    "def merge_sort(arr):\n",
    "    def merge(left, right):\n",
    "        i = j = k = 0\n",
    "        while i < len(left) and j < len(right):\n",
    "            if left[i] <= right[j]:\n",
    "                arr[k] = left[i]\n",
    "                i += 1\n",
    "                k += 1\n",
    "            else:\n",
    "                arr[k] = right[j]\n",
    "                j += 1\n",
    "                k += 1\n",
    "\n",
    "        arr[k:] = left[i:] if i < len(left) else right[j:]\n",
    "\n",
    "        return arr\n",
    "    \n",
    "    if len(arr) == 1:\n",
    "        return arr   \n",
    "    return merge(merge_sort(arr[:len(arr)>>1]), merge_sort(arr[len(arr)>>1:]))\n",
    "\n",
    "merge_sort(arr)"
   ]
  },
  {
   "cell_type": "code",
   "execution_count": 71,
   "metadata": {},
   "outputs": [
    {
     "data": {
      "text/plain": [
       "[1, 2, 3, 4, 5, 6, 7, 8]"
      ]
     },
     "execution_count": 71,
     "metadata": {},
     "output_type": "execute_result"
    }
   ],
   "source": [
    "arr = [2, 8, 1, 3, 6, 7, 5, 4]\n",
    "\n",
    "def quicksort(arr):\n",
    "    def partition(arr):\n",
    "        pivot = len(arr)-1\n",
    "        i = 0\n",
    "        store_idx = -1\n",
    "        while i < len(arr):\n",
    "            if arr[i] > arr[pivot] and store_idx < 0:\n",
    "                store_idx = i\n",
    "            elif arr[i] <= arr[pivot] and store_idx >= 0:\n",
    "                arr[store_idx], arr[i] = arr[i], arr[store_idx]\n",
    "                store_idx += 1\n",
    "            i += 1\n",
    "        return store_idx\n",
    "\n",
    "    if len(arr) == 1:\n",
    "        return arr\n",
    "    \n",
    "    store_idx = partition(arr)\n",
    "    \n",
    "    return quicksort(arr[:store_idx]) + quicksort(arr[store_idx:])\n",
    "\n",
    "quicksort(arr)"
   ]
  },
  {
   "cell_type": "code",
   "execution_count": 72,
   "metadata": {},
   "outputs": [
    {
     "data": {
      "text/plain": [
       "'dlroW olleH'"
      ]
     },
     "execution_count": 72,
     "metadata": {},
     "output_type": "execute_result"
    }
   ],
   "source": [
    "\"Hello World\"[::-1]"
   ]
  },
  {
   "cell_type": "code",
   "execution_count": 73,
   "metadata": {},
   "outputs": [
    {
     "data": {
      "text/plain": [
       "collections.deque"
      ]
     },
     "execution_count": 73,
     "metadata": {},
     "output_type": "execute_result"
    }
   ],
   "source": [
    "from collections import deque\n",
    "lst = [1,2,3]\n",
    "q = deque(lst)\n",
    "type(q)"
   ]
  },
  {
   "cell_type": "code",
   "execution_count": null,
   "metadata": {},
   "outputs": [],
   "source": []
  },
  {
   "cell_type": "code",
   "execution_count": 74,
   "metadata": {},
   "outputs": [],
   "source": [
    "# Definition for a binary tree node.\n",
    "class TreeNode(object):\n",
    "    def __init__(self, val=0, left=None, right=None):\n",
    "        self.val = val\n",
    "        self.left = left\n",
    "        self.right = right"
   ]
  },
  {
   "cell_type": "code",
   "execution_count": 75,
   "metadata": {},
   "outputs": [
    {
     "data": {
      "text/plain": [
       "[1, 2, 3, 1, 2, 3, 3, 5, 6]"
      ]
     },
     "execution_count": 75,
     "metadata": {},
     "output_type": "execute_result"
    }
   ],
   "source": [
    "lst = [1,2,3]\n",
    "lst = lst + [1,2,3] + [3,5,6]\n",
    "lst"
   ]
  },
  {
   "cell_type": "code",
   "execution_count": 76,
   "metadata": {},
   "outputs": [],
   "source": [
    "root = TreeNode(1)\n",
    "root.left = TreeNode(2)\n",
    "root.left.right = TreeNode(5)\n",
    "root.right = TreeNode(3)"
   ]
  },
  {
   "cell_type": "code",
   "execution_count": 77,
   "metadata": {},
   "outputs": [
    {
     "data": {
      "text/plain": [
       "['1->3', '1->2->5']"
      ]
     },
     "execution_count": 77,
     "metadata": {},
     "output_type": "execute_result"
    }
   ],
   "source": [
    "class Solution:\n",
    "    def binaryTreePaths(self, root, path=\"\"):\n",
    "        lst = []\n",
    "        if not root:\n",
    "            return lst\n",
    "        # Leaf node\n",
    "        if not root.right and not root.left:\n",
    "            # print(\"this\")\n",
    "            path += str(root.val)\n",
    "            lst.append(path)\n",
    "            return lst\n",
    "        else:\n",
    "            path += str(root.val) + \"->\"\n",
    "            lst.extend(self.binaryTreePaths(root.right, path))\n",
    "            lst.extend(self.binaryTreePaths(root.left, path))\n",
    "            return lst\n",
    "\n",
    "sol = Solution()\n",
    "sol.binaryTreePaths(root)"
   ]
  },
  {
   "cell_type": "code",
   "execution_count": 78,
   "metadata": {},
   "outputs": [
    {
     "data": {
      "text/plain": [
       "6.48074069840786"
      ]
     },
     "execution_count": 78,
     "metadata": {},
     "output_type": "execute_result"
    }
   ],
   "source": [
    "from math import sqrt\n",
    "sqrt(42)"
   ]
  },
  {
   "cell_type": "code",
   "execution_count": 79,
   "metadata": {},
   "outputs": [
    {
     "name": "stdout",
     "output_type": "stream",
     "text": [
      "7\n"
     ]
    },
    {
     "data": {
      "text/plain": [
       "False"
      ]
     },
     "execution_count": 79,
     "metadata": {},
     "output_type": "execute_result"
    }
   ],
   "source": [
    "class Solution:\n",
    "    def isPerfectSquare(self, num: int) -> bool:\n",
    "        if num == 1:\n",
    "            return True\n",
    "        divisor = num // 2\n",
    "        high = num\n",
    "        low = 1\n",
    "        while True:\n",
    "            if divisor == 0 or divisor == num:\n",
    "                return False\n",
    "            elif num / divisor == divisor:\n",
    "                return True\n",
    "            elif num // divisor < divisor:\n",
    "                # go smaller\n",
    "                high = divisor\n",
    "                divisor = (high-low) // 2\n",
    "            else:\n",
    "                # go bigger\n",
    "                low = divisor\n",
    "                divisor = (((high-low) // 2) and 1) + low\n",
    "                print(high)\n",
    "\n",
    "sol = Solution()\n",
    "sol.isPerfectSquare(14)"
   ]
  },
  {
   "cell_type": "code",
   "execution_count": 80,
   "metadata": {},
   "outputs": [
    {
     "data": {
      "text/plain": [
       "1"
      ]
     },
     "execution_count": 80,
     "metadata": {},
     "output_type": "execute_result"
    }
   ],
   "source": [
    "class Solution:\n",
    "    def arrangeCoins(self, n: int) -> int:\n",
    "        if n == 1:\n",
    "            return 1\n",
    "        coins = n\n",
    "        steps = 0\n",
    "        for i in range(1, n):\n",
    "            coins -= i\n",
    "            if coins < 0:\n",
    "                break\n",
    "            steps += 1\n",
    "        return steps\n",
    "\n",
    "sol = Solution()\n",
    "sol.arrangeCoins(2)"
   ]
  },
  {
   "cell_type": "code",
   "execution_count": 81,
   "metadata": {},
   "outputs": [
    {
     "data": {
      "text/plain": [
       "6.0"
      ]
     },
     "execution_count": 81,
     "metadata": {},
     "output_type": "execute_result"
    }
   ],
   "source": [
    "n = 3\n",
    "n*(n+1)/2"
   ]
  },
  {
   "cell_type": "code",
   "execution_count": 82,
   "metadata": {},
   "outputs": [
    {
     "data": {
      "text/plain": [
       "0"
      ]
     },
     "execution_count": 82,
     "metadata": {},
     "output_type": "execute_result"
    }
   ],
   "source": [
    "class Solution:\n",
    "    def arrangeCoins(self, n: int) -> int:\n",
    "        high = n\n",
    "        low = 1\n",
    "        target = (high - low) // 2\n",
    "        while True:\n",
    "            high = max(target, high)\n",
    "            low = min(target, low)\n",
    "            if high-low == 1:\n",
    "                return target\n",
    "            elif (target*(target+1))/2 == n:\n",
    "                return target\n",
    "            elif (target*(target+1))/2 < n:\n",
    "                low = target\n",
    "            elif (target*(target+1))/2 > n:\n",
    "                high = target\n",
    "            target = ((high - low) // 2) + low\n",
    "\n",
    "sol = Solution()\n",
    "sol.arrangeCoins(1)"
   ]
  },
  {
   "cell_type": "code",
   "execution_count": 83,
   "metadata": {},
   "outputs": [
    {
     "data": {
      "text/plain": [
       "2"
      ]
     },
     "execution_count": 83,
     "metadata": {},
     "output_type": "execute_result"
    }
   ],
   "source": [
    "(8*9)/2\n",
    "(8-6)//2\n",
    "5//2"
   ]
  },
  {
   "cell_type": "code",
   "execution_count": 84,
   "metadata": {},
   "outputs": [
    {
     "data": {
      "text/plain": [
       "28.0"
      ]
     },
     "execution_count": 84,
     "metadata": {},
     "output_type": "execute_result"
    }
   ],
   "source": [
    "n = 7\n",
    "n*(n+1)/2"
   ]
  },
  {
   "cell_type": "code",
   "execution_count": 85,
   "metadata": {},
   "outputs": [
    {
     "data": {
      "text/plain": [
       "-1"
      ]
     },
     "execution_count": 85,
     "metadata": {},
     "output_type": "execute_result"
    }
   ],
   "source": [
    "import heapq\n",
    "\n",
    "# initializing list\n",
    "li = [5, 7, 9, 1, 3]\n",
    " \n",
    "# using heapify to convert list into heap\n",
    "heapq.heapify(li)\n",
    "\n",
    "-heapq.heappop(li)"
   ]
  },
  {
   "cell_type": "code",
   "execution_count": 86,
   "metadata": {},
   "outputs": [
    {
     "name": "stdout",
     "output_type": "stream",
     "text": [
      "9\n"
     ]
    },
    {
     "data": {
      "text/plain": [
       "[-7, -5, -3, -1]"
      ]
     },
     "execution_count": 86,
     "metadata": {},
     "output_type": "execute_result"
    }
   ],
   "source": [
    "li = [5, 7, 9, 1, 3]\n",
    "hp = []\n",
    "\n",
    "for i in li:\n",
    "    heapq.heappush(hp, -i)\n",
    "\n",
    "print(-heapq.heappop(hp)) \n",
    "hp"
   ]
  },
  {
   "cell_type": "code",
   "execution_count": 87,
   "metadata": {},
   "outputs": [
    {
     "data": {
      "text/plain": [
       "[-9, -7, -5, -1, -3]"
      ]
     },
     "execution_count": 87,
     "metadata": {},
     "output_type": "execute_result"
    }
   ],
   "source": [
    "import numpy as np\n",
    "\n",
    "li = list(np.array([5, 7, 9, 1, 3])*-1)\n",
    "heapq.heapify(li)\n",
    "\n",
    "li"
   ]
  },
  {
   "cell_type": "code",
   "execution_count": 88,
   "metadata": {},
   "outputs": [
    {
     "name": "stdout",
     "output_type": "stream",
     "text": [
      "10\n"
     ]
    }
   ],
   "source": [
    "# create a max heap\n",
    "heap = [-5, -1, -10]\n",
    "heapq.heapify(heap)\n",
    "\n",
    "# get the maximum element\n",
    "print(-heapq.heappop(heap)) "
   ]
  },
  {
   "cell_type": "code",
   "execution_count": 89,
   "metadata": {},
   "outputs": [
    {
     "name": "stdout",
     "output_type": "stream",
     "text": [
      "through\n"
     ]
    },
    {
     "data": {
      "text/plain": [
       "1"
      ]
     },
     "execution_count": 89,
     "metadata": {},
     "output_type": "execute_result"
    }
   ],
   "source": [
    "import heapq\n",
    "\n",
    "class Solution:\n",
    "    def findContentChildren(self, g, s) -> int:\n",
    "        if len(s) == 0:\n",
    "            return 0\n",
    "        g_heap = []\n",
    "        s_heap = []\n",
    "        count = 0\n",
    "        for i in g:\n",
    "            heapq.heappush(g_heap, -i)\n",
    "        for i in s:\n",
    "            heapq.heappush(s_heap, -i)\n",
    "        while g_heap and s_heap:\n",
    "            print(\"through\")\n",
    "            if -heapq.heappop(g_heap) <= -s_heap[0]:\n",
    "                heapq.heappop(s_heap)\n",
    "                count += 1\n",
    "            \n",
    "            # if (what := -heapq.heappop(s_heap)) > -g_heap[0]:\n",
    "            #     print(what)\n",
    "            #     heapq.heappop(g_heap)\n",
    "            #     count += 1\n",
    "            # print(-g_heap[0])\n",
    "            # heapq.heappop(g_heap)\n",
    "        # print(-heapq.heappop(g_heap))\n",
    "        # print(g_heap)\n",
    "        # print(s_heap)\n",
    "        # for i in range(len(s)):\n",
    "        #     if not heapq.heappop(g_heap) > heapq.heappop(s_heap):\n",
    "        #         return i\n",
    "        return count\n",
    "    \n",
    "sol = Solution()\n",
    "sol.findContentChildren([1,2,3], [3])"
   ]
  },
  {
   "cell_type": "code",
   "execution_count": 90,
   "metadata": {},
   "outputs": [
    {
     "data": {
      "text/plain": [
       "2"
      ]
     },
     "execution_count": 90,
     "metadata": {},
     "output_type": "execute_result"
    }
   ],
   "source": [
    "import math\n",
    "\n",
    "class Solution:\n",
    "    def addDigits(self, num: int) -> int:\n",
    "        while num >= 10:\n",
    "            num = self.sumDigits(num)\n",
    "        return num\n",
    "\n",
    "    def sumDigits(self, num: int) -> int:\n",
    "        if num < 10:\n",
    "            return num\n",
    "        else:\n",
    "            return self.sumDigits(num//10) + num%10\n",
    "\n",
    "sol = Solution()\n",
    "sol.addDigits(38)"
   ]
  },
  {
   "cell_type": "code",
   "execution_count": 91,
   "metadata": {},
   "outputs": [
    {
     "data": {
      "text/plain": [
       "'bacdefg'"
      ]
     },
     "execution_count": 91,
     "metadata": {},
     "output_type": "execute_result"
    }
   ],
   "source": [
    "s = \"abcdefg\"\n",
    "s[0:0+2][::-1] + s[2:]"
   ]
  },
  {
   "cell_type": "code",
   "execution_count": 92,
   "metadata": {},
   "outputs": [
    {
     "data": {
      "text/plain": [
       "'bacdfeg'"
      ]
     },
     "execution_count": 92,
     "metadata": {},
     "output_type": "execute_result"
    }
   ],
   "source": [
    "class Solution:\n",
    "    def reverseStr(self, s: str, k: int) -> str:\n",
    "        ptr = 0\n",
    "        while ptr < len(s):\n",
    "            s = s[:ptr] + s[ptr:ptr+k][::-1] + s[ptr+k:]\n",
    "            ptr += 2*k\n",
    "        return s\n",
    "    \n",
    "sol = Solution()\n",
    "sol.reverseStr(s = \"abcdefg\", k = 2)"
   ]
  },
  {
   "cell_type": "code",
   "execution_count": 93,
   "metadata": {},
   "outputs": [
    {
     "name": "stdout",
     "output_type": "stream",
     "text": [
      "100\n"
     ]
    },
    {
     "data": {
      "text/plain": [
       "'202'"
      ]
     },
     "execution_count": 93,
     "metadata": {},
     "output_type": "execute_result"
    }
   ],
   "source": [
    "class Solution:\n",
    "    def convertToBase7(self, num: int) -> str:\n",
    "        base7 = \"\" if num != 0 else \"0\"\n",
    "        sign = \"\" if num >= 0 else \"-\"\n",
    "        if num < 0:\n",
    "            num = num * -1\n",
    "        print(num)\n",
    "        while num > 0:\n",
    "            base7 = str(num%7) + base7\n",
    "            num = num//7\n",
    "        base7 = sign + base7\n",
    "        return base7\n",
    "\n",
    "sol = Solution()\n",
    "sol.convertToBase7(100)"
   ]
  },
  {
   "cell_type": "code",
   "execution_count": 94,
   "metadata": {},
   "outputs": [
    {
     "data": {
      "text/plain": [
       "True"
      ]
     },
     "execution_count": 94,
     "metadata": {},
     "output_type": "execute_result"
    }
   ],
   "source": [
    "class Solution:\n",
    "    def detectCapitalUse(self, word: str) -> bool:\n",
    "        return word.isupper() or word[1:].islower() or word.islower()\n",
    "    \n",
    "sol = Solution()\n",
    "sol.detectCapitalUse(\"Taa\")"
   ]
  },
  {
   "cell_type": "code",
   "execution_count": 95,
   "metadata": {},
   "outputs": [],
   "source": [
    "class Solution:\n",
    "    def capitalizeTitle(self, title: str) -> str:\n",
    "        lst = title.split()\n",
    "        for i in range(len(lst)):\n",
    "            lst[i] = (lst[i][0].upper() + lst[i][1:].lower()) if len(lst[i]) > 2 else lst[i].lower()\n",
    "        return ' '.join(lst)\n"
   ]
  },
  {
   "cell_type": "code",
   "execution_count": 96,
   "metadata": {},
   "outputs": [],
   "source": [
    "class Solution:\n",
    "    def twoSum(self, nums, target: int):\n",
    "        tab = {}\n",
    "        for i in range(len(nums)):\n",
    "            if target-nums[i] not in tab:\n",
    "                tab[target-nums[i]] = i\n",
    "            elif target-nums[i]*2 == target:\n",
    "                return [tab[target-nums[i]], i]\n",
    "        \n",
    "        for i in tab:\n",
    "            if target-i in tab and tab[i] != tab[target-i]:\n",
    "                return [tab[i], tab[target-i]]"
   ]
  },
  {
   "cell_type": "code",
   "execution_count": 97,
   "metadata": {},
   "outputs": [
    {
     "name": "stdout",
     "output_type": "stream",
     "text": [
      "0\n"
     ]
    },
    {
     "data": {
      "text/plain": [
       "{3: 0}"
      ]
     },
     "execution_count": 97,
     "metadata": {},
     "output_type": "execute_result"
    }
   ],
   "source": [
    "nums = [3,3]\n",
    "target = 6\n",
    "# tab = {target-nums[i]:i if target-nums[i] not in tab else 'second':i for i in range(len(nums))}\n",
    "tab = {}\n",
    "for i in range(len(nums)):\n",
    "    if target-nums[i] not in tab:\n",
    "        tab[target-nums[i]] = i\n",
    "    elif target-nums[i]+nums[i] == target:\n",
    "        print(target-nums[i]*2)\n",
    "    \n",
    "tab"
   ]
  },
  {
   "cell_type": "code",
   "execution_count": 98,
   "metadata": {},
   "outputs": [
    {
     "data": {
      "text/plain": [
       "28"
      ]
     },
     "execution_count": 98,
     "metadata": {},
     "output_type": "execute_result"
    }
   ],
   "source": [
    "num = 28\n",
    "total = 0\n",
    "for i in range(1, num//2+1):\n",
    "    if num % i == 0:\n",
    "        total += i\n",
    "total"
   ]
  },
  {
   "cell_type": "code",
   "execution_count": 99,
   "metadata": {},
   "outputs": [
    {
     "data": {
      "text/plain": [
       "5792"
      ]
     },
     "execution_count": 99,
     "metadata": {},
     "output_type": "execute_result"
    }
   ],
   "source": [
    "from math import sqrt\n",
    "\n",
    "int(sqrt(33550336))"
   ]
  },
  {
   "cell_type": "code",
   "execution_count": 100,
   "metadata": {},
   "outputs": [
    {
     "data": {
      "text/plain": [
       "True"
      ]
     },
     "execution_count": 100,
     "metadata": {},
     "output_type": "execute_result"
    }
   ],
   "source": [
    "num = 28\n",
    "sum(i + num // i for i in range(2,int(sqrt(num))+1) if num % i == 0)+1 == num and num != 1"
   ]
  },
  {
   "cell_type": "code",
   "execution_count": 101,
   "metadata": {},
   "outputs": [
    {
     "data": {
      "text/plain": [
       "1"
      ]
     },
     "execution_count": 101,
     "metadata": {},
     "output_type": "execute_result"
    }
   ],
   "source": [
    "r,c = 1,4\n",
    "mat = [[i for i in range(c)] for _ in range(r)]\n",
    "# for i in range(r):\n",
    "#     for j in range(c):\n",
    "#         print(mat[i][j])\n",
    "mat[0][1]"
   ]
  },
  {
   "cell_type": "code",
   "execution_count": 102,
   "metadata": {},
   "outputs": [
    {
     "data": {
      "text/plain": [
       "[[1, 2], [3, 4]]"
      ]
     },
     "execution_count": 102,
     "metadata": {},
     "output_type": "execute_result"
    }
   ],
   "source": [
    "original = [1,2,3,4]\n",
    "m, n = 2, 2\n",
    "[[original[i] for i in range(j,n+j)] for j in range(m)]\n",
    "[i for i in range(0, len(original), n)]\n",
    "[original[i:i+n] for i in range(0, m*n, n)]"
   ]
  },
  {
   "cell_type": "code",
   "execution_count": 103,
   "metadata": {},
   "outputs": [
    {
     "data": {
      "text/plain": [
       "2"
      ]
     },
     "execution_count": 103,
     "metadata": {},
     "output_type": "execute_result"
    }
   ],
   "source": [
    "timeSeries = [1]\n",
    "duration = 2\n",
    "poison_count = 0\n",
    "for i in range(1, len(timeSeries)):\n",
    "    poison_count += min(duration, timeSeries[i] - timeSeries[i-1])\n",
    "poison_count += duration\n",
    "poison_count"
   ]
  },
  {
   "cell_type": "code",
   "execution_count": 104,
   "metadata": {},
   "outputs": [
    {
     "data": {
      "text/plain": [
       "['Gold Medal', '5', 'Bronze Medal', 'Silver Medal', '4']"
      ]
     },
     "execution_count": 104,
     "metadata": {},
     "output_type": "execute_result"
    }
   ],
   "source": [
    "import numpy as np\n",
    "\n",
    "score = [10,3,8,9,4]\n",
    "tab = {}\n",
    "rank = 1\n",
    "for i in sorted(score, reverse=True):\n",
    "    if rank == 1:\n",
    "        tab[i] = \"Gold Medal\"\n",
    "        rank += 1\n",
    "    elif rank == 2:\n",
    "        tab[i] = \"Silver Medal\"\n",
    "        rank += 1\n",
    "    elif rank == 3:\n",
    "        tab[i] = \"Bronze Medal\"\n",
    "        rank += 1\n",
    "    else:\n",
    "        tab[i] = \"{}\".format(rank)\n",
    "        rank += 1\n",
    "\n",
    "[tab[i] for i in score]"
   ]
  },
  {
   "cell_type": "code",
   "execution_count": 105,
   "metadata": {},
   "outputs": [
    {
     "data": {
      "text/plain": [
       "1"
      ]
     },
     "execution_count": 105,
     "metadata": {},
     "output_type": "execute_result"
    }
   ],
   "source": [
    "x = 0\n",
    "(x:= x + 1)"
   ]
  },
  {
   "cell_type": "code",
   "execution_count": 106,
   "metadata": {},
   "outputs": [
    {
     "data": {
      "text/plain": [
       "[3, 4, 8, 9, 10]"
      ]
     },
     "execution_count": 106,
     "metadata": {},
     "output_type": "execute_result"
    }
   ],
   "source": [
    "import heapq\n",
    "\n",
    "heapq.heapify(score)\n",
    "score"
   ]
  },
  {
   "cell_type": "code",
   "execution_count": 107,
   "metadata": {},
   "outputs": [
    {
     "name": "stdout",
     "output_type": "stream",
     "text": [
      "false\n",
      "true\n"
     ]
    }
   ],
   "source": [
    "s = \"PPALLL\"\n",
    "consec_late = 0\n",
    "absences = 0\n",
    "for i in s:\n",
    "    if i == 'L':\n",
    "        consec_late += 1\n",
    "    elif i == 'A':\n",
    "        absences += 1\n",
    "        consec_late = 0\n",
    "    else:\n",
    "        consec_late = 0\n",
    "    if consec_late == 3:\n",
    "        print(\"false\")\n",
    "    if absences == 2:\n",
    "        print(\"false\")\n",
    "print(\"true\")"
   ]
  },
  {
   "cell_type": "code",
   "execution_count": 108,
   "metadata": {},
   "outputs": [
    {
     "data": {
      "text/plain": [
       "[2, 3]"
      ]
     },
     "execution_count": 108,
     "metadata": {},
     "output_type": "execute_result"
    }
   ],
   "source": [
    "nums = [1,2,2,4]\n",
    "tab = {i:0 for i in range(1, len(nums)+1)}\n",
    "out = [0,0]\n",
    "for i in nums:\n",
    "    tab[i] += 1\n",
    "for i in tab:\n",
    "    if tab[i] == 2:\n",
    "        out[0] = i\n",
    "    if tab[i] == 0:\n",
    "        out[1] = i\n",
    "\n",
    "out"
   ]
  },
  {
   "cell_type": "code",
   "execution_count": 109,
   "metadata": {},
   "outputs": [
    {
     "data": {
      "text/plain": [
       "2"
      ]
     },
     "execution_count": 109,
     "metadata": {},
     "output_type": "execute_result"
    }
   ],
   "source": [
    "candyType = [1,1,2,3]\n",
    "min(len(set(candyType)), int(len(candyType)/2))"
   ]
  },
  {
   "cell_type": "code",
   "execution_count": 110,
   "metadata": {},
   "outputs": [
    {
     "data": {
      "text/plain": [
       "[[-1, 0, 1], [-1, 2, -1]]"
      ]
     },
     "execution_count": 110,
     "metadata": {},
     "output_type": "execute_result"
    }
   ],
   "source": [
    "nums = [-1,0,1,2,-1,-4]\n",
    "# nums_set = list(set(nums))\n",
    "# print(\"set:\", list(set(nums)))\n",
    "out = []\n",
    "for i in range(len(nums)-1):\n",
    "    tab = {}\n",
    "    for j in range(i+1, len(nums)):\n",
    "        if nums[j] in tab:\n",
    "            if set([nums[i], tab[nums[j]], nums[j]]) not in [set(i) for i in out]:\n",
    "                out.append([nums[i], tab[nums[j]], nums[j]])\n",
    "        else:\n",
    "            tab[-nums[i]-nums[j]] = nums[j]\n",
    "\n",
    "out\n",
    "            # print(tab)\n",
    "# for i in range(len(set(nums))):\n",
    "#     tab = {}\n",
    "#     for j in range(i, len(set(nums))):\n",
    "#         if nums[j] in tab:\n",
    "#             print([nums[i], tab[nums[j]], j])\n",
    "#         else:\n",
    "#             tab[nums[i]-nums[j]] = j\n"
   ]
  },
  {
   "cell_type": "code",
   "execution_count": 111,
   "metadata": {},
   "outputs": [
    {
     "data": {
      "text/plain": [
       "{1, 2}"
      ]
     },
     "execution_count": 111,
     "metadata": {},
     "output_type": "execute_result"
    }
   ],
   "source": [
    "lst = []\n",
    "set([1,1,2])"
   ]
  },
  {
   "cell_type": "code",
   "execution_count": 112,
   "metadata": {},
   "outputs": [
    {
     "data": {
      "text/plain": [
       "{'happy': 1, 'sad': 1, 'good': 4}"
      ]
     },
     "execution_count": 112,
     "metadata": {},
     "output_type": "execute_result"
    }
   ],
   "source": [
    "list1 = [\"happy\",\"sad\",\"good\"]\n",
    "list2 = [\"sad\",\"happy\",\"good\"]\n",
    "tab = {}\n",
    "for i in range(len(list1)):\n",
    "    tab[list1[i]] = i\n",
    "for i in range(len(list2)):\n",
    "    tab[list2[i]] += i\n",
    "min_val = min(tab.values())\n",
    "[key for key in tab if tab[key] == min_val]\n",
    "tab"
   ]
  },
  {
   "cell_type": "code",
   "execution_count": 113,
   "metadata": {},
   "outputs": [
    {
     "data": {
      "text/plain": [
       "{'Shogun': 0}"
      ]
     },
     "execution_count": 113,
     "metadata": {},
     "output_type": "execute_result"
    }
   ],
   "source": [
    "list1 = [\"Shogun\",\"Tapioca Express\",\"Burger King\",\"KFC\"]\n",
    "list2 = [\"Piatti\",\"The Grill at Torrey Pines\",\"Hungry Hunter Steakhouse\",\"Shogun\"]\n",
    "{key:0 for key in list1 if key in list2}"
   ]
  },
  {
   "cell_type": "code",
   "execution_count": 114,
   "metadata": {},
   "outputs": [
    {
     "name": "stdout",
     "output_type": "stream",
     "text": [
      "2\n",
      "5\n",
      "1\n"
     ]
    },
    {
     "data": {
      "text/plain": [
       "'23321511'"
      ]
     },
     "execution_count": 114,
     "metadata": {},
     "output_type": "execute_result"
    }
   ],
   "source": [
    "s = \"3322251\"\n",
    "say = \"\"\n",
    "num = int(s[0])\n",
    "count = 0\n",
    "for i in s:\n",
    "    if num != int(i):\n",
    "        print(i)\n",
    "        say += str(count) + str(num)\n",
    "        num = int(i)\n",
    "        count = 1\n",
    "    else:\n",
    "        count += 1\n",
    "say += str(count) + str(num)\n",
    "say"
   ]
  },
  {
   "cell_type": "code",
   "execution_count": 115,
   "metadata": {},
   "outputs": [
    {
     "data": {
      "text/plain": [
       "()"
      ]
     },
     "execution_count": 115,
     "metadata": {},
     "output_type": "execute_result"
    }
   ],
   "source": [
    "tuple(map(sum, zip()))"
   ]
  },
  {
   "cell_type": "code",
   "execution_count": 116,
   "metadata": {},
   "outputs": [
    {
     "data": {
      "text/plain": [
       "((0, 0), (1, 0))"
      ]
     },
     "execution_count": 116,
     "metadata": {},
     "output_type": "execute_result"
    }
   ],
   "source": [
    "tuple(zip((0,1), (0,0)))"
   ]
  },
  {
   "cell_type": "code",
   "execution_count": 117,
   "metadata": {},
   "outputs": [
    {
     "data": {
      "text/plain": [
       "False"
      ]
     },
     "execution_count": 117,
     "metadata": {},
     "output_type": "execute_result"
    }
   ],
   "source": [
    "\"-2\".isnumeric()"
   ]
  },
  {
   "cell_type": "code",
   "execution_count": 118,
   "metadata": {},
   "outputs": [],
   "source": [
    "try:\n",
    "    int(\"-2\")\n",
    "except:\n",
    "    print(False)"
   ]
  },
  {
   "cell_type": "code",
   "execution_count": 119,
   "metadata": {},
   "outputs": [
    {
     "data": {
      "text/html": [
       "<div>\n",
       "<style scoped>\n",
       "    .dataframe tbody tr th:only-of-type {\n",
       "        vertical-align: middle;\n",
       "    }\n",
       "\n",
       "    .dataframe tbody tr th {\n",
       "        vertical-align: top;\n",
       "    }\n",
       "\n",
       "    .dataframe thead th {\n",
       "        text-align: right;\n",
       "    }\n",
       "</style>\n",
       "<table border=\"1\" class=\"dataframe\">\n",
       "  <thead>\n",
       "    <tr style=\"text-align: right;\">\n",
       "      <th></th>\n",
       "      <th>getNthHighestSalary(2)</th>\n",
       "    </tr>\n",
       "  </thead>\n",
       "  <tbody>\n",
       "    <tr>\n",
       "      <th>0</th>\n",
       "      <td>100</td>\n",
       "    </tr>\n",
       "  </tbody>\n",
       "</table>\n",
       "</div>"
      ],
      "text/plain": [
       "   getNthHighestSalary(2)\n",
       "0                     100"
      ]
     },
     "execution_count": 119,
     "metadata": {},
     "output_type": "execute_result"
    }
   ],
   "source": [
    "import pandas as pd\n",
    "N = 2\n",
    "data = [\n",
    "    {'id':1, 'name':'Joe', 'salary':100, 'managerId':3},\n",
    "    {'id':2, 'name':'Henry', 'salary':200, 'managerId':4},\n",
    "    {'id':3, 'name':'Sam', 'salary':100, 'managerId':None},\n",
    "    # {'id':4, 'name':'Max', 'salary':90000, 'managerId':None},\n",
    "]\n",
    "employee = pd.DataFrame(data=data)\n",
    "\n",
    "# employee.loc[employee['salery'] > 60000]\n",
    "# employee['managerId'].apply(lambda x: employee[x, 'id'] if x else None)\n",
    "# employee.loc[employee['id'] == employee['managerId']]\n",
    "# employee['managerId'].apply(lambda x: employee.loc[employee['id'] == x]['salery'] if x else None)\n",
    "# employee['managerId']\n",
    "# employee.loc[employee.loc[employee['id'] ]]\\\n",
    "# (employee['salary'].value_counts().sort_index(axis='index', ascending=False)).index[1]\n",
    "employee.drop_duplicates(subset=['salary'], inplace=True)\n",
    "pd.DataFrame(data=\n",
    "    {'getNthHighestSalary({})'.format(N):[None] if employee.shape[0] < N else [employee.sort_values(by='salary', ascending=False).iloc[N-1]['salary']]}\n",
    ")\n",
    "# [employee.sort_values(by='salary', ascending=False).iloc[N]['salary']]\n",
    "# employee.shape[0]\n",
    "# employee.sort_values(by='salary', ascending=False)['salary']"
   ]
  },
  {
   "cell_type": "code",
   "execution_count": 120,
   "metadata": {},
   "outputs": [
    {
     "data": {
      "text/html": [
       "<div>\n",
       "<style scoped>\n",
       "    .dataframe tbody tr th:only-of-type {\n",
       "        vertical-align: middle;\n",
       "    }\n",
       "\n",
       "    .dataframe tbody tr th {\n",
       "        vertical-align: top;\n",
       "    }\n",
       "\n",
       "    .dataframe thead th {\n",
       "        text-align: right;\n",
       "    }\n",
       "</style>\n",
       "<table border=\"1\" class=\"dataframe\">\n",
       "  <thead>\n",
       "    <tr style=\"text-align: right;\">\n",
       "      <th></th>\n",
       "      <th>Email</th>\n",
       "    </tr>\n",
       "  </thead>\n",
       "  <tbody>\n",
       "    <tr>\n",
       "      <th>0</th>\n",
       "      <td>a@b.com</td>\n",
       "    </tr>\n",
       "    <tr>\n",
       "      <th>1</th>\n",
       "      <td>a@b.com</td>\n",
       "    </tr>\n",
       "  </tbody>\n",
       "</table>\n",
       "</div>"
      ],
      "text/plain": [
       "     Email\n",
       "0  a@b.com\n",
       "1  a@b.com"
      ]
     },
     "execution_count": 120,
     "metadata": {},
     "output_type": "execute_result"
    }
   ],
   "source": [
    "person = {'id': [1,2,3], 'email':['a@b.com', 'a@b.com', 'a@b.com'] }\n",
    "# df = pd.DataFrame(data = pd.DataFrame(data=data)['email'].value_counts() > 1).rename_axis('Email').reset_index()\n",
    "# (df.loc[df['email']]['Email'])\n",
    "# pd.DataFrame(data=data)\n",
    "person = pd.DataFrame(data=person)\n",
    "person['duplicated'] = person['email'].duplicated()\n",
    "# person\n",
    "pd.DataFrame({'Email':person.loc[person['duplicated']]['email']}).reset_index().drop(['index'], axis=1)"
   ]
  },
  {
   "cell_type": "code",
   "execution_count": 121,
   "metadata": {},
   "outputs": [
    {
     "data": {
      "text/plain": [
       "ID\n",
       "11    None\n",
       "12    None\n",
       "13      AA\n",
       "14      BB\n",
       "Name: Buy_ID, dtype: object"
      ]
     },
     "execution_count": 121,
     "metadata": {},
     "output_type": "execute_result"
    }
   ],
   "source": [
    "# import pandas as pd\n",
    "# import numpy as np\n",
    "df = pd.DataFrame({'ID':[11,12,13,14],\n",
    "                   'Type':['buy','buy','sell','sell'],\n",
    "                   'Trigger':['AA','BB','---','---'],\n",
    "                   'Buy_ID':['---','---',11,12]}).set_index('ID')\n",
    "df['Buy_ID'].apply(lambda x: df.loc[x,'Trigger'] if x != '---' else None)\n",
    "# print (df)"
   ]
  },
  {
   "cell_type": "code",
   "execution_count": 122,
   "metadata": {},
   "outputs": [
    {
     "data": {
      "text/plain": [
       "2"
      ]
     },
     "execution_count": 122,
     "metadata": {},
     "output_type": "execute_result"
    }
   ],
   "source": [
    "jewels = \"aA\"\n",
    "tab = {jewel:1 for jewel in jewels}\n",
    "sum(tab.values())"
   ]
  },
  {
   "cell_type": "code",
   "execution_count": 123,
   "metadata": {},
   "outputs": [
    {
     "data": {
      "text/plain": [
       "-1"
      ]
     },
     "execution_count": 123,
     "metadata": {},
     "output_type": "execute_result"
    }
   ],
   "source": [
    "nums = [-1,0,3,5,9,12]\n",
    "n = len(nums)\n",
    "nums[:n//2][:3//2][1//2]"
   ]
  },
  {
   "cell_type": "code",
   "execution_count": 124,
   "metadata": {},
   "outputs": [
    {
     "data": {
      "text/plain": [
       "-1"
      ]
     },
     "execution_count": 124,
     "metadata": {},
     "output_type": "execute_result"
    }
   ],
   "source": [
    "class Solution:\n",
    "    def search(self, nums, target: int) -> int:\n",
    "        n = len(nums)\n",
    "        if n == 0:\n",
    "            return -1\n",
    "        if nums[n//2] == target:\n",
    "            return n//2\n",
    "        elif n == 1:\n",
    "            return -1\n",
    "        elif nums[n//2] > target:\n",
    "            return self.search(nums[:n//2], target)\n",
    "        elif nums[n//2] < target:\n",
    "            idx = self.search(nums[n//2+1:], target)\n",
    "            return 1 + n//2 + idx if idx != -1 else -1\n",
    "        \n",
    "nums = [-1,0,3,5,9,12]\n",
    "sol = Solution()\n",
    "sol.search(nums, 13)"
   ]
  },
  {
   "cell_type": "code",
   "execution_count": 125,
   "metadata": {},
   "outputs": [
    {
     "name": "stdout",
     "output_type": "stream",
     "text": [
      "['num6', 'num5', 'num4', 'num3', 'num2', 'num1']\n"
     ]
    }
   ],
   "source": [
    "my_dict = { 'num6': 6, 'num3': 3, 'num2': 2, 'num4': 4, 'num1': 1, 'num5': 5}\n",
    "sortedDict = sorted(my_dict, reverse=True)\n",
    "\n",
    "print(sortedDict)"
   ]
  },
  {
   "cell_type": "code",
   "execution_count": 126,
   "metadata": {},
   "outputs": [
    {
     "data": {
      "text/plain": [
       "0"
      ]
     },
     "execution_count": 126,
     "metadata": {},
     "output_type": "execute_result"
    }
   ],
   "source": [
    "ord(\"a\")-97"
   ]
  },
  {
   "cell_type": "code",
   "execution_count": 127,
   "metadata": {},
   "outputs": [
    {
     "data": {
      "text/plain": [
       "'3'"
      ]
     },
     "execution_count": 127,
     "metadata": {},
     "output_type": "execute_result"
    }
   ],
   "source": [
    "def to_int(c):\n",
    "    return ord(c)-48\n",
    "\n",
    "chr(to_int(\"3\")+48)"
   ]
  },
  {
   "cell_type": "code",
   "execution_count": 128,
   "metadata": {},
   "outputs": [
    {
     "data": {
      "text/plain": [
       "'456'"
      ]
     },
     "execution_count": 128,
     "metadata": {},
     "output_type": "execute_result"
    }
   ],
   "source": [
    "nums = \"0123456789\"\n",
    "num1 = \"123\"\n",
    "\n",
    "def to_number(s):\n",
    "    to_num = {nums[i]:i for i in range(10)}\n",
    "    number = 0\n",
    "    for num in s:\n",
    "        number = number*10 + to_num[num]\n",
    "\n",
    "    return number\n",
    "\n",
    "num = 456\n",
    "\n",
    "def to_string(num):\n",
    "    to_chr = {i:nums[i] for i in range(10)}\n",
    "    s = \"\"\n",
    "    while num:\n",
    "        s = to_chr[num % 10] + s\n",
    "        num = num // 10\n",
    "\n",
    "    return s\n",
    "\n",
    "to_string(num)\n"
   ]
  },
  {
   "cell_type": "code",
   "execution_count": 129,
   "metadata": {},
   "outputs": [
    {
     "data": {
      "text/plain": [
       "'bc'"
      ]
     },
     "execution_count": 129,
     "metadata": {},
     "output_type": "execute_result"
    }
   ],
   "source": [
    "s = \"abc\"\n",
    "i = 0\n",
    "s[i+1:]\n"
   ]
  },
  {
   "cell_type": "code",
   "execution_count": 130,
   "metadata": {},
   "outputs": [
    {
     "ename": "NameError",
     "evalue": "name 't' is not defined",
     "output_type": "error",
     "traceback": [
      "\u001b[1;31m---------------------------------------------------------------------------\u001b[0m",
      "\u001b[1;31mNameError\u001b[0m                                 Traceback (most recent call last)",
      "\u001b[1;32m<ipython-input-130-bccd22cdda89>\u001b[0m in \u001b[0;36m<module>\u001b[1;34m\u001b[0m\n\u001b[0;32m      1\u001b[0m \u001b[0ms\u001b[0m \u001b[1;33m=\u001b[0m \u001b[0ms\u001b[0m \u001b[1;33m+\u001b[0m \u001b[1;34m\"$\"\u001b[0m\u001b[1;33m\u001b[0m\u001b[1;33m\u001b[0m\u001b[0m\n\u001b[1;32m----> 2\u001b[1;33m \u001b[0mt\u001b[0m \u001b[1;33m=\u001b[0m \u001b[0mt\u001b[0m \u001b[1;33m+\u001b[0m \u001b[1;34m\"$\"\u001b[0m\u001b[1;33m\u001b[0m\u001b[1;33m\u001b[0m\u001b[0m\n\u001b[0m\u001b[0;32m      3\u001b[0m \u001b[0mi\u001b[0m \u001b[1;33m=\u001b[0m \u001b[1;36m0\u001b[0m\u001b[1;33m\u001b[0m\u001b[1;33m\u001b[0m\u001b[0m\n\u001b[0;32m      4\u001b[0m \u001b[1;32mwhile\u001b[0m \u001b[0ms\u001b[0m\u001b[1;33m[\u001b[0m\u001b[0mi\u001b[0m\u001b[1;33m]\u001b[0m \u001b[1;33m!=\u001b[0m \u001b[1;34m\"$\"\u001b[0m \u001b[1;32mand\u001b[0m \u001b[0mt\u001b[0m\u001b[1;33m[\u001b[0m\u001b[0mi\u001b[0m\u001b[1;33m]\u001b[0m \u001b[1;33m!=\u001b[0m \u001b[1;34m\"$\"\u001b[0m\u001b[1;33m:\u001b[0m\u001b[1;33m\u001b[0m\u001b[1;33m\u001b[0m\u001b[0m\n\u001b[0;32m      5\u001b[0m     \u001b[1;32mif\u001b[0m \u001b[0ms\u001b[0m\u001b[1;33m[\u001b[0m\u001b[0mi\u001b[0m\u001b[1;33m]\u001b[0m \u001b[1;33m==\u001b[0m \u001b[1;34m\"#\"\u001b[0m \u001b[1;32mand\u001b[0m \u001b[0mi\u001b[0m \u001b[1;33m==\u001b[0m \u001b[1;36m0\u001b[0m\u001b[1;33m:\u001b[0m\u001b[1;33m\u001b[0m\u001b[1;33m\u001b[0m\u001b[0m\n",
      "\u001b[1;31mNameError\u001b[0m: name 't' is not defined"
     ]
    }
   ],
   "source": [
    "s = s + \"$\"\n",
    "t = t + \"$\"\n",
    "i = 0\n",
    "while s[i] != \"$\" and t[i] != \"$\":\n",
    "    if s[i] == \"#\" and i == 0:\n",
    "        s = s[i+1:]\n",
    "    if t[i] == \"#\" and i == 0:\n",
    "        t = t[i+1:]\n",
    "    # print(s, t, i)\n",
    "    if s[i] == \"#\" and i == 1:\n",
    "        s = s[i+2:]\n",
    "    if t[i] == \"#\" and i == 1:\n",
    "        t = t[i+2:]\n",
    "    # print(s, t, i)\n",
    "    if s[i] == \"#\" and i > 1:\n",
    "        s = s[:i-1] + s[i+1:]\n",
    "    if t[i] == \"#\" and i > 1:\n",
    "        t = t[:i-1] + t[i+1:]\n",
    "    # if s[i] == \"$\":\n",
    "    #     break\n",
    "    if s[i] != \"#\" and t[i] != \"#\":\n",
    "        i += 1\n",
    "    # print(s, t, i)\n",
    "    print(s, t, i)\n",
    "    # t = t[i+1:]"
   ]
  },
  {
   "cell_type": "code",
   "execution_count": null,
   "metadata": {},
   "outputs": [],
   "source": [
    "for i, l in enumerate(s):\n",
    "            print(s)\n",
    "            if l != \"#\":\n",
    "                continue\n",
    "            elif i == 0:\n",
    "                s = s[1:] + \"&\"\n",
    "            elif i == 1:\n",
    "                s = s[2:] + \"^^\"\n",
    "            else:\n",
    "                s = s[:i-1] + s[i+1:] + \"$$\"\n",
    "        for i, l in enumerate(t):\n",
    "            if l != \"#\":\n",
    "                continue\n",
    "            elif i == 0:\n",
    "                t = t[1:] + \"&\"\n",
    "            elif i == 1:\n",
    "                t = t[2:] + \"^^\"\n",
    "            else:\n",
    "                t = t[:i-1] + t[i+1:] + \"$$\""
   ]
  },
  {
   "cell_type": "code",
   "execution_count": null,
   "metadata": {},
   "outputs": [],
   "source": [
    "for i in range(min(len(s), len(t))):\n",
    "            print(s, t)\n",
    "            if s[i] == \"$\" or t[i] == \"$\":\n",
    "                break\n",
    "            if s[i] == \"#\" and i == 0:\n",
    "                s = s[i:] + \"$$\"\n",
    "            if t[i] == \"#\" and i == 0:\n",
    "                t = t[i:] + \"$$\"\n",
    "            if s[i] == \"#\" and i == 1:\n",
    "                s = s[i+2:] + \"$$\"\n",
    "            if t[i] == \"#\" and i == 1:\n",
    "                t = t[i+2:] + \"$$\"\n",
    "            if s[i] == \"#\":\n",
    "                # print(\"hi\")\n",
    "                s = s[:i-2] + s[i:] + \"$$\"\n",
    "            if t[i] == \"#\":\n",
    "                t = t[:i-2] + t[i:] + \"$$\""
   ]
  },
  {
   "cell_type": "code",
   "execution_count": null,
   "metadata": {},
   "outputs": [
    {
     "data": {
      "text/plain": [
       "[3, 2, 1, 0, 1, 0, 0, 1, 2, 2, 1, 0]"
      ]
     },
     "execution_count": 14,
     "metadata": {},
     "output_type": "execute_result"
    }
   ],
   "source": [
    "s = \"loveleetcode\"\n",
    "c = \"e\"\n",
    "ans = []\n",
    "lst = []\n",
    "for i, l in enumerate(s):\n",
    "    if l == c:\n",
    "        lst.append(i)\n",
    "for i in range(lst[0]):\n",
    "    ans.append(lst[0]-i)\n",
    "for i in range(len(lst)-1):\n",
    "    for j in range(lst[i], lst[i+1]):\n",
    "        ans.append(min(abs(j-lst[i]), abs(j-lst[i+1])))\n",
    "for i in range(lst[-1], len(s)):\n",
    "    ans.append(i-lst[-1])\n",
    "ans\n",
    "    "
   ]
  },
  {
   "cell_type": "code",
   "execution_count": null,
   "metadata": {},
   "outputs": [
    {
     "data": {
      "text/plain": [
       "[[1, 4, 7], [2, 5, 8], [3, 6, 9]]"
      ]
     },
     "execution_count": 7,
     "metadata": {},
     "output_type": "execute_result"
    }
   ],
   "source": [
    "matrix = [[1,2,3],[4,5,6],[7,8,9]]\n",
    "ans = [[] for _ in range(len(matrix[0]))]\n",
    "for i in range(len(matrix[0])):\n",
    "    for j in range(len(matrix)):\n",
    "        ans[i].append(matrix[j][i])\n",
    "ans"
   ]
  },
  {
   "cell_type": "code",
   "execution_count": null,
   "metadata": {},
   "outputs": [
    {
     "data": {
      "text/plain": [
       "False"
      ]
     },
     "execution_count": 12,
     "metadata": {},
     "output_type": "execute_result"
    }
   ],
   "source": [
    "def isprime(n):\n",
    "    if n < 2:\n",
    "        return False\n",
    "    for i in range(2,n):\n",
    "        if n%i==0:\n",
    "            return False\n",
    "    return True\n",
    "\n",
    "isprime(1)"
   ]
  },
  {
   "cell_type": "code",
   "execution_count": null,
   "metadata": {},
   "outputs": [
    {
     "name": "stdout",
     "output_type": "stream",
     "text": [
      "50\n",
      "3\n"
     ]
    },
    {
     "data": {
      "text/plain": [
       "12.75"
      ]
     },
     "execution_count": 32,
     "metadata": {},
     "output_type": "execute_result"
    }
   ],
   "source": [
    "nums = [1,12,-5,-6,50,3]\n",
    "k = 4\n",
    "total = mx = sum(nums[:k])\n",
    "for i in range(len(nums)-k):\n",
    "    print(nums[i+k])\n",
    "    total = total - nums[i] + nums[i+k]\n",
    "    mx = max(mx, total)\n",
    "mx/k"
   ]
  },
  {
   "cell_type": "code",
   "execution_count": null,
   "metadata": {},
   "outputs": [
    {
     "data": {
      "text/plain": [
       "False"
      ]
     },
     "execution_count": 20,
     "metadata": {},
     "output_type": "execute_result"
    }
   ],
   "source": [
    "def is_self_dividing(n: int) -> bool:\n",
    "    num = n\n",
    "    while num > 0:\n",
    "        if num%10 == 0:\n",
    "            return False\n",
    "        if n % (num%10) != 0:\n",
    "            return False\n",
    "        num = num//10\n",
    "    return True\n",
    "\n",
    "is_self_dividing(21)"
   ]
  },
  {
   "cell_type": "code",
   "execution_count": null,
   "metadata": {},
   "outputs": [
    {
     "data": {
      "text/plain": [
       "1"
      ]
     },
     "execution_count": 4,
     "metadata": {},
     "output_type": "execute_result"
    }
   ],
   "source": [
    "nums = [1,7,3,6,5,6]\n",
    "nums[-6]"
   ]
  },
  {
   "cell_type": "code",
   "execution_count": null,
   "metadata": {},
   "outputs": [
    {
     "data": {
      "text/plain": [
       "[1024, 512, 256, 128, 64, 32, 16, 8, 4, 2, 1]"
      ]
     },
     "execution_count": 10,
     "metadata": {},
     "output_type": "execute_result"
    }
   ],
   "source": [
    "arr = [1024,512,256,128,64,32,16,8,4,2,1]\n",
    "sorted(arr, key=lambda x:bin(x).count(\"1\"))"
   ]
  },
  {
   "cell_type": "code",
   "execution_count": null,
   "metadata": {},
   "outputs": [
    {
     "name": "stdout",
     "output_type": "stream",
     "text": [
      "-5\n",
      "10\n"
     ]
    }
   ],
   "source": [
    "asteroids = [5, 10, -5]\n",
    "for i in range(len(asteroids)-1, 0, -1):\n",
    "    print(asteroids[i])"
   ]
  },
  {
   "cell_type": "code",
   "execution_count": null,
   "metadata": {},
   "outputs": [
    {
     "data": {
      "text/plain": [
       "[10]"
      ]
     },
     "execution_count": 44,
     "metadata": {},
     "output_type": "execute_result"
    }
   ],
   "source": [
    "asteroids = [10,2,-5]\n",
    "\n",
    "def collision(asteroids):\n",
    "    for i in range(len(asteroids)-1, 0, -1):\n",
    "        if abs(asteroids[i]) > abs(asteroids[i-1]):\n",
    "            asteroids = asteroids[:i-1] + asteroids[i:]\n",
    "        elif abs(asteroids[i]) < abs(asteroids[i-1]):\n",
    "            return asteroids[:i]\n",
    "        else:\n",
    "            return asteroids[:i-1]\n",
    "    return asteroids\n",
    "\n",
    "collision(asteroids)"
   ]
  },
  {
   "cell_type": "code",
   "execution_count": null,
   "metadata": {},
   "outputs": [
    {
     "name": "stdout",
     "output_type": "stream",
     "text": [
      "[-2, 1]\n",
      "1 -2\n",
      "[1]\n",
      "-2 -2\n",
      "[]\n",
      "-2 1\n"
     ]
    }
   ],
   "source": [
    "asteroids = [1,-2,-2,1]\n",
    "i = 1\n",
    "\n",
    "while i < len(asteroids):\n",
    "# for i in range(1, len(asteroids)):\n",
    "    print(asteroids[i+1:])\n",
    "    print(asteroids[i-1], asteroids[i])\n",
    "    i += 1"
   ]
  },
  {
   "cell_type": "code",
   "execution_count": null,
   "metadata": {},
   "outputs": [],
   "source": [
    "# fail...\n",
    "class Solution:\n",
    "    def asteroidCollision(self, asteroids: List[int]) -> List[int]:\n",
    "        def isCollision(a1: int, a2: int) -> bool:\n",
    "            if a1 > 0 and a2 < 0:\n",
    "                return True\n",
    "            else:\n",
    "                return False\n",
    "\n",
    "        def collision(asteroids):\n",
    "            for i in range(len(asteroids)-1, 0, -1):\n",
    "                if abs(asteroids[i]) > abs(asteroids[i-1]):\n",
    "                    asteroids = asteroids[:i-1] + asteroids[i:]\n",
    "                elif abs(asteroids[i]) < abs(asteroids[i-1]):\n",
    "                    return asteroids[:i]\n",
    "                else:\n",
    "                    return asteroids[:i-1]\n",
    "            return asteroids\n",
    "\n",
    "        \n",
    "        for i in range(1, len(asteroids)):\n",
    "            if isCollision(asteroids[i-1], asteroids[i]):\n",
    "                asteroids = collision(asteroids[:i+1]) + asteroids[i+1:]\n",
    "\n",
    "        return asteroids"
   ]
  },
  {
   "cell_type": "code",
   "execution_count": null,
   "metadata": {},
   "outputs": [
    {
     "data": {
      "text/plain": [
       "['this', 'apple', 'is', 'sweet', 'this', 'apple', 'is', 'sour']"
      ]
     },
     "execution_count": 43,
     "metadata": {},
     "output_type": "execute_result"
    }
   ],
   "source": [
    "s1 = \"this apple is sweet\"\n",
    "s2 = \"this apple is sour\"\n",
    "[word for word in s1.split()+s2.split() if s1.split().count(word) < 2 and s2.split().count(word) < 2]"
   ]
  },
  {
   "cell_type": "code",
   "execution_count": null,
   "metadata": {},
   "outputs": [],
   "source": [
    "s = \"abbcccaa\""
   ]
  },
  {
   "cell_type": "code",
   "execution_count": null,
   "metadata": {},
   "outputs": [
    {
     "name": "stdout",
     "output_type": "stream",
     "text": [
      "a 1\n",
      "b 2\n",
      "c 3\n",
      "a 2\n"
     ]
    }
   ],
   "source": [
    "from itertools import groupby\n",
    "\n",
    "for key, group in groupby(s):\n",
    "    print(key, len(list(group)))"
   ]
  },
  {
   "cell_type": "code",
   "execution_count": null,
   "metadata": {},
   "outputs": [
    {
     "name": "stdout",
     "output_type": "stream",
     "text": [
      "a\n",
      "b\n",
      "c\n"
     ]
    }
   ],
   "source": [
    "from collections import Counter\n",
    "\n",
    "for key in Counter(s):\n",
    "    print(key)"
   ]
  },
  {
   "cell_type": "code",
   "execution_count": null,
   "metadata": {},
   "outputs": [
    {
     "data": {
      "text/plain": [
       "3"
      ]
     },
     "execution_count": 12,
     "metadata": {},
     "output_type": "execute_result"
    }
   ],
   "source": [
    "lst = [1,2,3]\n",
    "lst[-1]"
   ]
  },
  {
   "cell_type": "code",
   "execution_count": null,
   "metadata": {},
   "outputs": [
    {
     "data": {
      "text/plain": [
       "True"
      ]
     },
     "execution_count": 1,
     "metadata": {},
     "output_type": "execute_result"
    }
   ],
   "source": [
    "tab = {'s': 2, 'p': 1, 't': 1}\n",
    "word = \"steps\"\n",
    "is_completing = True\n",
    "for l in tab:\n",
    "    is_completing = is_completing and word.count(l) >= tab[l]\n",
    "is_completing"
   ]
  },
  {
   "cell_type": "code",
   "execution_count": null,
   "metadata": {},
   "outputs": [
    {
     "data": {
      "text/plain": [
       "{'a', 'e', 'i', 'o', 'u'}"
      ]
     },
     "execution_count": 1,
     "metadata": {},
     "output_type": "execute_result"
    }
   ],
   "source": [
    "set(\"aeiou\")"
   ]
  },
  {
   "cell_type": "code",
   "execution_count": null,
   "metadata": {},
   "outputs": [
    {
     "data": {
      "text/plain": [
       "[1, 2, 3, 4, 5, 6]"
      ]
     },
     "execution_count": 28,
     "metadata": {},
     "output_type": "execute_result"
    }
   ],
   "source": [
    "arr = [6, 5, 4, 3, 2, 1]\n",
    "# arr = [4, 5, 6, 1, 2, 3]\n",
    "def sort(arr):\n",
    "    if len(arr) == 1:\n",
    "        return arr\n",
    "\n",
    "    left = sort(arr[:len(arr)>>1])\n",
    "    right = sort(arr[len(arr)>>1:])\n",
    "\n",
    "    i = j = k = 0\n",
    "    while i < len(left) and j < len(right):\n",
    "        if left[i] <= right[j]:\n",
    "            arr[k] = left[i]\n",
    "            i += 1\n",
    "            k += 1\n",
    "        else:\n",
    "            arr[k] = right[j]\n",
    "            j += 1\n",
    "            k += 1\n",
    "        \n",
    "        if i == len(left):\n",
    "            arr[k:] = right[j:]\n",
    "        elif j == len(right):\n",
    "            arr[k:] = left[i:]\n",
    "\n",
    "    return arr\n",
    "\n",
    "sort(arr)"
   ]
  },
  {
   "cell_type": "code",
   "execution_count": null,
   "metadata": {},
   "outputs": [
    {
     "data": {
      "text/plain": [
       "{209: 10000, 10000: 1, 1: 0}"
      ]
     },
     "execution_count": 33,
     "metadata": {},
     "output_type": "execute_result"
    }
   ],
   "source": [
    "d = {209: 10000, 10000: 1, 1: 1}\n",
    "d[min(d.keys())] -= 1\n",
    "d"
   ]
  },
  {
   "cell_type": "code",
   "execution_count": null,
   "metadata": {},
   "outputs": [
    {
     "data": {
      "text/plain": [
       "1"
      ]
     },
     "execution_count": 23,
     "metadata": {},
     "output_type": "execute_result"
    }
   ],
   "source": [
    "# matrix = [[1,2,3,4],[5,1,2,3],[9,5,1,2]]\n",
    "# matrix = [[11,74,0,93],[40,11,74,7]]\n",
    "matrix = [[97,97],[80,6],[10,79]]\n",
    "for off in range(len(matrix[0])-len(matrix)+1):\n",
    "    idx = 0\n",
    "    for row in matrix:\n",
    "        print(row[idx+off])\n",
    "        idx += 1\n",
    "len(matrix[0])-len(matrix)+1 or len(matrix)-len(matrix[0])"
   ]
  },
  {
   "cell_type": "code",
   "execution_count": null,
   "metadata": {},
   "outputs": [
    {
     "data": {
      "text/plain": [
       "[[9], [5, 5], [1, 1, 1], [2, 2, 2], [3, 3], [4]]"
      ]
     },
     "execution_count": 66,
     "metadata": {},
     "output_type": "execute_result"
    }
   ],
   "source": [
    "matrix = [[1,2,3,4],[5,1,2,3],[9,5,1,2]]\n",
    "# matrix = [[1,5,9],[2,1,5],[3,2,1],[4,3,2]]\n",
    "# matrix = [[1,2,3],[4,5,6],[7,8,9],[10,11,12]]\n",
    "\n",
    "n = len(matrix[0])\n",
    "m = len(matrix)\n",
    "max_diag = -m + 1\n",
    "\n",
    "diags = [[] for _ in range(m+n-1)]\n",
    "for x in range(n):\n",
    "    for y in range(m):\n",
    "        diags[x-y-max_diag].append(matrix[y][x])\n",
    "diags"
   ]
  },
  {
   "cell_type": "code",
   "execution_count": null,
   "metadata": {},
   "outputs": [
    {
     "data": {
      "text/plain": [
       "'101'"
      ]
     },
     "execution_count": 82,
     "metadata": {},
     "output_type": "execute_result"
    }
   ],
   "source": [
    "bin(int(\"1\", 2) ^ int(\"10\", 2))\n",
    "\n",
    "nums = [\"111\",\"011\",\"001\"]\n",
    "nums = [int(num, 2) for num in nums]\n",
    "ans = 0\n",
    "for i in nums:\n",
    "    ans = ans ^ i\n",
    "bin(ans)[2:]"
   ]
  },
  {
   "cell_type": "code",
   "execution_count": null,
   "metadata": {},
   "outputs": [
    {
     "data": {
      "text/plain": [
       "'000'"
      ]
     },
     "execution_count": 102,
     "metadata": {},
     "output_type": "execute_result"
    }
   ],
   "source": [
    "nums = [\"111\",\"011\",\"001\"]\n",
    "s = set(int(num, 2) for num in nums)\n",
    "ans = 0\n",
    "for i in range(2**len(nums[0])):\n",
    "    if ans in s:\n",
    "        ans += 1\n",
    "\n",
    "bin(ans)[2:] if len(bin(ans)[2:]) == len(nums[0]) else (\"0\" * (len(nums[0]) - len(bin(ans)[2:]))) + bin(ans)[2:]\n"
   ]
  },
  {
   "cell_type": "code",
   "execution_count": null,
   "metadata": {},
   "outputs": [
    {
     "data": {
      "text/plain": [
       "{'Bob': 1,\n",
       " 'hit': 2,\n",
       " 'a': 1,\n",
       " 'ball,': 1,\n",
       " 'the': 1,\n",
       " 'BALL': 1,\n",
       " 'flew': 1,\n",
       " 'far': 1,\n",
       " 'after': 1,\n",
       " 'it': 1,\n",
       " 'was': 1,\n",
       " 'hit.': 1}"
      ]
     },
     "execution_count": 13,
     "metadata": {},
     "output_type": "execute_result"
    }
   ],
   "source": [
    "from collections import Counter\n",
    "paragraph = \"Bob hit a ball, the hit BALL flew far after it was hit.\"\n",
    "dict(Counter(paragraph.split()))"
   ]
  },
  {
   "cell_type": "code",
   "execution_count": null,
   "metadata": {},
   "outputs": [
    {
     "data": {
      "text/plain": [
       "[{'a': 1, 'b': 2}, {'c': 3, 'd': 4}, {'d': 5, 'f': 6}]"
      ]
     },
     "execution_count": 26,
     "metadata": {},
     "output_type": "execute_result"
    }
   ],
   "source": [
    "from collections import ChainMap\n",
    "\n",
    "d1 = {'a': 1, 'b': 2} \n",
    "d2 = {'c': 3, 'd': 4} \n",
    "d3 = {'d': 5, 'f': 6} \n",
    "  \n",
    "# Defining the chainmap  \n",
    "ChainMap(d1, d2, d3).maps"
   ]
  },
  {
   "cell_type": "code",
   "execution_count": null,
   "metadata": {},
   "outputs": [
    {
     "data": {
      "text/plain": [
       "'12'"
      ]
     },
     "execution_count": 13,
     "metadata": {},
     "output_type": "execute_result"
    }
   ],
   "source": [
    "s = \"12+34+\"\n",
    "i = 0\n",
    "num = \"\"\n",
    "while i < len(s) and s[i].isnumeric():\n",
    "    num += s[i]\n",
    "    i += 1\n",
    "num"
   ]
  },
  {
   "cell_type": "code",
   "execution_count": null,
   "metadata": {},
   "outputs": [
    {
     "data": {
      "text/plain": [
       "'12345'"
      ]
     },
     "execution_count": 5,
     "metadata": {},
     "output_type": "execute_result"
    }
   ],
   "source": [
    "from collections import namedtuple \n",
    "\n",
    "Employee = namedtuple('Employee',['name','id'])\n",
    "\n",
    "e1 = Employee('Jack', '12345')\n",
    "\n",
    "e1[1]"
   ]
  },
  {
   "cell_type": "code",
   "execution_count": null,
   "metadata": {},
   "outputs": [],
   "source": [
    "class Solution:\n",
    "    def calculate(self, s: str) -> int:\n",
    "        from collections import deque\n",
    "        stack = []\n",
    "        q = deque()\n",
    "        total = 0\n",
    "        num = \"\"\n",
    "\n",
    "        i = 0\n",
    "        while i < len(s):\n",
    "            if s[i].isnumeric():\n",
    "                while i < len(s) and s[i].isnumeric():\n",
    "                    num += s[i]\n",
    "                    i += 1\n",
    "                q.append(int(num))\n",
    "                num = \"\"\n",
    "            elif s[i] == \" \":\n",
    "                i += 1\n",
    "            elif s[i] == \")\":\n",
    "                while stack[-1] != \"(\":\n",
    "                    curr = stack.pop()\n",
    "                    q.append(curr)\n",
    "                stack.pop()\n",
    "                i += 1\n",
    "            elif s[i] == \"+\":\n",
    "                while stack and stack[-1] == \"-\":\n",
    "                    curr = stack.pop()\n",
    "                    q.append(curr)\n",
    "                stack.append(s[i])\n",
    "                i += 1\n",
    "            else:\n",
    "                stack.append(s[i])\n",
    "                i += 1\n",
    "\n",
    "\n",
    "        while stack:\n",
    "            curr = stack.pop()\n",
    "            q.append(curr)\n",
    "        # print(stack)\n",
    "        # print(list(q))\n",
    "\n",
    "        while q:\n",
    "            curr = q.popleft()\n",
    "            if curr == \"+\":\n",
    "                first = stack.pop()\n",
    "                second = stack.pop()\n",
    "                stack.append(first+second)\n",
    "            elif curr == \"-\" and len(stack) > 1:\n",
    "                first = -stack.pop()\n",
    "                second = stack.pop()\n",
    "                stack.append(second+first)\n",
    "            elif curr == \"-\":\n",
    "                first = -stack.pop()\n",
    "                stack.append(first)\n",
    "            else:\n",
    "                stack.append(curr)\n",
    "        print(stack)\n",
    "        return stack.pop()"
   ]
  },
  {
   "cell_type": "code",
   "execution_count": null,
   "metadata": {},
   "outputs": [],
   "source": [
    "class Solution:\n",
    "    def calculate(self, s: str) -> int:\n",
    "        from collections import deque\n",
    "        stack = []\n",
    "        q = deque()\n",
    "        total = 0\n",
    "        num = \"\"\n",
    "\n",
    "        i = 0\n",
    "        while i < len(s):\n",
    "            if s[i].isnumeric():\n",
    "                while i < len(s) and s[i].isnumeric():\n",
    "                    num += s[i]\n",
    "                    i += 1\n",
    "                q.append(int(num))\n",
    "                num = \"\"\n",
    "            elif s[i] == \" \":\n",
    "                i += 1\n",
    "            elif s[i] == \"(\":\n",
    "                j = i\n",
    "                while j < len(s) and s[j] != \")\":\n",
    "                    j += 1\n",
    "                q.append(self.calculate(s[i+1:j]))\n",
    "                while i < len(s) and s[i] != \")\":\n",
    "                    i += 1\n",
    "                i += 1\n",
    "            elif s[i] == \")\":\n",
    "                i += 1\n",
    "            elif s[i] == \"+\":\n",
    "                while stack and stack[-1] == \"-\":\n",
    "                    curr = stack.pop()\n",
    "                    q.append(curr)\n",
    "                stack.append(s[i])\n",
    "                i += 1\n",
    "            else:\n",
    "                stack.append(s[i])\n",
    "                i += 1\n",
    "        # print(stack)\n",
    "\n",
    "\n",
    "        while stack:\n",
    "            curr = stack.pop()\n",
    "            # print(curr)\n",
    "            q.append(curr)\n",
    "\n",
    "        print(q)\n",
    "        while q:\n",
    "            curr = q.popleft()\n",
    "            if curr == \"+\":\n",
    "                first = stack.pop()\n",
    "                second = stack.pop()\n",
    "                stack.append(first+second)\n",
    "            elif curr == \"-\" and len(stack) > 1:\n",
    "                first = -stack.pop()\n",
    "                second = stack.pop()\n",
    "                stack.append(second+first)\n",
    "            elif curr == \"-\":\n",
    "                first = -stack.pop()\n",
    "                stack.append(first)\n",
    "            else:\n",
    "                stack.append(curr)\n",
    "        # print(stack)\n",
    "        return stack.pop()"
   ]
  },
  {
   "cell_type": "code",
   "execution_count": null,
   "metadata": {},
   "outputs": [
    {
     "data": {
      "text/plain": [
       "0"
      ]
     },
     "execution_count": 13,
     "metadata": {},
     "output_type": "execute_result"
    }
   ],
   "source": [
    "class Solution:\n",
    "    def calculate(self, s: str) -> int:\n",
    "        # print(s)\n",
    "        stack = []\n",
    "        i = num = 0\n",
    "        sign = 1\n",
    "\n",
    "        while i < len(s):\n",
    "            if s[i].isdigit():\n",
    "                num = sign * (num * 10 + int(s[i])) if num >= 0 else sign * (num * 10 - int(s[i]))\n",
    "                sign = 1\n",
    "            elif s[i] == \" \":\n",
    "                pass\n",
    "            elif s[i] == \"(\":\n",
    "                if num:\n",
    "                    stack.append(num)\n",
    "                j = i+1\n",
    "                count = 1\n",
    "                while j < len(s) and count >= 1:\n",
    "                    if s[j] == \"(\":\n",
    "                        count += 1\n",
    "                    if s[j] == \")\":\n",
    "                        count -= 1\n",
    "                    j += 1\n",
    "                stack.append(sign * self.calculate(s[i+1:j-1]))\n",
    "                sign = 1\n",
    "                i = j-1\n",
    "            elif s[i] == \")\":\n",
    "                pass\n",
    "            elif s[i] == \"-\":\n",
    "                stack.append(num)\n",
    "                num = 0\n",
    "                sign = -1\n",
    "            else:\n",
    "                stack.append(num)\n",
    "                num = 0\n",
    "            \n",
    "            i += 1\n",
    "\n",
    "        stack.append(num)\n",
    "\n",
    "        # print(stack)\n",
    "\n",
    "        return sum(stack)\n"
   ]
  },
  {
   "cell_type": "code",
   "execution_count": null,
   "metadata": {},
   "outputs": [
    {
     "data": {
      "text/plain": [
       "6"
      ]
     },
     "execution_count": 3,
     "metadata": {},
     "output_type": "execute_result"
    }
   ],
   "source": [
    "arr = [2, 8, 1, 3, 6, 7, 5, 4]\n",
    "arr = [8, 7, 6, 1, 0, 9, 2]"
   ]
  },
  {
   "cell_type": "code",
   "execution_count": null,
   "metadata": {},
   "outputs": [
    {
     "data": {
      "text/plain": [
       "[-1]"
      ]
     },
     "execution_count": 1,
     "metadata": {},
     "output_type": "execute_result"
    }
   ],
   "source": [
    "import heapq\n",
    "stones = [2,7,4,1,8,1]\n",
    "stones = [-stone for stone in stones]\n",
    "heapq.heapify(stones)\n",
    "while len(stones) > 1:\n",
    "    y = -heapq.heappop(stones)\n",
    "    x = -heapq.heappop(stones)\n",
    "    heapq.heappush(stones, -(y-x))\n",
    "stones"
   ]
  },
  {
   "cell_type": "code",
   "execution_count": null,
   "metadata": {},
   "outputs": [
    {
     "data": {
      "text/plain": [
       "[1, 2, 3, 4, 5, 6, 7, 8]"
      ]
     },
     "execution_count": 12,
     "metadata": {},
     "output_type": "execute_result"
    }
   ],
   "source": [
    "arr = [2, 8, 1, 3, 6, 7, 5, 4]\n",
    "def quicksort(arr):\n",
    "    def partition(arr):\n",
    "        pivot = len(arr) -1\n",
    "        part_idx = -1\n",
    "        i = 0\n",
    "        while i < pivot:\n",
    "            if arr[i] > arr[pivot] and part_idx < 0:\n",
    "                part_idx = i\n",
    "            elif arr[i] < arr[pivot] and part_idx >= 0:\n",
    "                arr[i], arr[part_idx] = arr[part_idx], arr[i]\n",
    "                part_idx += 1\n",
    "                \n",
    "            i += 1\n",
    "\n",
    "        arr[part_idx], arr[pivot] = arr[pivot], arr[part_idx]\n",
    "        return part_idx\n",
    "    \n",
    "    if len(arr) <= 1:\n",
    "        return arr\n",
    "    \n",
    "    part_idx = partition(arr)\n",
    "\n",
    "    return quicksort(arr[:part_idx]) + quicksort(arr[part_idx:])\n",
    "\n",
    "quicksort(arr)"
   ]
  },
  {
   "cell_type": "code",
   "execution_count": null,
   "metadata": {},
   "outputs": [
    {
     "data": {
      "text/plain": [
       "'Qedo1ct-eeLg=ntse-T!'"
      ]
     },
     "execution_count": 83,
     "metadata": {},
     "output_type": "execute_result"
    }
   ],
   "source": [
    "s = \"Test1ng-Leet=code-Q!\"\n",
    "lst = ['' for _ in s]\n",
    "alph = \"\"\n",
    "\n",
    "\n",
    "for i in range(len(s)):\n",
    "    if not s[i].isalpha():\n",
    "        lst[i] = s[i]\n",
    "    else:\n",
    "        alph += s[i]\n",
    "\n",
    "alph = alph[::-1]\n",
    "\n",
    "i = j = 0\n",
    "while i < len(lst):\n",
    "    # print(lst[i])\n",
    "    if lst[i] == '':\n",
    "        lst[i] = alph[j]\n",
    "        j += 1\n",
    "    i += 1\n",
    "\n",
    "\"\".join(lst)"
   ]
  },
  {
   "cell_type": "code",
   "execution_count": null,
   "metadata": {},
   "outputs": [
    {
     "data": {
      "text/plain": [
       "136006598"
      ]
     },
     "execution_count": 141,
     "metadata": {},
     "output_type": "execute_result"
    }
   ],
   "source": [
    "n = 3131\n",
    "moves = {0:[4,6], 1:[6,8], 2:[7,9], 3:[4,8], 4:[0,3,9], 5:[], 6:[0,1,7], 7:[2,6], 8:[1,3], 9:[2,4]}\n",
    "counts = [0 for _ in range(10)]\n",
    "for i in range(10):\n",
    "    for j in moves[i]:\n",
    "        counts[j] += 1\n",
    "for _ in range(2, n):\n",
    "    counts2 = [0 for _ in range(10)]\n",
    "    for i in range(10):\n",
    "        for j in moves[i]:\n",
    "            counts2[j] += 1*counts[i]\n",
    "    counts = counts2\n",
    "sum(counts)%(10**9+7)\n",
    "# counts"
   ]
  },
  {
   "cell_type": "code",
   "execution_count": null,
   "metadata": {},
   "outputs": [
    {
     "data": {
      "text/plain": [
       "'Q....'"
      ]
     },
     "execution_count": 5,
     "metadata": {},
     "output_type": "execute_result"
    }
   ],
   "source": [
    "def queenrow(col, n=n):\n",
    "    return ''.join(['Q' if i == col else '.' for i in range(n)])\n",
    "\n",
    "n = 5\n",
    "col = 0\n",
    "queenrow(col, n)"
   ]
  },
  {
   "cell_type": "code",
   "execution_count": null,
   "metadata": {},
   "outputs": [
    {
     "data": {
      "text/plain": [
       "0"
      ]
     },
     "execution_count": 11,
     "metadata": {},
     "output_type": "execute_result"
    }
   ],
   "source": [
    "7^(2**3-1)"
   ]
  },
  {
   "cell_type": "code",
   "execution_count": null,
   "metadata": {},
   "outputs": [
    {
     "data": {
      "text/plain": [
       "0"
      ]
     },
     "execution_count": 1,
     "metadata": {},
     "output_type": "execute_result"
    }
   ],
   "source": [
    "from math import log\n",
    "\n",
    "n=1\n",
    "n^(2**int(log(n,2)+1)-1)"
   ]
  },
  {
   "cell_type": "code",
   "execution_count": null,
   "metadata": {},
   "outputs": [
    {
     "data": {
      "text/plain": [
       "[1, 2, 3, 4, 5, 6, 7, 8]"
      ]
     },
     "execution_count": 46,
     "metadata": {},
     "output_type": "execute_result"
    }
   ],
   "source": [
    "arr = [2, 8, 1, 3, 6, 7, 5, 4]\n",
    "# arr = [8, 7, 6, 1, 0, 9, 2]\n",
    "\n",
    "def bubblesort(arr):\n",
    "    for j in range(len(arr)):\n",
    "        for i in range(len(arr)-j-1):\n",
    "            if arr[i] > arr[i+1]:\n",
    "                arr[i], arr[i+1] = arr[i+1], arr[i]\n",
    "\n",
    "    return arr\n",
    "\n",
    "bubblesort(arr)"
   ]
  },
  {
   "cell_type": "code",
   "execution_count": null,
   "metadata": {},
   "outputs": [
    {
     "name": "stdout",
     "output_type": "stream",
     "text": [
      "John(36)\n",
      "Hello my name is John\n"
     ]
    }
   ],
   "source": [
    "class Person:\n",
    "    def __init__(self, name, age):\n",
    "        self.name = name\n",
    "        self.age = age\n",
    "\n",
    "    def myfunc(self):\n",
    "        print(f\"Hello my name is {self.name}\")\n",
    "\n",
    "    def __str__(self):\n",
    "        return f\"{self.name}({self.age})\"\n",
    "\n",
    "p1 = Person(\"John\", 36)\n",
    "\n",
    "print(p1)\n",
    "p1.myfunc()"
   ]
  },
  {
   "cell_type": "code",
   "execution_count": null,
   "metadata": {},
   "outputs": [
    {
     "data": {
      "text/plain": [
       "['.', 'p', 'R', '.', '.', 'p', '.', '.']"
      ]
     },
     "execution_count": 4,
     "metadata": {},
     "output_type": "execute_result"
    }
   ],
   "source": [
    "board = [[\".\",\".\",\".\",\".\",\".\",\".\",\".\",\".\"],[\".\",\".\",\".\",\"p\",\".\",\".\",\".\",\".\"],[\".\",\".\",\".\",\"R\",\".\",\".\",\".\",\"p\"],[\".\",\".\",\".\",\".\",\".\",\".\",\".\",\".\"],[\".\",\".\",\".\",\".\",\".\",\".\",\".\",\".\"],[\".\",\".\",\".\",\"p\",\".\",\".\",\".\",\".\"],[\".\",\".\",\".\",\".\",\".\",\".\",\".\",\".\"],[\".\",\".\",\".\",\".\",\".\",\".\",\".\",\".\"]]\n",
    "[board[k][3] for k in range(8)]"
   ]
  },
  {
   "cell_type": "code",
   "execution_count": null,
   "metadata": {},
   "outputs": [
    {
     "data": {
      "text/plain": [
       "[3, 2, 1]"
      ]
     },
     "execution_count": 4,
     "metadata": {},
     "output_type": "execute_result"
    }
   ],
   "source": [
    "def numtodigit(num):\n",
    "    while num:\n",
    "        yield num % 10\n",
    "        num = num // 10\n",
    "\n",
    "x = numtodigit(123)\n",
    "\n",
    "[num for num in x]"
   ]
  },
  {
   "cell_type": "code",
   "execution_count": null,
   "metadata": {},
   "outputs": [
    {
     "data": {
      "text/plain": [
       "[2, 3]"
      ]
     },
     "execution_count": 43,
     "metadata": {},
     "output_type": "execute_result"
    }
   ],
   "source": [
    "num = [0]\n",
    "k = 23\n",
    "\n",
    "num = num[::-1]\n",
    "numk = [n for n in numtodigit(k)]\n",
    "ans = []\n",
    "carry = 0\n",
    "for i in range(max(len(num), len(numk))):\n",
    "    if i < len(num) and i < len(numk):\n",
    "        digit = num[i]+numk[i]+carry\n",
    "    elif i < len(num):\n",
    "        digit = num[i]+carry\n",
    "    else:\n",
    "        digit = numk[i]+carry\n",
    "    ans = [digit%10] + ans\n",
    "    carry = digit//10\n",
    "if carry:\n",
    "    ans = [carry] + ans\n",
    "ans"
   ]
  },
  {
   "cell_type": "code",
   "execution_count": null,
   "metadata": {},
   "outputs": [
    {
     "data": {
      "text/plain": [
       "[0, 0, 1]"
      ]
     },
     "execution_count": 11,
     "metadata": {},
     "output_type": "execute_result"
    }
   ],
   "source": [
    "date1 = [int(x) for x in \"2019-06-29\".split(\"-\")]\n",
    "date2 = [int(x) for x in \"2019-06-30\".split(\"-\")]\n",
    "[date2[i]-date1[i] for i in range(len(date1))]"
   ]
  },
  {
   "cell_type": "code",
   "execution_count": null,
   "metadata": {},
   "outputs": [
    {
     "data": {
      "text/plain": [
       "20"
      ]
     },
     "execution_count": 3,
     "metadata": {},
     "output_type": "execute_result"
    }
   ],
   "source": [
    "arr = [1,2,2,2,2,2,2,2,2,2,2,2,2,2,2,2,2,2,2,3]\n",
    "len(arr)"
   ]
  },
  {
   "cell_type": "code",
   "execution_count": null,
   "metadata": {},
   "outputs": [
    {
     "data": {
      "text/plain": [
       "[4, 5, 6]"
      ]
     },
     "execution_count": 1,
     "metadata": {},
     "output_type": "execute_result"
    }
   ],
   "source": [
    "nums = [4,5,6,7,0,1,2]\n",
    "nums[:len(nums)//2]"
   ]
  },
  {
   "cell_type": "code",
   "execution_count": null,
   "metadata": {},
   "outputs": [
    {
     "data": {
      "text/plain": [
       "[7, 0, 1, 2]"
      ]
     },
     "execution_count": 2,
     "metadata": {},
     "output_type": "execute_result"
    }
   ],
   "source": [
    "nums[len(nums)//2:]"
   ]
  },
  {
   "cell_type": "code",
   "execution_count": null,
   "metadata": {},
   "outputs": [
    {
     "data": {
      "text/plain": [
       "15"
      ]
     },
     "execution_count": 3,
     "metadata": {},
     "output_type": "execute_result"
    }
   ],
   "source": [
    "n = 234\n",
    "sm = 0\n",
    "pr = 1\n",
    "while n > 0:\n",
    "    sm += n%10\n",
    "    pr *= n%10\n",
    "    n = n//10\n",
    "\n",
    "pr - sm"
   ]
  },
  {
   "cell_type": "code",
   "execution_count": null,
   "metadata": {},
   "outputs": [
    {
     "name": "stdout",
     "output_type": "stream",
     "text": [
      "3 4\n"
     ]
    }
   ],
   "source": [
    "matrix = [[1,3,5,7],[10,11,16,20],[23,30,34,60]]\n",
    "m = len(matrix)\n",
    "n = len(matrix[0])\n",
    "# i = 5\n",
    "# matrix[i//m][i%n]\n",
    "print(m,n)"
   ]
  },
  {
   "cell_type": "code",
   "execution_count": null,
   "metadata": {},
   "outputs": [],
   "source": [
    "def matrix_idx(idx, matrix):\n",
    "    n = len(matrix[0])\n",
    "    return idx//n, idx%n\n",
    "\n",
    "def flat_matrix(idx, matrix):\n",
    "    n = len(matrix[0])\n",
    "    return matrix[idx//n][idx%n]\n"
   ]
  },
  {
   "cell_type": "code",
   "execution_count": null,
   "metadata": {},
   "outputs": [
    {
     "data": {
      "text/plain": [
       "[1, 3, 5, 7, 10, 11, 16, 20, 23, 30, 34, 60]"
      ]
     },
     "execution_count": 3,
     "metadata": {},
     "output_type": "execute_result"
    }
   ],
   "source": [
    "matrix = [[1,3,5,7],[10,11,16,20],[23,30,34,60]]\n",
    "m = len(matrix)\n",
    "n = len(matrix[0])\n",
    "N = m*n\n",
    "arr = []\n",
    "\n",
    "for i in range(N):\n",
    "    arr.append(flat_matrix(i, matrix))\n",
    "\n",
    "arr"
   ]
  },
  {
   "cell_type": "code",
   "execution_count": null,
   "metadata": {},
   "outputs": [
    {
     "data": {
      "text/plain": [
       "16"
      ]
     },
     "execution_count": 28,
     "metadata": {},
     "output_type": "execute_result"
    }
   ],
   "source": [
    "high = N\n",
    "low = 0\n",
    "\n",
    "# while low < high:\n",
    "    "
   ]
  },
  {
   "cell_type": "code",
   "execution_count": null,
   "metadata": {},
   "outputs": [
    {
     "name": "stdout",
     "output_type": "stream",
     "text": [
      "[1, 3, 5, 7, 10, 11, 16, 20, 20, 30, 34, 60]\n",
      "[20, 20, 30, 34, 60]\n",
      "[20, 20]\n"
     ]
    },
    {
     "data": {
      "text/plain": [
       "8"
      ]
     },
     "execution_count": 29,
     "metadata": {},
     "output_type": "execute_result"
    }
   ],
   "source": [
    "arr = [1, 3, 5, 7, 10, 11, 16, 20, 20, 30, 34, 60]\n",
    "target = 20\n",
    "\n",
    "def bin_search(arr, target):\n",
    "    # print(arr)\n",
    "    mid = len(arr)//2\n",
    "    if len(arr) == 0:\n",
    "        return -1\n",
    "    # elif arr[mid] == target and arr[mid+1] != target:\n",
    "    elif arr[mid] == target:\n",
    "        return mid\n",
    "    elif len(arr) <= 1:\n",
    "        return -1\n",
    "    elif arr[mid] < target:\n",
    "        res = bin_search(arr[mid+1:], target)\n",
    "        return 1 + mid + res if res >= 0 else -1\n",
    "    else:\n",
    "        return bin_search(arr[:mid], target)\n",
    "\n",
    "bin_search(arr, target)"
   ]
  },
  {
   "cell_type": "code",
   "execution_count": null,
   "metadata": {},
   "outputs": [
    {
     "data": {
      "text/plain": [
       "7"
      ]
     },
     "execution_count": 40,
     "metadata": {},
     "output_type": "execute_result"
    }
   ],
   "source": [
    "arr = [1, 3, 5, 7, 10, 11, 16, 20, 20, 30, 34, 60]\n",
    "target = 20\n",
    "\n",
    "def bin_search(arr, target):\n",
    "    # print(arr)\n",
    "    high = len(arr)\n",
    "    low = 0\n",
    "    while low <= high:\n",
    "        mid = (low + high)//2\n",
    "        if mid >= len(arr):\n",
    "            return -1\n",
    "        if arr[mid] == target:\n",
    "            return mid\n",
    "        elif arr[mid] > target:\n",
    "            high = mid-1\n",
    "        else:\n",
    "            low = mid+1\n",
    "    return -1\n",
    "            \n",
    "\n",
    "bin_search(arr, target)"
   ]
  },
  {
   "cell_type": "code",
   "execution_count": null,
   "metadata": {},
   "outputs": [
    {
     "name": "stdout",
     "output_type": "stream",
     "text": [
      "11 16\n",
      "1 5\n",
      "60 1\n",
      "1 1\n"
     ]
    },
    {
     "data": {
      "text/plain": [
       "1"
      ]
     },
     "execution_count": 62,
     "metadata": {},
     "output_type": "execute_result"
    }
   ],
   "source": [
    "arr = [1, 1, 5, 5, 5, 11, 16, 20, 20, 21, 34, 60]\n",
    "target = 1\n",
    "\n",
    "def bin_search(arr, target, first=True):\n",
    "    # mid = 0\n",
    "    # print(arr)\n",
    "    high = len(arr)\n",
    "    low = 0\n",
    "    while low <= high:\n",
    "        mid = (low + high)//2\n",
    "        exp_last = arr[mid] == target and (mid == len(arr)-1 or arr[mid+1] != target)\n",
    "        exp_first = arr[mid] == target and (mid == 0 or arr[mid-1] != target)\n",
    "        print(arr[mid-1], arr[mid])\n",
    "        if mid >= len(arr):\n",
    "            return -1\n",
    "        if exp_first if first else exp_last:\n",
    "            return mid\n",
    "        elif arr[mid] > target:\n",
    "            high = mid-1\n",
    "        else:\n",
    "            low = mid+1\n",
    "    return -1\n",
    "            \n",
    "\n",
    "bin_search(arr, target, False)"
   ]
  },
  {
   "cell_type": "code",
   "execution_count": null,
   "metadata": {},
   "outputs": [
    {
     "data": {
      "text/plain": [
       "3"
      ]
     },
     "execution_count": 85,
     "metadata": {},
     "output_type": "execute_result"
    }
   ],
   "source": [
    "from math import sqrt\n",
    "\n",
    "int(sqrt(10))"
   ]
  },
  {
   "cell_type": "code",
   "execution_count": null,
   "metadata": {},
   "outputs": [],
   "source": [
    "# 204 Count Primes\n",
    "\n",
    "class Solution:\n",
    "    def countPrimes(self, n: int) -> int:\n",
    "        primes = [(1 if i > 1 else 0) for i in range(n)]\n",
    "        if not primes:\n",
    "            return 0\n",
    "\n",
    "        for i in range(2, int(sqrt(n))+1):\n",
    "            if primes[i] == 1:\n",
    "                j = 0\n",
    "                while (i**2)+(i*j) < n:\n",
    "                    primes[(i**2)+(i*j)] = 0\n",
    "                    j += 1\n",
    "        \n",
    "        # print(primes)\n",
    "\n",
    "        return sum(primes)"
   ]
  },
  {
   "cell_type": "code",
   "execution_count": null,
   "metadata": {},
   "outputs": [
    {
     "data": {
      "text/plain": [
       "array([[ 4,  3,  2, -1],\n",
       "       [ 3,  2,  1, -1],\n",
       "       [ 1,  1, -1, -2],\n",
       "       [-1, -1, -2, -3]])"
      ]
     },
     "execution_count": 1,
     "metadata": {},
     "output_type": "execute_result"
    }
   ],
   "source": [
    "import numpy as np\n",
    "\n",
    "grid = np.array([[4,3,2,-1],[3,2,1,-1],[1,1,-1,-2],[-1,-1,-2,-3]])\n",
    "\n",
    "grid"
   ]
  },
  {
   "cell_type": "code",
   "execution_count": null,
   "metadata": {},
   "outputs": [],
   "source": [
    "def argmin(arr):\n",
    "    idx = 0\n",
    "    mn = 2**64\n",
    "    for i in range(len(arr)):\n",
    "        if arr[i] < mn:\n",
    "            mn = arr[i]\n",
    "            idx = i\n",
    "    \n",
    "    return idx"
   ]
  },
  {
   "cell_type": "code",
   "execution_count": null,
   "metadata": {},
   "outputs": [
    {
     "data": {
      "text/plain": [
       "1"
      ]
     },
     "execution_count": 26,
     "metadata": {},
     "output_type": "execute_result"
    }
   ],
   "source": [
    "code = [5,7,1,4]\n",
    "i = 3\n",
    "k = 3\n",
    "\n",
    "code[i+k if i+k < len(code) else i+k-len(code)]"
   ]
  },
  {
   "cell_type": "code",
   "execution_count": null,
   "metadata": {},
   "outputs": [
    {
     "data": {
      "text/plain": [
       "[12, 10, 16, 13]"
      ]
     },
     "execution_count": 29,
     "metadata": {},
     "output_type": "execute_result"
    }
   ],
   "source": [
    "ans = []\n",
    "for i in range(len(code)):\n",
    "    total = 0\n",
    "    for j in range(i+1, i+k+1, 1):\n",
    "        total += code[j if j < len(code) else j-len(code)]\n",
    "\n",
    "    ans.append(total)\n",
    "\n",
    "ans"
   ]
  },
  {
   "cell_type": "code",
   "execution_count": null,
   "metadata": {},
   "outputs": [
    {
     "data": {
      "text/plain": [
       "[12, 5, 6, 13]"
      ]
     },
     "execution_count": 41,
     "metadata": {},
     "output_type": "execute_result"
    }
   ],
   "source": [
    "code = [2,4,9,3]\n",
    "k = -2\n",
    "\n",
    "ans = []\n",
    "for i in range(len(code)):\n",
    "    total = 0\n",
    "    for j in range(i+k, i, 1):\n",
    "        total += code[j]\n",
    "\n",
    "    ans.append(total)\n",
    "\n",
    "ans"
   ]
  },
  {
   "cell_type": "code",
   "execution_count": null,
   "metadata": {},
   "outputs": [
    {
     "name": "stdout",
     "output_type": "stream",
     "text": [
      "2 3\n",
      "5 4\n",
      "1 7\n"
     ]
    },
    {
     "data": {
      "text/plain": [
       "[2, 3, 5, 4, 1, 7]"
      ]
     },
     "execution_count": 2,
     "metadata": {},
     "output_type": "execute_result"
    }
   ],
   "source": [
    "nums = [2,5,1,3,4,7]\n",
    "n = 3\n",
    "ans = []\n",
    "\n",
    "for i in range(n):\n",
    "    ans.append(nums[i])\n",
    "    ans.append(nums[i+n])\n",
    "ans"
   ]
  },
  {
   "cell_type": "code",
   "execution_count": null,
   "metadata": {},
   "outputs": [
    {
     "data": {
      "image/png": "[encoded data removed]",
      "text/plain": [
       "<Figure size 432x288 with 1 Axes>"
      ]
     },
     "metadata": {
      "needs_background": "light"
     },
     "output_type": "display_data"
    }
   ],
   "source": [
    "\n",
    "import matplotlib.pyplot as plt \n",
    "  \n",
    "marks = [1, 2, 3, 2, 1, 2, 3, 2,  \n",
    "         1, 4, 5, 4, 3, 2, 5, 4,  \n",
    "         5, 4, 5, 3, 2, 1, 5] \n",
    "  \n",
    "plt.hist(marks, bins=[1, 1.5, 2.5, 4, 5], edgecolor=\"black\") \n",
    "plt.show() "
   ]
  },
  {
   "cell_type": "code",
   "execution_count": null,
   "metadata": {},
   "outputs": [
    {
     "data": {
      "text/plain": [
       "5"
      ]
     },
     "execution_count": 20,
     "metadata": {},
     "output_type": "execute_result"
    }
   ],
   "source": [
    "# mat = [[1,2,3],\n",
    "#        [4,5,6],\n",
    "#        [7,8,9]]\n",
    "\n",
    "mat = [[5]]\n",
    "\n",
    "total = 0\n",
    "for i in range(len(mat)):\n",
    "    total += mat[i][i] + mat[len(mat)-i-1][i]\n",
    "if len(mat) % 2 != 0:\n",
    "    total -= mat[len(mat)//2][len(mat)//2]\n",
    "\n",
    "\n",
    "total"
   ]
  },
  {
   "cell_type": "code",
   "execution_count": null,
   "metadata": {},
   "outputs": [
    {
     "data": {
      "text/plain": [
       "'f'"
      ]
     },
     "execution_count": 28,
     "metadata": {},
     "output_type": "execute_result"
    }
   ],
   "source": [
    "# 1844\n",
    "\n",
    "def shift(c, x):\n",
    "    return chr(ord(c)+x)\n",
    "\n",
    "shift('a', 5)"
   ]
  },
  {
   "cell_type": "code",
   "execution_count": null,
   "metadata": {},
   "outputs": [
    {
     "data": {
      "text/plain": [
       "True"
      ]
     },
     "execution_count": 14,
     "metadata": {},
     "output_type": "execute_result"
    }
   ],
   "source": [
    "coordinates = \"h8\"\n",
    "\n",
    "ord(coordinates[0]) % 2 == 0 or ord(coordinates[1]) % 2 == 0"
   ]
  },
  {
   "cell_type": "code",
   "execution_count": null,
   "metadata": {},
   "outputs": [
    {
     "data": {
      "text/plain": [
       "38.0"
      ]
     },
     "execution_count": 40,
     "metadata": {},
     "output_type": "execute_result"
    }
   ],
   "source": [
    "import numpy as np\n",
    "nums = [34,46,52,29,41,38,36,28]\n",
    "\n",
    "np.mean(nums)"
   ]
  },
  {
   "cell_type": "code",
   "execution_count": null,
   "metadata": {},
   "outputs": [
    {
     "data": {
      "text/plain": [
       "67.14285714285714"
      ]
     },
     "execution_count": 41,
     "metadata": {},
     "output_type": "execute_result"
    }
   ],
   "source": [
    "np.var(nums, ddof=1)"
   ]
  },
  {
   "cell_type": "code",
   "execution_count": 200,
   "metadata": {},
   "outputs": [
    {
     "data": {
      "text/plain": [
       "0"
      ]
     },
     "execution_count": 200,
     "metadata": {},
     "output_type": "execute_result"
    }
   ],
   "source": [
    "import random\n",
    "random.randint(0,10)"
   ]
  },
  {
   "cell_type": "code",
   "execution_count": 287,
   "metadata": {},
   "outputs": [],
   "source": [
    "def partition(arr, l, r, part_idx):\n",
    "\n",
    "    x = arr[part_idx]\n",
    "    i = l\n",
    "    \n",
    "    for j in range(l, r):\n",
    "        if arr[j] < x:\n",
    "            arr[i], arr[j] = arr[j], arr[i]\n",
    "            i += 1\n",
    "\n",
    "\n",
    "    arr[i], arr[r] = arr[r], arr[i]\n",
    "\n",
    "    return i\n",
    "\n",
    "# nums = [7, 10, 4, 3, 20, 15]\n",
    "# print(partition(nums, 0, len(nums)-1))\n",
    "# nums"
   ]
  },
  {
   "cell_type": "code",
   "execution_count": 295,
   "metadata": {},
   "outputs": [],
   "source": [
    "nums = [7, 10, 4, 3, 20, 15]\n",
    "nums = [3,2,1,5,6,4]\n",
    "nums = [3,2,3,1,2,4,5,5,6]\n",
    "k = 4\n",
    "def findit(nums, l, r, k):\n",
    "\n",
    "    part_idx = random.randint(l,r)\n",
    "    idx = partition(nums, l, r, part_idx)\n",
    "\n",
    "    if idx == len(nums)-k:\n",
    "        return nums[idx]\n",
    "    \n",
    "    elif idx < len(nums)-k:\n",
    "        # recurse right\n",
    "        return findit(nums, idx+1, r, k)\n",
    "    else:  \n",
    "        # recurse left\n",
    "        return findit(nums, l, idx-1, k)\n",
    "\n",
    "# [findit(nums, 0, len(nums)-1, k) for _ in range(100)]"
   ]
  },
  {
   "cell_type": "code",
   "execution_count": 289,
   "metadata": {},
   "outputs": [
    {
     "data": {
      "text/plain": [
       "{1, 2, 3, 4, 5, 6}"
      ]
     },
     "execution_count": 289,
     "metadata": {},
     "output_type": "execute_result"
    }
   ],
   "source": [
    "nums = [7, 10, 4, 3, 20, 15]\n",
    "nums = [3,2,1,5,6,4]\n",
    "nums = [3,2,3,1,2,4,5,5,6]\n",
    "k = 4\n",
    "def findit(nums, k):\n",
    "    l, r = 0, len(nums)-1\n",
    "\n",
    "    while True:\n",
    "\n",
    "        part_idx = random.randint(l, r)\n",
    "        idx = partition(nums, l, r, part_idx)\n",
    "\n",
    "        if idx == len(nums)-k:\n",
    "            return nums[idx]\n",
    "        \n",
    "        elif idx < len(nums)-k:\n",
    "            l = idx+1\n",
    "        else:  \n",
    "            r = idx-1\n",
    "\n",
    "set([findit(nums, k) for _ in range(100000)])"
   ]
  },
  {
   "cell_type": "code",
   "execution_count": 298,
   "metadata": {},
   "outputs": [],
   "source": [
    "# 215 -- quick_select solutions... does not pass test case 40\n",
    "\n",
    "def findKthLargest(nums, k: int) -> int:\n",
    "    def partition(arr, l, r):\n",
    "\n",
    "        part_idx = random.randint(l, r)\n",
    "        x = arr[part_idx]\n",
    "        arr[part_idx], arr[r] = arr[r], arr[part_idx]\n",
    "        i = l\n",
    "        \n",
    "        for j in range(l, r):\n",
    "            if arr[j] < x:\n",
    "                arr[i], arr[j] = arr[j], arr[i]\n",
    "                i += 1\n",
    "\n",
    "\n",
    "        arr[i], arr[r] = arr[r], arr[i]\n",
    "\n",
    "        return i\n",
    "\n",
    "    l, r = 0, len(nums)-1\n",
    "\n",
    "    while True:\n",
    "\n",
    "        \n",
    "        idx = partition(nums, l, r)\n",
    "\n",
    "        if idx == len(nums)-k:\n",
    "            return nums[idx]\n",
    "        \n",
    "        elif idx < len(nums)-k:\n",
    "            l = idx+1\n",
    "        else:  \n",
    "            r = idx-1"
   ]
  },
  {
   "cell_type": "code",
   "execution_count": 299,
   "metadata": {},
   "outputs": [
    {
     "data": {
      "text/plain": [
       "{4}"
      ]
     },
     "execution_count": 299,
     "metadata": {},
     "output_type": "execute_result"
    }
   ],
   "source": [
    "nums = [3,2,3,1,2,4,5,5,6]\n",
    "k = 4\n",
    "set([findKthLargest(nums, k) for _ in range(10000)])"
   ]
  },
  {
   "cell_type": "code",
   "execution_count": 4,
   "metadata": {},
   "outputs": [
    {
     "data": {
      "text/plain": [
       "[1, 0, 2, 1]"
      ]
     },
     "execution_count": 4,
     "metadata": {},
     "output_type": "execute_result"
    }
   ],
   "source": [
    "# leet 1720\n",
    "\n",
    "encoded = [1,2,3]\n",
    "first = 1\n",
    "ans = [first]\n",
    "\n",
    "for i in encoded:\n",
    "    ans.append(ans[-1]^i)\n",
    "\n",
    "ans"
   ]
  },
  {
   "cell_type": "code",
   "execution_count": 2,
   "metadata": {},
   "outputs": [
    {
     "data": {
      "text/plain": [
       "deque([1, 0, 0, 1])"
      ]
     },
     "execution_count": 2,
     "metadata": {},
     "output_type": "execute_result"
    }
   ],
   "source": [
    "from collections import deque\n",
    "\n",
    "students = deque([1,1,0,0])\n",
    "sandwiches = deque([0,1,0,1])\n",
    "\n",
    "students.append(students.popleft())\n",
    "students"
   ]
  },
  {
   "cell_type": "code",
   "execution_count": 18,
   "metadata": {},
   "outputs": [
    {
     "name": "stdout",
     "output_type": "stream",
     "text": [
      "True\n"
     ]
    }
   ],
   "source": [
    "s = \"abc\"\n",
    "t = \"ahbgdc\"\n",
    "\n",
    "j = 0\n",
    "for i in t:\n",
    "    if s[j] == i:\n",
    "        j += 1\n",
    "\n",
    "print(j == len(s))"
   ]
  },
  {
   "cell_type": "code",
   "execution_count": 25,
   "metadata": {},
   "outputs": [
    {
     "data": {
      "text/plain": [
       "11"
      ]
     },
     "execution_count": 25,
     "metadata": {},
     "output_type": "execute_result"
    }
   ],
   "source": [
    "int(\"1011\", 2)"
   ]
  },
  {
   "cell_type": "code",
   "execution_count": 76,
   "metadata": {},
   "outputs": [
    {
     "data": {
      "text/plain": [
       "['11:00',\n",
       " '10:32',\n",
       " '10:16',\n",
       " '10:08',\n",
       " '10:04',\n",
       " '10:02',\n",
       " '10:01',\n",
       " '9:32',\n",
       " '9:16',\n",
       " '9:08',\n",
       " '9:04',\n",
       " '9:02',\n",
       " '9:01',\n",
       " '8:48',\n",
       " '8:40',\n",
       " '8:36',\n",
       " '8:34',\n",
       " '8:33',\n",
       " '8:24',\n",
       " '8:20',\n",
       " '8:18',\n",
       " '8:17',\n",
       " '8:12',\n",
       " '8:10',\n",
       " '8:09',\n",
       " '8:06',\n",
       " '8:05',\n",
       " '8:03',\n",
       " '7:00',\n",
       " '6:32',\n",
       " '6:16',\n",
       " '6:08',\n",
       " '6:04',\n",
       " '6:02',\n",
       " '6:01',\n",
       " '5:32',\n",
       " '5:16',\n",
       " '5:08',\n",
       " '5:04',\n",
       " '5:02',\n",
       " '5:01',\n",
       " '4:48',\n",
       " '4:40',\n",
       " '4:36',\n",
       " '4:34',\n",
       " '4:33',\n",
       " '4:24',\n",
       " '4:20',\n",
       " '4:18',\n",
       " '4:17',\n",
       " '4:12',\n",
       " '4:10',\n",
       " '4:09',\n",
       " '4:06',\n",
       " '4:05',\n",
       " '4:03',\n",
       " '3:32',\n",
       " '3:16',\n",
       " '3:08',\n",
       " '3:04',\n",
       " '3:02',\n",
       " '3:01',\n",
       " '2:48',\n",
       " '2:40',\n",
       " '2:36',\n",
       " '2:34',\n",
       " '2:33',\n",
       " '2:24',\n",
       " '2:20',\n",
       " '2:18',\n",
       " '2:17',\n",
       " '2:12',\n",
       " '2:10',\n",
       " '2:09',\n",
       " '2:06',\n",
       " '2:05',\n",
       " '2:03',\n",
       " '1:48',\n",
       " '1:40',\n",
       " '1:36',\n",
       " '1:34',\n",
       " '1:33',\n",
       " '1:24',\n",
       " '1:20',\n",
       " '1:18',\n",
       " '1:17',\n",
       " '1:12',\n",
       " '1:10',\n",
       " '1:09',\n",
       " '1:06',\n",
       " '1:05',\n",
       " '1:03',\n",
       " '0:56',\n",
       " '0:52',\n",
       " '0:50',\n",
       " '0:49',\n",
       " '0:44',\n",
       " '0:42',\n",
       " '0:41',\n",
       " '0:38',\n",
       " '0:37',\n",
       " '0:35',\n",
       " '0:28',\n",
       " '0:26',\n",
       " '0:25',\n",
       " '0:22',\n",
       " '0:21',\n",
       " '0:19',\n",
       " '0:14',\n",
       " '0:13',\n",
       " '0:11',\n",
       " '0:07']"
      ]
     },
     "execution_count": 76,
     "metadata": {},
     "output_type": "execute_result"
    }
   ],
   "source": [
    "from itertools import combinations\n",
    "\n",
    "combs = list(combinations(range(10), 3))\n",
    "\n",
    "bin_combs = [[1 if i in comb else 0 for i in range(10)] for comb in combs]\n",
    "# list(filter(lambda x: x, list(map(watch, bin_combs))))\n",
    "[watch(x) for x in bin_combs if watch(x)]"
   ]
  },
  {
   "cell_type": "code",
   "execution_count": 62,
   "metadata": {},
   "outputs": [
    {
     "data": {
      "text/plain": [
       "1"
      ]
     },
     "execution_count": 62,
     "metadata": {},
     "output_type": "execute_result"
    }
   ],
   "source": [
    "arr = [0, 1, 0, 0, 0, 0, 0, 0, 0, 1]\n",
    "arr[:4] + arr[4:]\n",
    "int(\"\".join(str(x) for x in arr[4:]), 2)"
   ]
  },
  {
   "cell_type": "code",
   "execution_count": 75,
   "metadata": {},
   "outputs": [],
   "source": [
    "def watch(arr):\n",
    "    hour = int(\"\".join(str(x) for x in arr[:4]), 2)\n",
    "    minute = int(\"\".join(str(x) for x in arr[4:]), 2)\n",
    "\n",
    "    if hour > 11 or minute > 59:\n",
    "        return \"\"\n",
    "\n",
    "    return str(hour) + \":\" + (str(minute) if minute >= 10 else \"0\" + str(minute))"
   ]
  },
  {
   "cell_type": "code",
   "execution_count": 82,
   "metadata": {},
   "outputs": [
    {
     "data": {
      "text/plain": [
       "[('Q...', '.Q..', '..Q.', '...Q')]"
      ]
     },
     "execution_count": 82,
     "metadata": {},
     "output_type": "execute_result"
    }
   ],
   "source": [
    "list(combinations([\"Q...\", \".Q..\", \"..Q.\", \"...Q\"], 4))"
   ]
  },
  {
   "cell_type": "code",
   "execution_count": 98,
   "metadata": {},
   "outputs": [
    {
     "data": {
      "text/plain": [
       "[([1, 0, 0, 0], [0, 1, 0, 0]),\n",
       " ([1, 0, 0, 0], [0, 0, 1, 0]),\n",
       " ([1, 0, 0, 0], [0, 0, 0, 1]),\n",
       " ([0, 1, 0, 0], [0, 0, 1, 0]),\n",
       " ([0, 1, 0, 0], [0, 0, 0, 1]),\n",
       " ([0, 0, 1, 0], [0, 0, 0, 1])]"
      ]
     },
     "execution_count": 98,
     "metadata": {},
     "output_type": "execute_result"
    }
   ],
   "source": [
    "# combs = list(combinations(range(4), 4))\n",
    "\n",
    "# [[1 if i in comb else 0 for i in range(10)] for comb in combs]\n",
    "\n",
    "col = 1\n",
    "n = 4\n",
    "\n",
    "list(combinations([[1 if i == col else 0 for i in range(n)] for col in range(n)], 2))"
   ]
  },
  {
   "cell_type": "code",
   "execution_count": 115,
   "metadata": {},
   "outputs": [
    {
     "data": {
      "text/plain": [
       "[(0, 1, 2, 3),\n",
       " (0, 1, 3, 2),\n",
       " (0, 2, 1, 3),\n",
       " (0, 2, 3, 1),\n",
       " (0, 3, 1, 2),\n",
       " (0, 3, 2, 1),\n",
       " (1, 0, 2, 3),\n",
       " (1, 0, 3, 2),\n",
       " (1, 2, 0, 3),\n",
       " (1, 2, 3, 0),\n",
       " (1, 3, 0, 2),\n",
       " (1, 3, 2, 0),\n",
       " (2, 0, 1, 3),\n",
       " (2, 0, 3, 1),\n",
       " (2, 1, 0, 3),\n",
       " (2, 1, 3, 0),\n",
       " (2, 3, 0, 1),\n",
       " (2, 3, 1, 0),\n",
       " (3, 0, 1, 2),\n",
       " (3, 0, 2, 1),\n",
       " (3, 1, 0, 2),\n",
       " (3, 1, 2, 0),\n",
       " (3, 2, 0, 1),\n",
       " (3, 2, 1, 0)]"
      ]
     },
     "execution_count": 115,
     "metadata": {},
     "output_type": "execute_result"
    }
   ],
   "source": [
    "from itertools import permutations\n",
    "n = 4\n",
    "\n",
    "list(permutations([col for col in range(n)]))"
   ]
  },
  {
   "cell_type": "code",
   "execution_count": 170,
   "metadata": {},
   "outputs": [],
   "source": [
    "def iscapture(pos1, pos2):\n",
    "    x_dist = abs(pos2[0]-pos1[0])\n",
    "    y_dist = abs(pos2[1]-pos1[1])\n",
    "    return x_dist == 0 or y_dist == 0 or x_dist == y_dist"
   ]
  },
  {
   "cell_type": "code",
   "execution_count": 171,
   "metadata": {},
   "outputs": [
    {
     "data": {
      "text/plain": [
       "False"
      ]
     },
     "execution_count": 171,
     "metadata": {},
     "output_type": "execute_result"
    }
   ],
   "source": [
    "# (x,y)\n",
    "pos1 = (1,0)\n",
    "pos2 = (2,3)\n",
    "\n",
    "iscapture(pos1, pos2)"
   ]
  },
  {
   "cell_type": "code",
   "execution_count": 156,
   "metadata": {},
   "outputs": [
    {
     "name": "stdout",
     "output_type": "stream",
     "text": [
      "(1, 0) (3, 0)\n",
      "(1, 0) (0, 1)\n",
      "(1, 0) (2, 2)\n",
      "(3, 1) (0, 1)\n",
      "(3, 1) (2, 2)\n",
      "(0, 2) (2, 2)\n"
     ]
    }
   ],
   "source": [
    "t = (1, 3, 0, 2)\n",
    "\n",
    "for pos1 in enumerate(t):\n",
    "    for pos2 in enumerate(t[pos1[0]+1:]):\n",
    "        print(pos1[::-1], (pos2[1], pos2[0]+pos1[0]))\n",
    "        # print(iscapture(pos1[::-1], (pos2[1], pos2[1]+pos1[0])))"
   ]
  },
  {
   "cell_type": "code",
   "execution_count": 181,
   "metadata": {},
   "outputs": [],
   "source": [
    "n = 4\n",
    "# t = (1, 3, 0, 2)\n",
    "t = (3, 2, 0, 1)\n",
    "\n",
    "def islegal(t):\n",
    "    legal = True\n",
    "    for y1 in range(n):\n",
    "        for y2 in range(y1+1, n, 1):\n",
    "            # print((t[y1], y1), (t[y2], y2))\n",
    "            legal = legal and not iscapture((t[y1], y1), (t[y2], y2))\n",
    "\n",
    "    return legal"
   ]
  },
  {
   "cell_type": "code",
   "execution_count": 197,
   "metadata": {},
   "outputs": [
    {
     "data": {
      "text/plain": [
       "'...Q'"
      ]
     },
     "execution_count": 197,
     "metadata": {},
     "output_type": "execute_result"
    }
   ],
   "source": [
    "# nqueens\n",
    "\n",
    "row = 0\n",
    "n = 4\n",
    "\n",
    "def queen_format(row, n):\n",
    "    assert row < n\n",
    "    s = \"\"\n",
    "\n",
    "    for i in range(n):\n",
    "        s += \"Q\" if i == row else \".\"\n",
    "\n",
    "    return s\n",
    "\n",
    "queen_format(3, 4)"
   ]
  },
  {
   "cell_type": "code",
   "execution_count": 201,
   "metadata": {},
   "outputs": [
    {
     "data": {
      "text/plain": [
       "[['.Q..', '...Q', 'Q...', '..Q.'], ['..Q.', 'Q...', '...Q', '.Q..']]"
      ]
     },
     "execution_count": 201,
     "metadata": {},
     "output_type": "execute_result"
    }
   ],
   "source": [
    "from itertools import permutations\n",
    "n = 4\n",
    "\n",
    "raw = list(filter(islegal, list(permutations([col for col in range(n)]))))\n",
    "[[queen_format(elem, n) for elem in t] for t in raw]"
   ]
  },
  {
   "cell_type": "code",
   "execution_count": 5,
   "metadata": {},
   "outputs": [
    {
     "data": {
      "text/plain": [
       "[6]"
      ]
     },
     "execution_count": 5,
     "metadata": {},
     "output_type": "execute_result"
    }
   ],
   "source": [
    "[6,5,7][0:1]"
   ]
  },
  {
   "cell_type": "code",
   "execution_count": null,
   "metadata": {},
   "outputs": [],
   "source": [
    "# 120\n",
    "\n",
    "class Solution:\n",
    "    def minimumTotal(self, triangle: List[List[int]]) -> int:\n",
    "        tab = [0]\n",
    "        # tab1 = []\n",
    "\n",
    "        for row in triangle:\n",
    "            tab1 = []\n",
    "            for idx, elem in enumerate(row):\n",
    "                # print(elem)\n",
    "                low = idx-1 if idx-1 > 0 else 0\n",
    "                high = idx+1 if idx+1 < len(row) else len(row)\n",
    "                # print(tab1)\n",
    "                tab1.append(elem + min(tab[low:high]))\n",
    "            # tab.extend(tab1)\n",
    "            tab = list(tab1)\n",
    "\n",
    "        return min(tab)"
   ]
  },
  {
   "cell_type": "code",
   "execution_count": 25,
   "metadata": {},
   "outputs": [
    {
     "data": {
      "text/plain": [
       "'eeeeoolldctv'"
      ]
     },
     "execution_count": 25,
     "metadata": {},
     "output_type": "execute_result"
    }
   ],
   "source": [
    "s = \"loveleetcode\"\n",
    "tab = {}\n",
    "\n",
    "for l in s:\n",
    "    if l in tab:\n",
    "        tab[l] += 1\n",
    "    else:\n",
    "        tab[l] = 1\n",
    "\n",
    "for i, e in enumerate(sorted(tab.items(), key=lambda x: x[1])):\n",
    "    tab[e[0]] += i\n",
    "\n",
    "\"\".join(sorted(s, key=lambda x:tab[x], reverse=True))\n",
    "\n",
    "# sorted(tab.items(), key=lambda x: x[1])\n",
    "# tab"
   ]
  },
  {
   "cell_type": "code",
   "execution_count": 28,
   "metadata": {},
   "outputs": [
    {
     "data": {
      "text/plain": [
       "6"
      ]
     },
     "execution_count": 28,
     "metadata": {},
     "output_type": "execute_result"
    }
   ],
   "source": [
    "def count_digits(num):\n",
    "    count = 0\n",
    "    \n",
    "    while num:\n",
    "        count += 1\n",
    "        num = num // 10\n",
    "\n",
    "    return count\n",
    "\n",
    "count_digits(100000)"
   ]
  },
  {
   "cell_type": "code",
   "execution_count": 7,
   "metadata": {},
   "outputs": [
    {
     "name": "stdout",
     "output_type": "stream",
     "text": [
      "ab\n",
      "ab\n"
     ]
    },
    {
     "data": {
      "text/plain": [
       "2"
      ]
     },
     "execution_count": 7,
     "metadata": {},
     "output_type": "execute_result"
    }
   ],
   "source": [
    "sequence = \"ababc\"\n",
    "word = \"ab\"\n",
    "\n",
    "# check = True\n",
    "count = 0\n",
    "i = 0\n",
    "while i < len(sequence)-len(word)+1:\n",
    "    print(sequence[i:i+len(word)])\n",
    "    if sequence[i:i+len(word)] == word:\n",
    "        count += 1\n",
    "        i += len(word)\n",
    "    else:\n",
    "        i += 1\n",
    "\n",
    "count"
   ]
  },
  {
   "cell_type": "code",
   "execution_count": 9,
   "metadata": {},
   "outputs": [
    {
     "data": {
      "text/plain": [
       "[[5, 10], [3, 9], [4, 7], [2, 5]]"
      ]
     },
     "execution_count": 9,
     "metadata": {},
     "output_type": "execute_result"
    }
   ],
   "source": [
    "boxTypes = [[5,10],[2,5],[4,7],[3,9]]\n",
    "sorted(boxTypes, key=lambda x:x[1], reverse=True)"
   ]
  },
  {
   "cell_type": "code",
   "execution_count": 11,
   "metadata": {},
   "outputs": [
    {
     "data": {
      "text/plain": [
       "'book'"
      ]
     },
     "execution_count": 11,
     "metadata": {},
     "output_type": "execute_result"
    }
   ],
   "source": [
    "s = \"textbook\"\n",
    "s[len(s)//2:]"
   ]
  },
  {
   "cell_type": "code",
   "execution_count": 2,
   "metadata": {},
   "outputs": [
    {
     "data": {
      "text/plain": [
       "[1, 2, 3]"
      ]
     },
     "execution_count": 2,
     "metadata": {},
     "output_type": "execute_result"
    }
   ],
   "source": [
    "lst = [1,2,3,4]\n",
    "\n",
    "lst[:len(lst)-1]"
   ]
  },
  {
   "cell_type": "code",
   "execution_count": null,
   "metadata": {},
   "outputs": [],
   "source": [
    "# Definition for a binary tree node.\n",
    "# class TreeNode:\n",
    "#     def __init__(self, val=0, left=None, right=None):\n",
    "#         self.val = val\n",
    "#         self.left = left\n",
    "#         self.right = right\n",
    "class Solution:\n",
    "    def flatten(self, root: Optional[TreeNode]) -> None:\n",
    "        global lst\n",
    "        lst = []\n",
    "        \"\"\"\n",
    "        Do not return anything, modify root in-place instead.\n",
    "        \"\"\"\n",
    "        print(root)\n",
    "        def listit(root):\n",
    "            if not root:\n",
    "                return\n",
    "\n",
    "            lst.append(root.val)\n",
    "\n",
    "            listit(root.left)\n",
    "            listit(root.right)\n",
    "\n",
    "        listit(root)\n",
    "\n",
    "        print(lst)\n",
    "\n",
    "        root = curr = TreeNode()\n",
    "\n",
    "        for i in lst[:len(lst)-1]:\n",
    "            curr.val = i\n",
    "            curr.right = TreeNode()\n",
    "            curr.left = None\n",
    "            curr = curr.right\n",
    "\n",
    "        # curr.val = lst[-1]\n",
    "\n",
    "        # while root.right:\n",
    "        #     print(root.val)\n",
    "        #     root = root.right\n",
    "\n",
    "        print(root)"
   ]
  },
  {
   "cell_type": "code",
   "execution_count": null,
   "metadata": {},
   "outputs": [],
   "source": [
    "# 129\n",
    "class Solution:\n",
    "    def sumNumbers(self, root: Optional[TreeNode], num=0) -> int:\n",
    "\n",
    "        if not root:\n",
    "            return 0\n",
    "\n",
    "        # leaf node\n",
    "        if not root.left and not root.right:\n",
    "            return num*10+root.val\n",
    "\n",
    "        return self.sumNumbers(root.left, num*10+root.val) + self.sumNumbers(root.right, num*10+root.val)"
   ]
  },
  {
   "cell_type": "code",
   "execution_count": null,
   "metadata": {},
   "outputs": [],
   "source": [
    "# 1736\n",
    "class Solution:\n",
    "    def maximumTime(self, time: str) -> str:\n",
    "        times = [2,0,0,5,9]\n",
    "\n",
    "        ans = \"\"\n",
    "\n",
    "        for i, l in enumerate(time):\n",
    "            if l == \"?\" and i == 1:\n",
    "                ans += \"3\" if ans == \"2\" else \"9\"\n",
    "            elif l == \"?\" and i == 0:\n",
    "                ans += \"2\" if time[1] == \"?\" or int(time[1]) <= 3 else \"1\"\n",
    "            elif l == \"?\":\n",
    "                ans += str(times[i])\n",
    "            else:\n",
    "                ans += l\n",
    "\n",
    "        return ans"
   ]
  },
  {
   "cell_type": "code",
   "execution_count": null,
   "metadata": {},
   "outputs": [],
   "source": [
    "# 1773\n",
    "class Solution:\n",
    "    def countMatches(self, items: List[List[str]], ruleKey: str, ruleValue: str) -> int:\n",
    "        ruleMap = {\"type\":0, \"color\":1, \"name\":2}\n",
    "        count = 0\n",
    "\n",
    "        for item in items:\n",
    "            count += 1 if item[ruleMap[ruleKey]] == ruleValue else 0\n",
    "\n",
    "        return count"
   ]
  },
  {
   "cell_type": "code",
   "execution_count": 5,
   "metadata": {},
   "outputs": [
    {
     "data": {
      "text/plain": [
       "True"
      ]
     },
     "execution_count": 5,
     "metadata": {},
     "output_type": "execute_result"
    }
   ],
   "source": [
    "set(\"ab\").issubset(set(\"babd\"))"
   ]
  },
  {
   "cell_type": "code",
   "execution_count": 9,
   "metadata": {},
   "outputs": [
    {
     "data": {
      "text/plain": [
       "{'123', '25', '5'}"
      ]
     },
     "execution_count": 9,
     "metadata": {},
     "output_type": "execute_result"
    }
   ],
   "source": [
    "set(\"  123 25 5 5\".split())"
   ]
  },
  {
   "cell_type": "code",
   "execution_count": 11,
   "metadata": {},
   "outputs": [
    {
     "data": {
      "text/plain": [
       "[18, 6, 6, 6, 1, -1]"
      ]
     },
     "execution_count": 11,
     "metadata": {},
     "output_type": "execute_result"
    }
   ],
   "source": [
    "arr = [17,18,5,4,6,1]\n",
    "mx = arr[-1]\n",
    "arr[-1] = -1\n",
    "\n",
    "for i in range(len(arr)-2, -1, -1):\n",
    "    temp = arr[i]\n",
    "    arr[i] = mx\n",
    "    mx = max(mx, temp)\n",
    "\n",
    "arr"
   ]
  },
  {
   "cell_type": "code",
   "execution_count": 2,
   "metadata": {},
   "outputs": [
    {
     "data": {
      "text/plain": [
       "[4, 5, 0, 1, 2, 3]"
      ]
     },
     "execution_count": 2,
     "metadata": {},
     "output_type": "execute_result"
    }
   ],
   "source": [
    "nums = [5,0,1,2,3,4]\n",
    "[nums[i] for i in nums]"
   ]
  },
  {
   "cell_type": "code",
   "execution_count": 1,
   "metadata": {},
   "outputs": [
    {
     "data": {
      "text/plain": [
       "[0, 1, 2]"
      ]
     },
     "execution_count": 1,
     "metadata": {},
     "output_type": "execute_result"
    }
   ],
   "source": [
    "nums = [0,1,2,3,4]\n",
    "index = [0,1,2,2,1]\n",
    "\n"
   ]
  },
  {
   "cell_type": "code",
   "execution_count": 15,
   "metadata": {},
   "outputs": [
    {
     "data": {
      "text/plain": [
       "1.338"
      ]
     },
     "execution_count": 15,
     "metadata": {},
     "output_type": "execute_result"
    }
   ],
   "source": [
    "import random\n",
    "\n",
    "n = 1000\n",
    "total = 0\n",
    "\n",
    "for _ in range(n):\n",
    "    total += 2 if random.randint(1,3) == 3 else 1\n",
    "\n",
    "total / n"
   ]
  },
  {
   "cell_type": "code",
   "execution_count": 1,
   "metadata": {},
   "outputs": [
    {
     "data": {
      "text/plain": [
       "[1, 2, 1, 1, 2, 1]"
      ]
     },
     "execution_count": 1,
     "metadata": {},
     "output_type": "execute_result"
    }
   ],
   "source": [
    "lst = [1,2,1]\n",
    "\n",
    "lst + lst"
   ]
  },
  {
   "cell_type": "code",
   "execution_count": 6,
   "metadata": {},
   "outputs": [
    {
     "data": {
      "text/plain": [
       "'cbad'"
      ]
     },
     "execution_count": 6,
     "metadata": {},
     "output_type": "execute_result"
    }
   ],
   "source": [
    "order = \"cba\"\n",
    "s = \"abcd\"\n",
    "tab = {e:i for i, e in enumerate(order)}\n",
    "\n",
    "\"\".join(sorted(s, key=lambda x: 27 if x not in tab else tab[x]))"
   ]
  },
  {
   "cell_type": "code",
   "execution_count": 8,
   "metadata": {},
   "outputs": [
    {
     "data": {
      "text/plain": [
       "[1, 3, 6, 10]"
      ]
     },
     "execution_count": 8,
     "metadata": {},
     "output_type": "execute_result"
    }
   ],
   "source": [
    "nums = [1,2,3,4]\n",
    "acc = [0]\n",
    "\n",
    "def accumulate(acc, num):\n",
    "    acc[0] += num\n",
    "    return acc[0]\n",
    "\n",
    "[accumulate(acc, num) for num in nums]"
   ]
  },
  {
   "cell_type": "code",
   "execution_count": 1,
   "metadata": {},
   "outputs": [
    {
     "data": {
      "text/plain": [
       "'9669'"
      ]
     },
     "execution_count": 1,
     "metadata": {},
     "output_type": "execute_result"
    }
   ],
   "source": [
    "str(9669)"
   ]
  },
  {
   "cell_type": "code",
   "execution_count": 16,
   "metadata": {},
   "outputs": [
    {
     "data": {
      "text/plain": [
       "9969"
      ]
     },
     "execution_count": 16,
     "metadata": {},
     "output_type": "execute_result"
    }
   ],
   "source": [
    "s = \"9669\"\n",
    "mx = 0\n",
    "\n",
    "for i, e in enumerate(s):\n",
    "    mx = max(mx, int(s[:i] + (\"9\" if e == \"6\" else \"6\") + s[i+1:]))\n",
    "\n",
    "mx"
   ]
  },
  {
   "cell_type": "code",
   "execution_count": 9,
   "metadata": {},
   "outputs": [
    {
     "data": {
      "text/plain": [
       "7"
      ]
     },
     "execution_count": 9,
     "metadata": {},
     "output_type": "execute_result"
    }
   ],
   "source": [
    "nums = [1,1,1]\n",
    "\n",
    "int(\"\".join([str(num) for num in nums]), 2)"
   ]
  },
  {
   "cell_type": "code",
   "execution_count": 6,
   "metadata": {},
   "outputs": [
    {
     "data": {
      "text/plain": [
       "{2: 3}"
      ]
     },
     "execution_count": 6,
     "metadata": {},
     "output_type": "execute_result"
    }
   ],
   "source": [
    "from random import choice\n",
    "\n",
    "d = {1:1, 2:3}\n",
    "\n",
    "d.pop(1)\n",
    "\n",
    "d"
   ]
  },
  {
   "cell_type": "code",
   "execution_count": 10,
   "metadata": {},
   "outputs": [],
   "source": [
    "# 988\n",
    "\n",
    "class Solution:\n",
    "    def smallestFromLeaf(self, root) -> str:\n",
    "        smallest = \"z\"*8500\n",
    "        def rec_smallest(root, s):\n",
    "            nonlocal smallest\n",
    "            if not root:\n",
    "                return\n",
    "            if not root.left and not root.right:\n",
    "                smallest = min(smallest, chr(root.val+97)+s)\n",
    "            \n",
    "            rec_smallest(root.left, chr(root.val+97)+s)\n",
    "            rec_smallest(root.right, chr(root.val+97)+s)\n",
    "\n",
    "        rec_smallest(root, \"\")\n",
    "\n",
    "        return smallest"
   ]
  },
  {
   "cell_type": "code",
   "execution_count": 9,
   "metadata": {},
   "outputs": [],
   "source": [
    "# 1971\n",
    "\n",
    "class Solution:\n",
    "    def validPath(self, n: int, edges, source: int, destination: int) -> bool:\n",
    "        parent = [i for i in range(n)]\n",
    "        rank = [0] * n\n",
    "\n",
    "        def find(i):\n",
    "            if parent[i] != i:\n",
    "                parent[i] = find(parent[i])\n",
    "            return parent[i]\n",
    "\n",
    "        def union(i, j):\n",
    "            irep = find(i)\n",
    "            jrep = find(j)\n",
    "\n",
    "            # same set\n",
    "            if irep == jrep:\n",
    "                return\n",
    "            \n",
    "            irank = rank[irep]\n",
    "            jrank = rank[jrep]\n",
    "\n",
    "            if irank < jrank:\n",
    "                parent[irep] = jrep\n",
    "\n",
    "            elif jrank < irank:\n",
    "                parent[jrep] = irep\n",
    "\n",
    "            else:\n",
    "                parent[irep] = jrep\n",
    "                rank[jrep] += 1\n",
    "\n",
    "                \n",
    "        for edge in edges:\n",
    "            union(edge[0], edge[1])\n",
    "\n",
    "        # if source and destination have same representative, then in same\n",
    "        # set, return True, else False\n",
    "        return find(source) == find(destination)"
   ]
  },
  {
   "cell_type": "code",
   "execution_count": 2,
   "metadata": {},
   "outputs": [],
   "source": [
    "# 752\n",
    "\n",
    "class Solution:\n",
    "    def openLock(self, deadends, target: str) -> int:\n",
    "        tab = {i:str(int(i)-1)+str(int(i)+1) for i in \"12345678\"}\n",
    "        tab[\"0\"] = \"91\"\n",
    "        tab[\"9\"] = \"80\"\n",
    "\n",
    "        from collections import deque\n",
    "\n",
    "        q = deque([(\"0000\", 1)])\n",
    "        forbid = set(deadends)\n",
    "        if \"0000\" in forbid:\n",
    "            return -1\n",
    "        if target == \"0000\":\n",
    "            return 0\n",
    "\n",
    "        while q:\n",
    "            cur, depth = q.popleft()\n",
    "            forbid.add(cur)\n",
    "            \n",
    "            for i in range(4):\n",
    "                for j in tab[cur[i]]:\n",
    "                    comb = cur[:i]+j+cur[i+1:]\n",
    "                    if comb == target:\n",
    "                        return depth\n",
    "                    elif comb not in forbid:\n",
    "                        q.append((comb, depth+1))\n",
    "                        forbid.add(comb)\n",
    "\n",
    "\n",
    "        return -1"
   ]
  },
  {
   "cell_type": "code",
   "execution_count": 1,
   "metadata": {},
   "outputs": [
    {
     "data": {
      "text/plain": [
       "[(5, 1), (5, 6), (1, 6)]"
      ]
     },
     "execution_count": 1,
     "metadata": {},
     "output_type": "execute_result"
    }
   ],
   "source": [
    "import itertools\n",
    "\n",
    "nums = [5,1,6]\n",
    "\n",
    "list(itertools.combinations(nums, 2))"
   ]
  },
  {
   "cell_type": "code",
   "execution_count": 4,
   "metadata": {},
   "outputs": [],
   "source": [
    "# 1863. Sum of All Subset XOR Totals\n",
    "\n",
    "class Solution:\n",
    "    def subsetXORSum(self, nums) -> int:\n",
    "        def reduce(fun, iterable):\n",
    "            it = iter(iterable)\n",
    "            value = next(it)\n",
    "            for elem in it:\n",
    "                value = fun(value, elem)\n",
    "            return value\n",
    "\n",
    "        def subsets(nums):\n",
    "            if nums == []:\n",
    "                return [[]]\n",
    "            x = subsets(nums[1:])\n",
    "            return x + [[nums[0]] + y for y in x]\n",
    "\n",
    "        def gettotal(nums):\n",
    "            total = 0\n",
    "            for subset in subsets(nums):\n",
    "                if subset == []:\n",
    "                    continue\n",
    "                total += reduce(lambda a, b: a^b, subset)\n",
    "            return total\n",
    "\n",
    "        return gettotal(nums)"
   ]
  },
  {
   "cell_type": "code",
   "execution_count": 4,
   "metadata": {},
   "outputs": [],
   "source": [
    "class ListNode:\n",
    "    def __init__(self, val=0, next=None):\n",
    "        self.val = val\n",
    "        self.next = next"
   ]
  },
  {
   "cell_type": "code",
   "execution_count": 8,
   "metadata": {},
   "outputs": [
    {
     "name": "stdout",
     "output_type": "stream",
     "text": [
      "1\n",
      "2\n"
     ]
    },
    {
     "data": {
      "text/plain": [
       "<__main__.ListNode at 0x25021238760>"
      ]
     },
     "execution_count": 8,
     "metadata": {},
     "output_type": "execute_result"
    }
   ],
   "source": [
    "head = ListNode(val=1)\n",
    "head.next = ListNode(val=2)\n",
    "\n",
    "cur = head\n",
    "stack = []\n",
    "\n",
    "while cur:\n",
    "    print(cur.val)\n",
    "    stack.append(cur)\n",
    "    cur = cur.next\n",
    "\n",
    "stack.pop()"
   ]
  },
  {
   "cell_type": "code",
   "execution_count": null,
   "metadata": {},
   "outputs": [],
   "source": [
    "class Solution:\n",
    "    def doubleIt(self, head: Optional[ListNode]) -> Optional[ListNode]:\n",
    "        def countdigits(num):\n",
    "            count = 0\n",
    "\n",
    "            while num != 0:\n",
    "                num //= 10\n",
    "                count += 1\n",
    "\n",
    "            return count\n",
    "\n",
    "        cur = head\n",
    "        val = 0\n",
    "\n",
    "        while cur:\n",
    "            val = val*10+cur.val\n",
    "            cur = cur.next\n",
    "\n",
    "        if val == 0:\n",
    "            return head\n",
    "\n",
    "        val *= 2\n",
    "        count = countdigits(val)\n",
    "        cur = head\n",
    "\n",
    "        while cur:\n",
    "            cur.val = (val)//(10**(count-1))\n",
    "            val %= 10**(count-1)\n",
    "            count -= 1\n",
    "            if count and not cur.next:\n",
    "                cur.next = ListNode()\n",
    "            cur = cur.next\n",
    "\n",
    "        return head"
   ]
  },
  {
   "cell_type": "code",
   "execution_count": 3,
   "metadata": {},
   "outputs": [
    {
     "name": "stdout",
     "output_type": "stream",
     "text": [
      "1 1\n",
      "1 2\n",
      "1 3\n",
      "2 2\n",
      "2 3\n",
      "3 3\n"
     ]
    }
   ],
   "source": [
    "nums = [1,2,3]\n",
    "\n",
    "for i in range(len(nums)):\n",
    "    for j in range(i, len(nums)):\n",
    "        print(nums[i],nums[j])"
   ]
  },
  {
   "cell_type": "code",
   "execution_count": 35,
   "metadata": {},
   "outputs": [
    {
     "name": "stdout",
     "output_type": "stream",
     "text": [
      "[1]\n",
      "[2]\n",
      "[1]\n",
      "[1, 2]\n",
      "[3]\n",
      "[1]\n",
      "[1, 3]\n",
      "[2]\n",
      "[2, 3]\n",
      "[1]\n",
      "[1, 2]\n",
      "[1, 2, 3]\n"
     ]
    },
    {
     "data": {
      "text/plain": [
       "[[], [1], [2], [1, 2], [3], [1, 3], [2, 3], [1, 2, 3]]"
      ]
     },
     "execution_count": 35,
     "metadata": {},
     "output_type": "execute_result"
    }
   ],
   "source": [
    "ans = []\n",
    "for i in range(1<<len(nums)):\n",
    "    cur = []\n",
    "    for j in range(len(nums)):\n",
    "        if i & (1 << j) != 0:\n",
    "            cur.append(nums[j])\n",
    "    ans.append(cur)\n",
    "\n",
    "ans"
   ]
  },
  {
   "cell_type": "code",
   "execution_count": 36,
   "metadata": {},
   "outputs": [
    {
     "name": "stdout",
     "output_type": "stream",
     "text": [
      "\n",
      "1\n",
      "2\n",
      "1 2\n",
      "3\n",
      "1 3\n",
      "2 3\n",
      "1 2 3\n"
     ]
    }
   ],
   "source": [
    "for subset in ans:\n",
    "    print(*subset)"
   ]
  },
  {
   "cell_type": "code",
   "execution_count": 39,
   "metadata": {},
   "outputs": [
    {
     "data": {
      "text/plain": [
       "[1, 2, 3]"
      ]
     },
     "execution_count": 39,
     "metadata": {},
     "output_type": "execute_result"
    }
   ],
   "source": [
    "nums"
   ]
  },
  {
   "cell_type": "code",
   "execution_count": 12,
   "metadata": {},
   "outputs": [
    {
     "name": "stdout",
     "output_type": "stream",
     "text": [
      "[1, 2, 3]\n",
      "[1, 2, 4]\n",
      "[1, 3, 4]\n",
      "[2, 3, 4]\n"
     ]
    }
   ],
   "source": [
    "# 78\n",
    "\n",
    "nums = [i for i in range(1,5)]\n",
    "\n",
    "def calcSubset(A, res, subset, index):\n",
    "    res.append(subset[:])\n",
    "\n",
    "    for i in range(index, len(A)):\n",
    "        subset.append(A[i])\n",
    "\n",
    "        # print(i, subset)\n",
    "        calcSubset(A, res, subset, i+1)\n",
    "\n",
    "        subset.pop()\n",
    "        # print(i, \"pop\", subset.pop())\n",
    "    # print(subset)\n",
    "    # print(res)\n",
    "\n",
    "def subsets(A):\n",
    "    subset = []\n",
    "    res = []\n",
    "    calcSubset(A, res, subset, 0)\n",
    "    return res\n",
    "\n",
    "# subsets(nums)\n",
    "for ss in subsets(nums):\n",
    "    if len(ss)==3:\n",
    "        print(ss)"
   ]
  },
  {
   "cell_type": "code",
   "execution_count": 2,
   "metadata": {},
   "outputs": [
    {
     "data": {
      "text/plain": [
       "26"
      ]
     },
     "execution_count": 2,
     "metadata": {},
     "output_type": "execute_result"
    }
   ],
   "source": [
    "sentence = \"thequickbrownfoxjumpsoverthelazydog\"\n",
    "len(set(sentence))"
   ]
  },
  {
   "cell_type": "code",
   "execution_count": 2,
   "metadata": {},
   "outputs": [
    {
     "data": {
      "text/plain": [
       "0"
      ]
     },
     "execution_count": 2,
     "metadata": {},
     "output_type": "execute_result"
    }
   ],
   "source": [
    "# 2399\n",
    "\n",
    "class Solution:\n",
    "    def checkDistances(self, s: str, distance: List[int]) -> bool:\n",
    "        tab = {}\n",
    "\n",
    "        for i, e in enumerate(s):\n",
    "            if e not in tab:\n",
    "                tab[e] = i\n",
    "            elif i-tab[e]-1 != distance[ord(e)-97]:\n",
    "                return False\n",
    "\n",
    "        return True"
   ]
  },
  {
   "cell_type": "code",
   "execution_count": null,
   "metadata": {},
   "outputs": [],
   "source": [
    "# 303\n",
    "\n",
    "class NumArray:\n",
    "\n",
    "    def __init__(self, nums: List[int]):\n",
    "        self.lst = nums\n",
    "\n",
    "    def sumRange(self, left: int, right: int) -> int:\n",
    "        return sum(self.lst[left:right+1])"
   ]
  },
  {
   "cell_type": "code",
   "execution_count": null,
   "metadata": {},
   "outputs": [],
   "source": []
  }
 ],
 "metadata": {
  "kernelspec": {
   "display_name": "base",
   "language": "python",
   "name": "python3"
  },
  "language_info": {
   "codemirror_mode": {
    "name": "ipython",
    "version": 3
   },
   "file_extension": ".py",
   "mimetype": "text/x-python",
   "name": "python",
   "nbconvert_exporter": "python",
   "pygments_lexer": "ipython3",
   "version": "3.8.3"
  },
  "orig_nbformat": 4
 },
 "nbformat": 4,
 "nbformat_minor": 2
}

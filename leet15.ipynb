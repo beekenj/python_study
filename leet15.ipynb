{
 "cells": [
  {
   "cell_type": "code",
   "execution_count": 26,
   "metadata": {},
   "outputs": [],
   "source": [
    "class Solution:\n",
    "    def isIsomorphic(self, s: str, t: str) -> bool:\n",
    "        if len(s) != len(t):\n",
    "            return False\n",
    "        tab = {}\n",
    "        for i in range(len(s)):\n",
    "            if s[i] not in tab:\n",
    "                if t[i] in tab.values():\n",
    "                    return False\n",
    "                else:\n",
    "                    tab[s[i]] = t[i]\n",
    "            if tab[s[i]] != t[i]:\n",
    "                return False\n",
    "        return True"
   ]
  },
  {
   "cell_type": "code",
   "execution_count": 27,
   "metadata": {},
   "outputs": [
    {
     "data": {
      "text/plain": [
       "False"
      ]
     },
     "execution_count": 27,
     "metadata": {},
     "output_type": "execute_result"
    }
   ],
   "source": [
    "s = \"badc\"\n",
    "t = \"baba\"\n",
    "sol = Solution()\n",
    "sol.isIsomorphic(s, t)"
   ]
  },
  {
   "cell_type": "code",
   "execution_count": 55,
   "metadata": {},
   "outputs": [],
   "source": [
    "class Solution:\n",
    "    def wordPattern(self, pattern: str, s: str) -> bool:\n",
    "        s = s.split()\n",
    "        if len(pattern) != len(s):\n",
    "            return False\n",
    "        tab = {}\n",
    "        for i in range(len(pattern)):\n",
    "            if pattern[i] not in tab:\n",
    "                if s[i] in tab.values():\n",
    "                    return False\n",
    "                else:\n",
    "                    tab[pattern[i]] = s[i]\n",
    "            if tab[pattern[i]] != s[i]:\n",
    "                return False\n",
    "        return True"
   ]
  },
  {
   "cell_type": "code",
   "execution_count": 54,
   "metadata": {},
   "outputs": [
    {
     "data": {
      "text/plain": [
       "True"
      ]
     },
     "execution_count": 54,
     "metadata": {},
     "output_type": "execute_result"
    }
   ],
   "source": [
    "pattern = \"abba\"; s = \"dog cat cat dog\"\n",
    "sol = Solution()\n",
    "sol.wordPattern(pattern, s)"
   ]
  },
  {
   "cell_type": "code",
   "execution_count": 35,
   "metadata": {},
   "outputs": [
    {
     "data": {
      "text/plain": [
       "['dog', 'cat', 'cat', 'dog']"
      ]
     },
     "execution_count": 35,
     "metadata": {},
     "output_type": "execute_result"
    }
   ],
   "source": [
    "s.split()"
   ]
  },
  {
   "cell_type": "code",
   "execution_count": 26,
   "metadata": {},
   "outputs": [
    {
     "data": {
      "text/plain": [
       "False"
      ]
     },
     "execution_count": 26,
     "metadata": {},
     "output_type": "execute_result"
    }
   ],
   "source": [
    "from math import log\n",
    "\n",
    "round(log(3, 2), 10)%1 == 0"
   ]
  },
  {
   "cell_type": "code",
   "execution_count": 9,
   "metadata": {},
   "outputs": [],
   "source": [
    "l1 = [1,2]"
   ]
  },
  {
   "cell_type": "code",
   "execution_count": 6,
   "metadata": {},
   "outputs": [
    {
     "data": {
      "text/plain": [
       "1"
      ]
     },
     "execution_count": 6,
     "metadata": {},
     "output_type": "execute_result"
    }
   ],
   "source": [
    "l1.pop()"
   ]
  },
  {
   "cell_type": "code",
   "execution_count": 11,
   "metadata": {},
   "outputs": [
    {
     "data": {
      "text/plain": [
       "2"
      ]
     },
     "execution_count": 11,
     "metadata": {},
     "output_type": "execute_result"
    }
   ],
   "source": [
    "l1[-1]"
   ]
  },
  {
   "cell_type": "code",
   "execution_count": 1,
   "metadata": {},
   "outputs": [],
   "source": [
    "class MyQueue:\n",
    "\n",
    "    def __init__(self):\n",
    "        self.stack1 = []\n",
    "        self.stack2 = []\n",
    "\n",
    "    def push(self, x: int) -> None:\n",
    "        while len(self.stack1) > 0:\n",
    "            self.stack2.append(self.stack1.pop())\n",
    "        self.stack1.append(x)\n",
    "        while len(self.stack2) > 0:\n",
    "            self.stack1.append(self.stack2.pop())\n",
    "\n",
    "    def pop(self) -> int:\n",
    "        if self.empty():\n",
    "            return 0\n",
    "        else:\n",
    "            return self.stack1.pop()\n",
    "\n",
    "    def peek(self) -> int:\n",
    "        return self.stack1[-1]\n",
    "        \n",
    "\n",
    "    def empty(self) -> bool:\n",
    "        return len(self.stack1) == 0\n",
    "    \n",
    "    def pprint(self):\n",
    "        print(self.stack1)"
   ]
  },
  {
   "cell_type": "code",
   "execution_count": 57,
   "metadata": {},
   "outputs": [
    {
     "name": "stdout",
     "output_type": "stream",
     "text": [
      "[]\n",
      "None\n",
      "[]\n",
      "None\n",
      "[]\n",
      "None\n",
      "[]\n",
      "None\n"
     ]
    }
   ],
   "source": [
    "q1 = MyQueue()\n",
    "print(q1.push(1))\n",
    "print(q1.push(2))\n",
    "print(q1.push(3))\n",
    "print(q1.push(4))\n"
   ]
  },
  {
   "cell_type": "code",
   "execution_count": 59,
   "metadata": {},
   "outputs": [
    {
     "name": "stdout",
     "output_type": "stream",
     "text": [
      "None\n",
      "[1]\n",
      "None\n",
      "[2, 1]\n",
      "None\n",
      "[3, 2, 1]\n",
      "None\n",
      "[4, 3, 2, 1]\n",
      "1\n",
      "[4, 3, 2]\n",
      "None\n",
      "[5, 4, 3, 2]\n",
      "2\n",
      "[5, 4, 3]\n",
      "3\n",
      "[5, 4]\n",
      "4\n",
      "[5]\n",
      "5\n",
      "[]\n"
     ]
    }
   ],
   "source": [
    "q1 = MyQueue()\n",
    "print(q1.push(1))\n",
    "q1.pprint()\n",
    "print(q1.push(2))\n",
    "q1.pprint()\n",
    "print(q1.push(3))\n",
    "q1.pprint()\n",
    "print(q1.push(4))\n",
    "q1.pprint()\n",
    "print(q1.pop())\n",
    "q1.pprint()\n",
    "print(q1.push(5))\n",
    "q1.pprint()\n",
    "print(q1.pop())\n",
    "q1.pprint()\n",
    "print(q1.pop())\n",
    "q1.pprint()\n",
    "print(q1.pop())\n",
    "q1.pprint()\n",
    "print(q1.pop())\n",
    "q1.pprint()"
   ]
  },
  {
   "cell_type": "code",
   "execution_count": 9,
   "metadata": {},
   "outputs": [
    {
     "name": "stdout",
     "output_type": "stream",
     "text": [
      "deque([3, 1])\n"
     ]
    }
   ],
   "source": [
    "from collections import deque\n",
    "\n",
    "queue = deque([1,2])\n",
    "queue.appendleft(3)\n",
    "queue.pop()\n",
    "print(queue)"
   ]
  },
  {
   "cell_type": "code",
   "execution_count": 10,
   "metadata": {},
   "outputs": [],
   "source": [
    "from collections import deque\n",
    "\n",
    "class MyStack:\n",
    "\n",
    "    def __init__(self):\n",
    "        self.queue1 = deque([])\n",
    "        self.queue2 = deque([])\n",
    "        \n",
    "    def push(self, x: int) -> None:\n",
    "        while len(self.queue1) > 0:\n",
    "            self.queue2.appendleft(self.queue1.pop())\n",
    "        self.queue1.appendleft(x)\n",
    "        while len(self.queue2) > 0:\n",
    "            self.queue1.appendleft(self.queue2.pop())\n",
    "    \n",
    "    def pop(self) -> int:\n",
    "        if self.empty():\n",
    "            return 0\n",
    "        else:\n",
    "            return self.queue1.pop()\n",
    "\n",
    "    def peek(self) -> int:\n",
    "        return self.queue1[-1]\n",
    "        \n",
    "\n",
    "    def empty(self) -> bool:\n",
    "        return len(self.queue1) == 0"
   ]
  },
  {
   "cell_type": "code",
   "execution_count": 2,
   "metadata": {},
   "outputs": [],
   "source": [
    "class ListNode(object):\n",
    "    def __init__(self, val=0, next=None):\n",
    "        self.val = val\n",
    "        self.next = next\n",
    "        \n",
    "def arrayToList(arr):\n",
    "    head = node = ListNode()\n",
    "    \n",
    "    for i in range(len(arr)):\n",
    "        node.val = arr[i]\n",
    "        if i < len(arr)-1:\n",
    "            node.next = ListNode()\n",
    "            node = node.next\n",
    "    return head\n",
    "\n",
    "def display(root):\n",
    "    while (root != None) :\n",
    "        print(root.val, end = \" \")\n",
    "        root = root.next"
   ]
  },
  {
   "cell_type": "code",
   "execution_count": 12,
   "metadata": {},
   "outputs": [
    {
     "name": "stdout",
     "output_type": "stream",
     "text": [
      "1 2 2 1 "
     ]
    }
   ],
   "source": [
    "head = arrayToList([1,2,2,1]) \n",
    "display(head)"
   ]
  },
  {
   "cell_type": "code",
   "execution_count": 23,
   "metadata": {},
   "outputs": [],
   "source": [
    "def listToInt(head):\n",
    "    node = head\n",
    "    x = 1\n",
    "    while node:\n",
    "        x = x*10 + node.val\n",
    "        node = node.next\n",
    "    x = x*10 + 1\n",
    "    return x"
   ]
  },
  {
   "cell_type": "code",
   "execution_count": 6,
   "metadata": {},
   "outputs": [
    {
     "data": {
      "text/plain": [
       "1221"
      ]
     },
     "execution_count": 6,
     "metadata": {},
     "output_type": "execute_result"
    }
   ],
   "source": [
    "(((((1*10)+2)*10)+2)*10)+1"
   ]
  },
  {
   "cell_type": "code",
   "execution_count": 13,
   "metadata": {},
   "outputs": [
    {
     "data": {
      "text/plain": [
       "1221"
      ]
     },
     "execution_count": 13,
     "metadata": {},
     "output_type": "execute_result"
    }
   ],
   "source": [
    "listToInt(head)"
   ]
  },
  {
   "cell_type": "code",
   "execution_count": 10,
   "metadata": {},
   "outputs": [
    {
     "data": {
      "text/plain": [
       "True"
      ]
     },
     "execution_count": 10,
     "metadata": {},
     "output_type": "execute_result"
    }
   ],
   "source": [
    "x = (((((1*10)+2)*10)+2)*10)+1\n",
    "num = x\n",
    "rev = 0\n",
    "while num > 0:\n",
    "    rev = rev*10 + num%10\n",
    "    num = num//10\n",
    "rev == x"
   ]
  },
  {
   "cell_type": "code",
   "execution_count": 21,
   "metadata": {},
   "outputs": [],
   "source": [
    "class Solution:\n",
    "    def isPalindromeInt(self, x):\n",
    "        \"\"\"\n",
    "        :type x: int\n",
    "        :rtype: bool\n",
    "        \"\"\"\n",
    "        num = x\n",
    "        rev = 0\n",
    "        while num > 0:\n",
    "            rev = rev*10 + num%10\n",
    "            num = num//10\n",
    "        return rev == x\n",
    "\n",
    "    def listToInt(self, head):\n",
    "        node = head\n",
    "        x = 1\n",
    "        while node:\n",
    "            x = x*10 + node.val\n",
    "            node = node.next\n",
    "        x = x*10 + 1\n",
    "        return x\n",
    "        \n",
    "    def isPalindrome(self, head) -> bool:\n",
    "        listAsInt = self.listToInt(head)\n",
    "        return self.isPalindromeInt(listAsInt)"
   ]
  },
  {
   "cell_type": "code",
   "execution_count": 18,
   "metadata": {},
   "outputs": [
    {
     "data": {
      "text/plain": [
       "True"
      ]
     },
     "execution_count": 18,
     "metadata": {},
     "output_type": "execute_result"
    }
   ],
   "source": [
    "sol = Solution()\n",
    "sol.isPalindrome(head)"
   ]
  },
  {
   "cell_type": "code",
   "execution_count": 19,
   "metadata": {},
   "outputs": [],
   "source": [
    "lst = [0,4,8,2,0,5,0,1,6,3,0,9,0,6,5,3,4,2,7,3,8,8,1,0,6,0,1,0,4,0,6,3,2,6,0,2,0,9,0,5,5,5,7,9,7,7,0,6,2,8,0,6,7,4,1,7,5,0,8,1,2,3,9,1,5,9,8,3,9,2,0,0,4,0,2,8,7,4,9,6,8,9,3,8,8,3,9,8,6,9,4,7,8,2,0,4,0,0,2,9,3,8,9,5,1,9,3,2,1,8,0,5,7,1,4,7,6,0,8,2,6,0,7,7,9,7,5,5,5,0,9,0,2,0,6,2,3,6,0,4,0,1,0,6,0,1,8,8,3,7,2,4,3,5,6,0,9,0,3,6,1,0,5,0,2,8,4,0]"
   ]
  },
  {
   "cell_type": "code",
   "execution_count": 25,
   "metadata": {},
   "outputs": [
    {
     "data": {
      "text/plain": [
       "False"
      ]
     },
     "execution_count": 25,
     "metadata": {},
     "output_type": "execute_result"
    }
   ],
   "source": [
    "head = arrayToList(lst) \n",
    "sol.isPalindrome(head)"
   ]
  },
  {
   "cell_type": "code",
   "execution_count": 27,
   "metadata": {},
   "outputs": [
    {
     "data": {
      "text/plain": [
       "[4,\n",
       " 8,\n",
       " 2,\n",
       " 0,\n",
       " 5,\n",
       " 0,\n",
       " 1,\n",
       " 6,\n",
       " 3,\n",
       " 0,\n",
       " 9,\n",
       " 0,\n",
       " 6,\n",
       " 5,\n",
       " 3,\n",
       " 4,\n",
       " 2,\n",
       " 7,\n",
       " 3,\n",
       " 8,\n",
       " 8,\n",
       " 1,\n",
       " 0,\n",
       " 6,\n",
       " 0,\n",
       " 1,\n",
       " 0,\n",
       " 4,\n",
       " 0,\n",
       " 6,\n",
       " 3,\n",
       " 2,\n",
       " 6,\n",
       " 0,\n",
       " 2,\n",
       " 0,\n",
       " 9,\n",
       " 0,\n",
       " 5,\n",
       " 5,\n",
       " 5,\n",
       " 7,\n",
       " 9,\n",
       " 7,\n",
       " 7,\n",
       " 0,\n",
       " 6,\n",
       " 2,\n",
       " 8,\n",
       " 0,\n",
       " 6,\n",
       " 7,\n",
       " 4,\n",
       " 1,\n",
       " 7,\n",
       " 5,\n",
       " 0,\n",
       " 8,\n",
       " 1,\n",
       " 2,\n",
       " 3,\n",
       " 9,\n",
       " 1,\n",
       " 5,\n",
       " 9,\n",
       " 8,\n",
       " 3,\n",
       " 9,\n",
       " 2,\n",
       " 0,\n",
       " 0,\n",
       " 4,\n",
       " 0,\n",
       " 2,\n",
       " 8,\n",
       " 7,\n",
       " 4,\n",
       " 9,\n",
       " 6,\n",
       " 8,\n",
       " 9,\n",
       " 3,\n",
       " 8,\n",
       " 8,\n",
       " 3,\n",
       " 9,\n",
       " 8,\n",
       " 6,\n",
       " 9,\n",
       " 4,\n",
       " 7,\n",
       " 8,\n",
       " 2,\n",
       " 0,\n",
       " 4,\n",
       " 0,\n",
       " 0,\n",
       " 2,\n",
       " 9,\n",
       " 3,\n",
       " 8,\n",
       " 9,\n",
       " 5,\n",
       " 1,\n",
       " 9,\n",
       " 3,\n",
       " 2,\n",
       " 1,\n",
       " 8,\n",
       " 0,\n",
       " 5,\n",
       " 7,\n",
       " 1,\n",
       " 4,\n",
       " 7,\n",
       " 6,\n",
       " 0,\n",
       " 8,\n",
       " 2,\n",
       " 6,\n",
       " 0,\n",
       " 7,\n",
       " 7,\n",
       " 9,\n",
       " 7,\n",
       " 5,\n",
       " 5,\n",
       " 5,\n",
       " 0,\n",
       " 9,\n",
       " 0,\n",
       " 2,\n",
       " 0,\n",
       " 6,\n",
       " 2,\n",
       " 3,\n",
       " 6,\n",
       " 0,\n",
       " 4,\n",
       " 0,\n",
       " 1,\n",
       " 0,\n",
       " 6,\n",
       " 0,\n",
       " 1,\n",
       " 8,\n",
       " 8,\n",
       " 3,\n",
       " 7,\n",
       " 2,\n",
       " 4,\n",
       " 3,\n",
       " 5,\n",
       " 6,\n",
       " 0,\n",
       " 9,\n",
       " 0,\n",
       " 3,\n",
       " 6,\n",
       " 1,\n",
       " 0,\n",
       " 5,\n",
       " 0,\n",
       " 2,\n",
       " 8,\n",
       " 4]"
      ]
     },
     "execution_count": 27,
     "metadata": {},
     "output_type": "execute_result"
    }
   ],
   "source": [
    "lst[1:-1]"
   ]
  },
  {
   "cell_type": "code",
   "execution_count": 47,
   "metadata": {},
   "outputs": [],
   "source": [
    "class Solution:\n",
    "    def listToArr(self, head):\n",
    "        lst = []\n",
    "        while head:\n",
    "            lst.append(head.val)\n",
    "            head = head.next\n",
    "        return lst\n",
    "            \n",
    "    def arrIsPalindrome(self, lst):\n",
    "        return lst == lst[::-1]\n",
    "        \n",
    "    def isPalindrome(self, head) -> bool:\n",
    "        listAsArr = self.listToArr(head)\n",
    "        return self.arrIsPalindrome(listAsArr)"
   ]
  },
  {
   "cell_type": "code",
   "execution_count": 48,
   "metadata": {},
   "outputs": [
    {
     "data": {
      "text/plain": [
       "True"
      ]
     },
     "execution_count": 48,
     "metadata": {},
     "output_type": "execute_result"
    }
   ],
   "source": [
    "sol = Solution()\n",
    "sol.isPalindrome(head)\n",
    "head = arrayToList(lst) \n",
    "sol.isPalindrome(head)"
   ]
  },
  {
   "cell_type": "code",
   "execution_count": 44,
   "metadata": {},
   "outputs": [
    {
     "data": {
      "text/plain": [
       "[13, 2, 2, 1]"
      ]
     },
     "execution_count": 44,
     "metadata": {},
     "output_type": "execute_result"
    }
   ],
   "source": [
    "lst2 = [1,2,2,13]\n",
    "lst2[::-1]"
   ]
  },
  {
   "cell_type": "code",
   "execution_count": null,
   "metadata": {},
   "outputs": [],
   "source": []
  }
 ],
 "metadata": {
  "kernelspec": {
   "display_name": "Python 3",
   "language": "python",
   "name": "python3"
  },
  "language_info": {
   "codemirror_mode": {
    "name": "ipython",
    "version": 3
   },
   "file_extension": ".py",
   "mimetype": "text/x-python",
   "name": "python",
   "nbconvert_exporter": "python",
   "pygments_lexer": "ipython3",
   "version": "3.8.3"
  }
 },
 "nbformat": 4,
 "nbformat_minor": 4
}

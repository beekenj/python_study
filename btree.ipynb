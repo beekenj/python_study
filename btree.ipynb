{
 "cells": [
  {
   "cell_type": "code",
   "execution_count": 1,
   "metadata": {},
   "outputs": [],
   "source": [
    "# Definition for a binary tree node.\n",
    "class TreeNode(object):\n",
    "    def __init__(self, val=0, left=None, right=None):\n",
    "        self.val = val\n",
    "        self.left = left\n",
    "        self.right = right"
   ]
  },
  {
   "cell_type": "code",
   "execution_count": 2,
   "metadata": {},
   "outputs": [],
   "source": [
    "root = TreeNode(1)\n",
    "root.right = TreeNode(2)\n",
    "root.right.left = TreeNode(3)\n",
    "# sol = Solution()"
   ]
  },
  {
   "cell_type": "code",
   "execution_count": 3,
   "metadata": {},
   "outputs": [],
   "source": [
    "# sol.inorderTraversal(root)"
   ]
  },
  {
   "cell_type": "code",
   "execution_count": 4,
   "metadata": {},
   "outputs": [],
   "source": [
    "class Solution(object):\n",
    "    def inorderTraversal(self, root):\n",
    "        \"\"\"\n",
    "        :type root: TreeNode\n",
    "        :rtype: List[int]\n",
    "        \"\"\"\n",
    "        lst = []\n",
    "        if not root:\n",
    "            return lst\n",
    "        if root.left:\n",
    "            lst.extend(self.inorderTraversal(root.left))\n",
    "        if root:\n",
    "            lst.append(root.val)\n",
    "        if root.right:\n",
    "            lst.extend(self.inorderTraversal(root.right))\n",
    "        return lst"
   ]
  },
  {
   "cell_type": "code",
   "execution_count": 5,
   "metadata": {},
   "outputs": [],
   "source": [
    "class Solution(object):\n",
    "    def preorderTraversal(self, root):\n",
    "        \"\"\"\n",
    "        :type root: TreeNode\n",
    "        :rtype: List[int]\n",
    "        \"\"\"\n",
    "        lst = []\n",
    "        if not root:\n",
    "            return lst\n",
    "        if root:\n",
    "            lst.append(root.val)\n",
    "        if root.left:\n",
    "            lst.extend(self.preorderTraversal(root.left))\n",
    "        if root.right:\n",
    "            lst.extend(self.preorderTraversal(root.right))\n",
    "        return lst"
   ]
  },
  {
   "cell_type": "code",
   "execution_count": 6,
   "metadata": {},
   "outputs": [
    {
     "data": {
      "text/plain": [
       "[1, 2, 3]"
      ]
     },
     "execution_count": 6,
     "metadata": {},
     "output_type": "execute_result"
    }
   ],
   "source": [
    "root = TreeNode(1)\n",
    "root.right = TreeNode(2)\n",
    "root.right.left = TreeNode(3)\n",
    "sol = Solution()\n",
    "sol.preorderTraversal(root)"
   ]
  },
  {
   "cell_type": "code",
   "execution_count": 7,
   "metadata": {},
   "outputs": [],
   "source": [
    "class Solution(object):\n",
    "    def isSameTree(self, p, q):\n",
    "        \"\"\"\n",
    "        :type p: TreeNode\n",
    "        :type q: TreeNode\n",
    "        :rtype: bool\n",
    "        \"\"\"\n",
    "        if not p or not q:\n",
    "            if p and not q:\n",
    "                return False\n",
    "            elif q and not p:\n",
    "                return False\n",
    "            else:\n",
    "                return True\n",
    "        if p.val != q.val:            \n",
    "            return False\n",
    "        if p.left and q.left:\n",
    "            if not self.isSameTree(p.left, q.left):                    \n",
    "                return False\n",
    "        elif p.left or q.left:\n",
    "            return False\n",
    "        if p.right and q.right:\n",
    "            if not self.isSameTree(p.right, q.right):\n",
    "                return False\n",
    "        elif p.right or q.right:\n",
    "            return False\n",
    "        return True"
   ]
  },
  {
   "cell_type": "code",
   "execution_count": 8,
   "metadata": {},
   "outputs": [
    {
     "data": {
      "text/plain": [
       "False"
      ]
     },
     "execution_count": 8,
     "metadata": {},
     "output_type": "execute_result"
    }
   ],
   "source": [
    "root = TreeNode(1)\n",
    "root.right = TreeNode(2)\n",
    "root.left = None\n",
    "# root.right.left = TreeNode(3)\n",
    "sol = Solution()\n",
    "root1 = TreeNode(1)\n",
    "sol.isSameTree(root1,root)"
   ]
  },
  {
   "cell_type": "code",
   "execution_count": null,
   "metadata": {},
   "outputs": [],
   "source": []
  },
  {
   "cell_type": "code",
   "execution_count": 9,
   "metadata": {},
   "outputs": [
    {
     "data": {
      "text/plain": [
       "False"
      ]
     },
     "execution_count": 9,
     "metadata": {},
     "output_type": "execute_result"
    }
   ],
   "source": [
    "sol.isSameTree(root,root1)"
   ]
  },
  {
   "cell_type": "code",
   "execution_count": 10,
   "metadata": {},
   "outputs": [],
   "source": [
    "root = None\n",
    "# inorderTraversal(root)"
   ]
  },
  {
   "cell_type": "code",
   "execution_count": 11,
   "metadata": {},
   "outputs": [],
   "source": [
    "lst1 = [1]\n",
    "lst2 = [2,3]"
   ]
  },
  {
   "cell_type": "code",
   "execution_count": 12,
   "metadata": {},
   "outputs": [],
   "source": [
    "lst1.extend(lst2)"
   ]
  },
  {
   "cell_type": "code",
   "execution_count": 13,
   "metadata": {},
   "outputs": [
    {
     "data": {
      "text/plain": [
       "[1, 2, 3]"
      ]
     },
     "execution_count": 13,
     "metadata": {},
     "output_type": "execute_result"
    }
   ],
   "source": [
    "lst1"
   ]
  },
  {
   "cell_type": "code",
   "execution_count": 14,
   "metadata": {},
   "outputs": [],
   "source": [
    "class Solution(object):\n",
    "    def maxDepth(self, root):\n",
    "        \"\"\"\n",
    "        :type root: TreeNode\n",
    "        :rtype: int\n",
    "        \"\"\"\n",
    "        l = r = 0\n",
    "        if not root:\n",
    "            return 0\n",
    "        return 1 + max(self.maxDepth(root.left),self.maxDepth(root.right))\n",
    "    def isBalanced(self, root):\n",
    "        \"\"\"\n",
    "        :type root: TreeNode\n",
    "        :rtype: bool\n",
    "        \"\"\"\n",
    "        if not root:\n",
    "            return True\n",
    "        return abs(self.maxDepth(root.left) - self.maxDepth(root.right)) <= 1"
   ]
  },
  {
   "cell_type": "code",
   "execution_count": 15,
   "metadata": {},
   "outputs": [
    {
     "data": {
      "text/plain": [
       "3"
      ]
     },
     "execution_count": 15,
     "metadata": {},
     "output_type": "execute_result"
    }
   ],
   "source": [
    "# root = [3,9,20,null,null,15,7]\n",
    "root = TreeNode(3)\n",
    "root.left = TreeNode(9)\n",
    "root.right = TreeNode(20)\n",
    "root.right.left = TreeNode(15)\n",
    "root.right.right = TreeNode(7)\n",
    "sol = Solution()\n",
    "sol.maxDepth(root)"
   ]
  },
  {
   "cell_type": "code",
   "execution_count": 16,
   "metadata": {},
   "outputs": [
    {
     "data": {
      "text/plain": [
       "False"
      ]
     },
     "execution_count": 16,
     "metadata": {},
     "output_type": "execute_result"
    }
   ],
   "source": [
    "# [1,2,2,3,null,null,3,4,null,null,4]\n",
    "root3 = TreeNode(1)\n",
    "root3.left = TreeNode(2)\n",
    "root3.right = TreeNode(2)\n",
    "root3.right.left = TreeNode(3)\n",
    "root3.right.left.right = TreeNode(3)\n",
    "root3.right.left.right.left = TreeNode(4)\n",
    "root3.right.left.right.left.right = TreeNode(4)\n",
    "sol = Solution()\n",
    "sol.isBalanced(root3)"
   ]
  },
  {
   "cell_type": "code",
   "execution_count": 17,
   "metadata": {},
   "outputs": [
    {
     "data": {
      "text/plain": [
       "True"
      ]
     },
     "execution_count": 17,
     "metadata": {},
     "output_type": "execute_result"
    }
   ],
   "source": [
    "sol.isBalanced(root)"
   ]
  },
  {
   "cell_type": "code",
   "execution_count": null,
   "metadata": {},
   "outputs": [],
   "source": []
  },
  {
   "cell_type": "code",
   "execution_count": 18,
   "metadata": {},
   "outputs": [
    {
     "data": {
      "text/plain": [
       "0"
      ]
     },
     "execution_count": 18,
     "metadata": {},
     "output_type": "execute_result"
    }
   ],
   "source": [
    "root1 = None\n",
    "sol.maxDepth(root1)"
   ]
  },
  {
   "cell_type": "code",
   "execution_count": 19,
   "metadata": {},
   "outputs": [
    {
     "data": {
      "text/plain": [
       "True"
      ]
     },
     "execution_count": 19,
     "metadata": {},
     "output_type": "execute_result"
    }
   ],
   "source": [
    "sol = Solution()\n",
    "sol.isBalanced(root1)"
   ]
  },
  {
   "cell_type": "code",
   "execution_count": 20,
   "metadata": {},
   "outputs": [
    {
     "data": {
      "text/plain": [
       "False"
      ]
     },
     "execution_count": 20,
     "metadata": {},
     "output_type": "execute_result"
    }
   ],
   "source": [
    "root2 = TreeNode(1)\n",
    "root2.left = TreeNode(2)\n",
    "root2.right = TreeNode(2)\n",
    "root2.left.left = TreeNode(3)\n",
    "root2.left.right = TreeNode(3)\n",
    "root2.left.left.left = TreeNode(4)\n",
    "root2.left.left.right = TreeNode(4)\n",
    "sol = Solution()\n",
    "sol.isBalanced(root2)"
   ]
  },
  {
   "cell_type": "code",
   "execution_count": 21,
   "metadata": {},
   "outputs": [],
   "source": [
    "class Solution(object):\n",
    "    def sortedArrayToBST(self, nums):\n",
    "        \"\"\"\n",
    "        :type nums: List[int]\n",
    "        :rtype: TreeNode\n",
    "        \"\"\"\n",
    "        if len(nums) == 0:\n",
    "            return None\n",
    "        tree = TreeNode(nums[len(nums)//2])\n",
    "        tree.left = self.sortedArrayToBST(nums[:len(nums)//2])\n",
    "        tree.right = self.sortedArrayToBST(nums[1+len(nums)//2:])\n",
    "        return tree\n",
    "    def maxDepth(self, root):\n",
    "        \"\"\"\n",
    "        :type root: TreeNode\n",
    "        :rtype: int\n",
    "        \"\"\"\n",
    "        l = r = 0\n",
    "        if not root:\n",
    "            return 0\n",
    "        return 1 + max(self.maxDepth(root.left),self.maxDepth(root.right))\n",
    "    def isBalanced(self, root):\n",
    "        \"\"\"\n",
    "        :type root: TreeNode\n",
    "        :rtype: bool\n",
    "        \"\"\"\n",
    "        if not root:\n",
    "            return True\n",
    "        elif abs(self.maxDepth(root.left) - self.maxDepth(root.right)) > 1:\n",
    "            return False\n",
    "        else:\n",
    "            return self.isBalanced(root.left) and self.isBalanced(root.right)"
   ]
  },
  {
   "cell_type": "code",
   "execution_count": 22,
   "metadata": {},
   "outputs": [
    {
     "data": {
      "text/plain": [
       "<__main__.TreeNode at 0x186805cfc70>"
      ]
     },
     "execution_count": 22,
     "metadata": {},
     "output_type": "execute_result"
    }
   ],
   "source": [
    "nums = [-10,-3,0,5,9]\n",
    "sol = Solution()\n",
    "sol.sortedArrayToBST(nums)"
   ]
  },
  {
   "cell_type": "code",
   "execution_count": 23,
   "metadata": {},
   "outputs": [
    {
     "data": {
      "text/plain": [
       "True"
      ]
     },
     "execution_count": 23,
     "metadata": {},
     "output_type": "execute_result"
    }
   ],
   "source": [
    "not None"
   ]
  },
  {
   "cell_type": "code",
   "execution_count": 24,
   "metadata": {},
   "outputs": [
    {
     "data": {
      "text/plain": [
       "4"
      ]
     },
     "execution_count": 24,
     "metadata": {},
     "output_type": "execute_result"
    }
   ],
   "source": [
    "root4 = [1,2,2,3,None,None,3,4,None,None,4]\n",
    "sol = Solution()\n",
    "tree1 = sol.sortedArrayToBST(root4)\n",
    "sol.maxDepth(tree1)\n",
    "# sol.isBalanced(tree1)"
   ]
  },
  {
   "cell_type": "code",
   "execution_count": 25,
   "metadata": {},
   "outputs": [
    {
     "data": {
      "text/plain": [
       "False"
      ]
     },
     "execution_count": 25,
     "metadata": {},
     "output_type": "execute_result"
    }
   ],
   "source": [
    "root4 = TreeNode(1)\n",
    "root4.left = TreeNode(2)\n",
    "root4.right = TreeNode(2)\n",
    "root4.left.left = TreeNode(3)\n",
    "root4.right.right = TreeNode(3)\n",
    "root4.left.left.left = TreeNode(4)\n",
    "root4.right.right.right = TreeNode(4)\n",
    "sol = Solution()\n",
    "sol.maxDepth(root4)\n",
    "sol.isBalanced(root4)"
   ]
  },
  {
   "cell_type": "code",
   "execution_count": 26,
   "metadata": {},
   "outputs": [],
   "source": [
    "class Solution(object):\n",
    "    def isSymmetric(self, root):\n",
    "        \"\"\"\n",
    "        :type root: TreeNode\n",
    "        :rtype: bool\n",
    "        \"\"\"\n",
    "        return not root or self.findSymmetric(root.left, root.right)\n",
    "    \n",
    "    \n",
    "    def findSymmetric(self, l, r):\n",
    "        # null nodes\n",
    "        if not l and not r:\n",
    "            return True\n",
    "        if not l or not r:            \n",
    "            return False\n",
    "        \n",
    "        # check root\n",
    "        if l.val != r.val:\n",
    "            \n",
    "            return False\n",
    "        \n",
    "        # recurse\n",
    "        if l.left and r.right:\n",
    "            if not self.findSymmetric(l.left, r.right):                \n",
    "                return False\n",
    "        elif l.left or r.right:\n",
    "            return False\n",
    "        if l.right and r.left:\n",
    "            if not self.findSymmetric(l.right, r.left):\n",
    "                return False\n",
    "        elif l.right or r.left:\n",
    "            return False\n",
    "        \n",
    "        return True"
   ]
  },
  {
   "cell_type": "code",
   "execution_count": 27,
   "metadata": {},
   "outputs": [
    {
     "data": {
      "text/plain": [
       "True"
      ]
     },
     "execution_count": 27,
     "metadata": {},
     "output_type": "execute_result"
    }
   ],
   "source": [
    "# root = [1,2,2,3,4,4,3]\n",
    "root = TreeNode(1)\n",
    "root.left = TreeNode(2)\n",
    "root.right = TreeNode(2)\n",
    "root.left.left = TreeNode(3)\n",
    "root.right.right = TreeNode(3)\n",
    "root.left.right = TreeNode(4)\n",
    "root.right.left = TreeNode(4)\n",
    "sol = Solution()\n",
    "sol.isSymmetric(root)"
   ]
  },
  {
   "cell_type": "code",
   "execution_count": 28,
   "metadata": {},
   "outputs": [
    {
     "data": {
      "text/plain": [
       "True"
      ]
     },
     "execution_count": 28,
     "metadata": {},
     "output_type": "execute_result"
    }
   ],
   "source": [
    "not False"
   ]
  },
  {
   "cell_type": "code",
   "execution_count": 29,
   "metadata": {},
   "outputs": [],
   "source": [
    "class Solution(object):\n",
    "    def hasPathSum(self, root, targetSum):\n",
    "        \"\"\"\n",
    "        :type root: TreeNode\n",
    "        :type targetSum: int\n",
    "        :rtype: bool\n",
    "        \"\"\"\n",
    "        if not root:\n",
    "            return False\n",
    "        else:\n",
    "            return self.checkPathSum(root, 0, targetSum)\n",
    "    \n",
    "    def checkPathSum(self, root, ancestorSum, targetSum):\n",
    "        ret = False\n",
    "        if root.left:\n",
    "            ret = ret or self.checkPathSum(root.left, ancestorSum+root.val, targetSum)\n",
    "        if root.right:\n",
    "            ret = ret or self.checkPathSum(root.right, ancestorSum+root.val, targetSum)\n",
    "        if not root.left and not root.right:\n",
    "            ret = ancestorSum+root.val == targetSum\n",
    "        return ret"
   ]
  },
  {
   "cell_type": "code",
   "execution_count": 30,
   "metadata": {},
   "outputs": [],
   "source": [
    "# root = [5,4,8,11,null,13,4,7,2,null,null,null,1], targetSum = 22\n",
    "root = TreeNode(5)\n",
    "root.left = TreeNode(4)\n",
    "root.right = TreeNode(8)\n",
    "root.left.left = TreeNode(11)\n",
    "root.right.left = TreeNode(13)\n",
    "root.right.right = TreeNode(4)\n",
    "root.left.left.left = TreeNode(7)\n",
    "root.left.left.right = TreeNode(2)\n",
    "root.right.right.right = TreeNode(1)"
   ]
  },
  {
   "cell_type": "code",
   "execution_count": 31,
   "metadata": {},
   "outputs": [
    {
     "data": {
      "text/plain": [
       "True"
      ]
     },
     "execution_count": 31,
     "metadata": {},
     "output_type": "execute_result"
    }
   ],
   "source": [
    "sol = Solution()\n",
    "sol.hasPathSum(root, 22)"
   ]
  },
  {
   "cell_type": "code",
   "execution_count": 32,
   "metadata": {},
   "outputs": [],
   "source": [
    "class Solution(object):\n",
    "    def pathSum(self, root, targetSum):\n",
    "        \"\"\"\n",
    "        :type root: TreeNode\n",
    "        :type targetSum: int\n",
    "        :rtype: List[List[int]]\n",
    "        \"\"\"\n",
    "        if not root:\n",
    "            return []\n",
    "        else:\n",
    "            return self.checkPathSum(root, 0, [], targetSum)\n",
    "    \n",
    "    def checkPathSum(self, root, ancestorSum, ancestorList, targetSum):\n",
    "        ret = []\n",
    "        ancestorSum+=root.val\n",
    "        if root.left:\n",
    "            ret += self.checkPathSum(root.left, ancestorSum, ancestorList + [root.val], targetSum)\n",
    "        if root.right:\n",
    "            ret += self.checkPathSum(root.right, ancestorSum, ancestorList + [root.val], targetSum)\n",
    "        if not root.left and not root.right:\n",
    "            if ancestorSum == targetSum:\n",
    "                ret.append(ancestorList + [root.val])\n",
    "        return ret"
   ]
  },
  {
   "cell_type": "code",
   "execution_count": 33,
   "metadata": {},
   "outputs": [
    {
     "data": {
      "text/plain": [
       "[[5, 4, 11, 2]]"
      ]
     },
     "execution_count": 33,
     "metadata": {},
     "output_type": "execute_result"
    }
   ],
   "source": [
    "sol = Solution()\n",
    "sol.pathSum(root, 22)"
   ]
  },
  {
   "cell_type": "code",
   "execution_count": 34,
   "metadata": {},
   "outputs": [],
   "source": [
    "class Solution:\n",
    "    def minDepth(self, root) -> int:\n",
    "        l = r = 0\n",
    "        if not root:\n",
    "            return 0\n",
    "        elif root.left and root.right:\n",
    "            return 1 + min(self.minDepth(root.left),self.minDepth(root.right))\n",
    "        elif root.left:\n",
    "            return 1 + self.minDepth(root.left)\n",
    "        else:\n",
    "            return 1 + self.minDepth(root.right)"
   ]
  },
  {
   "cell_type": "code",
   "execution_count": 35,
   "metadata": {},
   "outputs": [
    {
     "data": {
      "text/plain": [
       "5"
      ]
     },
     "execution_count": 35,
     "metadata": {},
     "output_type": "execute_result"
    }
   ],
   "source": [
    "# root = TreeNode(3)\n",
    "# root.left = TreeNode(9)\n",
    "# root.right = TreeNode(20)\n",
    "# root.right.left = TreeNode(15)\n",
    "# root.right.right = TreeNode(7)\n",
    "root = TreeNode(2)\n",
    "root.left = TreeNode(3)\n",
    "root.left.left = TreeNode(4)\n",
    "root.left.left.left = TreeNode(5)\n",
    "root.left.left.left.left = TreeNode(6)\n",
    "sol = Solution()\n",
    "sol.minDepth(root)"
   ]
  },
  {
   "cell_type": "code",
   "execution_count": 36,
   "metadata": {},
   "outputs": [
    {
     "data": {
      "text/plain": [
       "24"
      ]
     },
     "execution_count": 36,
     "metadata": {},
     "output_type": "execute_result"
    }
   ],
   "source": [
    "class Solution:\n",
    "    def sumOfLeftLeaves(self, root, dir=\"right\") -> int:\n",
    "        if not root:\n",
    "            return 0\n",
    "        if root.right or root.left:\n",
    "            return self.sumOfLeftLeaves(root.left, \"left\") + self.sumOfLeftLeaves(root.right, \"right\")\n",
    "        elif dir == \"right\":\n",
    "            return 0\n",
    "        else:\n",
    "            return root.val\n",
    "        # return root.val\n",
    "\n",
    "root = TreeNode(3)\n",
    "root.left = TreeNode(9)\n",
    "root.right = TreeNode(20)\n",
    "root.right.left = TreeNode(15)\n",
    "root.right.right = TreeNode(7)\n",
    "sol = Solution()\n",
    "sol.sumOfLeftLeaves(root)"
   ]
  },
  {
   "cell_type": "code",
   "execution_count": 37,
   "metadata": {},
   "outputs": [
    {
     "data": {
      "text/plain": [
       "41"
      ]
     },
     "execution_count": 37,
     "metadata": {},
     "output_type": "execute_result"
    }
   ],
   "source": [
    "class Solution:\n",
    "    def findTilt(self, root) -> int:\n",
    "        if not root:\n",
    "            return 0\n",
    "        else:\n",
    "            return abs(self.sumOfTree(root.left) - self.sumOfTree(root.right)) + \\\n",
    "                self.findTilt(root.left) + self.findTilt(root.right)\n",
    "\n",
    "    def sumOfTree(self, root) -> int:\n",
    "        if not root:\n",
    "            return 0\n",
    "        if root.right or root.left:\n",
    "            return root.val + self.sumOfTree(root.left) + self.sumOfTree(root.right)\n",
    "        else:\n",
    "            return root.val\n",
    "        \n",
    "root = TreeNode(3)\n",
    "root.left = TreeNode(9)\n",
    "root.right = TreeNode(20)\n",
    "root.right.left = TreeNode(15)\n",
    "root.right.right = TreeNode(7)\n",
    "sol = Solution()\n",
    "sol.findTilt(root)"
   ]
  },
  {
   "cell_type": "code",
   "execution_count": 38,
   "metadata": {},
   "outputs": [
    {
     "data": {
      "text/plain": [
       "[1, 2, 3, 4]"
      ]
     },
     "execution_count": 38,
     "metadata": {},
     "output_type": "execute_result"
    }
   ],
   "source": [
    "# consec_zeros = 1\n",
    "#     for i in range(len(flowerbed)-1):\n",
    "#         if flowerbed[i] == 0 and flowerbed[i-1]:\n",
    "#             consec_zeros += 1\n",
    "#         if consec_zeros == 3:\n",
    "#             n -= 1\n",
    "#             consec_zeros = 1\n",
    "#     return n <= 0\n",
    "\n",
    "[i for i in range(1, 5)]"
   ]
  },
  {
   "cell_type": "code",
   "execution_count": 39,
   "metadata": {},
   "outputs": [],
   "source": [
    "# class Solution:\n",
    "#     def isSubtree(self, root: Optional[TreeNode], subRoot: Optional[TreeNode]) -> bool:\n",
    "#         if not root:\n",
    "#             print(\"null\")\n",
    "#             return\n",
    "#         elif (root.left and root.right) and root.val == subRoot.val:\n",
    "#             print(root.val, subRoot.val)\n",
    "#             return self.isSubtree(root.left, subRoot.left) and self.isSubtree(root.right, subRoot.right)\n",
    "#         elif root.left and root.val == subRoot.val:\n",
    "#             return self.isSubtree(root.left, subRoot.left)\n",
    "#         elif root.right and root.val == subRoot.val:\n",
    "#             return self.isSubtree(root.right, subRoot.right)\n",
    "#         elif root.left or root.right:\n",
    "#             print(\"start\")\n",
    "#             return self.isSubtree(root.left, subRoot) or self.isSubtree(root.right, subRoot)\n",
    "#         elif not (root.left or root.right):\n",
    "#             print(\"leaf\", root.val)\n",
    "#             return root.val == subRoot.val"
   ]
  },
  {
   "cell_type": "code",
   "execution_count": 40,
   "metadata": {},
   "outputs": [
    {
     "data": {
      "text/plain": [
       "[1, 2]"
      ]
     },
     "execution_count": 40,
     "metadata": {},
     "output_type": "execute_result"
    }
   ],
   "source": [
    "class Solution:\n",
    "    def findMode(self, root, tab=dict(), is_root=True):\n",
    "        if not root:\n",
    "            return\n",
    "        if root.val in tab:\n",
    "            tab[root.val] += 1\n",
    "        else:\n",
    "            tab[root.val] = 1\n",
    "        self.findMode(root.left, tab, False)\n",
    "        self.findMode(root.right, tab, False)\n",
    "        if is_root:\n",
    "            mx = max(tab.values())\n",
    "            lst = [num for num in tab if tab[num] == mx]\n",
    "            tab.clear()\n",
    "            return lst\n",
    "\n",
    "root = TreeNode(1)\n",
    "root.left = TreeNode(1)\n",
    "root.left.left = TreeNode(2)\n",
    "root.right = TreeNode(2)\n",
    "sol = Solution()\n",
    "\n",
    "# tab = {}\n",
    "sol.findMode(root)\n",
    "# tab"
   ]
  },
  {
   "cell_type": "code",
   "execution_count": 41,
   "metadata": {},
   "outputs": [
    {
     "name": "stdout",
     "output_type": "stream",
     "text": [
      "{2: 1, 1: 2}\n",
      "{2: 1}\n"
     ]
    },
    {
     "data": {
      "text/plain": [
       "[3, 1]"
      ]
     },
     "execution_count": 41,
     "metadata": {},
     "output_type": "execute_result"
    }
   ],
   "source": [
    "tab = {3: 2, 2: 1, 1: 2}\n",
    "# sorted(tab)\n",
    "lst = []\n",
    "equal = True\n",
    "while equal:\n",
    "    elem = max(tab, key=tab.get)\n",
    "    value = tab[elem]\n",
    "    lst.append(elem)\n",
    "    tab.pop(elem)\n",
    "    print(tab)\n",
    "    equal = max(tab.values()) == value\n",
    "lst\n",
    "# tab[1] < tab[2]\n"
   ]
  },
  {
   "cell_type": "code",
   "execution_count": 42,
   "metadata": {},
   "outputs": [
    {
     "data": {
      "text/plain": [
       "2"
      ]
     },
     "execution_count": 42,
     "metadata": {},
     "output_type": "execute_result"
    }
   ],
   "source": [
    "tab = {3: 2, 2: 1, 1: 2}\n",
    "max(tab.values())"
   ]
  },
  {
   "cell_type": "code",
   "execution_count": 43,
   "metadata": {},
   "outputs": [
    {
     "name": "stdout",
     "output_type": "stream",
     "text": [
      "0 [0, 0] 4\n"
     ]
    },
    {
     "data": {
      "text/plain": [
       "[[0, 4]]"
      ]
     },
     "execution_count": 43,
     "metadata": {},
     "output_type": "execute_result"
    }
   ],
   "source": [
    "# 56. Merge Intervals\n",
    "intervals = [[1,4],[0,0]]\n",
    "start, end = intervals[0][0], intervals[0][1]\n",
    "ans = []\n",
    "for idx, elem in enumerate(intervals[1:]):\n",
    "    print(idx, elem, end)\n",
    "    if elem[0] <= end:\n",
    "        end = max(end, elem[1])\n",
    "        start = min(start, elem[0])\n",
    "    else:\n",
    "        ans.append([start, end])\n",
    "        start, end = elem[0], elem[1]\n",
    "ans.append([start, end])\n",
    "ans"
   ]
  },
  {
   "cell_type": "code",
   "execution_count": 44,
   "metadata": {},
   "outputs": [
    {
     "data": {
      "text/plain": [
       "[[1, 4], [0, 0]]"
      ]
     },
     "execution_count": 44,
     "metadata": {},
     "output_type": "execute_result"
    }
   ],
   "source": [
    "sorted(intervals)\n",
    "intervals"
   ]
  },
  {
   "cell_type": "code",
   "execution_count": 45,
   "metadata": {},
   "outputs": [
    {
     "data": {
      "text/plain": [
       "'cde'"
      ]
     },
     "execution_count": 45,
     "metadata": {},
     "output_type": "execute_result"
    }
   ],
   "source": [
    "s = \"abcde\"\n",
    "goal = \"cdeab\"\n",
    "s[:2] == goal[-2:]\n",
    "goal[:2+1]"
   ]
  },
  {
   "cell_type": "code",
   "execution_count": 46,
   "metadata": {},
   "outputs": [
    {
     "data": {
      "text/plain": [
       "'bcde'"
      ]
     },
     "execution_count": 46,
     "metadata": {},
     "output_type": "execute_result"
    }
   ],
   "source": [
    "s[1:]"
   ]
  },
  {
   "cell_type": "code",
   "execution_count": 47,
   "metadata": {},
   "outputs": [
    {
     "data": {
      "text/plain": [
       "[3, 4, 5]"
      ]
     },
     "execution_count": 47,
     "metadata": {},
     "output_type": "execute_result"
    }
   ],
   "source": [
    "[i for i in range(3, 6)]"
   ]
  },
  {
   "cell_type": "code",
   "execution_count": 48,
   "metadata": {},
   "outputs": [
    {
     "data": {
      "text/plain": [
       "'12222'"
      ]
     },
     "execution_count": 48,
     "metadata": {},
     "output_type": "execute_result"
    }
   ],
   "source": [
    "s = \"122\"\n",
    "s += str(2+2*10)\n",
    "s"
   ]
  },
  {
   "cell_type": "code",
   "execution_count": 49,
   "metadata": {},
   "outputs": [
    {
     "name": "stdout",
     "output_type": "stream",
     "text": [
      "122112122\n"
     ]
    }
   ],
   "source": [
    "n = 9\n",
    "s = \"122\"\n",
    "seq = 2\n",
    "num = 1\n",
    "for i in range(seq+1, n):\n",
    "    if s[seq] == \"1\":\n",
    "        s += str(num)\n",
    "    else:\n",
    "        s += str(num + num*10)\n",
    "    seq += 1\n",
    "    num = 2 if num == 1 else 1\n",
    "    if len(s) >= n: break\n",
    "print(s)"
   ]
  },
  {
   "cell_type": "code",
   "execution_count": 50,
   "metadata": {},
   "outputs": [
    {
     "data": {
      "text/plain": [
       "'()()()'"
      ]
     },
     "execution_count": 50,
     "metadata": {},
     "output_type": "execute_result"
    }
   ],
   "source": [
    "s = \"(()())(())\"\n",
    "open = 0\n",
    "first = 0\n",
    "ans = \"\"\n",
    "for idx, i in enumerate(s):\n",
    "    if open == 0:\n",
    "        first = idx\n",
    "    if i == \"(\":\n",
    "        open += 1\n",
    "    else:\n",
    "        open -= 1\n",
    "    if open == 0:\n",
    "        ans += s[first+1:idx]\n",
    "ans"
   ]
  }
 ],
 "metadata": {
  "kernelspec": {
   "display_name": "Python 3",
   "language": "python",
   "name": "python3"
  },
  "language_info": {
   "codemirror_mode": {
    "name": "ipython",
    "version": 3
   },
   "file_extension": ".py",
   "mimetype": "text/x-python",
   "name": "python",
   "nbconvert_exporter": "python",
   "pygments_lexer": "ipython3",
   "version": "3.8.3"
  }
 },
 "nbformat": 4,
 "nbformat_minor": 4
}

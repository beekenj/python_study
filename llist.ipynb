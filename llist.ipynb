{
 "cells": [
  {
   "cell_type": "code",
   "execution_count": 1,
   "metadata": {},
   "outputs": [],
   "source": [
    "class ListNode(object):\n",
    "    def __init__(self, val=0, next=None):\n",
    "        self.val = val\n",
    "        self.next = next"
   ]
  },
  {
   "cell_type": "code",
   "execution_count": 2,
   "metadata": {},
   "outputs": [],
   "source": [
    "def arrayToList(arr):\n",
    "    head = node = ListNode()\n",
    "    \n",
    "    for i in range(len(arr)):\n",
    "        node.val = arr[i]\n",
    "        if i < len(arr)-1:\n",
    "            node.next = ListNode()\n",
    "            node = node.next\n",
    "    return head"
   ]
  },
  {
   "cell_type": "code",
   "execution_count": 3,
   "metadata": {},
   "outputs": [],
   "source": [
    "# O(n^2)\n",
    "# def arrayToList(arr):\n",
    "#     root = None\n",
    "#     for i in arr:\n",
    "#         root = append(root, i)   \n",
    "#     return root"
   ]
  },
  {
   "cell_type": "code",
   "execution_count": 4,
   "metadata": {},
   "outputs": [],
   "source": [
    "# def append(head, val):\n",
    "#     temp = ListNode(val)\n",
    "    \n",
    "#     # insert node to list head if empty\n",
    "#     if not head:\n",
    "#         head = temp\n",
    "#     else:\n",
    "#         cur = head\n",
    "#         # traverse to the end of the list, and insert new node\n",
    "#         while cur.next:\n",
    "#             cur = cur.next\n",
    "#         cur.next = temp\n",
    "#     return head"
   ]
  },
  {
   "cell_type": "code",
   "execution_count": 5,
   "metadata": {},
   "outputs": [],
   "source": [
    "def display(root):\n",
    "    while (root != None) :\n",
    "        print(root.val, end = \" \")\n",
    "        root = root.next"
   ]
  },
  {
   "cell_type": "code",
   "execution_count": 6,
   "metadata": {},
   "outputs": [],
   "source": [
    "def mergeTwoLists(list1, list2):\n",
    "    \"\"\"\n",
    "    :type list1: Optional[ListNode]\n",
    "    :type list2: Optional[ListNode]\n",
    "    :rtype: Optional[ListNode]\n",
    "    \"\"\"\n",
    "    cur = head = ListNode()\n",
    "    \n",
    "    # if both lists are populated, iterate\n",
    "    while list1 and list2:\n",
    "#         print(list2.val)\n",
    "        if list1.val < list2.val:\n",
    "            # set link to point to next node in list1\n",
    "            cur.next = list1\n",
    "            # move forward in list1\n",
    "            list1 = list1.next\n",
    "#             cur = list1\n",
    "            \n",
    "        else:\n",
    "            # set link to point to next node in list2\n",
    "            cur.next = list2\n",
    "            # move forward in list1\n",
    "            list2 = list2.next\n",
    "            \n",
    "        # move cursor to next node\n",
    "        cur = cur.next\n",
    "    \n",
    "    # if one list is unpopulated, but the other is, set head to point to the list that is populated\n",
    "    if list1 or list2:\n",
    "        if list1:\n",
    "            cur.next = list1\n",
    "        else:\n",
    "            cur.next = list2\n",
    "    \n",
    "    return head.next"
   ]
  },
  {
   "cell_type": "code",
   "execution_count": 7,
   "metadata": {},
   "outputs": [],
   "source": [
    "list1 = arrayToList([1,2,4])\n",
    "list2 = arrayToList([1,3,4])\n",
    "sol = mergeTwoLists(list1, list2)"
   ]
  },
  {
   "cell_type": "code",
   "execution_count": 8,
   "metadata": {},
   "outputs": [
    {
     "name": "stdout",
     "output_type": "stream",
     "text": [
      "1 1 2 3 4 4 "
     ]
    }
   ],
   "source": [
    "display(sol)"
   ]
  }
 ],
 "metadata": {
  "kernelspec": {
   "display_name": "Python 3",
   "language": "python",
   "name": "python3"
  },
  "language_info": {
   "codemirror_mode": {
    "name": "ipython",
    "version": 3
   },
   "file_extension": ".py",
   "mimetype": "text/x-python",
   "name": "python",
   "nbconvert_exporter": "python",
   "pygments_lexer": "ipython3",
   "version": "3.8.3"
  }
 },
 "nbformat": 4,
 "nbformat_minor": 4
}

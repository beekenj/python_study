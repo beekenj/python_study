{
 "cells": [
  {
   "cell_type": "code",
   "execution_count": 1,
   "metadata": {},
   "outputs": [],
   "source": [
    "class ListNode(object):\n",
    "    def __init__(self, val=0, next=None):\n",
    "        self.val = val\n",
    "        self.next = next\n",
    "        \n",
    "def arrayToList(arr):\n",
    "    head = node = ListNode()\n",
    "    \n",
    "    for i in range(len(arr)):\n",
    "        node.val = arr[i]\n",
    "        if i < len(arr)-1:\n",
    "            node.next = ListNode()\n",
    "            node = node.next\n",
    "    return head\n",
    "\n",
    "def display(root):\n",
    "    while (root != None) :\n",
    "        print(root.val, end = \" \")\n",
    "        root = root.next"
   ]
  },
  {
   "cell_type": "code",
   "execution_count": 4,
   "metadata": {},
   "outputs": [
    {
     "name": "stdout",
     "output_type": "stream",
     "text": [
      "1 2 3 "
     ]
    }
   ],
   "source": [
    "lst1 = arrayToList([1,2,3])\n",
    "display(lst1)"
   ]
  },
  {
   "cell_type": "code",
   "execution_count": 13,
   "metadata": {},
   "outputs": [],
   "source": [
    "head = ListNode(3)\n",
    "head.next = ListNode(2)\n",
    "head.next.next = ListNode(0)\n",
    "head.next.next.next = ListNode(-4)\n",
    "head.next.next.next.next = head.next"
   ]
  },
  {
   "cell_type": "code",
   "execution_count": 15,
   "metadata": {},
   "outputs": [],
   "source": [
    "def hasCycle(head):\n",
    "    \"\"\"\n",
    "    :type head: ListNode\n",
    "    :rtype: bool\n",
    "    \"\"\"\n",
    "    slow = head\n",
    "    fast = head\n",
    "    while (slow != None\n",
    "           and fast != None\n",
    "           and fast.next != None):\n",
    "        slow = slow.next\n",
    "        fast = fast.next.next\n",
    "        if slow == fast:\n",
    "            return True\n",
    "    return False"
   ]
  },
  {
   "cell_type": "code",
   "execution_count": 19,
   "metadata": {},
   "outputs": [
    {
     "name": "stdout",
     "output_type": "stream",
     "text": [
      "1 2 3 4 5 "
     ]
    }
   ],
   "source": [
    "head = [1,2,3,4,5]\n",
    "head = arrayToList(head)\n",
    "display(head)"
   ]
  },
  {
   "cell_type": "code",
   "execution_count": 105,
   "metadata": {},
   "outputs": [],
   "source": [
    "def removeNthFromEnd(head, n):\n",
    "    \"\"\"\n",
    "    :type head: ListNode\n",
    "    :type n: int\n",
    "    :rtype: ListNode\n",
    "    \"\"\"\n",
    "    count = 0\n",
    "    sz = 0\n",
    "    node = head\n",
    "    if head.next == None and n == 1:\n",
    "        return None\n",
    "    while (node != None):        \n",
    "        sz += 1\n",
    "        node = node.next\n",
    "    if sz == 1:\n",
    "        return None\n",
    "    node = head\n",
    "    print(\"sz\", sz)\n",
    "    while (node != None):\n",
    "        print(count)\n",
    "        if count == (sz - n):\n",
    "            if node.next == None:\n",
    "                node = None\n",
    "            else:\n",
    "                node.next = node.next.next\n",
    "        else:\n",
    "            node = node.next\n",
    "        count += 1\n",
    "    return head"
   ]
  },
  {
   "cell_type": "code",
   "execution_count": 265,
   "metadata": {},
   "outputs": [],
   "source": [
    "def removeNthFromEnd(head, n):\n",
    "    \"\"\"\n",
    "    :type head: ListNode\n",
    "    :type n: int\n",
    "    :rtype: ListNode\n",
    "    \"\"\"\n",
    "    slow = head\n",
    "    fast = head\n",
    "    if head.next == None:\n",
    "        return None\n",
    "    for i in range(n+1):\n",
    "        if fast.next:\n",
    "            fast = fast.next\n",
    "        else:            \n",
    "            if n == 1:\n",
    "                slow.next = None\n",
    "                return slow\n",
    "            else:\n",
    "                if n == i+1:\n",
    "                    return slow.next\n",
    "                else:\n",
    "                    slow.next = slow.next.next\n",
    "                    return slow                    \n",
    "    while fast != None:\n",
    "        fast = fast.next\n",
    "        slow = slow.next\n",
    "    slow.next = slow.next.next\n",
    "    return head"
   ]
  },
  {
   "cell_type": "code",
   "execution_count": 266,
   "metadata": {},
   "outputs": [],
   "source": [
    "head = []\n",
    "# head = [1,2,3,4,5]\n",
    "head = arrayToList(head)\n",
    "# display(head)\n",
    "# print(\"\")\n",
    "head = removeNthFromEnd(head, 1)\n",
    "display(head)"
   ]
  }
 ],
 "metadata": {
  "kernelspec": {
   "display_name": "Python 3",
   "language": "python",
   "name": "python3"
  },
  "language_info": {
   "codemirror_mode": {
    "name": "ipython",
    "version": 3
   },
   "file_extension": ".py",
   "mimetype": "text/x-python",
   "name": "python",
   "nbconvert_exporter": "python",
   "pygments_lexer": "ipython3",
   "version": "3.8.3"
  }
 },
 "nbformat": 4,
 "nbformat_minor": 4
}
